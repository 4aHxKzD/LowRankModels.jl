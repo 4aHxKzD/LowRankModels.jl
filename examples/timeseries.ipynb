{
 "metadata": {
  "language": "Julia",
  "name": "",
  "signature": "sha256:a937dd05759f52e1b0cfd26a9c9388062a5b9bddc6742fbab85f17990b825358"
 },
 "nbformat": 3,
 "nbformat_minor": 0,
 "worksheets": [
  {
   "cells": [
    {
     "cell_type": "code",
     "collapsed": false,
     "input": [
      "using LowRankModels, DataFrames\n",
      "import Gadfly\n",
      "\n",
      "m,n,k = 500,50,3\n",
      "sigma = .05\n",
      "# generate a LDS\n",
      "x0 = rand(1,k)\n",
      "M = randn(k,k)\n",
      "M = M / norm(M) # so the state doesn't diverge\n",
      "Xtrue = Array(Float64,(m,k))\n",
      "Xtrue[1,:] = x0\n",
      "for i=1:m-1\n",
      "    Xtrue[i+1,:] = Xtrue[i,:]*M + sigma * randn(1,k)\n",
      "end\n",
      "Y0 = randn(k,n)\n",
      "Y1 = M*Y0\n",
      "B = Xtrue*Y0\n",
      "A = Array(Float64,(m,2*n))\n",
      "A[:,1:n] = B\n",
      "A[1:m-1,n+1:2n] = B[2:m,:]\n",
      "obs = reshape((Int64,Int64)[(i,j) for i=1:(m-1),j=1:(2n)], (m-1)*(2n))\n",
      "append!(obs, (Int64,Int64)[(m,j) for j=1:n])\n",
      "losses = fill(huber(),2*n)\n",
      "r = quadreg(.01)\n",
      "glrm = GLRM(A,obs,losses,r,r,k);"
     ],
     "language": "python",
     "metadata": {},
     "outputs": [],
     "prompt_number": 22
    },
    {
     "cell_type": "code",
     "collapsed": false,
     "input": [
      "X, Y, ch = fit!(glrm);"
     ],
     "language": "python",
     "metadata": {},
     "outputs": [
      {
       "output_type": "stream",
       "stream": "stdout",
       "text": [
        "Fitting GLRM\n"
       ]
      }
     ]
    },
    {
     "cell_type": "code",
     "collapsed": false,
     "input": [
      "norm(Y - [Y0 Y1])"
     ],
     "language": "python",
     "metadata": {},
     "outputs": []
    },
    {
     "cell_type": "code",
     "collapsed": false,
     "input": [
      "norm(Xtrue[m,:]*M*Y0 - X[m,:]*Y[:,n+1:end])"
     ],
     "language": "python",
     "metadata": {},
     "outputs": []
    },
    {
     "cell_type": "code",
     "collapsed": false,
     "input": [
      "x0*(M^m)*Y0"
     ],
     "language": "python",
     "metadata": {},
     "outputs": [
      {
       "metadata": {},
       "output_type": "pyout",
       "prompt_number": 13,
       "text": [
        "1x10 Array{Float64,2}:\n",
        " 3.33396  1.14653  2.54872  4.24049  \u2026  1.13871  1.08092  2.36268  0.865705"
       ]
      }
     ],
     "prompt_number": 13
    },
    {
     "cell_type": "code",
     "collapsed": false,
     "input": [
      "X[m,:]*Y[:,n+1:end]"
     ],
     "language": "python",
     "metadata": {},
     "outputs": [
      {
       "metadata": {},
       "output_type": "pyout",
       "prompt_number": 21,
       "text": [
        "1x50 Array{Float64,2}:\n",
        " -1.75904  -5.49081  -3.4384  5.07043  \u2026  -2.98358  1.19764  2.148  -3.41573"
       ]
      }
     ],
     "prompt_number": 21
    },
    {
     "cell_type": "code",
     "collapsed": false,
     "input": [
      "norm()"
     ],
     "language": "python",
     "metadata": {},
     "outputs": []
    }
   ],
   "metadata": {}
  }
 ]
}