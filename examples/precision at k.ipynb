{
 "metadata": {
  "language": "Julia",
  "name": "",
  "signature": "sha256:8449b9043d9489c9ebf6a06facad5f60cbca73c1ba8d5fa5f4cc2f9ef0284179"
 },
 "nbformat": 3,
 "nbformat_minor": 0,
 "worksheets": [
  {
   "cells": [
    {
     "cell_type": "code",
     "collapsed": false,
     "input": [
      "using LowRankModels, DataFrames, Gadfly"
     ],
     "language": "python",
     "metadata": {},
     "outputs": [],
     "prompt_number": 1
    },
    {
     "cell_type": "code",
     "collapsed": false,
     "input": [
      "# boolean example with only entries greater than threshold t observed\n",
      "# ie, censored data\n",
      "# example with only entries greater than threshold t observed\n",
      "function censored(m=300, n=300, k=5, ktrue=3) #m,n,k,ktrue = 300,300,5,3\n",
      "    A = rand(m,ktrue)*rand(ktrue,n)\n",
      "    B = int(ktrue*rand(m,n) .>= A) # Bernoulli samples with probability proportional to A\n",
      "    #B = round(A./ktrue) # Bernoulli samples with probability proportional to A\n",
      "    losses = fill(hinge(),n)\n",
      "    r = quadreg(.1)\n",
      "    obs = (Int64,Int64)[]\n",
      "    for i=1:m\n",
      "        for j=1:n\n",
      "            if B[i,j] == 1\n",
      "                push!(obs, (i,j))\n",
      "            end\n",
      "        end\n",
      "    end\n",
      "\n",
      "    (train_observed_features, train_observed_examples, \n",
      "    test_observed_features,  test_observed_examples) = \n",
      "        get_train_and_test(obs, m, n, .7)\n",
      "    train_glrm = GLRM(B,train_observed_features, train_observed_examples,losses,r,r,k)\n",
      "\n",
      "    train_error, prec_at_k, train_time, reg_params, solution = \n",
      "        precision_at_k(train_glrm, test_observed_features, params=Params(1,200,.0001,.01), \n",
      "    reg_params=linspace(0,10,11); kprec=10)   \n",
      "    df = DataFrame(train_error = train_error, prec_at_k = prec_at_k,\n",
      "                   train_time = train_time, reg_param = reg_params, \n",
      "                   solution_1norm = [s[2] for s in solution])\n",
      "    return df\n",
      "end"
     ],
     "language": "python",
     "metadata": {},
     "outputs": [
      {
       "metadata": {},
       "output_type": "pyout",
       "prompt_number": 13,
       "text": [
        "censored (generic function with 5 methods)"
       ]
      }
     ],
     "prompt_number": 13
    },
    {
     "cell_type": "code",
     "collapsed": false,
     "input": [
      "import Gadfly\n",
      "dflong = vcat(map(l->stack(df,l,:reg_param), [:train_error, :prec_at_k])...)\n",
      "p = Gadfly.plot(dflong,x=:reg_param,y=:value,color=:variable,\n",
      "#Coord.Cartesian(xmin=4,xmax=18))\n",
      "Gadfly.Scale.x_log10)\n",
      "#draw(PDF(\"prec_at_k_jnb.pdf\", 6inch, 3inch), p)"
     ],
     "language": "python",
     "metadata": {},
     "outputs": [
      {
       "html": [
        "<?xml version=\"1.0\" encoding=\"UTF-8\"?>\n",
        "<svg xmlns=\"http://www.w3.org/2000/svg\"\n",
        "     xmlns:xlink=\"http://www.w3.org/1999/xlink\"\n",
        "     xmlns:gadfly=\"http://www.gadflyjl.org/ns\"\n",
        "     version=\"1.2\"\n",
        "     width=\"141.42mm\" height=\"100mm\" viewBox=\"0 0 141.42 100\"\n",
        "     stroke=\"none\"\n",
        "     fill=\"#000000\"\n",
        "     stroke-width=\"0.3\"\n",
        "     font-size=\"3.88\"\n",
        "\n",
        "     id=\"fig-8af436d5302b442f86dc310490af245e\">\n",
        "<g class=\"plotroot xscalable yscalable\" id=\"fig-8af436d5302b442f86dc310490af245e-element-1\">\n",
        "  <g font-size=\"3.88\" font-family=\"'PT Sans','Helvetica Neue','Helvetica',sans-serif\" fill=\"#564A55\" stroke=\"none\" id=\"fig-8af436d5302b442f86dc310490af245e-element-2\">\n",
        "    <text x=\"69.32\" y=\"92\" text-anchor=\"middle\">reg_param</text>\n",
        "  </g>\n",
        "  <g class=\"guide xlabels\" font-size=\"2.82\" font-family=\"'PT Sans Caption','Helvetica Neue','Helvetica',sans-serif\" fill=\"#6C606B\" id=\"fig-8af436d5302b442f86dc310490af245e-element-3\">\n",
        "    <text x=\"-109.21\" y=\"86.39\" text-anchor=\"middle\" visibility=\"hidden\" gadfly:scale=\"1.0\">10<tspan style=\"dominant-baseline:inherit\" dy=\"-0.6em\" font-size=\"83.333333%\">-4</tspan></text>\n",
        "    <text x=\"-76.75\" y=\"86.39\" text-anchor=\"middle\" visibility=\"hidden\" gadfly:scale=\"1.0\">10<tspan style=\"dominant-baseline:inherit\" dy=\"-0.6em\" font-size=\"83.333333%\">-3</tspan></text>\n",
        "    <text x=\"-44.29\" y=\"86.39\" text-anchor=\"middle\" visibility=\"hidden\" gadfly:scale=\"1.0\">10<tspan style=\"dominant-baseline:inherit\" dy=\"-0.6em\" font-size=\"83.333333%\">-2</tspan></text>\n",
        "    <text x=\"-11.83\" y=\"86.39\" text-anchor=\"middle\" visibility=\"hidden\" gadfly:scale=\"1.0\">10<tspan style=\"dominant-baseline:inherit\" dy=\"-0.6em\" font-size=\"83.333333%\">-1</tspan></text>\n",
        "    <text x=\"20.63\" y=\"86.39\" text-anchor=\"middle\" visibility=\"visible\" gadfly:scale=\"1.0\">10<tspan style=\"dominant-baseline:inherit\" dy=\"-0.6em\" font-size=\"83.333333%\">0</tspan></text>\n",
        "    <text x=\"53.09\" y=\"86.39\" text-anchor=\"middle\" visibility=\"visible\" gadfly:scale=\"1.0\">10<tspan style=\"dominant-baseline:inherit\" dy=\"-0.6em\" font-size=\"83.333333%\">1</tspan></text>\n",
        "    <text x=\"85.55\" y=\"86.39\" text-anchor=\"middle\" visibility=\"visible\" gadfly:scale=\"1.0\">10<tspan style=\"dominant-baseline:inherit\" dy=\"-0.6em\" font-size=\"83.333333%\">2</tspan></text>\n",
        "    <text x=\"118.01\" y=\"86.39\" text-anchor=\"middle\" visibility=\"visible\" gadfly:scale=\"1.0\">10<tspan style=\"dominant-baseline:inherit\" dy=\"-0.6em\" font-size=\"83.333333%\">3</tspan></text>\n",
        "    <text x=\"150.48\" y=\"86.39\" text-anchor=\"middle\" visibility=\"hidden\" gadfly:scale=\"1.0\">10<tspan style=\"dominant-baseline:inherit\" dy=\"-0.6em\" font-size=\"83.333333%\">4</tspan></text>\n",
        "    <text x=\"182.94\" y=\"86.39\" text-anchor=\"middle\" visibility=\"hidden\" gadfly:scale=\"1.0\">10<tspan style=\"dominant-baseline:inherit\" dy=\"-0.6em\" font-size=\"83.333333%\">5</tspan></text>\n",
        "    <text x=\"215.4\" y=\"86.39\" text-anchor=\"middle\" visibility=\"hidden\" gadfly:scale=\"1.0\">10<tspan style=\"dominant-baseline:inherit\" dy=\"-0.6em\" font-size=\"83.333333%\">6</tspan></text>\n",
        "    <text x=\"247.86\" y=\"86.39\" text-anchor=\"middle\" visibility=\"hidden\" gadfly:scale=\"1.0\">10<tspan style=\"dominant-baseline:inherit\" dy=\"-0.6em\" font-size=\"83.333333%\">7</tspan></text>\n",
        "    <text x=\"-76.75\" y=\"86.39\" text-anchor=\"middle\" visibility=\"hidden\" gadfly:scale=\"10.0\">10<tspan style=\"dominant-baseline:inherit\" dy=\"-0.6em\" font-size=\"83.333333%\">-3.0</tspan></text>\n",
        "    <text x=\"-73.51\" y=\"86.39\" text-anchor=\"middle\" visibility=\"hidden\" gadfly:scale=\"10.0\">10<tspan style=\"dominant-baseline:inherit\" dy=\"-0.6em\" font-size=\"83.333333%\">-2.9</tspan></text>\n",
        "    <text x=\"-70.26\" y=\"86.39\" text-anchor=\"middle\" visibility=\"hidden\" gadfly:scale=\"10.0\">10<tspan style=\"dominant-baseline:inherit\" dy=\"-0.6em\" font-size=\"83.333333%\">-2.8</tspan></text>\n",
        "    <text x=\"-67.01\" y=\"86.39\" text-anchor=\"middle\" visibility=\"hidden\" gadfly:scale=\"10.0\">10<tspan style=\"dominant-baseline:inherit\" dy=\"-0.6em\" font-size=\"83.333333%\">-2.7</tspan></text>\n",
        "    <text x=\"-63.77\" y=\"86.39\" text-anchor=\"middle\" visibility=\"hidden\" gadfly:scale=\"10.0\">10<tspan style=\"dominant-baseline:inherit\" dy=\"-0.6em\" font-size=\"83.333333%\">-2.6</tspan></text>\n",
        "    <text x=\"-60.52\" y=\"86.39\" text-anchor=\"middle\" visibility=\"hidden\" gadfly:scale=\"10.0\">10<tspan style=\"dominant-baseline:inherit\" dy=\"-0.6em\" font-size=\"83.333333%\">-2.5</tspan></text>\n",
        "    <text x=\"-57.27\" y=\"86.39\" text-anchor=\"middle\" visibility=\"hidden\" gadfly:scale=\"10.0\">10<tspan style=\"dominant-baseline:inherit\" dy=\"-0.6em\" font-size=\"83.333333%\">-2.4</tspan></text>\n",
        "    <text x=\"-54.03\" y=\"86.39\" text-anchor=\"middle\" visibility=\"hidden\" gadfly:scale=\"10.0\">10<tspan style=\"dominant-baseline:inherit\" dy=\"-0.6em\" font-size=\"83.333333%\">-2.3</tspan></text>\n",
        "    <text x=\"-50.78\" y=\"86.39\" text-anchor=\"middle\" visibility=\"hidden\" gadfly:scale=\"10.0\">10<tspan style=\"dominant-baseline:inherit\" dy=\"-0.6em\" font-size=\"83.333333%\">-2.2</tspan></text>\n",
        "    <text x=\"-47.54\" y=\"86.39\" text-anchor=\"middle\" visibility=\"hidden\" gadfly:scale=\"10.0\">10<tspan style=\"dominant-baseline:inherit\" dy=\"-0.6em\" font-size=\"83.333333%\">-2.1</tspan></text>\n",
        "    <text x=\"-44.29\" y=\"86.39\" text-anchor=\"middle\" visibility=\"hidden\" gadfly:scale=\"10.0\">10<tspan style=\"dominant-baseline:inherit\" dy=\"-0.6em\" font-size=\"83.333333%\">-2.0</tspan></text>\n",
        "    <text x=\"-41.04\" y=\"86.39\" text-anchor=\"middle\" visibility=\"hidden\" gadfly:scale=\"10.0\">10<tspan style=\"dominant-baseline:inherit\" dy=\"-0.6em\" font-size=\"83.333333%\">-1.9</tspan></text>\n",
        "    <text x=\"-37.8\" y=\"86.39\" text-anchor=\"middle\" visibility=\"hidden\" gadfly:scale=\"10.0\">10<tspan style=\"dominant-baseline:inherit\" dy=\"-0.6em\" font-size=\"83.333333%\">-1.8</tspan></text>\n",
        "    <text x=\"-34.55\" y=\"86.39\" text-anchor=\"middle\" visibility=\"hidden\" gadfly:scale=\"10.0\">10<tspan style=\"dominant-baseline:inherit\" dy=\"-0.6em\" font-size=\"83.333333%\">-1.7</tspan></text>\n",
        "    <text x=\"-31.31\" y=\"86.39\" text-anchor=\"middle\" visibility=\"hidden\" gadfly:scale=\"10.0\">10<tspan style=\"dominant-baseline:inherit\" dy=\"-0.6em\" font-size=\"83.333333%\">-1.6</tspan></text>\n",
        "    <text x=\"-28.06\" y=\"86.39\" text-anchor=\"middle\" visibility=\"hidden\" gadfly:scale=\"10.0\">10<tspan style=\"dominant-baseline:inherit\" dy=\"-0.6em\" font-size=\"83.333333%\">-1.5</tspan></text>\n",
        "    <text x=\"-24.81\" y=\"86.39\" text-anchor=\"middle\" visibility=\"hidden\" gadfly:scale=\"10.0\">10<tspan style=\"dominant-baseline:inherit\" dy=\"-0.6em\" font-size=\"83.333333%\">-1.4</tspan></text>\n",
        "    <text x=\"-21.57\" y=\"86.39\" text-anchor=\"middle\" visibility=\"hidden\" gadfly:scale=\"10.0\">10<tspan style=\"dominant-baseline:inherit\" dy=\"-0.6em\" font-size=\"83.333333%\">-1.3</tspan></text>\n",
        "    <text x=\"-18.32\" y=\"86.39\" text-anchor=\"middle\" visibility=\"hidden\" gadfly:scale=\"10.0\">10<tspan style=\"dominant-baseline:inherit\" dy=\"-0.6em\" font-size=\"83.333333%\">-1.2</tspan></text>\n",
        "    <text x=\"-15.08\" y=\"86.39\" text-anchor=\"middle\" visibility=\"hidden\" gadfly:scale=\"10.0\">10<tspan style=\"dominant-baseline:inherit\" dy=\"-0.6em\" font-size=\"83.333333%\">-1.1</tspan></text>\n",
        "    <text x=\"-11.83\" y=\"86.39\" text-anchor=\"middle\" visibility=\"hidden\" gadfly:scale=\"10.0\">10<tspan style=\"dominant-baseline:inherit\" dy=\"-0.6em\" font-size=\"83.333333%\">-1.0</tspan></text>\n",
        "    <text x=\"-8.58\" y=\"86.39\" text-anchor=\"middle\" visibility=\"hidden\" gadfly:scale=\"10.0\">10<tspan style=\"dominant-baseline:inherit\" dy=\"-0.6em\" font-size=\"83.333333%\">-0.9</tspan></text>\n",
        "    <text x=\"-5.34\" y=\"86.39\" text-anchor=\"middle\" visibility=\"hidden\" gadfly:scale=\"10.0\">10<tspan style=\"dominant-baseline:inherit\" dy=\"-0.6em\" font-size=\"83.333333%\">-0.8</tspan></text>\n",
        "    <text x=\"-2.09\" y=\"86.39\" text-anchor=\"middle\" visibility=\"hidden\" gadfly:scale=\"10.0\">10<tspan style=\"dominant-baseline:inherit\" dy=\"-0.6em\" font-size=\"83.333333%\">-0.7</tspan></text>\n",
        "    <text x=\"1.16\" y=\"86.39\" text-anchor=\"middle\" visibility=\"hidden\" gadfly:scale=\"10.0\">10<tspan style=\"dominant-baseline:inherit\" dy=\"-0.6em\" font-size=\"83.333333%\">-0.6</tspan></text>\n",
        "    <text x=\"4.4\" y=\"86.39\" text-anchor=\"middle\" visibility=\"hidden\" gadfly:scale=\"10.0\">10<tspan style=\"dominant-baseline:inherit\" dy=\"-0.6em\" font-size=\"83.333333%\">-0.5</tspan></text>\n",
        "    <text x=\"7.65\" y=\"86.39\" text-anchor=\"middle\" visibility=\"hidden\" gadfly:scale=\"10.0\">10<tspan style=\"dominant-baseline:inherit\" dy=\"-0.6em\" font-size=\"83.333333%\">-0.4</tspan></text>\n",
        "    <text x=\"10.89\" y=\"86.39\" text-anchor=\"middle\" visibility=\"hidden\" gadfly:scale=\"10.0\">10<tspan style=\"dominant-baseline:inherit\" dy=\"-0.6em\" font-size=\"83.333333%\">-0.3</tspan></text>\n",
        "    <text x=\"14.14\" y=\"86.39\" text-anchor=\"middle\" visibility=\"hidden\" gadfly:scale=\"10.0\">10<tspan style=\"dominant-baseline:inherit\" dy=\"-0.6em\" font-size=\"83.333333%\">-0.2</tspan></text>\n",
        "    <text x=\"17.39\" y=\"86.39\" text-anchor=\"middle\" visibility=\"hidden\" gadfly:scale=\"10.0\">10<tspan style=\"dominant-baseline:inherit\" dy=\"-0.6em\" font-size=\"83.333333%\">-0.1</tspan></text>\n",
        "    <text x=\"20.63\" y=\"86.39\" text-anchor=\"middle\" visibility=\"hidden\" gadfly:scale=\"10.0\">10<tspan style=\"dominant-baseline:inherit\" dy=\"-0.6em\" font-size=\"83.333333%\">0.0</tspan></text>\n",
        "    <text x=\"23.88\" y=\"86.39\" text-anchor=\"middle\" visibility=\"hidden\" gadfly:scale=\"10.0\">10<tspan style=\"dominant-baseline:inherit\" dy=\"-0.6em\" font-size=\"83.333333%\">0.1</tspan></text>\n",
        "    <text x=\"27.12\" y=\"86.39\" text-anchor=\"middle\" visibility=\"hidden\" gadfly:scale=\"10.0\">10<tspan style=\"dominant-baseline:inherit\" dy=\"-0.6em\" font-size=\"83.333333%\">0.2</tspan></text>\n",
        "    <text x=\"30.37\" y=\"86.39\" text-anchor=\"middle\" visibility=\"hidden\" gadfly:scale=\"10.0\">10<tspan style=\"dominant-baseline:inherit\" dy=\"-0.6em\" font-size=\"83.333333%\">0.3</tspan></text>\n",
        "    <text x=\"33.62\" y=\"86.39\" text-anchor=\"middle\" visibility=\"hidden\" gadfly:scale=\"10.0\">10<tspan style=\"dominant-baseline:inherit\" dy=\"-0.6em\" font-size=\"83.333333%\">0.4</tspan></text>\n",
        "    <text x=\"36.86\" y=\"86.39\" text-anchor=\"middle\" visibility=\"hidden\" gadfly:scale=\"10.0\">10<tspan style=\"dominant-baseline:inherit\" dy=\"-0.6em\" font-size=\"83.333333%\">0.5</tspan></text>\n",
        "    <text x=\"40.11\" y=\"86.39\" text-anchor=\"middle\" visibility=\"hidden\" gadfly:scale=\"10.0\">10<tspan style=\"dominant-baseline:inherit\" dy=\"-0.6em\" font-size=\"83.333333%\">0.6</tspan></text>\n",
        "    <text x=\"43.35\" y=\"86.39\" text-anchor=\"middle\" visibility=\"hidden\" gadfly:scale=\"10.0\">10<tspan style=\"dominant-baseline:inherit\" dy=\"-0.6em\" font-size=\"83.333333%\">0.7</tspan></text>\n",
        "    <text x=\"46.6\" y=\"86.39\" text-anchor=\"middle\" visibility=\"hidden\" gadfly:scale=\"10.0\">10<tspan style=\"dominant-baseline:inherit\" dy=\"-0.6em\" font-size=\"83.333333%\">0.8</tspan></text>\n",
        "    <text x=\"49.85\" y=\"86.39\" text-anchor=\"middle\" visibility=\"hidden\" gadfly:scale=\"10.0\">10<tspan style=\"dominant-baseline:inherit\" dy=\"-0.6em\" font-size=\"83.333333%\">0.9</tspan></text>\n",
        "    <text x=\"53.09\" y=\"86.39\" text-anchor=\"middle\" visibility=\"hidden\" gadfly:scale=\"10.0\">10<tspan style=\"dominant-baseline:inherit\" dy=\"-0.6em\" font-size=\"83.333333%\">1.0</tspan></text>\n",
        "    <text x=\"56.34\" y=\"86.39\" text-anchor=\"middle\" visibility=\"hidden\" gadfly:scale=\"10.0\">10<tspan style=\"dominant-baseline:inherit\" dy=\"-0.6em\" font-size=\"83.333333%\">1.1</tspan></text>\n",
        "    <text x=\"59.58\" y=\"86.39\" text-anchor=\"middle\" visibility=\"hidden\" gadfly:scale=\"10.0\">10<tspan style=\"dominant-baseline:inherit\" dy=\"-0.6em\" font-size=\"83.333333%\">1.2</tspan></text>\n",
        "    <text x=\"62.83\" y=\"86.39\" text-anchor=\"middle\" visibility=\"hidden\" gadfly:scale=\"10.0\">10<tspan style=\"dominant-baseline:inherit\" dy=\"-0.6em\" font-size=\"83.333333%\">1.3</tspan></text>\n",
        "    <text x=\"66.08\" y=\"86.39\" text-anchor=\"middle\" visibility=\"hidden\" gadfly:scale=\"10.0\">10<tspan style=\"dominant-baseline:inherit\" dy=\"-0.6em\" font-size=\"83.333333%\">1.4</tspan></text>\n",
        "    <text x=\"69.32\" y=\"86.39\" text-anchor=\"middle\" visibility=\"hidden\" gadfly:scale=\"10.0\">10<tspan style=\"dominant-baseline:inherit\" dy=\"-0.6em\" font-size=\"83.333333%\">1.5</tspan></text>\n",
        "    <text x=\"72.57\" y=\"86.39\" text-anchor=\"middle\" visibility=\"hidden\" gadfly:scale=\"10.0\">10<tspan style=\"dominant-baseline:inherit\" dy=\"-0.6em\" font-size=\"83.333333%\">1.6</tspan></text>\n",
        "    <text x=\"75.82\" y=\"86.39\" text-anchor=\"middle\" visibility=\"hidden\" gadfly:scale=\"10.0\">10<tspan style=\"dominant-baseline:inherit\" dy=\"-0.6em\" font-size=\"83.333333%\">1.7</tspan></text>\n",
        "    <text x=\"79.06\" y=\"86.39\" text-anchor=\"middle\" visibility=\"hidden\" gadfly:scale=\"10.0\">10<tspan style=\"dominant-baseline:inherit\" dy=\"-0.6em\" font-size=\"83.333333%\">1.8</tspan></text>\n",
        "    <text x=\"82.31\" y=\"86.39\" text-anchor=\"middle\" visibility=\"hidden\" gadfly:scale=\"10.0\">10<tspan style=\"dominant-baseline:inherit\" dy=\"-0.6em\" font-size=\"83.333333%\">1.9</tspan></text>\n",
        "    <text x=\"85.55\" y=\"86.39\" text-anchor=\"middle\" visibility=\"hidden\" gadfly:scale=\"10.0\">10<tspan style=\"dominant-baseline:inherit\" dy=\"-0.6em\" font-size=\"83.333333%\">2.0</tspan></text>\n",
        "    <text x=\"88.8\" y=\"86.39\" text-anchor=\"middle\" visibility=\"hidden\" gadfly:scale=\"10.0\">10<tspan style=\"dominant-baseline:inherit\" dy=\"-0.6em\" font-size=\"83.333333%\">2.1</tspan></text>\n",
        "    <text x=\"92.05\" y=\"86.39\" text-anchor=\"middle\" visibility=\"hidden\" gadfly:scale=\"10.0\">10<tspan style=\"dominant-baseline:inherit\" dy=\"-0.6em\" font-size=\"83.333333%\">2.2</tspan></text>\n",
        "    <text x=\"95.29\" y=\"86.39\" text-anchor=\"middle\" visibility=\"hidden\" gadfly:scale=\"10.0\">10<tspan style=\"dominant-baseline:inherit\" dy=\"-0.6em\" font-size=\"83.333333%\">2.3</tspan></text>\n",
        "    <text x=\"98.54\" y=\"86.39\" text-anchor=\"middle\" visibility=\"hidden\" gadfly:scale=\"10.0\">10<tspan style=\"dominant-baseline:inherit\" dy=\"-0.6em\" font-size=\"83.333333%\">2.4</tspan></text>\n",
        "    <text x=\"101.78\" y=\"86.39\" text-anchor=\"middle\" visibility=\"hidden\" gadfly:scale=\"10.0\">10<tspan style=\"dominant-baseline:inherit\" dy=\"-0.6em\" font-size=\"83.333333%\">2.5</tspan></text>\n",
        "    <text x=\"105.03\" y=\"86.39\" text-anchor=\"middle\" visibility=\"hidden\" gadfly:scale=\"10.0\">10<tspan style=\"dominant-baseline:inherit\" dy=\"-0.6em\" font-size=\"83.333333%\">2.6</tspan></text>\n",
        "    <text x=\"108.28\" y=\"86.39\" text-anchor=\"middle\" visibility=\"hidden\" gadfly:scale=\"10.0\">10<tspan style=\"dominant-baseline:inherit\" dy=\"-0.6em\" font-size=\"83.333333%\">2.7</tspan></text>\n",
        "    <text x=\"111.52\" y=\"86.39\" text-anchor=\"middle\" visibility=\"hidden\" gadfly:scale=\"10.0\">10<tspan style=\"dominant-baseline:inherit\" dy=\"-0.6em\" font-size=\"83.333333%\">2.8</tspan></text>\n",
        "    <text x=\"114.77\" y=\"86.39\" text-anchor=\"middle\" visibility=\"hidden\" gadfly:scale=\"10.0\">10<tspan style=\"dominant-baseline:inherit\" dy=\"-0.6em\" font-size=\"83.333333%\">2.9</tspan></text>\n",
        "    <text x=\"118.01\" y=\"86.39\" text-anchor=\"middle\" visibility=\"hidden\" gadfly:scale=\"10.0\">10<tspan style=\"dominant-baseline:inherit\" dy=\"-0.6em\" font-size=\"83.333333%\">3.0</tspan></text>\n",
        "    <text x=\"121.26\" y=\"86.39\" text-anchor=\"middle\" visibility=\"hidden\" gadfly:scale=\"10.0\">10<tspan style=\"dominant-baseline:inherit\" dy=\"-0.6em\" font-size=\"83.333333%\">3.1</tspan></text>\n",
        "    <text x=\"124.51\" y=\"86.39\" text-anchor=\"middle\" visibility=\"hidden\" gadfly:scale=\"10.0\">10<tspan style=\"dominant-baseline:inherit\" dy=\"-0.6em\" font-size=\"83.333333%\">3.2</tspan></text>\n",
        "    <text x=\"127.75\" y=\"86.39\" text-anchor=\"middle\" visibility=\"hidden\" gadfly:scale=\"10.0\">10<tspan style=\"dominant-baseline:inherit\" dy=\"-0.6em\" font-size=\"83.333333%\">3.3</tspan></text>\n",
        "    <text x=\"131\" y=\"86.39\" text-anchor=\"middle\" visibility=\"hidden\" gadfly:scale=\"10.0\">10<tspan style=\"dominant-baseline:inherit\" dy=\"-0.6em\" font-size=\"83.333333%\">3.4</tspan></text>\n",
        "    <text x=\"134.25\" y=\"86.39\" text-anchor=\"middle\" visibility=\"hidden\" gadfly:scale=\"10.0\">10<tspan style=\"dominant-baseline:inherit\" dy=\"-0.6em\" font-size=\"83.333333%\">3.5</tspan></text>\n",
        "    <text x=\"137.49\" y=\"86.39\" text-anchor=\"middle\" visibility=\"hidden\" gadfly:scale=\"10.0\">10<tspan style=\"dominant-baseline:inherit\" dy=\"-0.6em\" font-size=\"83.333333%\">3.6</tspan></text>\n",
        "    <text x=\"140.74\" y=\"86.39\" text-anchor=\"middle\" visibility=\"hidden\" gadfly:scale=\"10.0\">10<tspan style=\"dominant-baseline:inherit\" dy=\"-0.6em\" font-size=\"83.333333%\">3.7</tspan></text>\n",
        "    <text x=\"143.98\" y=\"86.39\" text-anchor=\"middle\" visibility=\"hidden\" gadfly:scale=\"10.0\">10<tspan style=\"dominant-baseline:inherit\" dy=\"-0.6em\" font-size=\"83.333333%\">3.8</tspan></text>\n",
        "    <text x=\"147.23\" y=\"86.39\" text-anchor=\"middle\" visibility=\"hidden\" gadfly:scale=\"10.0\">10<tspan style=\"dominant-baseline:inherit\" dy=\"-0.6em\" font-size=\"83.333333%\">3.9</tspan></text>\n",
        "    <text x=\"150.48\" y=\"86.39\" text-anchor=\"middle\" visibility=\"hidden\" gadfly:scale=\"10.0\">10<tspan style=\"dominant-baseline:inherit\" dy=\"-0.6em\" font-size=\"83.333333%\">4.0</tspan></text>\n",
        "    <text x=\"153.72\" y=\"86.39\" text-anchor=\"middle\" visibility=\"hidden\" gadfly:scale=\"10.0\">10<tspan style=\"dominant-baseline:inherit\" dy=\"-0.6em\" font-size=\"83.333333%\">4.1</tspan></text>\n",
        "    <text x=\"156.97\" y=\"86.39\" text-anchor=\"middle\" visibility=\"hidden\" gadfly:scale=\"10.0\">10<tspan style=\"dominant-baseline:inherit\" dy=\"-0.6em\" font-size=\"83.333333%\">4.2</tspan></text>\n",
        "    <text x=\"160.21\" y=\"86.39\" text-anchor=\"middle\" visibility=\"hidden\" gadfly:scale=\"10.0\">10<tspan style=\"dominant-baseline:inherit\" dy=\"-0.6em\" font-size=\"83.333333%\">4.3</tspan></text>\n",
        "    <text x=\"163.46\" y=\"86.39\" text-anchor=\"middle\" visibility=\"hidden\" gadfly:scale=\"10.0\">10<tspan style=\"dominant-baseline:inherit\" dy=\"-0.6em\" font-size=\"83.333333%\">4.4</tspan></text>\n",
        "    <text x=\"166.71\" y=\"86.39\" text-anchor=\"middle\" visibility=\"hidden\" gadfly:scale=\"10.0\">10<tspan style=\"dominant-baseline:inherit\" dy=\"-0.6em\" font-size=\"83.333333%\">4.5</tspan></text>\n",
        "    <text x=\"169.95\" y=\"86.39\" text-anchor=\"middle\" visibility=\"hidden\" gadfly:scale=\"10.0\">10<tspan style=\"dominant-baseline:inherit\" dy=\"-0.6em\" font-size=\"83.333333%\">4.6</tspan></text>\n",
        "    <text x=\"173.2\" y=\"86.39\" text-anchor=\"middle\" visibility=\"hidden\" gadfly:scale=\"10.0\">10<tspan style=\"dominant-baseline:inherit\" dy=\"-0.6em\" font-size=\"83.333333%\">4.7</tspan></text>\n",
        "    <text x=\"176.44\" y=\"86.39\" text-anchor=\"middle\" visibility=\"hidden\" gadfly:scale=\"10.0\">10<tspan style=\"dominant-baseline:inherit\" dy=\"-0.6em\" font-size=\"83.333333%\">4.8</tspan></text>\n",
        "    <text x=\"179.69\" y=\"86.39\" text-anchor=\"middle\" visibility=\"hidden\" gadfly:scale=\"10.0\">10<tspan style=\"dominant-baseline:inherit\" dy=\"-0.6em\" font-size=\"83.333333%\">4.9</tspan></text>\n",
        "    <text x=\"182.94\" y=\"86.39\" text-anchor=\"middle\" visibility=\"hidden\" gadfly:scale=\"10.0\">10<tspan style=\"dominant-baseline:inherit\" dy=\"-0.6em\" font-size=\"83.333333%\">5.0</tspan></text>\n",
        "    <text x=\"186.18\" y=\"86.39\" text-anchor=\"middle\" visibility=\"hidden\" gadfly:scale=\"10.0\">10<tspan style=\"dominant-baseline:inherit\" dy=\"-0.6em\" font-size=\"83.333333%\">5.1</tspan></text>\n",
        "    <text x=\"189.43\" y=\"86.39\" text-anchor=\"middle\" visibility=\"hidden\" gadfly:scale=\"10.0\">10<tspan style=\"dominant-baseline:inherit\" dy=\"-0.6em\" font-size=\"83.333333%\">5.2</tspan></text>\n",
        "    <text x=\"192.68\" y=\"86.39\" text-anchor=\"middle\" visibility=\"hidden\" gadfly:scale=\"10.0\">10<tspan style=\"dominant-baseline:inherit\" dy=\"-0.6em\" font-size=\"83.333333%\">5.3</tspan></text>\n",
        "    <text x=\"195.92\" y=\"86.39\" text-anchor=\"middle\" visibility=\"hidden\" gadfly:scale=\"10.0\">10<tspan style=\"dominant-baseline:inherit\" dy=\"-0.6em\" font-size=\"83.333333%\">5.4</tspan></text>\n",
        "    <text x=\"199.17\" y=\"86.39\" text-anchor=\"middle\" visibility=\"hidden\" gadfly:scale=\"10.0\">10<tspan style=\"dominant-baseline:inherit\" dy=\"-0.6em\" font-size=\"83.333333%\">5.5</tspan></text>\n",
        "    <text x=\"202.41\" y=\"86.39\" text-anchor=\"middle\" visibility=\"hidden\" gadfly:scale=\"10.0\">10<tspan style=\"dominant-baseline:inherit\" dy=\"-0.6em\" font-size=\"83.333333%\">5.6</tspan></text>\n",
        "    <text x=\"205.66\" y=\"86.39\" text-anchor=\"middle\" visibility=\"hidden\" gadfly:scale=\"10.0\">10<tspan style=\"dominant-baseline:inherit\" dy=\"-0.6em\" font-size=\"83.333333%\">5.7</tspan></text>\n",
        "    <text x=\"208.91\" y=\"86.39\" text-anchor=\"middle\" visibility=\"hidden\" gadfly:scale=\"10.0\">10<tspan style=\"dominant-baseline:inherit\" dy=\"-0.6em\" font-size=\"83.333333%\">5.8</tspan></text>\n",
        "    <text x=\"212.15\" y=\"86.39\" text-anchor=\"middle\" visibility=\"hidden\" gadfly:scale=\"10.0\">10<tspan style=\"dominant-baseline:inherit\" dy=\"-0.6em\" font-size=\"83.333333%\">5.9</tspan></text>\n",
        "    <text x=\"215.4\" y=\"86.39\" text-anchor=\"middle\" visibility=\"hidden\" gadfly:scale=\"10.0\">10<tspan style=\"dominant-baseline:inherit\" dy=\"-0.6em\" font-size=\"83.333333%\">6.0</tspan></text>\n",
        "    <text x=\"-76.75\" y=\"86.39\" text-anchor=\"middle\" visibility=\"hidden\" gadfly:scale=\"0.5\">10<tspan style=\"dominant-baseline:inherit\" dy=\"-0.6em\" font-size=\"83.333333%\">-3</tspan></text>\n",
        "    <text x=\"20.63\" y=\"86.39\" text-anchor=\"middle\" visibility=\"hidden\" gadfly:scale=\"0.5\">10<tspan style=\"dominant-baseline:inherit\" dy=\"-0.6em\" font-size=\"83.333333%\">0</tspan></text>\n",
        "    <text x=\"118.01\" y=\"86.39\" text-anchor=\"middle\" visibility=\"hidden\" gadfly:scale=\"0.5\">10<tspan style=\"dominant-baseline:inherit\" dy=\"-0.6em\" font-size=\"83.333333%\">3</tspan></text>\n",
        "    <text x=\"215.4\" y=\"86.39\" text-anchor=\"middle\" visibility=\"hidden\" gadfly:scale=\"0.5\">10<tspan style=\"dominant-baseline:inherit\" dy=\"-0.6em\" font-size=\"83.333333%\">6</tspan></text>\n",
        "    <text x=\"-76.75\" y=\"86.39\" text-anchor=\"middle\" visibility=\"hidden\" gadfly:scale=\"5.0\">10<tspan style=\"dominant-baseline:inherit\" dy=\"-0.6em\" font-size=\"83.333333%\">-3.0</tspan></text>\n",
        "    <text x=\"-70.26\" y=\"86.39\" text-anchor=\"middle\" visibility=\"hidden\" gadfly:scale=\"5.0\">10<tspan style=\"dominant-baseline:inherit\" dy=\"-0.6em\" font-size=\"83.333333%\">-2.8</tspan></text>\n",
        "    <text x=\"-63.77\" y=\"86.39\" text-anchor=\"middle\" visibility=\"hidden\" gadfly:scale=\"5.0\">10<tspan style=\"dominant-baseline:inherit\" dy=\"-0.6em\" font-size=\"83.333333%\">-2.6</tspan></text>\n",
        "    <text x=\"-57.27\" y=\"86.39\" text-anchor=\"middle\" visibility=\"hidden\" gadfly:scale=\"5.0\">10<tspan style=\"dominant-baseline:inherit\" dy=\"-0.6em\" font-size=\"83.333333%\">-2.4</tspan></text>\n",
        "    <text x=\"-50.78\" y=\"86.39\" text-anchor=\"middle\" visibility=\"hidden\" gadfly:scale=\"5.0\">10<tspan style=\"dominant-baseline:inherit\" dy=\"-0.6em\" font-size=\"83.333333%\">-2.2</tspan></text>\n",
        "    <text x=\"-44.29\" y=\"86.39\" text-anchor=\"middle\" visibility=\"hidden\" gadfly:scale=\"5.0\">10<tspan style=\"dominant-baseline:inherit\" dy=\"-0.6em\" font-size=\"83.333333%\">-2.0</tspan></text>\n",
        "    <text x=\"-37.8\" y=\"86.39\" text-anchor=\"middle\" visibility=\"hidden\" gadfly:scale=\"5.0\">10<tspan style=\"dominant-baseline:inherit\" dy=\"-0.6em\" font-size=\"83.333333%\">-1.8</tspan></text>\n",
        "    <text x=\"-31.31\" y=\"86.39\" text-anchor=\"middle\" visibility=\"hidden\" gadfly:scale=\"5.0\">10<tspan style=\"dominant-baseline:inherit\" dy=\"-0.6em\" font-size=\"83.333333%\">-1.6</tspan></text>\n",
        "    <text x=\"-24.81\" y=\"86.39\" text-anchor=\"middle\" visibility=\"hidden\" gadfly:scale=\"5.0\">10<tspan style=\"dominant-baseline:inherit\" dy=\"-0.6em\" font-size=\"83.333333%\">-1.4</tspan></text>\n",
        "    <text x=\"-18.32\" y=\"86.39\" text-anchor=\"middle\" visibility=\"hidden\" gadfly:scale=\"5.0\">10<tspan style=\"dominant-baseline:inherit\" dy=\"-0.6em\" font-size=\"83.333333%\">-1.2</tspan></text>\n",
        "    <text x=\"-11.83\" y=\"86.39\" text-anchor=\"middle\" visibility=\"hidden\" gadfly:scale=\"5.0\">10<tspan style=\"dominant-baseline:inherit\" dy=\"-0.6em\" font-size=\"83.333333%\">-1.0</tspan></text>\n",
        "    <text x=\"-5.34\" y=\"86.39\" text-anchor=\"middle\" visibility=\"hidden\" gadfly:scale=\"5.0\">10<tspan style=\"dominant-baseline:inherit\" dy=\"-0.6em\" font-size=\"83.333333%\">-0.8</tspan></text>\n",
        "    <text x=\"1.16\" y=\"86.39\" text-anchor=\"middle\" visibility=\"hidden\" gadfly:scale=\"5.0\">10<tspan style=\"dominant-baseline:inherit\" dy=\"-0.6em\" font-size=\"83.333333%\">-0.6</tspan></text>\n",
        "    <text x=\"7.65\" y=\"86.39\" text-anchor=\"middle\" visibility=\"hidden\" gadfly:scale=\"5.0\">10<tspan style=\"dominant-baseline:inherit\" dy=\"-0.6em\" font-size=\"83.333333%\">-0.4</tspan></text>\n",
        "    <text x=\"14.14\" y=\"86.39\" text-anchor=\"middle\" visibility=\"hidden\" gadfly:scale=\"5.0\">10<tspan style=\"dominant-baseline:inherit\" dy=\"-0.6em\" font-size=\"83.333333%\">-0.2</tspan></text>\n",
        "    <text x=\"20.63\" y=\"86.39\" text-anchor=\"middle\" visibility=\"hidden\" gadfly:scale=\"5.0\">10<tspan style=\"dominant-baseline:inherit\" dy=\"-0.6em\" font-size=\"83.333333%\">0.0</tspan></text>\n",
        "    <text x=\"27.12\" y=\"86.39\" text-anchor=\"middle\" visibility=\"hidden\" gadfly:scale=\"5.0\">10<tspan style=\"dominant-baseline:inherit\" dy=\"-0.6em\" font-size=\"83.333333%\">0.2</tspan></text>\n",
        "    <text x=\"33.62\" y=\"86.39\" text-anchor=\"middle\" visibility=\"hidden\" gadfly:scale=\"5.0\">10<tspan style=\"dominant-baseline:inherit\" dy=\"-0.6em\" font-size=\"83.333333%\">0.4</tspan></text>\n",
        "    <text x=\"40.11\" y=\"86.39\" text-anchor=\"middle\" visibility=\"hidden\" gadfly:scale=\"5.0\">10<tspan style=\"dominant-baseline:inherit\" dy=\"-0.6em\" font-size=\"83.333333%\">0.6</tspan></text>\n",
        "    <text x=\"46.6\" y=\"86.39\" text-anchor=\"middle\" visibility=\"hidden\" gadfly:scale=\"5.0\">10<tspan style=\"dominant-baseline:inherit\" dy=\"-0.6em\" font-size=\"83.333333%\">0.8</tspan></text>\n",
        "    <text x=\"53.09\" y=\"86.39\" text-anchor=\"middle\" visibility=\"hidden\" gadfly:scale=\"5.0\">10<tspan style=\"dominant-baseline:inherit\" dy=\"-0.6em\" font-size=\"83.333333%\">1.0</tspan></text>\n",
        "    <text x=\"59.58\" y=\"86.39\" text-anchor=\"middle\" visibility=\"hidden\" gadfly:scale=\"5.0\">10<tspan style=\"dominant-baseline:inherit\" dy=\"-0.6em\" font-size=\"83.333333%\">1.2</tspan></text>\n",
        "    <text x=\"66.08\" y=\"86.39\" text-anchor=\"middle\" visibility=\"hidden\" gadfly:scale=\"5.0\">10<tspan style=\"dominant-baseline:inherit\" dy=\"-0.6em\" font-size=\"83.333333%\">1.4</tspan></text>\n",
        "    <text x=\"72.57\" y=\"86.39\" text-anchor=\"middle\" visibility=\"hidden\" gadfly:scale=\"5.0\">10<tspan style=\"dominant-baseline:inherit\" dy=\"-0.6em\" font-size=\"83.333333%\">1.6</tspan></text>\n",
        "    <text x=\"79.06\" y=\"86.39\" text-anchor=\"middle\" visibility=\"hidden\" gadfly:scale=\"5.0\">10<tspan style=\"dominant-baseline:inherit\" dy=\"-0.6em\" font-size=\"83.333333%\">1.8</tspan></text>\n",
        "    <text x=\"85.55\" y=\"86.39\" text-anchor=\"middle\" visibility=\"hidden\" gadfly:scale=\"5.0\">10<tspan style=\"dominant-baseline:inherit\" dy=\"-0.6em\" font-size=\"83.333333%\">2.0</tspan></text>\n",
        "    <text x=\"92.05\" y=\"86.39\" text-anchor=\"middle\" visibility=\"hidden\" gadfly:scale=\"5.0\">10<tspan style=\"dominant-baseline:inherit\" dy=\"-0.6em\" font-size=\"83.333333%\">2.2</tspan></text>\n",
        "    <text x=\"98.54\" y=\"86.39\" text-anchor=\"middle\" visibility=\"hidden\" gadfly:scale=\"5.0\">10<tspan style=\"dominant-baseline:inherit\" dy=\"-0.6em\" font-size=\"83.333333%\">2.4</tspan></text>\n",
        "    <text x=\"105.03\" y=\"86.39\" text-anchor=\"middle\" visibility=\"hidden\" gadfly:scale=\"5.0\">10<tspan style=\"dominant-baseline:inherit\" dy=\"-0.6em\" font-size=\"83.333333%\">2.6</tspan></text>\n",
        "    <text x=\"111.52\" y=\"86.39\" text-anchor=\"middle\" visibility=\"hidden\" gadfly:scale=\"5.0\">10<tspan style=\"dominant-baseline:inherit\" dy=\"-0.6em\" font-size=\"83.333333%\">2.8</tspan></text>\n",
        "    <text x=\"118.01\" y=\"86.39\" text-anchor=\"middle\" visibility=\"hidden\" gadfly:scale=\"5.0\">10<tspan style=\"dominant-baseline:inherit\" dy=\"-0.6em\" font-size=\"83.333333%\">3.0</tspan></text>\n",
        "    <text x=\"124.51\" y=\"86.39\" text-anchor=\"middle\" visibility=\"hidden\" gadfly:scale=\"5.0\">10<tspan style=\"dominant-baseline:inherit\" dy=\"-0.6em\" font-size=\"83.333333%\">3.2</tspan></text>\n",
        "    <text x=\"131\" y=\"86.39\" text-anchor=\"middle\" visibility=\"hidden\" gadfly:scale=\"5.0\">10<tspan style=\"dominant-baseline:inherit\" dy=\"-0.6em\" font-size=\"83.333333%\">3.4</tspan></text>\n",
        "    <text x=\"137.49\" y=\"86.39\" text-anchor=\"middle\" visibility=\"hidden\" gadfly:scale=\"5.0\">10<tspan style=\"dominant-baseline:inherit\" dy=\"-0.6em\" font-size=\"83.333333%\">3.6</tspan></text>\n",
        "    <text x=\"143.98\" y=\"86.39\" text-anchor=\"middle\" visibility=\"hidden\" gadfly:scale=\"5.0\">10<tspan style=\"dominant-baseline:inherit\" dy=\"-0.6em\" font-size=\"83.333333%\">3.8</tspan></text>\n",
        "    <text x=\"150.48\" y=\"86.39\" text-anchor=\"middle\" visibility=\"hidden\" gadfly:scale=\"5.0\">10<tspan style=\"dominant-baseline:inherit\" dy=\"-0.6em\" font-size=\"83.333333%\">4.0</tspan></text>\n",
        "    <text x=\"156.97\" y=\"86.39\" text-anchor=\"middle\" visibility=\"hidden\" gadfly:scale=\"5.0\">10<tspan style=\"dominant-baseline:inherit\" dy=\"-0.6em\" font-size=\"83.333333%\">4.2</tspan></text>\n",
        "    <text x=\"163.46\" y=\"86.39\" text-anchor=\"middle\" visibility=\"hidden\" gadfly:scale=\"5.0\">10<tspan style=\"dominant-baseline:inherit\" dy=\"-0.6em\" font-size=\"83.333333%\">4.4</tspan></text>\n",
        "    <text x=\"169.95\" y=\"86.39\" text-anchor=\"middle\" visibility=\"hidden\" gadfly:scale=\"5.0\">10<tspan style=\"dominant-baseline:inherit\" dy=\"-0.6em\" font-size=\"83.333333%\">4.6</tspan></text>\n",
        "    <text x=\"176.44\" y=\"86.39\" text-anchor=\"middle\" visibility=\"hidden\" gadfly:scale=\"5.0\">10<tspan style=\"dominant-baseline:inherit\" dy=\"-0.6em\" font-size=\"83.333333%\">4.8</tspan></text>\n",
        "    <text x=\"182.94\" y=\"86.39\" text-anchor=\"middle\" visibility=\"hidden\" gadfly:scale=\"5.0\">10<tspan style=\"dominant-baseline:inherit\" dy=\"-0.6em\" font-size=\"83.333333%\">5.0</tspan></text>\n",
        "    <text x=\"189.43\" y=\"86.39\" text-anchor=\"middle\" visibility=\"hidden\" gadfly:scale=\"5.0\">10<tspan style=\"dominant-baseline:inherit\" dy=\"-0.6em\" font-size=\"83.333333%\">5.2</tspan></text>\n",
        "    <text x=\"195.92\" y=\"86.39\" text-anchor=\"middle\" visibility=\"hidden\" gadfly:scale=\"5.0\">10<tspan style=\"dominant-baseline:inherit\" dy=\"-0.6em\" font-size=\"83.333333%\">5.4</tspan></text>\n",
        "    <text x=\"202.41\" y=\"86.39\" text-anchor=\"middle\" visibility=\"hidden\" gadfly:scale=\"5.0\">10<tspan style=\"dominant-baseline:inherit\" dy=\"-0.6em\" font-size=\"83.333333%\">5.6</tspan></text>\n",
        "    <text x=\"208.91\" y=\"86.39\" text-anchor=\"middle\" visibility=\"hidden\" gadfly:scale=\"5.0\">10<tspan style=\"dominant-baseline:inherit\" dy=\"-0.6em\" font-size=\"83.333333%\">5.8</tspan></text>\n",
        "    <text x=\"215.4\" y=\"86.39\" text-anchor=\"middle\" visibility=\"hidden\" gadfly:scale=\"5.0\">10<tspan style=\"dominant-baseline:inherit\" dy=\"-0.6em\" font-size=\"83.333333%\">6.0</tspan></text>\n",
        "  </g>\n",
        "  <g class=\"guide colorkey\" id=\"fig-8af436d5302b442f86dc310490af245e-element-4\">\n",
        "    <g fill=\"#4C404B\" font-size=\"2.82\" font-family=\"'PT Sans','Helvetica Neue','Helvetica',sans-serif\" id=\"fig-8af436d5302b442f86dc310490af245e-element-5\">\n",
        "      <text x=\"123.83\" y=\"43.19\" dy=\"0.35em\" id=\"fig-8af436d5302b442f86dc310490af245e-element-6\" class=\"color_train_error\">train_error</text>\n",
        "      <text x=\"123.83\" y=\"46.82\" dy=\"0.35em\" id=\"fig-8af436d5302b442f86dc310490af245e-element-7\" class=\"color_prec_at_k\">prec_at_k</text>\n",
        "    </g>\n",
        "    <g stroke=\"none\" id=\"fig-8af436d5302b442f86dc310490af245e-element-8\">\n",
        "      <rect x=\"121.01\" y=\"42.28\" width=\"1.81\" height=\"1.81\" id=\"fig-8af436d5302b442f86dc310490af245e-element-9\" class=\"color_train_error\" fill=\"#00BFFF\"/>\n",
        "      <rect x=\"121.01\" y=\"45.91\" width=\"1.81\" height=\"1.81\" id=\"fig-8af436d5302b442f86dc310490af245e-element-10\" class=\"color_prec_at_k\" fill=\"#D4CA3A\"/>\n",
        "    </g>\n",
        "    <g fill=\"#362A35\" font-size=\"3.88\" font-family=\"'PT Sans','Helvetica Neue','Helvetica',sans-serif\" stroke=\"none\" id=\"fig-8af436d5302b442f86dc310490af245e-element-11\">\n",
        "      <text x=\"121.01\" y=\"39.37\" id=\"fig-8af436d5302b442f86dc310490af245e-element-12\">variable</text>\n",
        "    </g>\n",
        "  </g>\n",
        "  <g font-size=\"3.88\" font-family=\"'PT Sans','Helvetica Neue','Helvetica',sans-serif\" fill=\"#564A55\" stroke=\"none\" id=\"fig-8af436d5302b442f86dc310490af245e-element-13\">\n",
        "    <text x=\"8.81\" y=\"41.19\" text-anchor=\"middle\" dy=\"0.35em\" transform=\"rotate(-90, 8.81, 43.19)\" id=\"fig-8af436d5302b442f86dc310490af245e-element-14\">value</text>\n",
        "  </g>\n",
        "  <g clip-path=\"url(#fig-8af436d5302b442f86dc310490af245e-element-16)\" id=\"fig-8af436d5302b442f86dc310490af245e-element-15\">\n",
        "    <g pointer-events=\"visible\" opacity=\"1\" fill=\"none\" stroke=\"none\" class=\"guide background\" id=\"fig-8af436d5302b442f86dc310490af245e-element-17\">\n",
        "      <rect x=\"18.63\" y=\"5\" width=\"101.38\" height=\"76.38\" id=\"fig-8af436d5302b442f86dc310490af245e-element-18\"/>\n",
        "    </g>\n",
        "    <g class=\"guide ygridlines xfixed\" stroke-dasharray=\"0.5,0.5\" stroke-width=\"0.2\" stroke=\"#D0D0E0\" id=\"fig-8af436d5302b442f86dc310490af245e-element-19\">\n",
        "      <path fill=\"none\" d=\"M18.63,187.95 L 120.01 187.95\" id=\"fig-8af436d5302b442f86dc310490af245e-element-20\" visibility=\"hidden\" gadfly:scale=\"1.0\"/>\n",
        "      <path fill=\"none\" d=\"M18.63,151.76 L 120.01 151.76\" id=\"fig-8af436d5302b442f86dc310490af245e-element-21\" visibility=\"hidden\" gadfly:scale=\"1.0\"/>\n",
        "      <path fill=\"none\" d=\"M18.63,115.57 L 120.01 115.57\" id=\"fig-8af436d5302b442f86dc310490af245e-element-22\" visibility=\"hidden\" gadfly:scale=\"1.0\"/>\n",
        "      <path fill=\"none\" d=\"M18.63,79.38 L 120.01 79.38\" id=\"fig-8af436d5302b442f86dc310490af245e-element-23\" visibility=\"visible\" gadfly:scale=\"1.0\"/>\n",
        "      <path fill=\"none\" d=\"M18.63,43.19 L 120.01 43.19\" id=\"fig-8af436d5302b442f86dc310490af245e-element-24\" visibility=\"visible\" gadfly:scale=\"1.0\"/>\n",
        "      <path fill=\"none\" d=\"M18.63,7 L 120.01 7\" id=\"fig-8af436d5302b442f86dc310490af245e-element-25\" visibility=\"visible\" gadfly:scale=\"1.0\"/>\n",
        "      <path fill=\"none\" d=\"M18.63,-29.19 L 120.01 -29.19\" id=\"fig-8af436d5302b442f86dc310490af245e-element-26\" visibility=\"hidden\" gadfly:scale=\"1.0\"/>\n",
        "      <path fill=\"none\" d=\"M18.63,-65.38 L 120.01 -65.38\" id=\"fig-8af436d5302b442f86dc310490af245e-element-27\" visibility=\"hidden\" gadfly:scale=\"1.0\"/>\n",
        "      <path fill=\"none\" d=\"M18.63,-101.57 L 120.01 -101.57\" id=\"fig-8af436d5302b442f86dc310490af245e-element-28\" visibility=\"hidden\" gadfly:scale=\"1.0\"/>\n",
        "      <path fill=\"none\" d=\"M18.63,151.76 L 120.01 151.76\" id=\"fig-8af436d5302b442f86dc310490af245e-element-29\" visibility=\"hidden\" gadfly:scale=\"10.0\"/>\n",
        "      <path fill=\"none\" d=\"M18.63,148.14 L 120.01 148.14\" id=\"fig-8af436d5302b442f86dc310490af245e-element-30\" visibility=\"hidden\" gadfly:scale=\"10.0\"/>\n",
        "      <path fill=\"none\" d=\"M18.63,144.52 L 120.01 144.52\" id=\"fig-8af436d5302b442f86dc310490af245e-element-31\" visibility=\"hidden\" gadfly:scale=\"10.0\"/>\n",
        "      <path fill=\"none\" d=\"M18.63,140.9 L 120.01 140.9\" id=\"fig-8af436d5302b442f86dc310490af245e-element-32\" visibility=\"hidden\" gadfly:scale=\"10.0\"/>\n",
        "      <path fill=\"none\" d=\"M18.63,137.28 L 120.01 137.28\" id=\"fig-8af436d5302b442f86dc310490af245e-element-33\" visibility=\"hidden\" gadfly:scale=\"10.0\"/>\n",
        "      <path fill=\"none\" d=\"M18.63,133.66 L 120.01 133.66\" id=\"fig-8af436d5302b442f86dc310490af245e-element-34\" visibility=\"hidden\" gadfly:scale=\"10.0\"/>\n",
        "      <path fill=\"none\" d=\"M18.63,130.04 L 120.01 130.04\" id=\"fig-8af436d5302b442f86dc310490af245e-element-35\" visibility=\"hidden\" gadfly:scale=\"10.0\"/>\n",
        "      <path fill=\"none\" d=\"M18.63,126.42 L 120.01 126.42\" id=\"fig-8af436d5302b442f86dc310490af245e-element-36\" visibility=\"hidden\" gadfly:scale=\"10.0\"/>\n",
        "      <path fill=\"none\" d=\"M18.63,122.81 L 120.01 122.81\" id=\"fig-8af436d5302b442f86dc310490af245e-element-37\" visibility=\"hidden\" gadfly:scale=\"10.0\"/>\n",
        "      <path fill=\"none\" d=\"M18.63,119.19 L 120.01 119.19\" id=\"fig-8af436d5302b442f86dc310490af245e-element-38\" visibility=\"hidden\" gadfly:scale=\"10.0\"/>\n",
        "      <path fill=\"none\" d=\"M18.63,115.57 L 120.01 115.57\" id=\"fig-8af436d5302b442f86dc310490af245e-element-39\" visibility=\"hidden\" gadfly:scale=\"10.0\"/>\n",
        "      <path fill=\"none\" d=\"M18.63,111.95 L 120.01 111.95\" id=\"fig-8af436d5302b442f86dc310490af245e-element-40\" visibility=\"hidden\" gadfly:scale=\"10.0\"/>\n",
        "      <path fill=\"none\" d=\"M18.63,108.33 L 120.01 108.33\" id=\"fig-8af436d5302b442f86dc310490af245e-element-41\" visibility=\"hidden\" gadfly:scale=\"10.0\"/>\n",
        "      <path fill=\"none\" d=\"M18.63,104.71 L 120.01 104.71\" id=\"fig-8af436d5302b442f86dc310490af245e-element-42\" visibility=\"hidden\" gadfly:scale=\"10.0\"/>\n",
        "      <path fill=\"none\" d=\"M18.63,101.09 L 120.01 101.09\" id=\"fig-8af436d5302b442f86dc310490af245e-element-43\" visibility=\"hidden\" gadfly:scale=\"10.0\"/>\n",
        "      <path fill=\"none\" d=\"M18.63,97.47 L 120.01 97.47\" id=\"fig-8af436d5302b442f86dc310490af245e-element-44\" visibility=\"hidden\" gadfly:scale=\"10.0\"/>\n",
        "      <path fill=\"none\" d=\"M18.63,93.85 L 120.01 93.85\" id=\"fig-8af436d5302b442f86dc310490af245e-element-45\" visibility=\"hidden\" gadfly:scale=\"10.0\"/>\n",
        "      <path fill=\"none\" d=\"M18.63,90.24 L 120.01 90.24\" id=\"fig-8af436d5302b442f86dc310490af245e-element-46\" visibility=\"hidden\" gadfly:scale=\"10.0\"/>\n",
        "      <path fill=\"none\" d=\"M18.63,86.62 L 120.01 86.62\" id=\"fig-8af436d5302b442f86dc310490af245e-element-47\" visibility=\"hidden\" gadfly:scale=\"10.0\"/>\n",
        "      <path fill=\"none\" d=\"M18.63,83 L 120.01 83\" id=\"fig-8af436d5302b442f86dc310490af245e-element-48\" visibility=\"hidden\" gadfly:scale=\"10.0\"/>\n",
        "      <path fill=\"none\" d=\"M18.63,79.38 L 120.01 79.38\" id=\"fig-8af436d5302b442f86dc310490af245e-element-49\" visibility=\"hidden\" gadfly:scale=\"10.0\"/>\n",
        "      <path fill=\"none\" d=\"M18.63,75.76 L 120.01 75.76\" id=\"fig-8af436d5302b442f86dc310490af245e-element-50\" visibility=\"hidden\" gadfly:scale=\"10.0\"/>\n",
        "      <path fill=\"none\" d=\"M18.63,72.14 L 120.01 72.14\" id=\"fig-8af436d5302b442f86dc310490af245e-element-51\" visibility=\"hidden\" gadfly:scale=\"10.0\"/>\n",
        "      <path fill=\"none\" d=\"M18.63,68.52 L 120.01 68.52\" id=\"fig-8af436d5302b442f86dc310490af245e-element-52\" visibility=\"hidden\" gadfly:scale=\"10.0\"/>\n",
        "      <path fill=\"none\" d=\"M18.63,64.9 L 120.01 64.9\" id=\"fig-8af436d5302b442f86dc310490af245e-element-53\" visibility=\"hidden\" gadfly:scale=\"10.0\"/>\n",
        "      <path fill=\"none\" d=\"M18.63,61.28 L 120.01 61.28\" id=\"fig-8af436d5302b442f86dc310490af245e-element-54\" visibility=\"hidden\" gadfly:scale=\"10.0\"/>\n",
        "      <path fill=\"none\" d=\"M18.63,57.66 L 120.01 57.66\" id=\"fig-8af436d5302b442f86dc310490af245e-element-55\" visibility=\"hidden\" gadfly:scale=\"10.0\"/>\n",
        "      <path fill=\"none\" d=\"M18.63,54.05 L 120.01 54.05\" id=\"fig-8af436d5302b442f86dc310490af245e-element-56\" visibility=\"hidden\" gadfly:scale=\"10.0\"/>\n",
        "      <path fill=\"none\" d=\"M18.63,50.43 L 120.01 50.43\" id=\"fig-8af436d5302b442f86dc310490af245e-element-57\" visibility=\"hidden\" gadfly:scale=\"10.0\"/>\n",
        "      <path fill=\"none\" d=\"M18.63,46.81 L 120.01 46.81\" id=\"fig-8af436d5302b442f86dc310490af245e-element-58\" visibility=\"hidden\" gadfly:scale=\"10.0\"/>\n",
        "      <path fill=\"none\" d=\"M18.63,43.19 L 120.01 43.19\" id=\"fig-8af436d5302b442f86dc310490af245e-element-59\" visibility=\"hidden\" gadfly:scale=\"10.0\"/>\n",
        "      <path fill=\"none\" d=\"M18.63,39.57 L 120.01 39.57\" id=\"fig-8af436d5302b442f86dc310490af245e-element-60\" visibility=\"hidden\" gadfly:scale=\"10.0\"/>\n",
        "      <path fill=\"none\" d=\"M18.63,35.95 L 120.01 35.95\" id=\"fig-8af436d5302b442f86dc310490af245e-element-61\" visibility=\"hidden\" gadfly:scale=\"10.0\"/>\n",
        "      <path fill=\"none\" d=\"M18.63,32.33 L 120.01 32.33\" id=\"fig-8af436d5302b442f86dc310490af245e-element-62\" visibility=\"hidden\" gadfly:scale=\"10.0\"/>\n",
        "      <path fill=\"none\" d=\"M18.63,28.71 L 120.01 28.71\" id=\"fig-8af436d5302b442f86dc310490af245e-element-63\" visibility=\"hidden\" gadfly:scale=\"10.0\"/>\n",
        "      <path fill=\"none\" d=\"M18.63,25.09 L 120.01 25.09\" id=\"fig-8af436d5302b442f86dc310490af245e-element-64\" visibility=\"hidden\" gadfly:scale=\"10.0\"/>\n",
        "      <path fill=\"none\" d=\"M18.63,21.48 L 120.01 21.48\" id=\"fig-8af436d5302b442f86dc310490af245e-element-65\" visibility=\"hidden\" gadfly:scale=\"10.0\"/>\n",
        "      <path fill=\"none\" d=\"M18.63,17.86 L 120.01 17.86\" id=\"fig-8af436d5302b442f86dc310490af245e-element-66\" visibility=\"hidden\" gadfly:scale=\"10.0\"/>\n",
        "      <path fill=\"none\" d=\"M18.63,14.24 L 120.01 14.24\" id=\"fig-8af436d5302b442f86dc310490af245e-element-67\" visibility=\"hidden\" gadfly:scale=\"10.0\"/>\n",
        "      <path fill=\"none\" d=\"M18.63,10.62 L 120.01 10.62\" id=\"fig-8af436d5302b442f86dc310490af245e-element-68\" visibility=\"hidden\" gadfly:scale=\"10.0\"/>\n",
        "      <path fill=\"none\" d=\"M18.63,7 L 120.01 7\" id=\"fig-8af436d5302b442f86dc310490af245e-element-69\" visibility=\"hidden\" gadfly:scale=\"10.0\"/>\n",
        "      <path fill=\"none\" d=\"M18.63,3.38 L 120.01 3.38\" id=\"fig-8af436d5302b442f86dc310490af245e-element-70\" visibility=\"hidden\" gadfly:scale=\"10.0\"/>\n",
        "      <path fill=\"none\" d=\"M18.63,-0.24 L 120.01 -0.24\" id=\"fig-8af436d5302b442f86dc310490af245e-element-71\" visibility=\"hidden\" gadfly:scale=\"10.0\"/>\n",
        "      <path fill=\"none\" d=\"M18.63,-3.86 L 120.01 -3.86\" id=\"fig-8af436d5302b442f86dc310490af245e-element-72\" visibility=\"hidden\" gadfly:scale=\"10.0\"/>\n",
        "      <path fill=\"none\" d=\"M18.63,-7.48 L 120.01 -7.48\" id=\"fig-8af436d5302b442f86dc310490af245e-element-73\" visibility=\"hidden\" gadfly:scale=\"10.0\"/>\n",
        "      <path fill=\"none\" d=\"M18.63,-11.09 L 120.01 -11.09\" id=\"fig-8af436d5302b442f86dc310490af245e-element-74\" visibility=\"hidden\" gadfly:scale=\"10.0\"/>\n",
        "      <path fill=\"none\" d=\"M18.63,-14.71 L 120.01 -14.71\" id=\"fig-8af436d5302b442f86dc310490af245e-element-75\" visibility=\"hidden\" gadfly:scale=\"10.0\"/>\n",
        "      <path fill=\"none\" d=\"M18.63,-18.33 L 120.01 -18.33\" id=\"fig-8af436d5302b442f86dc310490af245e-element-76\" visibility=\"hidden\" gadfly:scale=\"10.0\"/>\n",
        "      <path fill=\"none\" d=\"M18.63,-21.95 L 120.01 -21.95\" id=\"fig-8af436d5302b442f86dc310490af245e-element-77\" visibility=\"hidden\" gadfly:scale=\"10.0\"/>\n",
        "      <path fill=\"none\" d=\"M18.63,-25.57 L 120.01 -25.57\" id=\"fig-8af436d5302b442f86dc310490af245e-element-78\" visibility=\"hidden\" gadfly:scale=\"10.0\"/>\n",
        "      <path fill=\"none\" d=\"M18.63,-29.19 L 120.01 -29.19\" id=\"fig-8af436d5302b442f86dc310490af245e-element-79\" visibility=\"hidden\" gadfly:scale=\"10.0\"/>\n",
        "      <path fill=\"none\" d=\"M18.63,-32.81 L 120.01 -32.81\" id=\"fig-8af436d5302b442f86dc310490af245e-element-80\" visibility=\"hidden\" gadfly:scale=\"10.0\"/>\n",
        "      <path fill=\"none\" d=\"M18.63,-36.43 L 120.01 -36.43\" id=\"fig-8af436d5302b442f86dc310490af245e-element-81\" visibility=\"hidden\" gadfly:scale=\"10.0\"/>\n",
        "      <path fill=\"none\" d=\"M18.63,-40.05 L 120.01 -40.05\" id=\"fig-8af436d5302b442f86dc310490af245e-element-82\" visibility=\"hidden\" gadfly:scale=\"10.0\"/>\n",
        "      <path fill=\"none\" d=\"M18.63,-43.66 L 120.01 -43.66\" id=\"fig-8af436d5302b442f86dc310490af245e-element-83\" visibility=\"hidden\" gadfly:scale=\"10.0\"/>\n",
        "      <path fill=\"none\" d=\"M18.63,-47.28 L 120.01 -47.28\" id=\"fig-8af436d5302b442f86dc310490af245e-element-84\" visibility=\"hidden\" gadfly:scale=\"10.0\"/>\n",
        "      <path fill=\"none\" d=\"M18.63,-50.9 L 120.01 -50.9\" id=\"fig-8af436d5302b442f86dc310490af245e-element-85\" visibility=\"hidden\" gadfly:scale=\"10.0\"/>\n",
        "      <path fill=\"none\" d=\"M18.63,-54.52 L 120.01 -54.52\" id=\"fig-8af436d5302b442f86dc310490af245e-element-86\" visibility=\"hidden\" gadfly:scale=\"10.0\"/>\n",
        "      <path fill=\"none\" d=\"M18.63,-58.14 L 120.01 -58.14\" id=\"fig-8af436d5302b442f86dc310490af245e-element-87\" visibility=\"hidden\" gadfly:scale=\"10.0\"/>\n",
        "      <path fill=\"none\" d=\"M18.63,-61.76 L 120.01 -61.76\" id=\"fig-8af436d5302b442f86dc310490af245e-element-88\" visibility=\"hidden\" gadfly:scale=\"10.0\"/>\n",
        "      <path fill=\"none\" d=\"M18.63,-65.38 L 120.01 -65.38\" id=\"fig-8af436d5302b442f86dc310490af245e-element-89\" visibility=\"hidden\" gadfly:scale=\"10.0\"/>\n",
        "      <path fill=\"none\" d=\"M18.63,151.76 L 120.01 151.76\" id=\"fig-8af436d5302b442f86dc310490af245e-element-90\" visibility=\"hidden\" gadfly:scale=\"0.5\"/>\n",
        "      <path fill=\"none\" d=\"M18.63,79.38 L 120.01 79.38\" id=\"fig-8af436d5302b442f86dc310490af245e-element-91\" visibility=\"hidden\" gadfly:scale=\"0.5\"/>\n",
        "      <path fill=\"none\" d=\"M18.63,7 L 120.01 7\" id=\"fig-8af436d5302b442f86dc310490af245e-element-92\" visibility=\"hidden\" gadfly:scale=\"0.5\"/>\n",
        "      <path fill=\"none\" d=\"M18.63,-65.38 L 120.01 -65.38\" id=\"fig-8af436d5302b442f86dc310490af245e-element-93\" visibility=\"hidden\" gadfly:scale=\"0.5\"/>\n",
        "      <path fill=\"none\" d=\"M18.63,151.76 L 120.01 151.76\" id=\"fig-8af436d5302b442f86dc310490af245e-element-94\" visibility=\"hidden\" gadfly:scale=\"5.0\"/>\n",
        "      <path fill=\"none\" d=\"M18.63,144.52 L 120.01 144.52\" id=\"fig-8af436d5302b442f86dc310490af245e-element-95\" visibility=\"hidden\" gadfly:scale=\"5.0\"/>\n",
        "      <path fill=\"none\" d=\"M18.63,137.28 L 120.01 137.28\" id=\"fig-8af436d5302b442f86dc310490af245e-element-96\" visibility=\"hidden\" gadfly:scale=\"5.0\"/>\n",
        "      <path fill=\"none\" d=\"M18.63,130.04 L 120.01 130.04\" id=\"fig-8af436d5302b442f86dc310490af245e-element-97\" visibility=\"hidden\" gadfly:scale=\"5.0\"/>\n",
        "      <path fill=\"none\" d=\"M18.63,122.81 L 120.01 122.81\" id=\"fig-8af436d5302b442f86dc310490af245e-element-98\" visibility=\"hidden\" gadfly:scale=\"5.0\"/>\n",
        "      <path fill=\"none\" d=\"M18.63,115.57 L 120.01 115.57\" id=\"fig-8af436d5302b442f86dc310490af245e-element-99\" visibility=\"hidden\" gadfly:scale=\"5.0\"/>\n",
        "      <path fill=\"none\" d=\"M18.63,108.33 L 120.01 108.33\" id=\"fig-8af436d5302b442f86dc310490af245e-element-100\" visibility=\"hidden\" gadfly:scale=\"5.0\"/>\n",
        "      <path fill=\"none\" d=\"M18.63,101.09 L 120.01 101.09\" id=\"fig-8af436d5302b442f86dc310490af245e-element-101\" visibility=\"hidden\" gadfly:scale=\"5.0\"/>\n",
        "      <path fill=\"none\" d=\"M18.63,93.85 L 120.01 93.85\" id=\"fig-8af436d5302b442f86dc310490af245e-element-102\" visibility=\"hidden\" gadfly:scale=\"5.0\"/>\n",
        "      <path fill=\"none\" d=\"M18.63,86.62 L 120.01 86.62\" id=\"fig-8af436d5302b442f86dc310490af245e-element-103\" visibility=\"hidden\" gadfly:scale=\"5.0\"/>\n",
        "      <path fill=\"none\" d=\"M18.63,79.38 L 120.01 79.38\" id=\"fig-8af436d5302b442f86dc310490af245e-element-104\" visibility=\"hidden\" gadfly:scale=\"5.0\"/>\n",
        "      <path fill=\"none\" d=\"M18.63,72.14 L 120.01 72.14\" id=\"fig-8af436d5302b442f86dc310490af245e-element-105\" visibility=\"hidden\" gadfly:scale=\"5.0\"/>\n",
        "      <path fill=\"none\" d=\"M18.63,64.9 L 120.01 64.9\" id=\"fig-8af436d5302b442f86dc310490af245e-element-106\" visibility=\"hidden\" gadfly:scale=\"5.0\"/>\n",
        "      <path fill=\"none\" d=\"M18.63,57.66 L 120.01 57.66\" id=\"fig-8af436d5302b442f86dc310490af245e-element-107\" visibility=\"hidden\" gadfly:scale=\"5.0\"/>\n",
        "      <path fill=\"none\" d=\"M18.63,50.43 L 120.01 50.43\" id=\"fig-8af436d5302b442f86dc310490af245e-element-108\" visibility=\"hidden\" gadfly:scale=\"5.0\"/>\n",
        "      <path fill=\"none\" d=\"M18.63,43.19 L 120.01 43.19\" id=\"fig-8af436d5302b442f86dc310490af245e-element-109\" visibility=\"hidden\" gadfly:scale=\"5.0\"/>\n",
        "      <path fill=\"none\" d=\"M18.63,35.95 L 120.01 35.95\" id=\"fig-8af436d5302b442f86dc310490af245e-element-110\" visibility=\"hidden\" gadfly:scale=\"5.0\"/>\n",
        "      <path fill=\"none\" d=\"M18.63,28.71 L 120.01 28.71\" id=\"fig-8af436d5302b442f86dc310490af245e-element-111\" visibility=\"hidden\" gadfly:scale=\"5.0\"/>\n",
        "      <path fill=\"none\" d=\"M18.63,21.48 L 120.01 21.48\" id=\"fig-8af436d5302b442f86dc310490af245e-element-112\" visibility=\"hidden\" gadfly:scale=\"5.0\"/>\n",
        "      <path fill=\"none\" d=\"M18.63,14.24 L 120.01 14.24\" id=\"fig-8af436d5302b442f86dc310490af245e-element-113\" visibility=\"hidden\" gadfly:scale=\"5.0\"/>\n",
        "      <path fill=\"none\" d=\"M18.63,7 L 120.01 7\" id=\"fig-8af436d5302b442f86dc310490af245e-element-114\" visibility=\"hidden\" gadfly:scale=\"5.0\"/>\n",
        "      <path fill=\"none\" d=\"M18.63,-0.24 L 120.01 -0.24\" id=\"fig-8af436d5302b442f86dc310490af245e-element-115\" visibility=\"hidden\" gadfly:scale=\"5.0\"/>\n",
        "      <path fill=\"none\" d=\"M18.63,-7.48 L 120.01 -7.48\" id=\"fig-8af436d5302b442f86dc310490af245e-element-116\" visibility=\"hidden\" gadfly:scale=\"5.0\"/>\n",
        "      <path fill=\"none\" d=\"M18.63,-14.71 L 120.01 -14.71\" id=\"fig-8af436d5302b442f86dc310490af245e-element-117\" visibility=\"hidden\" gadfly:scale=\"5.0\"/>\n",
        "      <path fill=\"none\" d=\"M18.63,-21.95 L 120.01 -21.95\" id=\"fig-8af436d5302b442f86dc310490af245e-element-118\" visibility=\"hidden\" gadfly:scale=\"5.0\"/>\n",
        "      <path fill=\"none\" d=\"M18.63,-29.19 L 120.01 -29.19\" id=\"fig-8af436d5302b442f86dc310490af245e-element-119\" visibility=\"hidden\" gadfly:scale=\"5.0\"/>\n",
        "      <path fill=\"none\" d=\"M18.63,-36.43 L 120.01 -36.43\" id=\"fig-8af436d5302b442f86dc310490af245e-element-120\" visibility=\"hidden\" gadfly:scale=\"5.0\"/>\n",
        "      <path fill=\"none\" d=\"M18.63,-43.66 L 120.01 -43.66\" id=\"fig-8af436d5302b442f86dc310490af245e-element-121\" visibility=\"hidden\" gadfly:scale=\"5.0\"/>\n",
        "      <path fill=\"none\" d=\"M18.63,-50.9 L 120.01 -50.9\" id=\"fig-8af436d5302b442f86dc310490af245e-element-122\" visibility=\"hidden\" gadfly:scale=\"5.0\"/>\n",
        "      <path fill=\"none\" d=\"M18.63,-58.14 L 120.01 -58.14\" id=\"fig-8af436d5302b442f86dc310490af245e-element-123\" visibility=\"hidden\" gadfly:scale=\"5.0\"/>\n",
        "      <path fill=\"none\" d=\"M18.63,-65.38 L 120.01 -65.38\" id=\"fig-8af436d5302b442f86dc310490af245e-element-124\" visibility=\"hidden\" gadfly:scale=\"5.0\"/>\n",
        "    </g>\n",
        "    <g class=\"guide xgridlines yfixed\" stroke-dasharray=\"0.5,0.5\" stroke-width=\"0.2\" stroke=\"#D0D0E0\" id=\"fig-8af436d5302b442f86dc310490af245e-element-125\">\n",
        "      <path fill=\"none\" d=\"M-109.21,5 L -109.21 81.38\" id=\"fig-8af436d5302b442f86dc310490af245e-element-126\" visibility=\"hidden\" gadfly:scale=\"1.0\"/>\n",
        "      <path fill=\"none\" d=\"M-76.75,5 L -76.75 81.38\" id=\"fig-8af436d5302b442f86dc310490af245e-element-127\" visibility=\"hidden\" gadfly:scale=\"1.0\"/>\n",
        "      <path fill=\"none\" d=\"M-44.29,5 L -44.29 81.38\" id=\"fig-8af436d5302b442f86dc310490af245e-element-128\" visibility=\"hidden\" gadfly:scale=\"1.0\"/>\n",
        "      <path fill=\"none\" d=\"M-11.83,5 L -11.83 81.38\" id=\"fig-8af436d5302b442f86dc310490af245e-element-129\" visibility=\"hidden\" gadfly:scale=\"1.0\"/>\n",
        "      <path fill=\"none\" d=\"M20.63,5 L 20.63 81.38\" id=\"fig-8af436d5302b442f86dc310490af245e-element-130\" visibility=\"visible\" gadfly:scale=\"1.0\"/>\n",
        "      <path fill=\"none\" d=\"M53.09,5 L 53.09 81.38\" id=\"fig-8af436d5302b442f86dc310490af245e-element-131\" visibility=\"visible\" gadfly:scale=\"1.0\"/>\n",
        "      <path fill=\"none\" d=\"M85.55,5 L 85.55 81.38\" id=\"fig-8af436d5302b442f86dc310490af245e-element-132\" visibility=\"visible\" gadfly:scale=\"1.0\"/>\n",
        "      <path fill=\"none\" d=\"M118.01,5 L 118.01 81.38\" id=\"fig-8af436d5302b442f86dc310490af245e-element-133\" visibility=\"visible\" gadfly:scale=\"1.0\"/>\n",
        "      <path fill=\"none\" d=\"M150.48,5 L 150.48 81.38\" id=\"fig-8af436d5302b442f86dc310490af245e-element-134\" visibility=\"hidden\" gadfly:scale=\"1.0\"/>\n",
        "      <path fill=\"none\" d=\"M182.94,5 L 182.94 81.38\" id=\"fig-8af436d5302b442f86dc310490af245e-element-135\" visibility=\"hidden\" gadfly:scale=\"1.0\"/>\n",
        "      <path fill=\"none\" d=\"M215.4,5 L 215.4 81.38\" id=\"fig-8af436d5302b442f86dc310490af245e-element-136\" visibility=\"hidden\" gadfly:scale=\"1.0\"/>\n",
        "      <path fill=\"none\" d=\"M247.86,5 L 247.86 81.38\" id=\"fig-8af436d5302b442f86dc310490af245e-element-137\" visibility=\"hidden\" gadfly:scale=\"1.0\"/>\n",
        "      <path fill=\"none\" d=\"M-76.75,5 L -76.75 81.38\" id=\"fig-8af436d5302b442f86dc310490af245e-element-138\" visibility=\"hidden\" gadfly:scale=\"10.0\"/>\n",
        "      <path fill=\"none\" d=\"M-73.51,5 L -73.51 81.38\" id=\"fig-8af436d5302b442f86dc310490af245e-element-139\" visibility=\"hidden\" gadfly:scale=\"10.0\"/>\n",
        "      <path fill=\"none\" d=\"M-70.26,5 L -70.26 81.38\" id=\"fig-8af436d5302b442f86dc310490af245e-element-140\" visibility=\"hidden\" gadfly:scale=\"10.0\"/>\n",
        "      <path fill=\"none\" d=\"M-67.01,5 L -67.01 81.38\" id=\"fig-8af436d5302b442f86dc310490af245e-element-141\" visibility=\"hidden\" gadfly:scale=\"10.0\"/>\n",
        "      <path fill=\"none\" d=\"M-63.77,5 L -63.77 81.38\" id=\"fig-8af436d5302b442f86dc310490af245e-element-142\" visibility=\"hidden\" gadfly:scale=\"10.0\"/>\n",
        "      <path fill=\"none\" d=\"M-60.52,5 L -60.52 81.38\" id=\"fig-8af436d5302b442f86dc310490af245e-element-143\" visibility=\"hidden\" gadfly:scale=\"10.0\"/>\n",
        "      <path fill=\"none\" d=\"M-57.27,5 L -57.27 81.38\" id=\"fig-8af436d5302b442f86dc310490af245e-element-144\" visibility=\"hidden\" gadfly:scale=\"10.0\"/>\n",
        "      <path fill=\"none\" d=\"M-54.03,5 L -54.03 81.38\" id=\"fig-8af436d5302b442f86dc310490af245e-element-145\" visibility=\"hidden\" gadfly:scale=\"10.0\"/>\n",
        "      <path fill=\"none\" d=\"M-50.78,5 L -50.78 81.38\" id=\"fig-8af436d5302b442f86dc310490af245e-element-146\" visibility=\"hidden\" gadfly:scale=\"10.0\"/>\n",
        "      <path fill=\"none\" d=\"M-47.54,5 L -47.54 81.38\" id=\"fig-8af436d5302b442f86dc310490af245e-element-147\" visibility=\"hidden\" gadfly:scale=\"10.0\"/>\n",
        "      <path fill=\"none\" d=\"M-44.29,5 L -44.29 81.38\" id=\"fig-8af436d5302b442f86dc310490af245e-element-148\" visibility=\"hidden\" gadfly:scale=\"10.0\"/>\n",
        "      <path fill=\"none\" d=\"M-41.04,5 L -41.04 81.38\" id=\"fig-8af436d5302b442f86dc310490af245e-element-149\" visibility=\"hidden\" gadfly:scale=\"10.0\"/>\n",
        "      <path fill=\"none\" d=\"M-37.8,5 L -37.8 81.38\" id=\"fig-8af436d5302b442f86dc310490af245e-element-150\" visibility=\"hidden\" gadfly:scale=\"10.0\"/>\n",
        "      <path fill=\"none\" d=\"M-34.55,5 L -34.55 81.38\" id=\"fig-8af436d5302b442f86dc310490af245e-element-151\" visibility=\"hidden\" gadfly:scale=\"10.0\"/>\n",
        "      <path fill=\"none\" d=\"M-31.31,5 L -31.31 81.38\" id=\"fig-8af436d5302b442f86dc310490af245e-element-152\" visibility=\"hidden\" gadfly:scale=\"10.0\"/>\n",
        "      <path fill=\"none\" d=\"M-28.06,5 L -28.06 81.38\" id=\"fig-8af436d5302b442f86dc310490af245e-element-153\" visibility=\"hidden\" gadfly:scale=\"10.0\"/>\n",
        "      <path fill=\"none\" d=\"M-24.81,5 L -24.81 81.38\" id=\"fig-8af436d5302b442f86dc310490af245e-element-154\" visibility=\"hidden\" gadfly:scale=\"10.0\"/>\n",
        "      <path fill=\"none\" d=\"M-21.57,5 L -21.57 81.38\" id=\"fig-8af436d5302b442f86dc310490af245e-element-155\" visibility=\"hidden\" gadfly:scale=\"10.0\"/>\n",
        "      <path fill=\"none\" d=\"M-18.32,5 L -18.32 81.38\" id=\"fig-8af436d5302b442f86dc310490af245e-element-156\" visibility=\"hidden\" gadfly:scale=\"10.0\"/>\n",
        "      <path fill=\"none\" d=\"M-15.08,5 L -15.08 81.38\" id=\"fig-8af436d5302b442f86dc310490af245e-element-157\" visibility=\"hidden\" gadfly:scale=\"10.0\"/>\n",
        "      <path fill=\"none\" d=\"M-11.83,5 L -11.83 81.38\" id=\"fig-8af436d5302b442f86dc310490af245e-element-158\" visibility=\"hidden\" gadfly:scale=\"10.0\"/>\n",
        "      <path fill=\"none\" d=\"M-8.58,5 L -8.58 81.38\" id=\"fig-8af436d5302b442f86dc310490af245e-element-159\" visibility=\"hidden\" gadfly:scale=\"10.0\"/>\n",
        "      <path fill=\"none\" d=\"M-5.34,5 L -5.34 81.38\" id=\"fig-8af436d5302b442f86dc310490af245e-element-160\" visibility=\"hidden\" gadfly:scale=\"10.0\"/>\n",
        "      <path fill=\"none\" d=\"M-2.09,5 L -2.09 81.38\" id=\"fig-8af436d5302b442f86dc310490af245e-element-161\" visibility=\"hidden\" gadfly:scale=\"10.0\"/>\n",
        "      <path fill=\"none\" d=\"M1.16,5 L 1.16 81.38\" id=\"fig-8af436d5302b442f86dc310490af245e-element-162\" visibility=\"hidden\" gadfly:scale=\"10.0\"/>\n",
        "      <path fill=\"none\" d=\"M4.4,5 L 4.4 81.38\" id=\"fig-8af436d5302b442f86dc310490af245e-element-163\" visibility=\"hidden\" gadfly:scale=\"10.0\"/>\n",
        "      <path fill=\"none\" d=\"M7.65,5 L 7.65 81.38\" id=\"fig-8af436d5302b442f86dc310490af245e-element-164\" visibility=\"hidden\" gadfly:scale=\"10.0\"/>\n",
        "      <path fill=\"none\" d=\"M10.89,5 L 10.89 81.38\" id=\"fig-8af436d5302b442f86dc310490af245e-element-165\" visibility=\"hidden\" gadfly:scale=\"10.0\"/>\n",
        "      <path fill=\"none\" d=\"M14.14,5 L 14.14 81.38\" id=\"fig-8af436d5302b442f86dc310490af245e-element-166\" visibility=\"hidden\" gadfly:scale=\"10.0\"/>\n",
        "      <path fill=\"none\" d=\"M17.39,5 L 17.39 81.38\" id=\"fig-8af436d5302b442f86dc310490af245e-element-167\" visibility=\"hidden\" gadfly:scale=\"10.0\"/>\n",
        "      <path fill=\"none\" d=\"M20.63,5 L 20.63 81.38\" id=\"fig-8af436d5302b442f86dc310490af245e-element-168\" visibility=\"hidden\" gadfly:scale=\"10.0\"/>\n",
        "      <path fill=\"none\" d=\"M23.88,5 L 23.88 81.38\" id=\"fig-8af436d5302b442f86dc310490af245e-element-169\" visibility=\"hidden\" gadfly:scale=\"10.0\"/>\n",
        "      <path fill=\"none\" d=\"M27.12,5 L 27.12 81.38\" id=\"fig-8af436d5302b442f86dc310490af245e-element-170\" visibility=\"hidden\" gadfly:scale=\"10.0\"/>\n",
        "      <path fill=\"none\" d=\"M30.37,5 L 30.37 81.38\" id=\"fig-8af436d5302b442f86dc310490af245e-element-171\" visibility=\"hidden\" gadfly:scale=\"10.0\"/>\n",
        "      <path fill=\"none\" d=\"M33.62,5 L 33.62 81.38\" id=\"fig-8af436d5302b442f86dc310490af245e-element-172\" visibility=\"hidden\" gadfly:scale=\"10.0\"/>\n",
        "      <path fill=\"none\" d=\"M36.86,5 L 36.86 81.38\" id=\"fig-8af436d5302b442f86dc310490af245e-element-173\" visibility=\"hidden\" gadfly:scale=\"10.0\"/>\n",
        "      <path fill=\"none\" d=\"M40.11,5 L 40.11 81.38\" id=\"fig-8af436d5302b442f86dc310490af245e-element-174\" visibility=\"hidden\" gadfly:scale=\"10.0\"/>\n",
        "      <path fill=\"none\" d=\"M43.35,5 L 43.35 81.38\" id=\"fig-8af436d5302b442f86dc310490af245e-element-175\" visibility=\"hidden\" gadfly:scale=\"10.0\"/>\n",
        "      <path fill=\"none\" d=\"M46.6,5 L 46.6 81.38\" id=\"fig-8af436d5302b442f86dc310490af245e-element-176\" visibility=\"hidden\" gadfly:scale=\"10.0\"/>\n",
        "      <path fill=\"none\" d=\"M49.85,5 L 49.85 81.38\" id=\"fig-8af436d5302b442f86dc310490af245e-element-177\" visibility=\"hidden\" gadfly:scale=\"10.0\"/>\n",
        "      <path fill=\"none\" d=\"M53.09,5 L 53.09 81.38\" id=\"fig-8af436d5302b442f86dc310490af245e-element-178\" visibility=\"hidden\" gadfly:scale=\"10.0\"/>\n",
        "      <path fill=\"none\" d=\"M56.34,5 L 56.34 81.38\" id=\"fig-8af436d5302b442f86dc310490af245e-element-179\" visibility=\"hidden\" gadfly:scale=\"10.0\"/>\n",
        "      <path fill=\"none\" d=\"M59.58,5 L 59.58 81.38\" id=\"fig-8af436d5302b442f86dc310490af245e-element-180\" visibility=\"hidden\" gadfly:scale=\"10.0\"/>\n",
        "      <path fill=\"none\" d=\"M62.83,5 L 62.83 81.38\" id=\"fig-8af436d5302b442f86dc310490af245e-element-181\" visibility=\"hidden\" gadfly:scale=\"10.0\"/>\n",
        "      <path fill=\"none\" d=\"M66.08,5 L 66.08 81.38\" id=\"fig-8af436d5302b442f86dc310490af245e-element-182\" visibility=\"hidden\" gadfly:scale=\"10.0\"/>\n",
        "      <path fill=\"none\" d=\"M69.32,5 L 69.32 81.38\" id=\"fig-8af436d5302b442f86dc310490af245e-element-183\" visibility=\"hidden\" gadfly:scale=\"10.0\"/>\n",
        "      <path fill=\"none\" d=\"M72.57,5 L 72.57 81.38\" id=\"fig-8af436d5302b442f86dc310490af245e-element-184\" visibility=\"hidden\" gadfly:scale=\"10.0\"/>\n",
        "      <path fill=\"none\" d=\"M75.82,5 L 75.82 81.38\" id=\"fig-8af436d5302b442f86dc310490af245e-element-185\" visibility=\"hidden\" gadfly:scale=\"10.0\"/>\n",
        "      <path fill=\"none\" d=\"M79.06,5 L 79.06 81.38\" id=\"fig-8af436d5302b442f86dc310490af245e-element-186\" visibility=\"hidden\" gadfly:scale=\"10.0\"/>\n",
        "      <path fill=\"none\" d=\"M82.31,5 L 82.31 81.38\" id=\"fig-8af436d5302b442f86dc310490af245e-element-187\" visibility=\"hidden\" gadfly:scale=\"10.0\"/>\n",
        "      <path fill=\"none\" d=\"M85.55,5 L 85.55 81.38\" id=\"fig-8af436d5302b442f86dc310490af245e-element-188\" visibility=\"hidden\" gadfly:scale=\"10.0\"/>\n",
        "      <path fill=\"none\" d=\"M88.8,5 L 88.8 81.38\" id=\"fig-8af436d5302b442f86dc310490af245e-element-189\" visibility=\"hidden\" gadfly:scale=\"10.0\"/>\n",
        "      <path fill=\"none\" d=\"M92.05,5 L 92.05 81.38\" id=\"fig-8af436d5302b442f86dc310490af245e-element-190\" visibility=\"hidden\" gadfly:scale=\"10.0\"/>\n",
        "      <path fill=\"none\" d=\"M95.29,5 L 95.29 81.38\" id=\"fig-8af436d5302b442f86dc310490af245e-element-191\" visibility=\"hidden\" gadfly:scale=\"10.0\"/>\n",
        "      <path fill=\"none\" d=\"M98.54,5 L 98.54 81.38\" id=\"fig-8af436d5302b442f86dc310490af245e-element-192\" visibility=\"hidden\" gadfly:scale=\"10.0\"/>\n",
        "      <path fill=\"none\" d=\"M101.78,5 L 101.78 81.38\" id=\"fig-8af436d5302b442f86dc310490af245e-element-193\" visibility=\"hidden\" gadfly:scale=\"10.0\"/>\n",
        "      <path fill=\"none\" d=\"M105.03,5 L 105.03 81.38\" id=\"fig-8af436d5302b442f86dc310490af245e-element-194\" visibility=\"hidden\" gadfly:scale=\"10.0\"/>\n",
        "      <path fill=\"none\" d=\"M108.28,5 L 108.28 81.38\" id=\"fig-8af436d5302b442f86dc310490af245e-element-195\" visibility=\"hidden\" gadfly:scale=\"10.0\"/>\n",
        "      <path fill=\"none\" d=\"M111.52,5 L 111.52 81.38\" id=\"fig-8af436d5302b442f86dc310490af245e-element-196\" visibility=\"hidden\" gadfly:scale=\"10.0\"/>\n",
        "      <path fill=\"none\" d=\"M114.77,5 L 114.77 81.38\" id=\"fig-8af436d5302b442f86dc310490af245e-element-197\" visibility=\"hidden\" gadfly:scale=\"10.0\"/>\n",
        "      <path fill=\"none\" d=\"M118.01,5 L 118.01 81.38\" id=\"fig-8af436d5302b442f86dc310490af245e-element-198\" visibility=\"hidden\" gadfly:scale=\"10.0\"/>\n",
        "      <path fill=\"none\" d=\"M121.26,5 L 121.26 81.38\" id=\"fig-8af436d5302b442f86dc310490af245e-element-199\" visibility=\"hidden\" gadfly:scale=\"10.0\"/>\n",
        "      <path fill=\"none\" d=\"M124.51,5 L 124.51 81.38\" id=\"fig-8af436d5302b442f86dc310490af245e-element-200\" visibility=\"hidden\" gadfly:scale=\"10.0\"/>\n",
        "      <path fill=\"none\" d=\"M127.75,5 L 127.75 81.38\" id=\"fig-8af436d5302b442f86dc310490af245e-element-201\" visibility=\"hidden\" gadfly:scale=\"10.0\"/>\n",
        "      <path fill=\"none\" d=\"M131,5 L 131 81.38\" id=\"fig-8af436d5302b442f86dc310490af245e-element-202\" visibility=\"hidden\" gadfly:scale=\"10.0\"/>\n",
        "      <path fill=\"none\" d=\"M134.25,5 L 134.25 81.38\" id=\"fig-8af436d5302b442f86dc310490af245e-element-203\" visibility=\"hidden\" gadfly:scale=\"10.0\"/>\n",
        "      <path fill=\"none\" d=\"M137.49,5 L 137.49 81.38\" id=\"fig-8af436d5302b442f86dc310490af245e-element-204\" visibility=\"hidden\" gadfly:scale=\"10.0\"/>\n",
        "      <path fill=\"none\" d=\"M140.74,5 L 140.74 81.38\" id=\"fig-8af436d5302b442f86dc310490af245e-element-205\" visibility=\"hidden\" gadfly:scale=\"10.0\"/>\n",
        "      <path fill=\"none\" d=\"M143.98,5 L 143.98 81.38\" id=\"fig-8af436d5302b442f86dc310490af245e-element-206\" visibility=\"hidden\" gadfly:scale=\"10.0\"/>\n",
        "      <path fill=\"none\" d=\"M147.23,5 L 147.23 81.38\" id=\"fig-8af436d5302b442f86dc310490af245e-element-207\" visibility=\"hidden\" gadfly:scale=\"10.0\"/>\n",
        "      <path fill=\"none\" d=\"M150.48,5 L 150.48 81.38\" id=\"fig-8af436d5302b442f86dc310490af245e-element-208\" visibility=\"hidden\" gadfly:scale=\"10.0\"/>\n",
        "      <path fill=\"none\" d=\"M153.72,5 L 153.72 81.38\" id=\"fig-8af436d5302b442f86dc310490af245e-element-209\" visibility=\"hidden\" gadfly:scale=\"10.0\"/>\n",
        "      <path fill=\"none\" d=\"M156.97,5 L 156.97 81.38\" id=\"fig-8af436d5302b442f86dc310490af245e-element-210\" visibility=\"hidden\" gadfly:scale=\"10.0\"/>\n",
        "      <path fill=\"none\" d=\"M160.21,5 L 160.21 81.38\" id=\"fig-8af436d5302b442f86dc310490af245e-element-211\" visibility=\"hidden\" gadfly:scale=\"10.0\"/>\n",
        "      <path fill=\"none\" d=\"M163.46,5 L 163.46 81.38\" id=\"fig-8af436d5302b442f86dc310490af245e-element-212\" visibility=\"hidden\" gadfly:scale=\"10.0\"/>\n",
        "      <path fill=\"none\" d=\"M166.71,5 L 166.71 81.38\" id=\"fig-8af436d5302b442f86dc310490af245e-element-213\" visibility=\"hidden\" gadfly:scale=\"10.0\"/>\n",
        "      <path fill=\"none\" d=\"M169.95,5 L 169.95 81.38\" id=\"fig-8af436d5302b442f86dc310490af245e-element-214\" visibility=\"hidden\" gadfly:scale=\"10.0\"/>\n",
        "      <path fill=\"none\" d=\"M173.2,5 L 173.2 81.38\" id=\"fig-8af436d5302b442f86dc310490af245e-element-215\" visibility=\"hidden\" gadfly:scale=\"10.0\"/>\n",
        "      <path fill=\"none\" d=\"M176.44,5 L 176.44 81.38\" id=\"fig-8af436d5302b442f86dc310490af245e-element-216\" visibility=\"hidden\" gadfly:scale=\"10.0\"/>\n",
        "      <path fill=\"none\" d=\"M179.69,5 L 179.69 81.38\" id=\"fig-8af436d5302b442f86dc310490af245e-element-217\" visibility=\"hidden\" gadfly:scale=\"10.0\"/>\n",
        "      <path fill=\"none\" d=\"M182.94,5 L 182.94 81.38\" id=\"fig-8af436d5302b442f86dc310490af245e-element-218\" visibility=\"hidden\" gadfly:scale=\"10.0\"/>\n",
        "      <path fill=\"none\" d=\"M186.18,5 L 186.18 81.38\" id=\"fig-8af436d5302b442f86dc310490af245e-element-219\" visibility=\"hidden\" gadfly:scale=\"10.0\"/>\n",
        "      <path fill=\"none\" d=\"M189.43,5 L 189.43 81.38\" id=\"fig-8af436d5302b442f86dc310490af245e-element-220\" visibility=\"hidden\" gadfly:scale=\"10.0\"/>\n",
        "      <path fill=\"none\" d=\"M192.68,5 L 192.68 81.38\" id=\"fig-8af436d5302b442f86dc310490af245e-element-221\" visibility=\"hidden\" gadfly:scale=\"10.0\"/>\n",
        "      <path fill=\"none\" d=\"M195.92,5 L 195.92 81.38\" id=\"fig-8af436d5302b442f86dc310490af245e-element-222\" visibility=\"hidden\" gadfly:scale=\"10.0\"/>\n",
        "      <path fill=\"none\" d=\"M199.17,5 L 199.17 81.38\" id=\"fig-8af436d5302b442f86dc310490af245e-element-223\" visibility=\"hidden\" gadfly:scale=\"10.0\"/>\n",
        "      <path fill=\"none\" d=\"M202.41,5 L 202.41 81.38\" id=\"fig-8af436d5302b442f86dc310490af245e-element-224\" visibility=\"hidden\" gadfly:scale=\"10.0\"/>\n",
        "      <path fill=\"none\" d=\"M205.66,5 L 205.66 81.38\" id=\"fig-8af436d5302b442f86dc310490af245e-element-225\" visibility=\"hidden\" gadfly:scale=\"10.0\"/>\n",
        "      <path fill=\"none\" d=\"M208.91,5 L 208.91 81.38\" id=\"fig-8af436d5302b442f86dc310490af245e-element-226\" visibility=\"hidden\" gadfly:scale=\"10.0\"/>\n",
        "      <path fill=\"none\" d=\"M212.15,5 L 212.15 81.38\" id=\"fig-8af436d5302b442f86dc310490af245e-element-227\" visibility=\"hidden\" gadfly:scale=\"10.0\"/>\n",
        "      <path fill=\"none\" d=\"M215.4,5 L 215.4 81.38\" id=\"fig-8af436d5302b442f86dc310490af245e-element-228\" visibility=\"hidden\" gadfly:scale=\"10.0\"/>\n",
        "      <path fill=\"none\" d=\"M-76.75,5 L -76.75 81.38\" id=\"fig-8af436d5302b442f86dc310490af245e-element-229\" visibility=\"hidden\" gadfly:scale=\"0.5\"/>\n",
        "      <path fill=\"none\" d=\"M20.63,5 L 20.63 81.38\" id=\"fig-8af436d5302b442f86dc310490af245e-element-230\" visibility=\"hidden\" gadfly:scale=\"0.5\"/>\n",
        "      <path fill=\"none\" d=\"M118.01,5 L 118.01 81.38\" id=\"fig-8af436d5302b442f86dc310490af245e-element-231\" visibility=\"hidden\" gadfly:scale=\"0.5\"/>\n",
        "      <path fill=\"none\" d=\"M215.4,5 L 215.4 81.38\" id=\"fig-8af436d5302b442f86dc310490af245e-element-232\" visibility=\"hidden\" gadfly:scale=\"0.5\"/>\n",
        "      <path fill=\"none\" d=\"M-76.75,5 L -76.75 81.38\" id=\"fig-8af436d5302b442f86dc310490af245e-element-233\" visibility=\"hidden\" gadfly:scale=\"5.0\"/>\n",
        "      <path fill=\"none\" d=\"M-70.26,5 L -70.26 81.38\" id=\"fig-8af436d5302b442f86dc310490af245e-element-234\" visibility=\"hidden\" gadfly:scale=\"5.0\"/>\n",
        "      <path fill=\"none\" d=\"M-63.77,5 L -63.77 81.38\" id=\"fig-8af436d5302b442f86dc310490af245e-element-235\" visibility=\"hidden\" gadfly:scale=\"5.0\"/>\n",
        "      <path fill=\"none\" d=\"M-57.27,5 L -57.27 81.38\" id=\"fig-8af436d5302b442f86dc310490af245e-element-236\" visibility=\"hidden\" gadfly:scale=\"5.0\"/>\n",
        "      <path fill=\"none\" d=\"M-50.78,5 L -50.78 81.38\" id=\"fig-8af436d5302b442f86dc310490af245e-element-237\" visibility=\"hidden\" gadfly:scale=\"5.0\"/>\n",
        "      <path fill=\"none\" d=\"M-44.29,5 L -44.29 81.38\" id=\"fig-8af436d5302b442f86dc310490af245e-element-238\" visibility=\"hidden\" gadfly:scale=\"5.0\"/>\n",
        "      <path fill=\"none\" d=\"M-37.8,5 L -37.8 81.38\" id=\"fig-8af436d5302b442f86dc310490af245e-element-239\" visibility=\"hidden\" gadfly:scale=\"5.0\"/>\n",
        "      <path fill=\"none\" d=\"M-31.31,5 L -31.31 81.38\" id=\"fig-8af436d5302b442f86dc310490af245e-element-240\" visibility=\"hidden\" gadfly:scale=\"5.0\"/>\n",
        "      <path fill=\"none\" d=\"M-24.81,5 L -24.81 81.38\" id=\"fig-8af436d5302b442f86dc310490af245e-element-241\" visibility=\"hidden\" gadfly:scale=\"5.0\"/>\n",
        "      <path fill=\"none\" d=\"M-18.32,5 L -18.32 81.38\" id=\"fig-8af436d5302b442f86dc310490af245e-element-242\" visibility=\"hidden\" gadfly:scale=\"5.0\"/>\n",
        "      <path fill=\"none\" d=\"M-11.83,5 L -11.83 81.38\" id=\"fig-8af436d5302b442f86dc310490af245e-element-243\" visibility=\"hidden\" gadfly:scale=\"5.0\"/>\n",
        "      <path fill=\"none\" d=\"M-5.34,5 L -5.34 81.38\" id=\"fig-8af436d5302b442f86dc310490af245e-element-244\" visibility=\"hidden\" gadfly:scale=\"5.0\"/>\n",
        "      <path fill=\"none\" d=\"M1.16,5 L 1.16 81.38\" id=\"fig-8af436d5302b442f86dc310490af245e-element-245\" visibility=\"hidden\" gadfly:scale=\"5.0\"/>\n",
        "      <path fill=\"none\" d=\"M7.65,5 L 7.65 81.38\" id=\"fig-8af436d5302b442f86dc310490af245e-element-246\" visibility=\"hidden\" gadfly:scale=\"5.0\"/>\n",
        "      <path fill=\"none\" d=\"M14.14,5 L 14.14 81.38\" id=\"fig-8af436d5302b442f86dc310490af245e-element-247\" visibility=\"hidden\" gadfly:scale=\"5.0\"/>\n",
        "      <path fill=\"none\" d=\"M20.63,5 L 20.63 81.38\" id=\"fig-8af436d5302b442f86dc310490af245e-element-248\" visibility=\"hidden\" gadfly:scale=\"5.0\"/>\n",
        "      <path fill=\"none\" d=\"M27.12,5 L 27.12 81.38\" id=\"fig-8af436d5302b442f86dc310490af245e-element-249\" visibility=\"hidden\" gadfly:scale=\"5.0\"/>\n",
        "      <path fill=\"none\" d=\"M33.62,5 L 33.62 81.38\" id=\"fig-8af436d5302b442f86dc310490af245e-element-250\" visibility=\"hidden\" gadfly:scale=\"5.0\"/>\n",
        "      <path fill=\"none\" d=\"M40.11,5 L 40.11 81.38\" id=\"fig-8af436d5302b442f86dc310490af245e-element-251\" visibility=\"hidden\" gadfly:scale=\"5.0\"/>\n",
        "      <path fill=\"none\" d=\"M46.6,5 L 46.6 81.38\" id=\"fig-8af436d5302b442f86dc310490af245e-element-252\" visibility=\"hidden\" gadfly:scale=\"5.0\"/>\n",
        "      <path fill=\"none\" d=\"M53.09,5 L 53.09 81.38\" id=\"fig-8af436d5302b442f86dc310490af245e-element-253\" visibility=\"hidden\" gadfly:scale=\"5.0\"/>\n",
        "      <path fill=\"none\" d=\"M59.58,5 L 59.58 81.38\" id=\"fig-8af436d5302b442f86dc310490af245e-element-254\" visibility=\"hidden\" gadfly:scale=\"5.0\"/>\n",
        "      <path fill=\"none\" d=\"M66.08,5 L 66.08 81.38\" id=\"fig-8af436d5302b442f86dc310490af245e-element-255\" visibility=\"hidden\" gadfly:scale=\"5.0\"/>\n",
        "      <path fill=\"none\" d=\"M72.57,5 L 72.57 81.38\" id=\"fig-8af436d5302b442f86dc310490af245e-element-256\" visibility=\"hidden\" gadfly:scale=\"5.0\"/>\n",
        "      <path fill=\"none\" d=\"M79.06,5 L 79.06 81.38\" id=\"fig-8af436d5302b442f86dc310490af245e-element-257\" visibility=\"hidden\" gadfly:scale=\"5.0\"/>\n",
        "      <path fill=\"none\" d=\"M85.55,5 L 85.55 81.38\" id=\"fig-8af436d5302b442f86dc310490af245e-element-258\" visibility=\"hidden\" gadfly:scale=\"5.0\"/>\n",
        "      <path fill=\"none\" d=\"M92.05,5 L 92.05 81.38\" id=\"fig-8af436d5302b442f86dc310490af245e-element-259\" visibility=\"hidden\" gadfly:scale=\"5.0\"/>\n",
        "      <path fill=\"none\" d=\"M98.54,5 L 98.54 81.38\" id=\"fig-8af436d5302b442f86dc310490af245e-element-260\" visibility=\"hidden\" gadfly:scale=\"5.0\"/>\n",
        "      <path fill=\"none\" d=\"M105.03,5 L 105.03 81.38\" id=\"fig-8af436d5302b442f86dc310490af245e-element-261\" visibility=\"hidden\" gadfly:scale=\"5.0\"/>\n",
        "      <path fill=\"none\" d=\"M111.52,5 L 111.52 81.38\" id=\"fig-8af436d5302b442f86dc310490af245e-element-262\" visibility=\"hidden\" gadfly:scale=\"5.0\"/>\n",
        "      <path fill=\"none\" d=\"M118.01,5 L 118.01 81.38\" id=\"fig-8af436d5302b442f86dc310490af245e-element-263\" visibility=\"hidden\" gadfly:scale=\"5.0\"/>\n",
        "      <path fill=\"none\" d=\"M124.51,5 L 124.51 81.38\" id=\"fig-8af436d5302b442f86dc310490af245e-element-264\" visibility=\"hidden\" gadfly:scale=\"5.0\"/>\n",
        "      <path fill=\"none\" d=\"M131,5 L 131 81.38\" id=\"fig-8af436d5302b442f86dc310490af245e-element-265\" visibility=\"hidden\" gadfly:scale=\"5.0\"/>\n",
        "      <path fill=\"none\" d=\"M137.49,5 L 137.49 81.38\" id=\"fig-8af436d5302b442f86dc310490af245e-element-266\" visibility=\"hidden\" gadfly:scale=\"5.0\"/>\n",
        "      <path fill=\"none\" d=\"M143.98,5 L 143.98 81.38\" id=\"fig-8af436d5302b442f86dc310490af245e-element-267\" visibility=\"hidden\" gadfly:scale=\"5.0\"/>\n",
        "      <path fill=\"none\" d=\"M150.48,5 L 150.48 81.38\" id=\"fig-8af436d5302b442f86dc310490af245e-element-268\" visibility=\"hidden\" gadfly:scale=\"5.0\"/>\n",
        "      <path fill=\"none\" d=\"M156.97,5 L 156.97 81.38\" id=\"fig-8af436d5302b442f86dc310490af245e-element-269\" visibility=\"hidden\" gadfly:scale=\"5.0\"/>\n",
        "      <path fill=\"none\" d=\"M163.46,5 L 163.46 81.38\" id=\"fig-8af436d5302b442f86dc310490af245e-element-270\" visibility=\"hidden\" gadfly:scale=\"5.0\"/>\n",
        "      <path fill=\"none\" d=\"M169.95,5 L 169.95 81.38\" id=\"fig-8af436d5302b442f86dc310490af245e-element-271\" visibility=\"hidden\" gadfly:scale=\"5.0\"/>\n",
        "      <path fill=\"none\" d=\"M176.44,5 L 176.44 81.38\" id=\"fig-8af436d5302b442f86dc310490af245e-element-272\" visibility=\"hidden\" gadfly:scale=\"5.0\"/>\n",
        "      <path fill=\"none\" d=\"M182.94,5 L 182.94 81.38\" id=\"fig-8af436d5302b442f86dc310490af245e-element-273\" visibility=\"hidden\" gadfly:scale=\"5.0\"/>\n",
        "      <path fill=\"none\" d=\"M189.43,5 L 189.43 81.38\" id=\"fig-8af436d5302b442f86dc310490af245e-element-274\" visibility=\"hidden\" gadfly:scale=\"5.0\"/>\n",
        "      <path fill=\"none\" d=\"M195.92,5 L 195.92 81.38\" id=\"fig-8af436d5302b442f86dc310490af245e-element-275\" visibility=\"hidden\" gadfly:scale=\"5.0\"/>\n",
        "      <path fill=\"none\" d=\"M202.41,5 L 202.41 81.38\" id=\"fig-8af436d5302b442f86dc310490af245e-element-276\" visibility=\"hidden\" gadfly:scale=\"5.0\"/>\n",
        "      <path fill=\"none\" d=\"M208.91,5 L 208.91 81.38\" id=\"fig-8af436d5302b442f86dc310490af245e-element-277\" visibility=\"hidden\" gadfly:scale=\"5.0\"/>\n",
        "      <path fill=\"none\" d=\"M215.4,5 L 215.4 81.38\" id=\"fig-8af436d5302b442f86dc310490af245e-element-278\" visibility=\"hidden\" gadfly:scale=\"5.0\"/>\n",
        "    </g>\n",
        "    <g class=\"plotpanel\" id=\"fig-8af436d5302b442f86dc310490af245e-element-279\">\n",
        "      <g class=\"geometry\" id=\"fig-8af436d5302b442f86dc310490af245e-element-280\">\n",
        "        <g stroke-width=\"0.3\" id=\"fig-8af436d5302b442f86dc310490af245e-element-281\">\n",
        "          <circle cx=\"118.01\" cy=\"7\" r=\"0.9\" id=\"fig-8af436d5302b442f86dc310490af245e-element-282\" stroke=\"#FFFFFF\" class=\"color_train_error\" fill=\"#00BFFF\"/>\n",
        "          <circle cx=\"107.19\" cy=\"7\" r=\"0.9\" id=\"fig-8af436d5302b442f86dc310490af245e-element-283\" stroke=\"#FFFFFF\" class=\"color_train_error\" fill=\"#00BFFF\"/>\n",
        "          <circle cx=\"96.37\" cy=\"7\" r=\"0.9\" id=\"fig-8af436d5302b442f86dc310490af245e-element-284\" stroke=\"#FFFFFF\" class=\"color_train_error\" fill=\"#00BFFF\"/>\n",
        "          <circle cx=\"85.55\" cy=\"10.42\" r=\"0.9\" id=\"fig-8af436d5302b442f86dc310490af245e-element-285\" stroke=\"#FFFFFF\" class=\"color_train_error\" fill=\"#00BFFF\"/>\n",
        "          <circle cx=\"74.73\" cy=\"50.19\" r=\"0.9\" id=\"fig-8af436d5302b442f86dc310490af245e-element-286\" stroke=\"#FFFFFF\" class=\"color_train_error\" fill=\"#00BFFF\"/>\n",
        "          <circle cx=\"63.91\" cy=\"79.37\" r=\"0.9\" id=\"fig-8af436d5302b442f86dc310490af245e-element-287\" stroke=\"#FFFFFF\" class=\"color_train_error\" fill=\"#00BFFF\"/>\n",
        "          <circle cx=\"53.09\" cy=\"79.36\" r=\"0.9\" id=\"fig-8af436d5302b442f86dc310490af245e-element-288\" stroke=\"#FFFFFF\" class=\"color_train_error\" fill=\"#00BFFF\"/>\n",
        "          <circle cx=\"42.27\" cy=\"79.37\" r=\"0.9\" id=\"fig-8af436d5302b442f86dc310490af245e-element-289\" stroke=\"#FFFFFF\" class=\"color_train_error\" fill=\"#00BFFF\"/>\n",
        "          <circle cx=\"31.45\" cy=\"79.37\" r=\"0.9\" id=\"fig-8af436d5302b442f86dc310490af245e-element-290\" stroke=\"#FFFFFF\" class=\"color_train_error\" fill=\"#00BFFF\"/>\n",
        "          <circle cx=\"20.63\" cy=\"79.38\" r=\"0.9\" id=\"fig-8af436d5302b442f86dc310490af245e-element-291\" stroke=\"#FFFFFF\" class=\"color_train_error\" fill=\"#00BFFF\"/>\n",
        "          <circle cx=\"118.01\" cy=\"35.95\" r=\"0.9\" id=\"fig-8af436d5302b442f86dc310490af245e-element-292\" stroke=\"#FFFFFF\" class=\"color_prec_at_k\" fill=\"#D4CA3A\"/>\n",
        "          <circle cx=\"107.19\" cy=\"21.48\" r=\"0.9\" id=\"fig-8af436d5302b442f86dc310490af245e-element-293\" stroke=\"#FFFFFF\" class=\"color_prec_at_k\" fill=\"#D4CA3A\"/>\n",
        "          <circle cx=\"96.37\" cy=\"28.71\" r=\"0.9\" id=\"fig-8af436d5302b442f86dc310490af245e-element-294\" stroke=\"#FFFFFF\" class=\"color_prec_at_k\" fill=\"#D4CA3A\"/>\n",
        "          <circle cx=\"85.55\" cy=\"21.48\" r=\"0.9\" id=\"fig-8af436d5302b442f86dc310490af245e-element-295\" stroke=\"#FFFFFF\" class=\"color_prec_at_k\" fill=\"#D4CA3A\"/>\n",
        "          <circle cx=\"74.73\" cy=\"35.95\" r=\"0.9\" id=\"fig-8af436d5302b442f86dc310490af245e-element-296\" stroke=\"#FFFFFF\" class=\"color_prec_at_k\" fill=\"#D4CA3A\"/>\n",
        "          <circle cx=\"63.91\" cy=\"14.24\" r=\"0.9\" id=\"fig-8af436d5302b442f86dc310490af245e-element-297\" stroke=\"#FFFFFF\" class=\"color_prec_at_k\" fill=\"#D4CA3A\"/>\n",
        "          <circle cx=\"53.09\" cy=\"21.48\" r=\"0.9\" id=\"fig-8af436d5302b442f86dc310490af245e-element-298\" stroke=\"#FFFFFF\" class=\"color_prec_at_k\" fill=\"#D4CA3A\"/>\n",
        "          <circle cx=\"42.27\" cy=\"35.95\" r=\"0.9\" id=\"fig-8af436d5302b442f86dc310490af245e-element-299\" stroke=\"#FFFFFF\" class=\"color_prec_at_k\" fill=\"#D4CA3A\"/>\n",
        "          <circle cx=\"31.45\" cy=\"28.71\" r=\"0.9\" id=\"fig-8af436d5302b442f86dc310490af245e-element-300\" stroke=\"#FFFFFF\" class=\"color_prec_at_k\" fill=\"#D4CA3A\"/>\n",
        "          <circle cx=\"20.63\" cy=\"35.95\" r=\"0.9\" id=\"fig-8af436d5302b442f86dc310490af245e-element-301\" stroke=\"#FFFFFF\" class=\"color_prec_at_k\" fill=\"#D4CA3A\"/>\n",
        "        </g>\n",
        "      </g>\n",
        "    </g>\n",
        "    <g opacity=\"0\" class=\"guide zoomslider\" stroke=\"none\" id=\"fig-8af436d5302b442f86dc310490af245e-element-302\">\n",
        "      <g fill=\"#EAEAEA\" stroke-width=\"0.3\" stroke-opacity=\"0\" stroke=\"#6A6A6A\" id=\"fig-8af436d5302b442f86dc310490af245e-element-303\">\n",
        "        <rect x=\"113.01\" y=\"8\" width=\"4\" height=\"4\" id=\"fig-8af436d5302b442f86dc310490af245e-element-304\"/>\n",
        "        <g class=\"button_logo\" fill=\"#6A6A6A\" id=\"fig-8af436d5302b442f86dc310490af245e-element-305\">\n",
        "          <path d=\"M113.81,9.6 L 114.61 9.6 114.61 8.8 115.41 8.8 115.41 9.6 116.21 9.6 116.21 10.4 115.41 10.4 115.41 11.2 114.61 11.2 114.61 10.4 113.81 10.4 z\" id=\"fig-8af436d5302b442f86dc310490af245e-element-306\"/>\n",
        "        </g>\n",
        "      </g>\n",
        "      <g fill=\"#EAEAEA\" id=\"fig-8af436d5302b442f86dc310490af245e-element-307\">\n",
        "        <rect x=\"93.51\" y=\"8\" width=\"19\" height=\"4\" id=\"fig-8af436d5302b442f86dc310490af245e-element-308\"/>\n",
        "      </g>\n",
        "      <g class=\"zoomslider_thumb\" fill=\"#6A6A6A\" id=\"fig-8af436d5302b442f86dc310490af245e-element-309\">\n",
        "        <rect x=\"102.01\" y=\"8\" width=\"2\" height=\"4\" id=\"fig-8af436d5302b442f86dc310490af245e-element-310\"/>\n",
        "      </g>\n",
        "      <g fill=\"#EAEAEA\" stroke-width=\"0.3\" stroke-opacity=\"0\" stroke=\"#6A6A6A\" id=\"fig-8af436d5302b442f86dc310490af245e-element-311\">\n",
        "        <rect x=\"89.01\" y=\"8\" width=\"4\" height=\"4\" id=\"fig-8af436d5302b442f86dc310490af245e-element-312\"/>\n",
        "        <g class=\"button_logo\" fill=\"#6A6A6A\" id=\"fig-8af436d5302b442f86dc310490af245e-element-313\">\n",
        "          <path d=\"M89.81,9.6 L 92.21 9.6 92.21 10.4 89.81 10.4 z\" id=\"fig-8af436d5302b442f86dc310490af245e-element-314\"/>\n",
        "        </g>\n",
        "      </g>\n",
        "    </g>\n",
        "  </g>\n",
        "  <g class=\"guide ylabels\" font-size=\"2.82\" font-family=\"'PT Sans Caption','Helvetica Neue','Helvetica',sans-serif\" fill=\"#6C606B\" id=\"fig-8af436d5302b442f86dc310490af245e-element-315\">\n",
        "    <text x=\"17.63\" y=\"187.95\" text-anchor=\"end\" dy=\"0.35em\" id=\"fig-8af436d5302b442f86dc310490af245e-element-316\" visibility=\"hidden\" gadfly:scale=\"1.0\">-1.5</text>\n",
        "    <text x=\"17.63\" y=\"151.76\" text-anchor=\"end\" dy=\"0.35em\" id=\"fig-8af436d5302b442f86dc310490af245e-element-317\" visibility=\"hidden\" gadfly:scale=\"1.0\">-1.0</text>\n",
        "    <text x=\"17.63\" y=\"115.57\" text-anchor=\"end\" dy=\"0.35em\" id=\"fig-8af436d5302b442f86dc310490af245e-element-318\" visibility=\"hidden\" gadfly:scale=\"1.0\">-0.5</text>\n",
        "    <text x=\"17.63\" y=\"79.38\" text-anchor=\"end\" dy=\"0.35em\" id=\"fig-8af436d5302b442f86dc310490af245e-element-319\" visibility=\"visible\" gadfly:scale=\"1.0\">0.0</text>\n",
        "    <text x=\"17.63\" y=\"43.19\" text-anchor=\"end\" dy=\"0.35em\" id=\"fig-8af436d5302b442f86dc310490af245e-element-320\" visibility=\"visible\" gadfly:scale=\"1.0\">0.5</text>\n",
        "    <text x=\"17.63\" y=\"7\" text-anchor=\"end\" dy=\"0.35em\" id=\"fig-8af436d5302b442f86dc310490af245e-element-321\" visibility=\"visible\" gadfly:scale=\"1.0\">1.0</text>\n",
        "    <text x=\"17.63\" y=\"-29.19\" text-anchor=\"end\" dy=\"0.35em\" id=\"fig-8af436d5302b442f86dc310490af245e-element-322\" visibility=\"hidden\" gadfly:scale=\"1.0\">1.5</text>\n",
        "    <text x=\"17.63\" y=\"-65.38\" text-anchor=\"end\" dy=\"0.35em\" id=\"fig-8af436d5302b442f86dc310490af245e-element-323\" visibility=\"hidden\" gadfly:scale=\"1.0\">2.0</text>\n",
        "    <text x=\"17.63\" y=\"-101.57\" text-anchor=\"end\" dy=\"0.35em\" id=\"fig-8af436d5302b442f86dc310490af245e-element-324\" visibility=\"hidden\" gadfly:scale=\"1.0\">2.5</text>\n",
        "    <text x=\"17.63\" y=\"151.76\" text-anchor=\"end\" dy=\"0.35em\" id=\"fig-8af436d5302b442f86dc310490af245e-element-325\" visibility=\"hidden\" gadfly:scale=\"10.0\">-1.00</text>\n",
        "    <text x=\"17.63\" y=\"148.14\" text-anchor=\"end\" dy=\"0.35em\" id=\"fig-8af436d5302b442f86dc310490af245e-element-326\" visibility=\"hidden\" gadfly:scale=\"10.0\">-0.95</text>\n",
        "    <text x=\"17.63\" y=\"144.52\" text-anchor=\"end\" dy=\"0.35em\" id=\"fig-8af436d5302b442f86dc310490af245e-element-327\" visibility=\"hidden\" gadfly:scale=\"10.0\">-0.90</text>\n",
        "    <text x=\"17.63\" y=\"140.9\" text-anchor=\"end\" dy=\"0.35em\" id=\"fig-8af436d5302b442f86dc310490af245e-element-328\" visibility=\"hidden\" gadfly:scale=\"10.0\">-0.85</text>\n",
        "    <text x=\"17.63\" y=\"137.28\" text-anchor=\"end\" dy=\"0.35em\" id=\"fig-8af436d5302b442f86dc310490af245e-element-329\" visibility=\"hidden\" gadfly:scale=\"10.0\">-0.80</text>\n",
        "    <text x=\"17.63\" y=\"133.66\" text-anchor=\"end\" dy=\"0.35em\" id=\"fig-8af436d5302b442f86dc310490af245e-element-330\" visibility=\"hidden\" gadfly:scale=\"10.0\">-0.75</text>\n",
        "    <text x=\"17.63\" y=\"130.04\" text-anchor=\"end\" dy=\"0.35em\" id=\"fig-8af436d5302b442f86dc310490af245e-element-331\" visibility=\"hidden\" gadfly:scale=\"10.0\">-0.70</text>\n",
        "    <text x=\"17.63\" y=\"126.42\" text-anchor=\"end\" dy=\"0.35em\" id=\"fig-8af436d5302b442f86dc310490af245e-element-332\" visibility=\"hidden\" gadfly:scale=\"10.0\">-0.65</text>\n",
        "    <text x=\"17.63\" y=\"122.81\" text-anchor=\"end\" dy=\"0.35em\" id=\"fig-8af436d5302b442f86dc310490af245e-element-333\" visibility=\"hidden\" gadfly:scale=\"10.0\">-0.60</text>\n",
        "    <text x=\"17.63\" y=\"119.19\" text-anchor=\"end\" dy=\"0.35em\" id=\"fig-8af436d5302b442f86dc310490af245e-element-334\" visibility=\"hidden\" gadfly:scale=\"10.0\">-0.55</text>\n",
        "    <text x=\"17.63\" y=\"115.57\" text-anchor=\"end\" dy=\"0.35em\" id=\"fig-8af436d5302b442f86dc310490af245e-element-335\" visibility=\"hidden\" gadfly:scale=\"10.0\">-0.50</text>\n",
        "    <text x=\"17.63\" y=\"111.95\" text-anchor=\"end\" dy=\"0.35em\" id=\"fig-8af436d5302b442f86dc310490af245e-element-336\" visibility=\"hidden\" gadfly:scale=\"10.0\">-0.45</text>\n",
        "    <text x=\"17.63\" y=\"108.33\" text-anchor=\"end\" dy=\"0.35em\" id=\"fig-8af436d5302b442f86dc310490af245e-element-337\" visibility=\"hidden\" gadfly:scale=\"10.0\">-0.40</text>\n",
        "    <text x=\"17.63\" y=\"104.71\" text-anchor=\"end\" dy=\"0.35em\" id=\"fig-8af436d5302b442f86dc310490af245e-element-338\" visibility=\"hidden\" gadfly:scale=\"10.0\">-0.35</text>\n",
        "    <text x=\"17.63\" y=\"101.09\" text-anchor=\"end\" dy=\"0.35em\" id=\"fig-8af436d5302b442f86dc310490af245e-element-339\" visibility=\"hidden\" gadfly:scale=\"10.0\">-0.30</text>\n",
        "    <text x=\"17.63\" y=\"97.47\" text-anchor=\"end\" dy=\"0.35em\" id=\"fig-8af436d5302b442f86dc310490af245e-element-340\" visibility=\"hidden\" gadfly:scale=\"10.0\">-0.25</text>\n",
        "    <text x=\"17.63\" y=\"93.85\" text-anchor=\"end\" dy=\"0.35em\" id=\"fig-8af436d5302b442f86dc310490af245e-element-341\" visibility=\"hidden\" gadfly:scale=\"10.0\">-0.20</text>\n",
        "    <text x=\"17.63\" y=\"90.24\" text-anchor=\"end\" dy=\"0.35em\" id=\"fig-8af436d5302b442f86dc310490af245e-element-342\" visibility=\"hidden\" gadfly:scale=\"10.0\">-0.15</text>\n",
        "    <text x=\"17.63\" y=\"86.62\" text-anchor=\"end\" dy=\"0.35em\" id=\"fig-8af436d5302b442f86dc310490af245e-element-343\" visibility=\"hidden\" gadfly:scale=\"10.0\">-0.10</text>\n",
        "    <text x=\"17.63\" y=\"83\" text-anchor=\"end\" dy=\"0.35em\" id=\"fig-8af436d5302b442f86dc310490af245e-element-344\" visibility=\"hidden\" gadfly:scale=\"10.0\">-0.05</text>\n",
        "    <text x=\"17.63\" y=\"79.38\" text-anchor=\"end\" dy=\"0.35em\" id=\"fig-8af436d5302b442f86dc310490af245e-element-345\" visibility=\"hidden\" gadfly:scale=\"10.0\">0.00</text>\n",
        "    <text x=\"17.63\" y=\"75.76\" text-anchor=\"end\" dy=\"0.35em\" id=\"fig-8af436d5302b442f86dc310490af245e-element-346\" visibility=\"hidden\" gadfly:scale=\"10.0\">0.05</text>\n",
        "    <text x=\"17.63\" y=\"72.14\" text-anchor=\"end\" dy=\"0.35em\" id=\"fig-8af436d5302b442f86dc310490af245e-element-347\" visibility=\"hidden\" gadfly:scale=\"10.0\">0.10</text>\n",
        "    <text x=\"17.63\" y=\"68.52\" text-anchor=\"end\" dy=\"0.35em\" id=\"fig-8af436d5302b442f86dc310490af245e-element-348\" visibility=\"hidden\" gadfly:scale=\"10.0\">0.15</text>\n",
        "    <text x=\"17.63\" y=\"64.9\" text-anchor=\"end\" dy=\"0.35em\" id=\"fig-8af436d5302b442f86dc310490af245e-element-349\" visibility=\"hidden\" gadfly:scale=\"10.0\">0.20</text>\n",
        "    <text x=\"17.63\" y=\"61.28\" text-anchor=\"end\" dy=\"0.35em\" id=\"fig-8af436d5302b442f86dc310490af245e-element-350\" visibility=\"hidden\" gadfly:scale=\"10.0\">0.25</text>\n",
        "    <text x=\"17.63\" y=\"57.66\" text-anchor=\"end\" dy=\"0.35em\" id=\"fig-8af436d5302b442f86dc310490af245e-element-351\" visibility=\"hidden\" gadfly:scale=\"10.0\">0.30</text>\n",
        "    <text x=\"17.63\" y=\"54.05\" text-anchor=\"end\" dy=\"0.35em\" id=\"fig-8af436d5302b442f86dc310490af245e-element-352\" visibility=\"hidden\" gadfly:scale=\"10.0\">0.35</text>\n",
        "    <text x=\"17.63\" y=\"50.43\" text-anchor=\"end\" dy=\"0.35em\" id=\"fig-8af436d5302b442f86dc310490af245e-element-353\" visibility=\"hidden\" gadfly:scale=\"10.0\">0.40</text>\n",
        "    <text x=\"17.63\" y=\"46.81\" text-anchor=\"end\" dy=\"0.35em\" id=\"fig-8af436d5302b442f86dc310490af245e-element-354\" visibility=\"hidden\" gadfly:scale=\"10.0\">0.45</text>\n",
        "    <text x=\"17.63\" y=\"43.19\" text-anchor=\"end\" dy=\"0.35em\" id=\"fig-8af436d5302b442f86dc310490af245e-element-355\" visibility=\"hidden\" gadfly:scale=\"10.0\">0.50</text>\n",
        "    <text x=\"17.63\" y=\"39.57\" text-anchor=\"end\" dy=\"0.35em\" id=\"fig-8af436d5302b442f86dc310490af245e-element-356\" visibility=\"hidden\" gadfly:scale=\"10.0\">0.55</text>\n",
        "    <text x=\"17.63\" y=\"35.95\" text-anchor=\"end\" dy=\"0.35em\" id=\"fig-8af436d5302b442f86dc310490af245e-element-357\" visibility=\"hidden\" gadfly:scale=\"10.0\">0.60</text>\n",
        "    <text x=\"17.63\" y=\"32.33\" text-anchor=\"end\" dy=\"0.35em\" id=\"fig-8af436d5302b442f86dc310490af245e-element-358\" visibility=\"hidden\" gadfly:scale=\"10.0\">0.65</text>\n",
        "    <text x=\"17.63\" y=\"28.71\" text-anchor=\"end\" dy=\"0.35em\" id=\"fig-8af436d5302b442f86dc310490af245e-element-359\" visibility=\"hidden\" gadfly:scale=\"10.0\">0.70</text>\n",
        "    <text x=\"17.63\" y=\"25.09\" text-anchor=\"end\" dy=\"0.35em\" id=\"fig-8af436d5302b442f86dc310490af245e-element-360\" visibility=\"hidden\" gadfly:scale=\"10.0\">0.75</text>\n",
        "    <text x=\"17.63\" y=\"21.48\" text-anchor=\"end\" dy=\"0.35em\" id=\"fig-8af436d5302b442f86dc310490af245e-element-361\" visibility=\"hidden\" gadfly:scale=\"10.0\">0.80</text>\n",
        "    <text x=\"17.63\" y=\"17.86\" text-anchor=\"end\" dy=\"0.35em\" id=\"fig-8af436d5302b442f86dc310490af245e-element-362\" visibility=\"hidden\" gadfly:scale=\"10.0\">0.85</text>\n",
        "    <text x=\"17.63\" y=\"14.24\" text-anchor=\"end\" dy=\"0.35em\" id=\"fig-8af436d5302b442f86dc310490af245e-element-363\" visibility=\"hidden\" gadfly:scale=\"10.0\">0.90</text>\n",
        "    <text x=\"17.63\" y=\"10.62\" text-anchor=\"end\" dy=\"0.35em\" id=\"fig-8af436d5302b442f86dc310490af245e-element-364\" visibility=\"hidden\" gadfly:scale=\"10.0\">0.95</text>\n",
        "    <text x=\"17.63\" y=\"7\" text-anchor=\"end\" dy=\"0.35em\" id=\"fig-8af436d5302b442f86dc310490af245e-element-365\" visibility=\"hidden\" gadfly:scale=\"10.0\">1.00</text>\n",
        "    <text x=\"17.63\" y=\"3.38\" text-anchor=\"end\" dy=\"0.35em\" id=\"fig-8af436d5302b442f86dc310490af245e-element-366\" visibility=\"hidden\" gadfly:scale=\"10.0\">1.05</text>\n",
        "    <text x=\"17.63\" y=\"-0.24\" text-anchor=\"end\" dy=\"0.35em\" id=\"fig-8af436d5302b442f86dc310490af245e-element-367\" visibility=\"hidden\" gadfly:scale=\"10.0\">1.10</text>\n",
        "    <text x=\"17.63\" y=\"-3.86\" text-anchor=\"end\" dy=\"0.35em\" id=\"fig-8af436d5302b442f86dc310490af245e-element-368\" visibility=\"hidden\" gadfly:scale=\"10.0\">1.15</text>\n",
        "    <text x=\"17.63\" y=\"-7.48\" text-anchor=\"end\" dy=\"0.35em\" id=\"fig-8af436d5302b442f86dc310490af245e-element-369\" visibility=\"hidden\" gadfly:scale=\"10.0\">1.20</text>\n",
        "    <text x=\"17.63\" y=\"-11.09\" text-anchor=\"end\" dy=\"0.35em\" id=\"fig-8af436d5302b442f86dc310490af245e-element-370\" visibility=\"hidden\" gadfly:scale=\"10.0\">1.25</text>\n",
        "    <text x=\"17.63\" y=\"-14.71\" text-anchor=\"end\" dy=\"0.35em\" id=\"fig-8af436d5302b442f86dc310490af245e-element-371\" visibility=\"hidden\" gadfly:scale=\"10.0\">1.30</text>\n",
        "    <text x=\"17.63\" y=\"-18.33\" text-anchor=\"end\" dy=\"0.35em\" id=\"fig-8af436d5302b442f86dc310490af245e-element-372\" visibility=\"hidden\" gadfly:scale=\"10.0\">1.35</text>\n",
        "    <text x=\"17.63\" y=\"-21.95\" text-anchor=\"end\" dy=\"0.35em\" id=\"fig-8af436d5302b442f86dc310490af245e-element-373\" visibility=\"hidden\" gadfly:scale=\"10.0\">1.40</text>\n",
        "    <text x=\"17.63\" y=\"-25.57\" text-anchor=\"end\" dy=\"0.35em\" id=\"fig-8af436d5302b442f86dc310490af245e-element-374\" visibility=\"hidden\" gadfly:scale=\"10.0\">1.45</text>\n",
        "    <text x=\"17.63\" y=\"-29.19\" text-anchor=\"end\" dy=\"0.35em\" id=\"fig-8af436d5302b442f86dc310490af245e-element-375\" visibility=\"hidden\" gadfly:scale=\"10.0\">1.50</text>\n",
        "    <text x=\"17.63\" y=\"-32.81\" text-anchor=\"end\" dy=\"0.35em\" id=\"fig-8af436d5302b442f86dc310490af245e-element-376\" visibility=\"hidden\" gadfly:scale=\"10.0\">1.55</text>\n",
        "    <text x=\"17.63\" y=\"-36.43\" text-anchor=\"end\" dy=\"0.35em\" id=\"fig-8af436d5302b442f86dc310490af245e-element-377\" visibility=\"hidden\" gadfly:scale=\"10.0\">1.60</text>\n",
        "    <text x=\"17.63\" y=\"-40.05\" text-anchor=\"end\" dy=\"0.35em\" id=\"fig-8af436d5302b442f86dc310490af245e-element-378\" visibility=\"hidden\" gadfly:scale=\"10.0\">1.65</text>\n",
        "    <text x=\"17.63\" y=\"-43.66\" text-anchor=\"end\" dy=\"0.35em\" id=\"fig-8af436d5302b442f86dc310490af245e-element-379\" visibility=\"hidden\" gadfly:scale=\"10.0\">1.70</text>\n",
        "    <text x=\"17.63\" y=\"-47.28\" text-anchor=\"end\" dy=\"0.35em\" id=\"fig-8af436d5302b442f86dc310490af245e-element-380\" visibility=\"hidden\" gadfly:scale=\"10.0\">1.75</text>\n",
        "    <text x=\"17.63\" y=\"-50.9\" text-anchor=\"end\" dy=\"0.35em\" id=\"fig-8af436d5302b442f86dc310490af245e-element-381\" visibility=\"hidden\" gadfly:scale=\"10.0\">1.80</text>\n",
        "    <text x=\"17.63\" y=\"-54.52\" text-anchor=\"end\" dy=\"0.35em\" id=\"fig-8af436d5302b442f86dc310490af245e-element-382\" visibility=\"hidden\" gadfly:scale=\"10.0\">1.85</text>\n",
        "    <text x=\"17.63\" y=\"-58.14\" text-anchor=\"end\" dy=\"0.35em\" id=\"fig-8af436d5302b442f86dc310490af245e-element-383\" visibility=\"hidden\" gadfly:scale=\"10.0\">1.90</text>\n",
        "    <text x=\"17.63\" y=\"-61.76\" text-anchor=\"end\" dy=\"0.35em\" id=\"fig-8af436d5302b442f86dc310490af245e-element-384\" visibility=\"hidden\" gadfly:scale=\"10.0\">1.95</text>\n",
        "    <text x=\"17.63\" y=\"-65.38\" text-anchor=\"end\" dy=\"0.35em\" id=\"fig-8af436d5302b442f86dc310490af245e-element-385\" visibility=\"hidden\" gadfly:scale=\"10.0\">2.00</text>\n",
        "    <text x=\"17.63\" y=\"151.76\" text-anchor=\"end\" dy=\"0.35em\" id=\"fig-8af436d5302b442f86dc310490af245e-element-386\" visibility=\"hidden\" gadfly:scale=\"0.5\">-1</text>\n",
        "    <text x=\"17.63\" y=\"79.38\" text-anchor=\"end\" dy=\"0.35em\" id=\"fig-8af436d5302b442f86dc310490af245e-element-387\" visibility=\"hidden\" gadfly:scale=\"0.5\">0</text>\n",
        "    <text x=\"17.63\" y=\"7\" text-anchor=\"end\" dy=\"0.35em\" id=\"fig-8af436d5302b442f86dc310490af245e-element-388\" visibility=\"hidden\" gadfly:scale=\"0.5\">1</text>\n",
        "    <text x=\"17.63\" y=\"-65.38\" text-anchor=\"end\" dy=\"0.35em\" id=\"fig-8af436d5302b442f86dc310490af245e-element-389\" visibility=\"hidden\" gadfly:scale=\"0.5\">2</text>\n",
        "    <text x=\"17.63\" y=\"151.76\" text-anchor=\"end\" dy=\"0.35em\" id=\"fig-8af436d5302b442f86dc310490af245e-element-390\" visibility=\"hidden\" gadfly:scale=\"5.0\">-1.0</text>\n",
        "    <text x=\"17.63\" y=\"144.52\" text-anchor=\"end\" dy=\"0.35em\" id=\"fig-8af436d5302b442f86dc310490af245e-element-391\" visibility=\"hidden\" gadfly:scale=\"5.0\">-0.9</text>\n",
        "    <text x=\"17.63\" y=\"137.28\" text-anchor=\"end\" dy=\"0.35em\" id=\"fig-8af436d5302b442f86dc310490af245e-element-392\" visibility=\"hidden\" gadfly:scale=\"5.0\">-0.8</text>\n",
        "    <text x=\"17.63\" y=\"130.04\" text-anchor=\"end\" dy=\"0.35em\" id=\"fig-8af436d5302b442f86dc310490af245e-element-393\" visibility=\"hidden\" gadfly:scale=\"5.0\">-0.7</text>\n",
        "    <text x=\"17.63\" y=\"122.81\" text-anchor=\"end\" dy=\"0.35em\" id=\"fig-8af436d5302b442f86dc310490af245e-element-394\" visibility=\"hidden\" gadfly:scale=\"5.0\">-0.6</text>\n",
        "    <text x=\"17.63\" y=\"115.57\" text-anchor=\"end\" dy=\"0.35em\" id=\"fig-8af436d5302b442f86dc310490af245e-element-395\" visibility=\"hidden\" gadfly:scale=\"5.0\">-0.5</text>\n",
        "    <text x=\"17.63\" y=\"108.33\" text-anchor=\"end\" dy=\"0.35em\" id=\"fig-8af436d5302b442f86dc310490af245e-element-396\" visibility=\"hidden\" gadfly:scale=\"5.0\">-0.4</text>\n",
        "    <text x=\"17.63\" y=\"101.09\" text-anchor=\"end\" dy=\"0.35em\" id=\"fig-8af436d5302b442f86dc310490af245e-element-397\" visibility=\"hidden\" gadfly:scale=\"5.0\">-0.3</text>\n",
        "    <text x=\"17.63\" y=\"93.85\" text-anchor=\"end\" dy=\"0.35em\" id=\"fig-8af436d5302b442f86dc310490af245e-element-398\" visibility=\"hidden\" gadfly:scale=\"5.0\">-0.2</text>\n",
        "    <text x=\"17.63\" y=\"86.62\" text-anchor=\"end\" dy=\"0.35em\" id=\"fig-8af436d5302b442f86dc310490af245e-element-399\" visibility=\"hidden\" gadfly:scale=\"5.0\">-0.1</text>\n",
        "    <text x=\"17.63\" y=\"79.38\" text-anchor=\"end\" dy=\"0.35em\" id=\"fig-8af436d5302b442f86dc310490af245e-element-400\" visibility=\"hidden\" gadfly:scale=\"5.0\">0.0</text>\n",
        "    <text x=\"17.63\" y=\"72.14\" text-anchor=\"end\" dy=\"0.35em\" id=\"fig-8af436d5302b442f86dc310490af245e-element-401\" visibility=\"hidden\" gadfly:scale=\"5.0\">0.1</text>\n",
        "    <text x=\"17.63\" y=\"64.9\" text-anchor=\"end\" dy=\"0.35em\" id=\"fig-8af436d5302b442f86dc310490af245e-element-402\" visibility=\"hidden\" gadfly:scale=\"5.0\">0.2</text>\n",
        "    <text x=\"17.63\" y=\"57.66\" text-anchor=\"end\" dy=\"0.35em\" id=\"fig-8af436d5302b442f86dc310490af245e-element-403\" visibility=\"hidden\" gadfly:scale=\"5.0\">0.3</text>\n",
        "    <text x=\"17.63\" y=\"50.43\" text-anchor=\"end\" dy=\"0.35em\" id=\"fig-8af436d5302b442f86dc310490af245e-element-404\" visibility=\"hidden\" gadfly:scale=\"5.0\">0.4</text>\n",
        "    <text x=\"17.63\" y=\"43.19\" text-anchor=\"end\" dy=\"0.35em\" id=\"fig-8af436d5302b442f86dc310490af245e-element-405\" visibility=\"hidden\" gadfly:scale=\"5.0\">0.5</text>\n",
        "    <text x=\"17.63\" y=\"35.95\" text-anchor=\"end\" dy=\"0.35em\" id=\"fig-8af436d5302b442f86dc310490af245e-element-406\" visibility=\"hidden\" gadfly:scale=\"5.0\">0.6</text>\n",
        "    <text x=\"17.63\" y=\"28.71\" text-anchor=\"end\" dy=\"0.35em\" id=\"fig-8af436d5302b442f86dc310490af245e-element-407\" visibility=\"hidden\" gadfly:scale=\"5.0\">0.7</text>\n",
        "    <text x=\"17.63\" y=\"21.48\" text-anchor=\"end\" dy=\"0.35em\" id=\"fig-8af436d5302b442f86dc310490af245e-element-408\" visibility=\"hidden\" gadfly:scale=\"5.0\">0.8</text>\n",
        "    <text x=\"17.63\" y=\"14.24\" text-anchor=\"end\" dy=\"0.35em\" id=\"fig-8af436d5302b442f86dc310490af245e-element-409\" visibility=\"hidden\" gadfly:scale=\"5.0\">0.9</text>\n",
        "    <text x=\"17.63\" y=\"7\" text-anchor=\"end\" dy=\"0.35em\" id=\"fig-8af436d5302b442f86dc310490af245e-element-410\" visibility=\"hidden\" gadfly:scale=\"5.0\">1.0</text>\n",
        "    <text x=\"17.63\" y=\"-0.24\" text-anchor=\"end\" dy=\"0.35em\" id=\"fig-8af436d5302b442f86dc310490af245e-element-411\" visibility=\"hidden\" gadfly:scale=\"5.0\">1.1</text>\n",
        "    <text x=\"17.63\" y=\"-7.48\" text-anchor=\"end\" dy=\"0.35em\" id=\"fig-8af436d5302b442f86dc310490af245e-element-412\" visibility=\"hidden\" gadfly:scale=\"5.0\">1.2</text>\n",
        "    <text x=\"17.63\" y=\"-14.71\" text-anchor=\"end\" dy=\"0.35em\" id=\"fig-8af436d5302b442f86dc310490af245e-element-413\" visibility=\"hidden\" gadfly:scale=\"5.0\">1.3</text>\n",
        "    <text x=\"17.63\" y=\"-21.95\" text-anchor=\"end\" dy=\"0.35em\" id=\"fig-8af436d5302b442f86dc310490af245e-element-414\" visibility=\"hidden\" gadfly:scale=\"5.0\">1.4</text>\n",
        "    <text x=\"17.63\" y=\"-29.19\" text-anchor=\"end\" dy=\"0.35em\" id=\"fig-8af436d5302b442f86dc310490af245e-element-415\" visibility=\"hidden\" gadfly:scale=\"5.0\">1.5</text>\n",
        "    <text x=\"17.63\" y=\"-36.43\" text-anchor=\"end\" dy=\"0.35em\" id=\"fig-8af436d5302b442f86dc310490af245e-element-416\" visibility=\"hidden\" gadfly:scale=\"5.0\">1.6</text>\n",
        "    <text x=\"17.63\" y=\"-43.66\" text-anchor=\"end\" dy=\"0.35em\" id=\"fig-8af436d5302b442f86dc310490af245e-element-417\" visibility=\"hidden\" gadfly:scale=\"5.0\">1.7</text>\n",
        "    <text x=\"17.63\" y=\"-50.9\" text-anchor=\"end\" dy=\"0.35em\" id=\"fig-8af436d5302b442f86dc310490af245e-element-418\" visibility=\"hidden\" gadfly:scale=\"5.0\">1.8</text>\n",
        "    <text x=\"17.63\" y=\"-58.14\" text-anchor=\"end\" dy=\"0.35em\" id=\"fig-8af436d5302b442f86dc310490af245e-element-419\" visibility=\"hidden\" gadfly:scale=\"5.0\">1.9</text>\n",
        "    <text x=\"17.63\" y=\"-65.38\" text-anchor=\"end\" dy=\"0.35em\" id=\"fig-8af436d5302b442f86dc310490af245e-element-420\" visibility=\"hidden\" gadfly:scale=\"5.0\">2.0</text>\n",
        "  </g>\n",
        "</g>\n",
        "<defs>\n",
        "<clipPath id=\"fig-8af436d5302b442f86dc310490af245e-element-16\">\n",
        "  <path d=\"M18.63,5 L 120.01 5 120.01 81.38 18.63 81.38\" />\n",
        "</clipPath\n",
        "></defs>\n",
        "<script> <![CDATA[\n",
        "(function(N){var k=/[\\.\\/]/,L=/\\s*,\\s*/,C=function(a,d){return a-d},a,v,y={n:{}},M=function(){for(var a=0,d=this.length;a<d;a++)if(\"undefined\"!=typeof this[a])return this[a]},A=function(){for(var a=this.length;--a;)if(\"undefined\"!=typeof this[a])return this[a]},w=function(k,d){k=String(k);var f=v,n=Array.prototype.slice.call(arguments,2),u=w.listeners(k),p=0,b,q=[],e={},l=[],r=a;l.firstDefined=M;l.lastDefined=A;a=k;for(var s=v=0,x=u.length;s<x;s++)\"zIndex\"in u[s]&&(q.push(u[s].zIndex),0>u[s].zIndex&&\n",
        "(e[u[s].zIndex]=u[s]));for(q.sort(C);0>q[p];)if(b=e[q[p++] ],l.push(b.apply(d,n)),v)return v=f,l;for(s=0;s<x;s++)if(b=u[s],\"zIndex\"in b)if(b.zIndex==q[p]){l.push(b.apply(d,n));if(v)break;do if(p++,(b=e[q[p] ])&&l.push(b.apply(d,n)),v)break;while(b)}else e[b.zIndex]=b;else if(l.push(b.apply(d,n)),v)break;v=f;a=r;return l};w._events=y;w.listeners=function(a){a=a.split(k);var d=y,f,n,u,p,b,q,e,l=[d],r=[];u=0;for(p=a.length;u<p;u++){e=[];b=0;for(q=l.length;b<q;b++)for(d=l[b].n,f=[d[a[u] ],d[\"*\"] ],n=2;n--;)if(d=\n",
        "f[n])e.push(d),r=r.concat(d.f||[]);l=e}return r};w.on=function(a,d){a=String(a);if(\"function\"!=typeof d)return function(){};for(var f=a.split(L),n=0,u=f.length;n<u;n++)(function(a){a=a.split(k);for(var b=y,f,e=0,l=a.length;e<l;e++)b=b.n,b=b.hasOwnProperty(a[e])&&b[a[e] ]||(b[a[e] ]={n:{}});b.f=b.f||[];e=0;for(l=b.f.length;e<l;e++)if(b.f[e]==d){f=!0;break}!f&&b.f.push(d)})(f[n]);return function(a){+a==+a&&(d.zIndex=+a)}};w.f=function(a){var d=[].slice.call(arguments,1);return function(){w.apply(null,\n",
        "[a,null].concat(d).concat([].slice.call(arguments,0)))}};w.stop=function(){v=1};w.nt=function(k){return k?(new RegExp(\"(?:\\\\.|\\\\/|^)\"+k+\"(?:\\\\.|\\\\/|$)\")).test(a):a};w.nts=function(){return a.split(k)};w.off=w.unbind=function(a,d){if(a){var f=a.split(L);if(1<f.length)for(var n=0,u=f.length;n<u;n++)w.off(f[n],d);else{for(var f=a.split(k),p,b,q,e,l=[y],n=0,u=f.length;n<u;n++)for(e=0;e<l.length;e+=q.length-2){q=[e,1];p=l[e].n;if(\"*\"!=f[n])p[f[n] ]&&q.push(p[f[n] ]);else for(b in p)p.hasOwnProperty(b)&&\n",
        "q.push(p[b]);l.splice.apply(l,q)}n=0;for(u=l.length;n<u;n++)for(p=l[n];p.n;){if(d){if(p.f){e=0;for(f=p.f.length;e<f;e++)if(p.f[e]==d){p.f.splice(e,1);break}!p.f.length&&delete p.f}for(b in p.n)if(p.n.hasOwnProperty(b)&&p.n[b].f){q=p.n[b].f;e=0;for(f=q.length;e<f;e++)if(q[e]==d){q.splice(e,1);break}!q.length&&delete p.n[b].f}}else for(b in delete p.f,p.n)p.n.hasOwnProperty(b)&&p.n[b].f&&delete p.n[b].f;p=p.n}}}else w._events=y={n:{}}};w.once=function(a,d){var f=function(){w.unbind(a,f);return d.apply(this,\n",
        "arguments)};return w.on(a,f)};w.version=\"0.4.2\";w.toString=function(){return\"You are running Eve 0.4.2\"};\"undefined\"!=typeof module&&module.exports?module.exports=w:\"function\"===typeof define&&define.amd?define(\"eve\",[],function(){return w}):N.eve=w})(this);\n",
        "(function(N,k){\"function\"===typeof define&&define.amd?define(\"Snap.svg\",[\"eve\"],function(L){return k(N,L)}):k(N,N.eve)})(this,function(N,k){var L=function(a){var k={},y=N.requestAnimationFrame||N.webkitRequestAnimationFrame||N.mozRequestAnimationFrame||N.oRequestAnimationFrame||N.msRequestAnimationFrame||function(a){setTimeout(a,16)},M=Array.isArray||function(a){return a instanceof Array||\"[object Array]\"==Object.prototype.toString.call(a)},A=0,w=\"M\"+(+new Date).toString(36),z=function(a){if(null==\n",
        "a)return this.s;var b=this.s-a;this.b+=this.dur*b;this.B+=this.dur*b;this.s=a},d=function(a){if(null==a)return this.spd;this.spd=a},f=function(a){if(null==a)return this.dur;this.s=this.s*a/this.dur;this.dur=a},n=function(){delete k[this.id];this.update();a(\"mina.stop.\"+this.id,this)},u=function(){this.pdif||(delete k[this.id],this.update(),this.pdif=this.get()-this.b)},p=function(){this.pdif&&(this.b=this.get()-this.pdif,delete this.pdif,k[this.id]=this)},b=function(){var a;if(M(this.start)){a=[];\n",
        "for(var b=0,e=this.start.length;b<e;b++)a[b]=+this.start[b]+(this.end[b]-this.start[b])*this.easing(this.s)}else a=+this.start+(this.end-this.start)*this.easing(this.s);this.set(a)},q=function(){var l=0,b;for(b in k)if(k.hasOwnProperty(b)){var e=k[b],f=e.get();l++;e.s=(f-e.b)/(e.dur/e.spd);1<=e.s&&(delete k[b],e.s=1,l--,function(b){setTimeout(function(){a(\"mina.finish.\"+b.id,b)})}(e));e.update()}l&&y(q)},e=function(a,r,s,x,G,h,J){a={id:w+(A++).toString(36),start:a,end:r,b:s,s:0,dur:x-s,spd:1,get:G,\n",
        "set:h,easing:J||e.linear,status:z,speed:d,duration:f,stop:n,pause:u,resume:p,update:b};k[a.id]=a;r=0;for(var K in k)if(k.hasOwnProperty(K)&&(r++,2==r))break;1==r&&y(q);return a};e.time=Date.now||function(){return+new Date};e.getById=function(a){return k[a]||null};e.linear=function(a){return a};e.easeout=function(a){return Math.pow(a,1.7)};e.easein=function(a){return Math.pow(a,0.48)};e.easeinout=function(a){if(1==a)return 1;if(0==a)return 0;var b=0.48-a/1.04,e=Math.sqrt(0.1734+b*b);a=e-b;a=Math.pow(Math.abs(a),\n",
        "1/3)*(0>a?-1:1);b=-e-b;b=Math.pow(Math.abs(b),1/3)*(0>b?-1:1);a=a+b+0.5;return 3*(1-a)*a*a+a*a*a};e.backin=function(a){return 1==a?1:a*a*(2.70158*a-1.70158)};e.backout=function(a){if(0==a)return 0;a-=1;return a*a*(2.70158*a+1.70158)+1};e.elastic=function(a){return a==!!a?a:Math.pow(2,-10*a)*Math.sin(2*(a-0.075)*Math.PI/0.3)+1};e.bounce=function(a){a<1/2.75?a*=7.5625*a:a<2/2.75?(a-=1.5/2.75,a=7.5625*a*a+0.75):a<2.5/2.75?(a-=2.25/2.75,a=7.5625*a*a+0.9375):(a-=2.625/2.75,a=7.5625*a*a+0.984375);return a};\n",
        "return N.mina=e}(\"undefined\"==typeof k?function(){}:k),C=function(){function a(c,t){if(c){if(c.tagName)return x(c);if(y(c,\"array\")&&a.set)return a.set.apply(a,c);if(c instanceof e)return c;if(null==t)return c=G.doc.querySelector(c),x(c)}return new s(null==c?\"100%\":c,null==t?\"100%\":t)}function v(c,a){if(a){\"#text\"==c&&(c=G.doc.createTextNode(a.text||\"\"));\"string\"==typeof c&&(c=v(c));if(\"string\"==typeof a)return\"xlink:\"==a.substring(0,6)?c.getAttributeNS(m,a.substring(6)):\"xml:\"==a.substring(0,4)?c.getAttributeNS(la,\n",
        "a.substring(4)):c.getAttribute(a);for(var da in a)if(a[h](da)){var b=J(a[da]);b?\"xlink:\"==da.substring(0,6)?c.setAttributeNS(m,da.substring(6),b):\"xml:\"==da.substring(0,4)?c.setAttributeNS(la,da.substring(4),b):c.setAttribute(da,b):c.removeAttribute(da)}}else c=G.doc.createElementNS(la,c);return c}function y(c,a){a=J.prototype.toLowerCase.call(a);return\"finite\"==a?isFinite(c):\"array\"==a&&(c instanceof Array||Array.isArray&&Array.isArray(c))?!0:\"null\"==a&&null===c||a==typeof c&&null!==c||\"object\"==\n",
        "a&&c===Object(c)||$.call(c).slice(8,-1).toLowerCase()==a}function M(c){if(\"function\"==typeof c||Object(c)!==c)return c;var a=new c.constructor,b;for(b in c)c[h](b)&&(a[b]=M(c[b]));return a}function A(c,a,b){function m(){var e=Array.prototype.slice.call(arguments,0),f=e.join(\"\\u2400\"),d=m.cache=m.cache||{},l=m.count=m.count||[];if(d[h](f)){a:for(var e=l,l=f,B=0,H=e.length;B<H;B++)if(e[B]===l){e.push(e.splice(B,1)[0]);break a}return b?b(d[f]):d[f]}1E3<=l.length&&delete d[l.shift()];l.push(f);d[f]=c.apply(a,\n",
        "e);return b?b(d[f]):d[f]}return m}function w(c,a,b,m,e,f){return null==e?(c-=b,a-=m,c||a?(180*I.atan2(-a,-c)/C+540)%360:0):w(c,a,e,f)-w(b,m,e,f)}function z(c){return c%360*C/180}function d(c){var a=[];c=c.replace(/(?:^|\\s)(\\w+)\\(([^)]+)\\)/g,function(c,b,m){m=m.split(/\\s*,\\s*|\\s+/);\"rotate\"==b&&1==m.length&&m.push(0,0);\"scale\"==b&&(2<m.length?m=m.slice(0,2):2==m.length&&m.push(0,0),1==m.length&&m.push(m[0],0,0));\"skewX\"==b?a.push([\"m\",1,0,I.tan(z(m[0])),1,0,0]):\"skewY\"==b?a.push([\"m\",1,I.tan(z(m[0])),\n",
        "0,1,0,0]):a.push([b.charAt(0)].concat(m));return c});return a}function f(c,t){var b=O(c),m=new a.Matrix;if(b)for(var e=0,f=b.length;e<f;e++){var h=b[e],d=h.length,B=J(h[0]).toLowerCase(),H=h[0]!=B,l=H?m.invert():0,E;\"t\"==B&&2==d?m.translate(h[1],0):\"t\"==B&&3==d?H?(d=l.x(0,0),B=l.y(0,0),H=l.x(h[1],h[2]),l=l.y(h[1],h[2]),m.translate(H-d,l-B)):m.translate(h[1],h[2]):\"r\"==B?2==d?(E=E||t,m.rotate(h[1],E.x+E.width/2,E.y+E.height/2)):4==d&&(H?(H=l.x(h[2],h[3]),l=l.y(h[2],h[3]),m.rotate(h[1],H,l)):m.rotate(h[1],\n",
        "h[2],h[3])):\"s\"==B?2==d||3==d?(E=E||t,m.scale(h[1],h[d-1],E.x+E.width/2,E.y+E.height/2)):4==d?H?(H=l.x(h[2],h[3]),l=l.y(h[2],h[3]),m.scale(h[1],h[1],H,l)):m.scale(h[1],h[1],h[2],h[3]):5==d&&(H?(H=l.x(h[3],h[4]),l=l.y(h[3],h[4]),m.scale(h[1],h[2],H,l)):m.scale(h[1],h[2],h[3],h[4])):\"m\"==B&&7==d&&m.add(h[1],h[2],h[3],h[4],h[5],h[6])}return m}function n(c,t){if(null==t){var m=!0;t=\"linearGradient\"==c.type||\"radialGradient\"==c.type?c.node.getAttribute(\"gradientTransform\"):\"pattern\"==c.type?c.node.getAttribute(\"patternTransform\"):\n",
        "c.node.getAttribute(\"transform\");if(!t)return new a.Matrix;t=d(t)}else t=a._.rgTransform.test(t)?J(t).replace(/\\.{3}|\\u2026/g,c._.transform||aa):d(t),y(t,\"array\")&&(t=a.path?a.path.toString.call(t):J(t)),c._.transform=t;var b=f(t,c.getBBox(1));if(m)return b;c.matrix=b}function u(c){c=c.node.ownerSVGElement&&x(c.node.ownerSVGElement)||c.node.parentNode&&x(c.node.parentNode)||a.select(\"svg\")||a(0,0);var t=c.select(\"defs\"),t=null==t?!1:t.node;t||(t=r(\"defs\",c.node).node);return t}function p(c){return c.node.ownerSVGElement&&\n",
        "x(c.node.ownerSVGElement)||a.select(\"svg\")}function b(c,a,m){function b(c){if(null==c)return aa;if(c==+c)return c;v(B,{width:c});try{return B.getBBox().width}catch(a){return 0}}function h(c){if(null==c)return aa;if(c==+c)return c;v(B,{height:c});try{return B.getBBox().height}catch(a){return 0}}function e(b,B){null==a?d[b]=B(c.attr(b)||0):b==a&&(d=B(null==m?c.attr(b)||0:m))}var f=p(c).node,d={},B=f.querySelector(\".svg---mgr\");B||(B=v(\"rect\"),v(B,{x:-9E9,y:-9E9,width:10,height:10,\"class\":\"svg---mgr\",\n",
        "fill:\"none\"}),f.appendChild(B));switch(c.type){case \"rect\":e(\"rx\",b),e(\"ry\",h);case \"image\":e(\"width\",b),e(\"height\",h);case \"text\":e(\"x\",b);e(\"y\",h);break;case \"circle\":e(\"cx\",b);e(\"cy\",h);e(\"r\",b);break;case \"ellipse\":e(\"cx\",b);e(\"cy\",h);e(\"rx\",b);e(\"ry\",h);break;case \"line\":e(\"x1\",b);e(\"x2\",b);e(\"y1\",h);e(\"y2\",h);break;case \"marker\":e(\"refX\",b);e(\"markerWidth\",b);e(\"refY\",h);e(\"markerHeight\",h);break;case \"radialGradient\":e(\"fx\",b);e(\"fy\",h);break;case \"tspan\":e(\"dx\",b);e(\"dy\",h);break;default:e(a,\n",
        "b)}f.removeChild(B);return d}function q(c){y(c,\"array\")||(c=Array.prototype.slice.call(arguments,0));for(var a=0,b=0,m=this.node;this[a];)delete this[a++];for(a=0;a<c.length;a++)\"set\"==c[a].type?c[a].forEach(function(c){m.appendChild(c.node)}):m.appendChild(c[a].node);for(var h=m.childNodes,a=0;a<h.length;a++)this[b++]=x(h[a]);return this}function e(c){if(c.snap in E)return E[c.snap];var a=this.id=V(),b;try{b=c.ownerSVGElement}catch(m){}this.node=c;b&&(this.paper=new s(b));this.type=c.tagName;this.anims=\n",
        "{};this._={transform:[]};c.snap=a;E[a]=this;\"g\"==this.type&&(this.add=q);if(this.type in{g:1,mask:1,pattern:1})for(var e in s.prototype)s.prototype[h](e)&&(this[e]=s.prototype[e])}function l(c){this.node=c}function r(c,a){var b=v(c);a.appendChild(b);return x(b)}function s(c,a){var b,m,f,d=s.prototype;if(c&&\"svg\"==c.tagName){if(c.snap in E)return E[c.snap];var l=c.ownerDocument;b=new e(c);m=c.getElementsByTagName(\"desc\")[0];f=c.getElementsByTagName(\"defs\")[0];m||(m=v(\"desc\"),m.appendChild(l.createTextNode(\"Created with Snap\")),\n",
        "b.node.appendChild(m));f||(f=v(\"defs\"),b.node.appendChild(f));b.defs=f;for(var ca in d)d[h](ca)&&(b[ca]=d[ca]);b.paper=b.root=b}else b=r(\"svg\",G.doc.body),v(b.node,{height:a,version:1.1,width:c,xmlns:la});return b}function x(c){return!c||c instanceof e||c instanceof l?c:c.tagName&&\"svg\"==c.tagName.toLowerCase()?new s(c):c.tagName&&\"object\"==c.tagName.toLowerCase()&&\"image/svg+xml\"==c.type?new s(c.contentDocument.getElementsByTagName(\"svg\")[0]):new e(c)}a.version=\"0.3.0\";a.toString=function(){return\"Snap v\"+\n",
        "this.version};a._={};var G={win:N,doc:N.document};a._.glob=G;var h=\"hasOwnProperty\",J=String,K=parseFloat,U=parseInt,I=Math,P=I.max,Q=I.min,Y=I.abs,C=I.PI,aa=\"\",$=Object.prototype.toString,F=/^\\s*((#[a-f\\d]{6})|(#[a-f\\d]{3})|rgba?\\(\\s*([\\d\\.]+%?\\s*,\\s*[\\d\\.]+%?\\s*,\\s*[\\d\\.]+%?(?:\\s*,\\s*[\\d\\.]+%?)?)\\s*\\)|hsba?\\(\\s*([\\d\\.]+(?:deg|\\xb0|%)?\\s*,\\s*[\\d\\.]+%?\\s*,\\s*[\\d\\.]+(?:%?\\s*,\\s*[\\d\\.]+)?%?)\\s*\\)|hsla?\\(\\s*([\\d\\.]+(?:deg|\\xb0|%)?\\s*,\\s*[\\d\\.]+%?\\s*,\\s*[\\d\\.]+(?:%?\\s*,\\s*[\\d\\.]+)?%?)\\s*\\))\\s*$/i;a._.separator=\n",
        "RegExp(\"[,\\t\\n\\x0B\\f\\r \\u00a0\\u1680\\u180e\\u2000\\u2001\\u2002\\u2003\\u2004\\u2005\\u2006\\u2007\\u2008\\u2009\\u200a\\u202f\\u205f\\u3000\\u2028\\u2029]+\");var S=RegExp(\"[\\t\\n\\x0B\\f\\r \\u00a0\\u1680\\u180e\\u2000\\u2001\\u2002\\u2003\\u2004\\u2005\\u2006\\u2007\\u2008\\u2009\\u200a\\u202f\\u205f\\u3000\\u2028\\u2029]*,[\\t\\n\\x0B\\f\\r \\u00a0\\u1680\\u180e\\u2000\\u2001\\u2002\\u2003\\u2004\\u2005\\u2006\\u2007\\u2008\\u2009\\u200a\\u202f\\u205f\\u3000\\u2028\\u2029]*\"),X={hs:1,rg:1},W=RegExp(\"([a-z])[\\t\\n\\x0B\\f\\r \\u00a0\\u1680\\u180e\\u2000\\u2001\\u2002\\u2003\\u2004\\u2005\\u2006\\u2007\\u2008\\u2009\\u200a\\u202f\\u205f\\u3000\\u2028\\u2029,]*((-?\\\\d*\\\\.?\\\\d*(?:e[\\\\-+]?\\\\d+)?[\\t\\n\\x0B\\f\\r \\u00a0\\u1680\\u180e\\u2000\\u2001\\u2002\\u2003\\u2004\\u2005\\u2006\\u2007\\u2008\\u2009\\u200a\\u202f\\u205f\\u3000\\u2028\\u2029]*,?[\\t\\n\\x0B\\f\\r \\u00a0\\u1680\\u180e\\u2000\\u2001\\u2002\\u2003\\u2004\\u2005\\u2006\\u2007\\u2008\\u2009\\u200a\\u202f\\u205f\\u3000\\u2028\\u2029]*)+)\",\n",
        "\"ig\"),ma=RegExp(\"([rstm])[\\t\\n\\x0B\\f\\r \\u00a0\\u1680\\u180e\\u2000\\u2001\\u2002\\u2003\\u2004\\u2005\\u2006\\u2007\\u2008\\u2009\\u200a\\u202f\\u205f\\u3000\\u2028\\u2029,]*((-?\\\\d*\\\\.?\\\\d*(?:e[\\\\-+]?\\\\d+)?[\\t\\n\\x0B\\f\\r \\u00a0\\u1680\\u180e\\u2000\\u2001\\u2002\\u2003\\u2004\\u2005\\u2006\\u2007\\u2008\\u2009\\u200a\\u202f\\u205f\\u3000\\u2028\\u2029]*,?[\\t\\n\\x0B\\f\\r \\u00a0\\u1680\\u180e\\u2000\\u2001\\u2002\\u2003\\u2004\\u2005\\u2006\\u2007\\u2008\\u2009\\u200a\\u202f\\u205f\\u3000\\u2028\\u2029]*)+)\",\"ig\"),Z=RegExp(\"(-?\\\\d*\\\\.?\\\\d*(?:e[\\\\-+]?\\\\d+)?)[\\t\\n\\x0B\\f\\r \\u00a0\\u1680\\u180e\\u2000\\u2001\\u2002\\u2003\\u2004\\u2005\\u2006\\u2007\\u2008\\u2009\\u200a\\u202f\\u205f\\u3000\\u2028\\u2029]*,?[\\t\\n\\x0B\\f\\r \\u00a0\\u1680\\u180e\\u2000\\u2001\\u2002\\u2003\\u2004\\u2005\\u2006\\u2007\\u2008\\u2009\\u200a\\u202f\\u205f\\u3000\\u2028\\u2029]*\",\n",
        "\"ig\"),na=0,ba=\"S\"+(+new Date).toString(36),V=function(){return ba+(na++).toString(36)},m=\"http://www.w3.org/1999/xlink\",la=\"http://www.w3.org/2000/svg\",E={},ca=a.url=function(c){return\"url('#\"+c+\"')\"};a._.$=v;a._.id=V;a.format=function(){var c=/\\{([^\\}]+)\\}/g,a=/(?:(?:^|\\.)(.+?)(?=\\[|\\.|$|\\()|\\[('|\")(.+?)\\2\\])(\\(\\))?/g,b=function(c,b,m){var h=m;b.replace(a,function(c,a,b,m,t){a=a||m;h&&(a in h&&(h=h[a]),\"function\"==typeof h&&t&&(h=h()))});return h=(null==h||h==m?c:h)+\"\"};return function(a,m){return J(a).replace(c,\n",
        "function(c,a){return b(c,a,m)})}}();a._.clone=M;a._.cacher=A;a.rad=z;a.deg=function(c){return 180*c/C%360};a.angle=w;a.is=y;a.snapTo=function(c,a,b){b=y(b,\"finite\")?b:10;if(y(c,\"array\"))for(var m=c.length;m--;){if(Y(c[m]-a)<=b)return c[m]}else{c=+c;m=a%c;if(m<b)return a-m;if(m>c-b)return a-m+c}return a};a.getRGB=A(function(c){if(!c||(c=J(c)).indexOf(\"-\")+1)return{r:-1,g:-1,b:-1,hex:\"none\",error:1,toString:ka};if(\"none\"==c)return{r:-1,g:-1,b:-1,hex:\"none\",toString:ka};!X[h](c.toLowerCase().substring(0,\n",
        "2))&&\"#\"!=c.charAt()&&(c=T(c));if(!c)return{r:-1,g:-1,b:-1,hex:\"none\",error:1,toString:ka};var b,m,e,f,d;if(c=c.match(F)){c[2]&&(e=U(c[2].substring(5),16),m=U(c[2].substring(3,5),16),b=U(c[2].substring(1,3),16));c[3]&&(e=U((d=c[3].charAt(3))+d,16),m=U((d=c[3].charAt(2))+d,16),b=U((d=c[3].charAt(1))+d,16));c[4]&&(d=c[4].split(S),b=K(d[0]),\"%\"==d[0].slice(-1)&&(b*=2.55),m=K(d[1]),\"%\"==d[1].slice(-1)&&(m*=2.55),e=K(d[2]),\"%\"==d[2].slice(-1)&&(e*=2.55),\"rgba\"==c[1].toLowerCase().slice(0,4)&&(f=K(d[3])),\n",
        "d[3]&&\"%\"==d[3].slice(-1)&&(f/=100));if(c[5])return d=c[5].split(S),b=K(d[0]),\"%\"==d[0].slice(-1)&&(b/=100),m=K(d[1]),\"%\"==d[1].slice(-1)&&(m/=100),e=K(d[2]),\"%\"==d[2].slice(-1)&&(e/=100),\"deg\"!=d[0].slice(-3)&&\"\\u00b0\"!=d[0].slice(-1)||(b/=360),\"hsba\"==c[1].toLowerCase().slice(0,4)&&(f=K(d[3])),d[3]&&\"%\"==d[3].slice(-1)&&(f/=100),a.hsb2rgb(b,m,e,f);if(c[6])return d=c[6].split(S),b=K(d[0]),\"%\"==d[0].slice(-1)&&(b/=100),m=K(d[1]),\"%\"==d[1].slice(-1)&&(m/=100),e=K(d[2]),\"%\"==d[2].slice(-1)&&(e/=100),\n",
        "\"deg\"!=d[0].slice(-3)&&\"\\u00b0\"!=d[0].slice(-1)||(b/=360),\"hsla\"==c[1].toLowerCase().slice(0,4)&&(f=K(d[3])),d[3]&&\"%\"==d[3].slice(-1)&&(f/=100),a.hsl2rgb(b,m,e,f);b=Q(I.round(b),255);m=Q(I.round(m),255);e=Q(I.round(e),255);f=Q(P(f,0),1);c={r:b,g:m,b:e,toString:ka};c.hex=\"#\"+(16777216|e|m<<8|b<<16).toString(16).slice(1);c.opacity=y(f,\"finite\")?f:1;return c}return{r:-1,g:-1,b:-1,hex:\"none\",error:1,toString:ka}},a);a.hsb=A(function(c,b,m){return a.hsb2rgb(c,b,m).hex});a.hsl=A(function(c,b,m){return a.hsl2rgb(c,\n",
        "b,m).hex});a.rgb=A(function(c,a,b,m){if(y(m,\"finite\")){var e=I.round;return\"rgba(\"+[e(c),e(a),e(b),+m.toFixed(2)]+\")\"}return\"#\"+(16777216|b|a<<8|c<<16).toString(16).slice(1)});var T=function(c){var a=G.doc.getElementsByTagName(\"head\")[0]||G.doc.getElementsByTagName(\"svg\")[0];T=A(function(c){if(\"red\"==c.toLowerCase())return\"rgb(255, 0, 0)\";a.style.color=\"rgb(255, 0, 0)\";a.style.color=c;c=G.doc.defaultView.getComputedStyle(a,aa).getPropertyValue(\"color\");return\"rgb(255, 0, 0)\"==c?null:c});return T(c)},\n",
        "qa=function(){return\"hsb(\"+[this.h,this.s,this.b]+\")\"},ra=function(){return\"hsl(\"+[this.h,this.s,this.l]+\")\"},ka=function(){return 1==this.opacity||null==this.opacity?this.hex:\"rgba(\"+[this.r,this.g,this.b,this.opacity]+\")\"},D=function(c,b,m){null==b&&y(c,\"object\")&&\"r\"in c&&\"g\"in c&&\"b\"in c&&(m=c.b,b=c.g,c=c.r);null==b&&y(c,string)&&(m=a.getRGB(c),c=m.r,b=m.g,m=m.b);if(1<c||1<b||1<m)c/=255,b/=255,m/=255;return[c,b,m]},oa=function(c,b,m,e){c=I.round(255*c);b=I.round(255*b);m=I.round(255*m);c={r:c,\n",
        "g:b,b:m,opacity:y(e,\"finite\")?e:1,hex:a.rgb(c,b,m),toString:ka};y(e,\"finite\")&&(c.opacity=e);return c};a.color=function(c){var b;y(c,\"object\")&&\"h\"in c&&\"s\"in c&&\"b\"in c?(b=a.hsb2rgb(c),c.r=b.r,c.g=b.g,c.b=b.b,c.opacity=1,c.hex=b.hex):y(c,\"object\")&&\"h\"in c&&\"s\"in c&&\"l\"in c?(b=a.hsl2rgb(c),c.r=b.r,c.g=b.g,c.b=b.b,c.opacity=1,c.hex=b.hex):(y(c,\"string\")&&(c=a.getRGB(c)),y(c,\"object\")&&\"r\"in c&&\"g\"in c&&\"b\"in c&&!(\"error\"in c)?(b=a.rgb2hsl(c),c.h=b.h,c.s=b.s,c.l=b.l,b=a.rgb2hsb(c),c.v=b.b):(c={hex:\"none\"},\n",
        "c.r=c.g=c.b=c.h=c.s=c.v=c.l=-1,c.error=1));c.toString=ka;return c};a.hsb2rgb=function(c,a,b,m){y(c,\"object\")&&\"h\"in c&&\"s\"in c&&\"b\"in c&&(b=c.b,a=c.s,c=c.h,m=c.o);var e,h,d;c=360*c%360/60;d=b*a;a=d*(1-Y(c%2-1));b=e=h=b-d;c=~~c;b+=[d,a,0,0,a,d][c];e+=[a,d,d,a,0,0][c];h+=[0,0,a,d,d,a][c];return oa(b,e,h,m)};a.hsl2rgb=function(c,a,b,m){y(c,\"object\")&&\"h\"in c&&\"s\"in c&&\"l\"in c&&(b=c.l,a=c.s,c=c.h);if(1<c||1<a||1<b)c/=360,a/=100,b/=100;var e,h,d;c=360*c%360/60;d=2*a*(0.5>b?b:1-b);a=d*(1-Y(c%2-1));b=e=\n",
        "h=b-d/2;c=~~c;b+=[d,a,0,0,a,d][c];e+=[a,d,d,a,0,0][c];h+=[0,0,a,d,d,a][c];return oa(b,e,h,m)};a.rgb2hsb=function(c,a,b){b=D(c,a,b);c=b[0];a=b[1];b=b[2];var m,e;m=P(c,a,b);e=m-Q(c,a,b);c=((0==e?0:m==c?(a-b)/e:m==a?(b-c)/e+2:(c-a)/e+4)+360)%6*60/360;return{h:c,s:0==e?0:e/m,b:m,toString:qa}};a.rgb2hsl=function(c,a,b){b=D(c,a,b);c=b[0];a=b[1];b=b[2];var m,e,h;m=P(c,a,b);e=Q(c,a,b);h=m-e;c=((0==h?0:m==c?(a-b)/h:m==a?(b-c)/h+2:(c-a)/h+4)+360)%6*60/360;m=(m+e)/2;return{h:c,s:0==h?0:0.5>m?h/(2*m):h/(2-2*\n",
        "m),l:m,toString:ra}};a.parsePathString=function(c){if(!c)return null;var b=a.path(c);if(b.arr)return a.path.clone(b.arr);var m={a:7,c:6,o:2,h:1,l:2,m:2,r:4,q:4,s:4,t:2,v:1,u:3,z:0},e=[];y(c,\"array\")&&y(c[0],\"array\")&&(e=a.path.clone(c));e.length||J(c).replace(W,function(c,a,b){var h=[];c=a.toLowerCase();b.replace(Z,function(c,a){a&&h.push(+a)});\"m\"==c&&2<h.length&&(e.push([a].concat(h.splice(0,2))),c=\"l\",a=\"m\"==a?\"l\":\"L\");\"o\"==c&&1==h.length&&e.push([a,h[0] ]);if(\"r\"==c)e.push([a].concat(h));else for(;h.length>=\n",
        "m[c]&&(e.push([a].concat(h.splice(0,m[c]))),m[c]););});e.toString=a.path.toString;b.arr=a.path.clone(e);return e};var O=a.parseTransformString=function(c){if(!c)return null;var b=[];y(c,\"array\")&&y(c[0],\"array\")&&(b=a.path.clone(c));b.length||J(c).replace(ma,function(c,a,m){var e=[];a.toLowerCase();m.replace(Z,function(c,a){a&&e.push(+a)});b.push([a].concat(e))});b.toString=a.path.toString;return b};a._.svgTransform2string=d;a._.rgTransform=RegExp(\"^[a-z][\\t\\n\\x0B\\f\\r \\u00a0\\u1680\\u180e\\u2000\\u2001\\u2002\\u2003\\u2004\\u2005\\u2006\\u2007\\u2008\\u2009\\u200a\\u202f\\u205f\\u3000\\u2028\\u2029]*-?\\\\.?\\\\d\",\n",
        "\"i\");a._.transform2matrix=f;a._unit2px=b;a._.getSomeDefs=u;a._.getSomeSVG=p;a.select=function(c){return x(G.doc.querySelector(c))};a.selectAll=function(c){c=G.doc.querySelectorAll(c);for(var b=(a.set||Array)(),m=0;m<c.length;m++)b.push(x(c[m]));return b};setInterval(function(){for(var c in E)if(E[h](c)){var a=E[c],b=a.node;(\"svg\"!=a.type&&!b.ownerSVGElement||\"svg\"==a.type&&(!b.parentNode||\"ownerSVGElement\"in b.parentNode&&!b.ownerSVGElement))&&delete E[c]}},1E4);(function(c){function m(c){function a(c,\n",
        "b){var m=v(c.node,b);(m=(m=m&&m.match(d))&&m[2])&&\"#\"==m.charAt()&&(m=m.substring(1))&&(f[m]=(f[m]||[]).concat(function(a){var m={};m[b]=ca(a);v(c.node,m)}))}function b(c){var a=v(c.node,\"xlink:href\");a&&\"#\"==a.charAt()&&(a=a.substring(1))&&(f[a]=(f[a]||[]).concat(function(a){c.attr(\"xlink:href\",\"#\"+a)}))}var e=c.selectAll(\"*\"),h,d=/^\\s*url\\((\"|'|)(.*)\\1\\)\\s*$/;c=[];for(var f={},l=0,E=e.length;l<E;l++){h=e[l];a(h,\"fill\");a(h,\"stroke\");a(h,\"filter\");a(h,\"mask\");a(h,\"clip-path\");b(h);var t=v(h.node,\n",
        "\"id\");t&&(v(h.node,{id:h.id}),c.push({old:t,id:h.id}))}l=0;for(E=c.length;l<E;l++)if(e=f[c[l].old])for(h=0,t=e.length;h<t;h++)e[h](c[l].id)}function e(c,a,b){return function(m){m=m.slice(c,a);1==m.length&&(m=m[0]);return b?b(m):m}}function d(c){return function(){var a=c?\"<\"+this.type:\"\",b=this.node.attributes,m=this.node.childNodes;if(c)for(var e=0,h=b.length;e<h;e++)a+=\" \"+b[e].name+'=\"'+b[e].value.replace(/\"/g,'\\\\\"')+'\"';if(m.length){c&&(a+=\">\");e=0;for(h=m.length;e<h;e++)3==m[e].nodeType?a+=m[e].nodeValue:\n",
        "1==m[e].nodeType&&(a+=x(m[e]).toString());c&&(a+=\"</\"+this.type+\">\")}else c&&(a+=\"/>\");return a}}c.attr=function(c,a){if(!c)return this;if(y(c,\"string\"))if(1<arguments.length){var b={};b[c]=a;c=b}else return k(\"snap.util.getattr.\"+c,this).firstDefined();for(var m in c)c[h](m)&&k(\"snap.util.attr.\"+m,this,c[m]);return this};c.getBBox=function(c){if(!a.Matrix||!a.path)return this.node.getBBox();var b=this,m=new a.Matrix;if(b.removed)return a._.box();for(;\"use\"==b.type;)if(c||(m=m.add(b.transform().localMatrix.translate(b.attr(\"x\")||\n",
        "0,b.attr(\"y\")||0))),b.original)b=b.original;else var e=b.attr(\"xlink:href\"),b=b.original=b.node.ownerDocument.getElementById(e.substring(e.indexOf(\"#\")+1));var e=b._,h=a.path.get[b.type]||a.path.get.deflt;try{if(c)return e.bboxwt=h?a.path.getBBox(b.realPath=h(b)):a._.box(b.node.getBBox()),a._.box(e.bboxwt);b.realPath=h(b);b.matrix=b.transform().localMatrix;e.bbox=a.path.getBBox(a.path.map(b.realPath,m.add(b.matrix)));return a._.box(e.bbox)}catch(d){return a._.box()}};var f=function(){return this.string};\n",
        "c.transform=function(c){var b=this._;if(null==c){var m=this;c=new a.Matrix(this.node.getCTM());for(var e=n(this),h=[e],d=new a.Matrix,l=e.toTransformString(),b=J(e)==J(this.matrix)?J(b.transform):l;\"svg\"!=m.type&&(m=m.parent());)h.push(n(m));for(m=h.length;m--;)d.add(h[m]);return{string:b,globalMatrix:c,totalMatrix:d,localMatrix:e,diffMatrix:c.clone().add(e.invert()),global:c.toTransformString(),total:d.toTransformString(),local:l,toString:f}}c instanceof a.Matrix?this.matrix=c:n(this,c);this.node&&\n",
        "(\"linearGradient\"==this.type||\"radialGradient\"==this.type?v(this.node,{gradientTransform:this.matrix}):\"pattern\"==this.type?v(this.node,{patternTransform:this.matrix}):v(this.node,{transform:this.matrix}));return this};c.parent=function(){return x(this.node.parentNode)};c.append=c.add=function(c){if(c){if(\"set\"==c.type){var a=this;c.forEach(function(c){a.add(c)});return this}c=x(c);this.node.appendChild(c.node);c.paper=this.paper}return this};c.appendTo=function(c){c&&(c=x(c),c.append(this));return this};\n",
        "c.prepend=function(c){if(c){if(\"set\"==c.type){var a=this,b;c.forEach(function(c){b?b.after(c):a.prepend(c);b=c});return this}c=x(c);var m=c.parent();this.node.insertBefore(c.node,this.node.firstChild);this.add&&this.add();c.paper=this.paper;this.parent()&&this.parent().add();m&&m.add()}return this};c.prependTo=function(c){c=x(c);c.prepend(this);return this};c.before=function(c){if(\"set\"==c.type){var a=this;c.forEach(function(c){var b=c.parent();a.node.parentNode.insertBefore(c.node,a.node);b&&b.add()});\n",
        "this.parent().add();return this}c=x(c);var b=c.parent();this.node.parentNode.insertBefore(c.node,this.node);this.parent()&&this.parent().add();b&&b.add();c.paper=this.paper;return this};c.after=function(c){c=x(c);var a=c.parent();this.node.nextSibling?this.node.parentNode.insertBefore(c.node,this.node.nextSibling):this.node.parentNode.appendChild(c.node);this.parent()&&this.parent().add();a&&a.add();c.paper=this.paper;return this};c.insertBefore=function(c){c=x(c);var a=this.parent();c.node.parentNode.insertBefore(this.node,\n",
        "c.node);this.paper=c.paper;a&&a.add();c.parent()&&c.parent().add();return this};c.insertAfter=function(c){c=x(c);var a=this.parent();c.node.parentNode.insertBefore(this.node,c.node.nextSibling);this.paper=c.paper;a&&a.add();c.parent()&&c.parent().add();return this};c.remove=function(){var c=this.parent();this.node.parentNode&&this.node.parentNode.removeChild(this.node);delete this.paper;this.removed=!0;c&&c.add();return this};c.select=function(c){return x(this.node.querySelector(c))};c.selectAll=\n",
        "function(c){c=this.node.querySelectorAll(c);for(var b=(a.set||Array)(),m=0;m<c.length;m++)b.push(x(c[m]));return b};c.asPX=function(c,a){null==a&&(a=this.attr(c));return+b(this,c,a)};c.use=function(){var c,a=this.node.id;a||(a=this.id,v(this.node,{id:a}));c=\"linearGradient\"==this.type||\"radialGradient\"==this.type||\"pattern\"==this.type?r(this.type,this.node.parentNode):r(\"use\",this.node.parentNode);v(c.node,{\"xlink:href\":\"#\"+a});c.original=this;return c};var l=/\\S+/g;c.addClass=function(c){var a=(c||\n",
        "\"\").match(l)||[];c=this.node;var b=c.className.baseVal,m=b.match(l)||[],e,h,d;if(a.length){for(e=0;d=a[e++];)h=m.indexOf(d),~h||m.push(d);a=m.join(\" \");b!=a&&(c.className.baseVal=a)}return this};c.removeClass=function(c){var a=(c||\"\").match(l)||[];c=this.node;var b=c.className.baseVal,m=b.match(l)||[],e,h;if(m.length){for(e=0;h=a[e++];)h=m.indexOf(h),~h&&m.splice(h,1);a=m.join(\" \");b!=a&&(c.className.baseVal=a)}return this};c.hasClass=function(c){return!!~(this.node.className.baseVal.match(l)||[]).indexOf(c)};\n",
        "c.toggleClass=function(c,a){if(null!=a)return a?this.addClass(c):this.removeClass(c);var b=(c||\"\").match(l)||[],m=this.node,e=m.className.baseVal,h=e.match(l)||[],d,f,E;for(d=0;E=b[d++];)f=h.indexOf(E),~f?h.splice(f,1):h.push(E);b=h.join(\" \");e!=b&&(m.className.baseVal=b);return this};c.clone=function(){var c=x(this.node.cloneNode(!0));v(c.node,\"id\")&&v(c.node,{id:c.id});m(c);c.insertAfter(this);return c};c.toDefs=function(){u(this).appendChild(this.node);return this};c.pattern=c.toPattern=function(c,\n",
        "a,b,m){var e=r(\"pattern\",u(this));null==c&&(c=this.getBBox());y(c,\"object\")&&\"x\"in c&&(a=c.y,b=c.width,m=c.height,c=c.x);v(e.node,{x:c,y:a,width:b,height:m,patternUnits:\"userSpaceOnUse\",id:e.id,viewBox:[c,a,b,m].join(\" \")});e.node.appendChild(this.node);return e};c.marker=function(c,a,b,m,e,h){var d=r(\"marker\",u(this));null==c&&(c=this.getBBox());y(c,\"object\")&&\"x\"in c&&(a=c.y,b=c.width,m=c.height,e=c.refX||c.cx,h=c.refY||c.cy,c=c.x);v(d.node,{viewBox:[c,a,b,m].join(\" \"),markerWidth:b,markerHeight:m,\n",
        "orient:\"auto\",refX:e||0,refY:h||0,id:d.id});d.node.appendChild(this.node);return d};var E=function(c,a,b,m){\"function\"!=typeof b||b.length||(m=b,b=L.linear);this.attr=c;this.dur=a;b&&(this.easing=b);m&&(this.callback=m)};a._.Animation=E;a.animation=function(c,a,b,m){return new E(c,a,b,m)};c.inAnim=function(){var c=[],a;for(a in this.anims)this.anims[h](a)&&function(a){c.push({anim:new E(a._attrs,a.dur,a.easing,a._callback),mina:a,curStatus:a.status(),status:function(c){return a.status(c)},stop:function(){a.stop()}})}(this.anims[a]);\n",
        "return c};a.animate=function(c,a,b,m,e,h){\"function\"!=typeof e||e.length||(h=e,e=L.linear);var d=L.time();c=L(c,a,d,d+m,L.time,b,e);h&&k.once(\"mina.finish.\"+c.id,h);return c};c.stop=function(){for(var c=this.inAnim(),a=0,b=c.length;a<b;a++)c[a].stop();return this};c.animate=function(c,a,b,m){\"function\"!=typeof b||b.length||(m=b,b=L.linear);c instanceof E&&(m=c.callback,b=c.easing,a=b.dur,c=c.attr);var d=[],f=[],l={},t,ca,n,T=this,q;for(q in c)if(c[h](q)){T.equal?(n=T.equal(q,J(c[q])),t=n.from,ca=\n",
        "n.to,n=n.f):(t=+T.attr(q),ca=+c[q]);var la=y(t,\"array\")?t.length:1;l[q]=e(d.length,d.length+la,n);d=d.concat(t);f=f.concat(ca)}t=L.time();var p=L(d,f,t,t+a,L.time,function(c){var a={},b;for(b in l)l[h](b)&&(a[b]=l[b](c));T.attr(a)},b);T.anims[p.id]=p;p._attrs=c;p._callback=m;k(\"snap.animcreated.\"+T.id,p);k.once(\"mina.finish.\"+p.id,function(){delete T.anims[p.id];m&&m.call(T)});k.once(\"mina.stop.\"+p.id,function(){delete T.anims[p.id]});return T};var T={};c.data=function(c,b){var m=T[this.id]=T[this.id]||\n",
        "{};if(0==arguments.length)return k(\"snap.data.get.\"+this.id,this,m,null),m;if(1==arguments.length){if(a.is(c,\"object\")){for(var e in c)c[h](e)&&this.data(e,c[e]);return this}k(\"snap.data.get.\"+this.id,this,m[c],c);return m[c]}m[c]=b;k(\"snap.data.set.\"+this.id,this,b,c);return this};c.removeData=function(c){null==c?T[this.id]={}:T[this.id]&&delete T[this.id][c];return this};c.outerSVG=c.toString=d(1);c.innerSVG=d()})(e.prototype);a.parse=function(c){var a=G.doc.createDocumentFragment(),b=!0,m=G.doc.createElement(\"div\");\n",
        "c=J(c);c.match(/^\\s*<\\s*svg(?:\\s|>)/)||(c=\"<svg>\"+c+\"</svg>\",b=!1);m.innerHTML=c;if(c=m.getElementsByTagName(\"svg\")[0])if(b)a=c;else for(;c.firstChild;)a.appendChild(c.firstChild);m.innerHTML=aa;return new l(a)};l.prototype.select=e.prototype.select;l.prototype.selectAll=e.prototype.selectAll;a.fragment=function(){for(var c=Array.prototype.slice.call(arguments,0),b=G.doc.createDocumentFragment(),m=0,e=c.length;m<e;m++){var h=c[m];h.node&&h.node.nodeType&&b.appendChild(h.node);h.nodeType&&b.appendChild(h);\n",
        "\"string\"==typeof h&&b.appendChild(a.parse(h).node)}return new l(b)};a._.make=r;a._.wrap=x;s.prototype.el=function(c,a){var b=r(c,this.node);a&&b.attr(a);return b};k.on(\"snap.util.getattr\",function(){var c=k.nt(),c=c.substring(c.lastIndexOf(\".\")+1),a=c.replace(/[A-Z]/g,function(c){return\"-\"+c.toLowerCase()});return pa[h](a)?this.node.ownerDocument.defaultView.getComputedStyle(this.node,null).getPropertyValue(a):v(this.node,c)});var pa={\"alignment-baseline\":0,\"baseline-shift\":0,clip:0,\"clip-path\":0,\n",
        "\"clip-rule\":0,color:0,\"color-interpolation\":0,\"color-interpolation-filters\":0,\"color-profile\":0,\"color-rendering\":0,cursor:0,direction:0,display:0,\"dominant-baseline\":0,\"enable-background\":0,fill:0,\"fill-opacity\":0,\"fill-rule\":0,filter:0,\"flood-color\":0,\"flood-opacity\":0,font:0,\"font-family\":0,\"font-size\":0,\"font-size-adjust\":0,\"font-stretch\":0,\"font-style\":0,\"font-variant\":0,\"font-weight\":0,\"glyph-orientation-horizontal\":0,\"glyph-orientation-vertical\":0,\"image-rendering\":0,kerning:0,\"letter-spacing\":0,\n",
        "\"lighting-color\":0,marker:0,\"marker-end\":0,\"marker-mid\":0,\"marker-start\":0,mask:0,opacity:0,overflow:0,\"pointer-events\":0,\"shape-rendering\":0,\"stop-color\":0,\"stop-opacity\":0,stroke:0,\"stroke-dasharray\":0,\"stroke-dashoffset\":0,\"stroke-linecap\":0,\"stroke-linejoin\":0,\"stroke-miterlimit\":0,\"stroke-opacity\":0,\"stroke-width\":0,\"text-anchor\":0,\"text-decoration\":0,\"text-rendering\":0,\"unicode-bidi\":0,visibility:0,\"word-spacing\":0,\"writing-mode\":0};k.on(\"snap.util.attr\",function(c){var a=k.nt(),b={},a=a.substring(a.lastIndexOf(\".\")+\n",
        "1);b[a]=c;var m=a.replace(/-(\\w)/gi,function(c,a){return a.toUpperCase()}),a=a.replace(/[A-Z]/g,function(c){return\"-\"+c.toLowerCase()});pa[h](a)?this.node.style[m]=null==c?aa:c:v(this.node,b)});a.ajax=function(c,a,b,m){var e=new XMLHttpRequest,h=V();if(e){if(y(a,\"function\"))m=b,b=a,a=null;else if(y(a,\"object\")){var d=[],f;for(f in a)a.hasOwnProperty(f)&&d.push(encodeURIComponent(f)+\"=\"+encodeURIComponent(a[f]));a=d.join(\"&\")}e.open(a?\"POST\":\"GET\",c,!0);a&&(e.setRequestHeader(\"X-Requested-With\",\"XMLHttpRequest\"),\n",
        "e.setRequestHeader(\"Content-type\",\"application/x-www-form-urlencoded\"));b&&(k.once(\"snap.ajax.\"+h+\".0\",b),k.once(\"snap.ajax.\"+h+\".200\",b),k.once(\"snap.ajax.\"+h+\".304\",b));e.onreadystatechange=function(){4==e.readyState&&k(\"snap.ajax.\"+h+\".\"+e.status,m,e)};if(4==e.readyState)return e;e.send(a);return e}};a.load=function(c,b,m){a.ajax(c,function(c){c=a.parse(c.responseText);m?b.call(m,c):b(c)})};a.getElementByPoint=function(c,a){var b,m,e=G.doc.elementFromPoint(c,a);if(G.win.opera&&\"svg\"==e.tagName){b=\n",
        "e;m=b.getBoundingClientRect();b=b.ownerDocument;var h=b.body,d=b.documentElement;b=m.top+(g.win.pageYOffset||d.scrollTop||h.scrollTop)-(d.clientTop||h.clientTop||0);m=m.left+(g.win.pageXOffset||d.scrollLeft||h.scrollLeft)-(d.clientLeft||h.clientLeft||0);h=e.createSVGRect();h.x=c-m;h.y=a-b;h.width=h.height=1;b=e.getIntersectionList(h,null);b.length&&(e=b[b.length-1])}return e?x(e):null};a.plugin=function(c){c(a,e,s,G,l)};return G.win.Snap=a}();C.plugin(function(a,k,y,M,A){function w(a,d,f,b,q,e){null==\n",
        "d&&\"[object SVGMatrix]\"==z.call(a)?(this.a=a.a,this.b=a.b,this.c=a.c,this.d=a.d,this.e=a.e,this.f=a.f):null!=a?(this.a=+a,this.b=+d,this.c=+f,this.d=+b,this.e=+q,this.f=+e):(this.a=1,this.c=this.b=0,this.d=1,this.f=this.e=0)}var z=Object.prototype.toString,d=String,f=Math;(function(n){function k(a){return a[0]*a[0]+a[1]*a[1]}function p(a){var d=f.sqrt(k(a));a[0]&&(a[0]/=d);a[1]&&(a[1]/=d)}n.add=function(a,d,e,f,n,p){var k=[[],[],[] ],u=[[this.a,this.c,this.e],[this.b,this.d,this.f],[0,0,1] ];d=[[a,\n",
        "e,n],[d,f,p],[0,0,1] ];a&&a instanceof w&&(d=[[a.a,a.c,a.e],[a.b,a.d,a.f],[0,0,1] ]);for(a=0;3>a;a++)for(e=0;3>e;e++){for(f=n=0;3>f;f++)n+=u[a][f]*d[f][e];k[a][e]=n}this.a=k[0][0];this.b=k[1][0];this.c=k[0][1];this.d=k[1][1];this.e=k[0][2];this.f=k[1][2];return this};n.invert=function(){var a=this.a*this.d-this.b*this.c;return new w(this.d/a,-this.b/a,-this.c/a,this.a/a,(this.c*this.f-this.d*this.e)/a,(this.b*this.e-this.a*this.f)/a)};n.clone=function(){return new w(this.a,this.b,this.c,this.d,this.e,\n",
        "this.f)};n.translate=function(a,d){return this.add(1,0,0,1,a,d)};n.scale=function(a,d,e,f){null==d&&(d=a);(e||f)&&this.add(1,0,0,1,e,f);this.add(a,0,0,d,0,0);(e||f)&&this.add(1,0,0,1,-e,-f);return this};n.rotate=function(b,d,e){b=a.rad(b);d=d||0;e=e||0;var l=+f.cos(b).toFixed(9);b=+f.sin(b).toFixed(9);this.add(l,b,-b,l,d,e);return this.add(1,0,0,1,-d,-e)};n.x=function(a,d){return a*this.a+d*this.c+this.e};n.y=function(a,d){return a*this.b+d*this.d+this.f};n.get=function(a){return+this[d.fromCharCode(97+\n",
        "a)].toFixed(4)};n.toString=function(){return\"matrix(\"+[this.get(0),this.get(1),this.get(2),this.get(3),this.get(4),this.get(5)].join()+\")\"};n.offset=function(){return[this.e.toFixed(4),this.f.toFixed(4)]};n.determinant=function(){return this.a*this.d-this.b*this.c};n.split=function(){var b={};b.dx=this.e;b.dy=this.f;var d=[[this.a,this.c],[this.b,this.d] ];b.scalex=f.sqrt(k(d[0]));p(d[0]);b.shear=d[0][0]*d[1][0]+d[0][1]*d[1][1];d[1]=[d[1][0]-d[0][0]*b.shear,d[1][1]-d[0][1]*b.shear];b.scaley=f.sqrt(k(d[1]));\n",
        "p(d[1]);b.shear/=b.scaley;0>this.determinant()&&(b.scalex=-b.scalex);var e=-d[0][1],d=d[1][1];0>d?(b.rotate=a.deg(f.acos(d)),0>e&&(b.rotate=360-b.rotate)):b.rotate=a.deg(f.asin(e));b.isSimple=!+b.shear.toFixed(9)&&(b.scalex.toFixed(9)==b.scaley.toFixed(9)||!b.rotate);b.isSuperSimple=!+b.shear.toFixed(9)&&b.scalex.toFixed(9)==b.scaley.toFixed(9)&&!b.rotate;b.noRotation=!+b.shear.toFixed(9)&&!b.rotate;return b};n.toTransformString=function(a){a=a||this.split();if(+a.shear.toFixed(9))return\"m\"+[this.get(0),\n",
        "this.get(1),this.get(2),this.get(3),this.get(4),this.get(5)];a.scalex=+a.scalex.toFixed(4);a.scaley=+a.scaley.toFixed(4);a.rotate=+a.rotate.toFixed(4);return(a.dx||a.dy?\"t\"+[+a.dx.toFixed(4),+a.dy.toFixed(4)]:\"\")+(1!=a.scalex||1!=a.scaley?\"s\"+[a.scalex,a.scaley,0,0]:\"\")+(a.rotate?\"r\"+[+a.rotate.toFixed(4),0,0]:\"\")}})(w.prototype);a.Matrix=w;a.matrix=function(a,d,f,b,k,e){return new w(a,d,f,b,k,e)}});C.plugin(function(a,v,y,M,A){function w(h){return function(d){k.stop();d instanceof A&&1==d.node.childNodes.length&&\n",
        "(\"radialGradient\"==d.node.firstChild.tagName||\"linearGradient\"==d.node.firstChild.tagName||\"pattern\"==d.node.firstChild.tagName)&&(d=d.node.firstChild,b(this).appendChild(d),d=u(d));if(d instanceof v)if(\"radialGradient\"==d.type||\"linearGradient\"==d.type||\"pattern\"==d.type){d.node.id||e(d.node,{id:d.id});var f=l(d.node.id)}else f=d.attr(h);else f=a.color(d),f.error?(f=a(b(this).ownerSVGElement).gradient(d))?(f.node.id||e(f.node,{id:f.id}),f=l(f.node.id)):f=d:f=r(f);d={};d[h]=f;e(this.node,d);this.node.style[h]=\n",
        "x}}function z(a){k.stop();a==+a&&(a+=\"px\");this.node.style.fontSize=a}function d(a){var b=[];a=a.childNodes;for(var e=0,f=a.length;e<f;e++){var l=a[e];3==l.nodeType&&b.push(l.nodeValue);\"tspan\"==l.tagName&&(1==l.childNodes.length&&3==l.firstChild.nodeType?b.push(l.firstChild.nodeValue):b.push(d(l)))}return b}function f(){k.stop();return this.node.style.fontSize}var n=a._.make,u=a._.wrap,p=a.is,b=a._.getSomeDefs,q=/^url\\(#?([^)]+)\\)$/,e=a._.$,l=a.url,r=String,s=a._.separator,x=\"\";k.on(\"snap.util.attr.mask\",\n",
        "function(a){if(a instanceof v||a instanceof A){k.stop();a instanceof A&&1==a.node.childNodes.length&&(a=a.node.firstChild,b(this).appendChild(a),a=u(a));if(\"mask\"==a.type)var d=a;else d=n(\"mask\",b(this)),d.node.appendChild(a.node);!d.node.id&&e(d.node,{id:d.id});e(this.node,{mask:l(d.id)})}});(function(a){k.on(\"snap.util.attr.clip\",a);k.on(\"snap.util.attr.clip-path\",a);k.on(\"snap.util.attr.clipPath\",a)})(function(a){if(a instanceof v||a instanceof A){k.stop();if(\"clipPath\"==a.type)var d=a;else d=\n",
        "n(\"clipPath\",b(this)),d.node.appendChild(a.node),!d.node.id&&e(d.node,{id:d.id});e(this.node,{\"clip-path\":l(d.id)})}});k.on(\"snap.util.attr.fill\",w(\"fill\"));k.on(\"snap.util.attr.stroke\",w(\"stroke\"));var G=/^([lr])(?:\\(([^)]*)\\))?(.*)$/i;k.on(\"snap.util.grad.parse\",function(a){a=r(a);var b=a.match(G);if(!b)return null;a=b[1];var e=b[2],b=b[3],e=e.split(/\\s*,\\s*/).map(function(a){return+a==a?+a:a});1==e.length&&0==e[0]&&(e=[]);b=b.split(\"-\");b=b.map(function(a){a=a.split(\":\");var b={color:a[0]};a[1]&&\n",
        "(b.offset=parseFloat(a[1]));return b});return{type:a,params:e,stops:b}});k.on(\"snap.util.attr.d\",function(b){k.stop();p(b,\"array\")&&p(b[0],\"array\")&&(b=a.path.toString.call(b));b=r(b);b.match(/[ruo]/i)&&(b=a.path.toAbsolute(b));e(this.node,{d:b})})(-1);k.on(\"snap.util.attr.#text\",function(a){k.stop();a=r(a);for(a=M.doc.createTextNode(a);this.node.firstChild;)this.node.removeChild(this.node.firstChild);this.node.appendChild(a)})(-1);k.on(\"snap.util.attr.path\",function(a){k.stop();this.attr({d:a})})(-1);\n",
        "k.on(\"snap.util.attr.class\",function(a){k.stop();this.node.className.baseVal=a})(-1);k.on(\"snap.util.attr.viewBox\",function(a){a=p(a,\"object\")&&\"x\"in a?[a.x,a.y,a.width,a.height].join(\" \"):p(a,\"array\")?a.join(\" \"):a;e(this.node,{viewBox:a});k.stop()})(-1);k.on(\"snap.util.attr.transform\",function(a){this.transform(a);k.stop()})(-1);k.on(\"snap.util.attr.r\",function(a){\"rect\"==this.type&&(k.stop(),e(this.node,{rx:a,ry:a}))})(-1);k.on(\"snap.util.attr.textpath\",function(a){k.stop();if(\"text\"==this.type){var d,\n",
        "f;if(!a&&this.textPath){for(a=this.textPath;a.node.firstChild;)this.node.appendChild(a.node.firstChild);a.remove();delete this.textPath}else if(p(a,\"string\")?(d=b(this),a=u(d.parentNode).path(a),d.appendChild(a.node),d=a.id,a.attr({id:d})):(a=u(a),a instanceof v&&(d=a.attr(\"id\"),d||(d=a.id,a.attr({id:d})))),d)if(a=this.textPath,f=this.node,a)a.attr({\"xlink:href\":\"#\"+d});else{for(a=e(\"textPath\",{\"xlink:href\":\"#\"+d});f.firstChild;)a.appendChild(f.firstChild);f.appendChild(a);this.textPath=u(a)}}})(-1);\n",
        "k.on(\"snap.util.attr.text\",function(a){if(\"text\"==this.type){for(var b=this.node,d=function(a){var b=e(\"tspan\");if(p(a,\"array\"))for(var f=0;f<a.length;f++)b.appendChild(d(a[f]));else b.appendChild(M.doc.createTextNode(a));b.normalize&&b.normalize();return b};b.firstChild;)b.removeChild(b.firstChild);for(a=d(a);a.firstChild;)b.appendChild(a.firstChild)}k.stop()})(-1);k.on(\"snap.util.attr.fontSize\",z)(-1);k.on(\"snap.util.attr.font-size\",z)(-1);k.on(\"snap.util.getattr.transform\",function(){k.stop();\n",
        "return this.transform()})(-1);k.on(\"snap.util.getattr.textpath\",function(){k.stop();return this.textPath})(-1);(function(){function b(d){return function(){k.stop();var b=M.doc.defaultView.getComputedStyle(this.node,null).getPropertyValue(\"marker-\"+d);return\"none\"==b?b:a(M.doc.getElementById(b.match(q)[1]))}}function d(a){return function(b){k.stop();var d=\"marker\"+a.charAt(0).toUpperCase()+a.substring(1);if(\"\"==b||!b)this.node.style[d]=\"none\";else if(\"marker\"==b.type){var f=b.node.id;f||e(b.node,{id:b.id});\n",
        "this.node.style[d]=l(f)}}}k.on(\"snap.util.getattr.marker-end\",b(\"end\"))(-1);k.on(\"snap.util.getattr.markerEnd\",b(\"end\"))(-1);k.on(\"snap.util.getattr.marker-start\",b(\"start\"))(-1);k.on(\"snap.util.getattr.markerStart\",b(\"start\"))(-1);k.on(\"snap.util.getattr.marker-mid\",b(\"mid\"))(-1);k.on(\"snap.util.getattr.markerMid\",b(\"mid\"))(-1);k.on(\"snap.util.attr.marker-end\",d(\"end\"))(-1);k.on(\"snap.util.attr.markerEnd\",d(\"end\"))(-1);k.on(\"snap.util.attr.marker-start\",d(\"start\"))(-1);k.on(\"snap.util.attr.markerStart\",\n",
        "d(\"start\"))(-1);k.on(\"snap.util.attr.marker-mid\",d(\"mid\"))(-1);k.on(\"snap.util.attr.markerMid\",d(\"mid\"))(-1)})();k.on(\"snap.util.getattr.r\",function(){if(\"rect\"==this.type&&e(this.node,\"rx\")==e(this.node,\"ry\"))return k.stop(),e(this.node,\"rx\")})(-1);k.on(\"snap.util.getattr.text\",function(){if(\"text\"==this.type||\"tspan\"==this.type){k.stop();var a=d(this.node);return 1==a.length?a[0]:a}})(-1);k.on(\"snap.util.getattr.#text\",function(){return this.node.textContent})(-1);k.on(\"snap.util.getattr.viewBox\",\n",
        "function(){k.stop();var b=e(this.node,\"viewBox\");if(b)return b=b.split(s),a._.box(+b[0],+b[1],+b[2],+b[3])})(-1);k.on(\"snap.util.getattr.points\",function(){var a=e(this.node,\"points\");k.stop();if(a)return a.split(s)})(-1);k.on(\"snap.util.getattr.path\",function(){var a=e(this.node,\"d\");k.stop();return a})(-1);k.on(\"snap.util.getattr.class\",function(){return this.node.className.baseVal})(-1);k.on(\"snap.util.getattr.fontSize\",f)(-1);k.on(\"snap.util.getattr.font-size\",f)(-1)});C.plugin(function(a,v,y,\n",
        "M,A){function w(a){return a}function z(a){return function(b){return+b.toFixed(3)+a}}var d={\"+\":function(a,b){return a+b},\"-\":function(a,b){return a-b},\"/\":function(a,b){return a/b},\"*\":function(a,b){return a*b}},f=String,n=/[a-z]+$/i,u=/^\\s*([+\\-\\/*])\\s*=\\s*([\\d.eE+\\-]+)\\s*([^\\d\\s]+)?\\s*$/;k.on(\"snap.util.attr\",function(a){if(a=f(a).match(u)){var b=k.nt(),b=b.substring(b.lastIndexOf(\".\")+1),q=this.attr(b),e={};k.stop();var l=a[3]||\"\",r=q.match(n),s=d[a[1] ];r&&r==l?a=s(parseFloat(q),+a[2]):(q=this.asPX(b),\n",
        "a=s(this.asPX(b),this.asPX(b,a[2]+l)));isNaN(q)||isNaN(a)||(e[b]=a,this.attr(e))}})(-10);k.on(\"snap.util.equal\",function(a,b){var q=f(this.attr(a)||\"\"),e=f(b).match(u);if(e){k.stop();var l=e[3]||\"\",r=q.match(n),s=d[e[1] ];if(r&&r==l)return{from:parseFloat(q),to:s(parseFloat(q),+e[2]),f:z(r)};q=this.asPX(a);return{from:q,to:s(q,this.asPX(a,e[2]+l)),f:w}}})(-10)});C.plugin(function(a,v,y,M,A){var w=y.prototype,z=a.is;w.rect=function(a,d,k,p,b,q){var e;null==q&&(q=b);z(a,\"object\")&&\"[object Object]\"==\n",
        "a?e=a:null!=a&&(e={x:a,y:d,width:k,height:p},null!=b&&(e.rx=b,e.ry=q));return this.el(\"rect\",e)};w.circle=function(a,d,k){var p;z(a,\"object\")&&\"[object Object]\"==a?p=a:null!=a&&(p={cx:a,cy:d,r:k});return this.el(\"circle\",p)};var d=function(){function a(){this.parentNode.removeChild(this)}return function(d,k){var p=M.doc.createElement(\"img\"),b=M.doc.body;p.style.cssText=\"position:absolute;left:-9999em;top:-9999em\";p.onload=function(){k.call(p);p.onload=p.onerror=null;b.removeChild(p)};p.onerror=a;\n",
        "b.appendChild(p);p.src=d}}();w.image=function(f,n,k,p,b){var q=this.el(\"image\");if(z(f,\"object\")&&\"src\"in f)q.attr(f);else if(null!=f){var e={\"xlink:href\":f,preserveAspectRatio:\"none\"};null!=n&&null!=k&&(e.x=n,e.y=k);null!=p&&null!=b?(e.width=p,e.height=b):d(f,function(){a._.$(q.node,{width:this.offsetWidth,height:this.offsetHeight})});a._.$(q.node,e)}return q};w.ellipse=function(a,d,k,p){var b;z(a,\"object\")&&\"[object Object]\"==a?b=a:null!=a&&(b={cx:a,cy:d,rx:k,ry:p});return this.el(\"ellipse\",b)};\n",
        "w.path=function(a){var d;z(a,\"object\")&&!z(a,\"array\")?d=a:a&&(d={d:a});return this.el(\"path\",d)};w.group=w.g=function(a){var d=this.el(\"g\");1==arguments.length&&a&&!a.type?d.attr(a):arguments.length&&d.add(Array.prototype.slice.call(arguments,0));return d};w.svg=function(a,d,k,p,b,q,e,l){var r={};z(a,\"object\")&&null==d?r=a:(null!=a&&(r.x=a),null!=d&&(r.y=d),null!=k&&(r.width=k),null!=p&&(r.height=p),null!=b&&null!=q&&null!=e&&null!=l&&(r.viewBox=[b,q,e,l]));return this.el(\"svg\",r)};w.mask=function(a){var d=\n",
        "this.el(\"mask\");1==arguments.length&&a&&!a.type?d.attr(a):arguments.length&&d.add(Array.prototype.slice.call(arguments,0));return d};w.ptrn=function(a,d,k,p,b,q,e,l){if(z(a,\"object\"))var r=a;else arguments.length?(r={},null!=a&&(r.x=a),null!=d&&(r.y=d),null!=k&&(r.width=k),null!=p&&(r.height=p),null!=b&&null!=q&&null!=e&&null!=l&&(r.viewBox=[b,q,e,l])):r={patternUnits:\"userSpaceOnUse\"};return this.el(\"pattern\",r)};w.use=function(a){return null!=a?(make(\"use\",this.node),a instanceof v&&(a.attr(\"id\")||\n",
        "a.attr({id:ID()}),a=a.attr(\"id\")),this.el(\"use\",{\"xlink:href\":a})):v.prototype.use.call(this)};w.text=function(a,d,k){var p={};z(a,\"object\")?p=a:null!=a&&(p={x:a,y:d,text:k||\"\"});return this.el(\"text\",p)};w.line=function(a,d,k,p){var b={};z(a,\"object\")?b=a:null!=a&&(b={x1:a,x2:k,y1:d,y2:p});return this.el(\"line\",b)};w.polyline=function(a){1<arguments.length&&(a=Array.prototype.slice.call(arguments,0));var d={};z(a,\"object\")&&!z(a,\"array\")?d=a:null!=a&&(d={points:a});return this.el(\"polyline\",d)};\n",
        "w.polygon=function(a){1<arguments.length&&(a=Array.prototype.slice.call(arguments,0));var d={};z(a,\"object\")&&!z(a,\"array\")?d=a:null!=a&&(d={points:a});return this.el(\"polygon\",d)};(function(){function d(){return this.selectAll(\"stop\")}function n(b,d){var f=e(\"stop\"),k={offset:+d+\"%\"};b=a.color(b);k[\"stop-color\"]=b.hex;1>b.opacity&&(k[\"stop-opacity\"]=b.opacity);e(f,k);this.node.appendChild(f);return this}function u(){if(\"linearGradient\"==this.type){var b=e(this.node,\"x1\")||0,d=e(this.node,\"x2\")||\n",
        "1,f=e(this.node,\"y1\")||0,k=e(this.node,\"y2\")||0;return a._.box(b,f,math.abs(d-b),math.abs(k-f))}b=this.node.r||0;return a._.box((this.node.cx||0.5)-b,(this.node.cy||0.5)-b,2*b,2*b)}function p(a,d){function f(a,b){for(var d=(b-u)/(a-w),e=w;e<a;e++)h[e].offset=+(+u+d*(e-w)).toFixed(2);w=a;u=b}var n=k(\"snap.util.grad.parse\",null,d).firstDefined(),p;if(!n)return null;n.params.unshift(a);p=\"l\"==n.type.toLowerCase()?b.apply(0,n.params):q.apply(0,n.params);n.type!=n.type.toLowerCase()&&e(p.node,{gradientUnits:\"userSpaceOnUse\"});\n",
        "var h=n.stops,n=h.length,u=0,w=0;n--;for(var v=0;v<n;v++)\"offset\"in h[v]&&f(v,h[v].offset);h[n].offset=h[n].offset||100;f(n,h[n].offset);for(v=0;v<=n;v++){var y=h[v];p.addStop(y.color,y.offset)}return p}function b(b,k,p,q,w){b=a._.make(\"linearGradient\",b);b.stops=d;b.addStop=n;b.getBBox=u;null!=k&&e(b.node,{x1:k,y1:p,x2:q,y2:w});return b}function q(b,k,p,q,w,h){b=a._.make(\"radialGradient\",b);b.stops=d;b.addStop=n;b.getBBox=u;null!=k&&e(b.node,{cx:k,cy:p,r:q});null!=w&&null!=h&&e(b.node,{fx:w,fy:h});\n",
        "return b}var e=a._.$;w.gradient=function(a){return p(this.defs,a)};w.gradientLinear=function(a,d,e,f){return b(this.defs,a,d,e,f)};w.gradientRadial=function(a,b,d,e,f){return q(this.defs,a,b,d,e,f)};w.toString=function(){var b=this.node.ownerDocument,d=b.createDocumentFragment(),b=b.createElement(\"div\"),e=this.node.cloneNode(!0);d.appendChild(b);b.appendChild(e);a._.$(e,{xmlns:\"http://www.w3.org/2000/svg\"});b=b.innerHTML;d.removeChild(d.firstChild);return b};w.clear=function(){for(var a=this.node.firstChild,\n",
        "b;a;)b=a.nextSibling,\"defs\"!=a.tagName?a.parentNode.removeChild(a):w.clear.call({node:a}),a=b}})()});C.plugin(function(a,k,y,M){function A(a){var b=A.ps=A.ps||{};b[a]?b[a].sleep=100:b[a]={sleep:100};setTimeout(function(){for(var d in b)b[L](d)&&d!=a&&(b[d].sleep--,!b[d].sleep&&delete b[d])});return b[a]}function w(a,b,d,e){null==a&&(a=b=d=e=0);null==b&&(b=a.y,d=a.width,e=a.height,a=a.x);return{x:a,y:b,width:d,w:d,height:e,h:e,x2:a+d,y2:b+e,cx:a+d/2,cy:b+e/2,r1:F.min(d,e)/2,r2:F.max(d,e)/2,r0:F.sqrt(d*\n",
        "d+e*e)/2,path:s(a,b,d,e),vb:[a,b,d,e].join(\" \")}}function z(){return this.join(\",\").replace(N,\"$1\")}function d(a){a=C(a);a.toString=z;return a}function f(a,b,d,h,f,k,l,n,p){if(null==p)return e(a,b,d,h,f,k,l,n);if(0>p||e(a,b,d,h,f,k,l,n)<p)p=void 0;else{var q=0.5,O=1-q,s;for(s=e(a,b,d,h,f,k,l,n,O);0.01<Z(s-p);)q/=2,O+=(s<p?1:-1)*q,s=e(a,b,d,h,f,k,l,n,O);p=O}return u(a,b,d,h,f,k,l,n,p)}function n(b,d){function e(a){return+(+a).toFixed(3)}return a._.cacher(function(a,h,l){a instanceof k&&(a=a.attr(\"d\"));\n",
        "a=I(a);for(var n,p,D,q,O=\"\",s={},c=0,t=0,r=a.length;t<r;t++){D=a[t];if(\"M\"==D[0])n=+D[1],p=+D[2];else{q=f(n,p,D[1],D[2],D[3],D[4],D[5],D[6]);if(c+q>h){if(d&&!s.start){n=f(n,p,D[1],D[2],D[3],D[4],D[5],D[6],h-c);O+=[\"C\"+e(n.start.x),e(n.start.y),e(n.m.x),e(n.m.y),e(n.x),e(n.y)];if(l)return O;s.start=O;O=[\"M\"+e(n.x),e(n.y)+\"C\"+e(n.n.x),e(n.n.y),e(n.end.x),e(n.end.y),e(D[5]),e(D[6])].join();c+=q;n=+D[5];p=+D[6];continue}if(!b&&!d)return n=f(n,p,D[1],D[2],D[3],D[4],D[5],D[6],h-c)}c+=q;n=+D[5];p=+D[6]}O+=\n",
        "D.shift()+D}s.end=O;return n=b?c:d?s:u(n,p,D[0],D[1],D[2],D[3],D[4],D[5],1)},null,a._.clone)}function u(a,b,d,e,h,f,k,l,n){var p=1-n,q=ma(p,3),s=ma(p,2),c=n*n,t=c*n,r=q*a+3*s*n*d+3*p*n*n*h+t*k,q=q*b+3*s*n*e+3*p*n*n*f+t*l,s=a+2*n*(d-a)+c*(h-2*d+a),t=b+2*n*(e-b)+c*(f-2*e+b),x=d+2*n*(h-d)+c*(k-2*h+d),c=e+2*n*(f-e)+c*(l-2*f+e);a=p*a+n*d;b=p*b+n*e;h=p*h+n*k;f=p*f+n*l;l=90-180*F.atan2(s-x,t-c)/S;return{x:r,y:q,m:{x:s,y:t},n:{x:x,y:c},start:{x:a,y:b},end:{x:h,y:f},alpha:l}}function p(b,d,e,h,f,n,k,l){a.is(b,\n",
        "\"array\")||(b=[b,d,e,h,f,n,k,l]);b=U.apply(null,b);return w(b.min.x,b.min.y,b.max.x-b.min.x,b.max.y-b.min.y)}function b(a,b,d){return b>=a.x&&b<=a.x+a.width&&d>=a.y&&d<=a.y+a.height}function q(a,d){a=w(a);d=w(d);return b(d,a.x,a.y)||b(d,a.x2,a.y)||b(d,a.x,a.y2)||b(d,a.x2,a.y2)||b(a,d.x,d.y)||b(a,d.x2,d.y)||b(a,d.x,d.y2)||b(a,d.x2,d.y2)||(a.x<d.x2&&a.x>d.x||d.x<a.x2&&d.x>a.x)&&(a.y<d.y2&&a.y>d.y||d.y<a.y2&&d.y>a.y)}function e(a,b,d,e,h,f,n,k,l){null==l&&(l=1);l=(1<l?1:0>l?0:l)/2;for(var p=[-0.1252,\n",
        "0.1252,-0.3678,0.3678,-0.5873,0.5873,-0.7699,0.7699,-0.9041,0.9041,-0.9816,0.9816],q=[0.2491,0.2491,0.2335,0.2335,0.2032,0.2032,0.1601,0.1601,0.1069,0.1069,0.0472,0.0472],s=0,c=0;12>c;c++)var t=l*p[c]+l,r=t*(t*(-3*a+9*d-9*h+3*n)+6*a-12*d+6*h)-3*a+3*d,t=t*(t*(-3*b+9*e-9*f+3*k)+6*b-12*e+6*f)-3*b+3*e,s=s+q[c]*F.sqrt(r*r+t*t);return l*s}function l(a,b,d){a=I(a);b=I(b);for(var h,f,l,n,k,s,r,O,x,c,t=d?0:[],w=0,v=a.length;w<v;w++)if(x=a[w],\"M\"==x[0])h=k=x[1],f=s=x[2];else{\"C\"==x[0]?(x=[h,f].concat(x.slice(1)),\n",
        "h=x[6],f=x[7]):(x=[h,f,h,f,k,s,k,s],h=k,f=s);for(var G=0,y=b.length;G<y;G++)if(c=b[G],\"M\"==c[0])l=r=c[1],n=O=c[2];else{\"C\"==c[0]?(c=[l,n].concat(c.slice(1)),l=c[6],n=c[7]):(c=[l,n,l,n,r,O,r,O],l=r,n=O);var z;var K=x,B=c;z=d;var H=p(K),J=p(B);if(q(H,J)){for(var H=e.apply(0,K),J=e.apply(0,B),H=~~(H/8),J=~~(J/8),U=[],A=[],F={},M=z?0:[],P=0;P<H+1;P++){var C=u.apply(0,K.concat(P/H));U.push({x:C.x,y:C.y,t:P/H})}for(P=0;P<J+1;P++)C=u.apply(0,B.concat(P/J)),A.push({x:C.x,y:C.y,t:P/J});for(P=0;P<H;P++)for(K=\n",
        "0;K<J;K++){var Q=U[P],L=U[P+1],B=A[K],C=A[K+1],N=0.001>Z(L.x-Q.x)?\"y\":\"x\",S=0.001>Z(C.x-B.x)?\"y\":\"x\",R;R=Q.x;var Y=Q.y,V=L.x,ea=L.y,fa=B.x,ga=B.y,ha=C.x,ia=C.y;if(W(R,V)<X(fa,ha)||X(R,V)>W(fa,ha)||W(Y,ea)<X(ga,ia)||X(Y,ea)>W(ga,ia))R=void 0;else{var $=(R*ea-Y*V)*(fa-ha)-(R-V)*(fa*ia-ga*ha),aa=(R*ea-Y*V)*(ga-ia)-(Y-ea)*(fa*ia-ga*ha),ja=(R-V)*(ga-ia)-(Y-ea)*(fa-ha);if(ja){var $=$/ja,aa=aa/ja,ja=+$.toFixed(2),ba=+aa.toFixed(2);R=ja<+X(R,V).toFixed(2)||ja>+W(R,V).toFixed(2)||ja<+X(fa,ha).toFixed(2)||\n",
        "ja>+W(fa,ha).toFixed(2)||ba<+X(Y,ea).toFixed(2)||ba>+W(Y,ea).toFixed(2)||ba<+X(ga,ia).toFixed(2)||ba>+W(ga,ia).toFixed(2)?void 0:{x:$,y:aa}}else R=void 0}R&&F[R.x.toFixed(4)]!=R.y.toFixed(4)&&(F[R.x.toFixed(4)]=R.y.toFixed(4),Q=Q.t+Z((R[N]-Q[N])/(L[N]-Q[N]))*(L.t-Q.t),B=B.t+Z((R[S]-B[S])/(C[S]-B[S]))*(C.t-B.t),0<=Q&&1>=Q&&0<=B&&1>=B&&(z?M++:M.push({x:R.x,y:R.y,t1:Q,t2:B})))}z=M}else z=z?0:[];if(d)t+=z;else{H=0;for(J=z.length;H<J;H++)z[H].segment1=w,z[H].segment2=G,z[H].bez1=x,z[H].bez2=c;t=t.concat(z)}}}return t}\n",
        "function r(a){var b=A(a);if(b.bbox)return C(b.bbox);if(!a)return w();a=I(a);for(var d=0,e=0,h=[],f=[],l,n=0,k=a.length;n<k;n++)l=a[n],\"M\"==l[0]?(d=l[1],e=l[2],h.push(d),f.push(e)):(d=U(d,e,l[1],l[2],l[3],l[4],l[5],l[6]),h=h.concat(d.min.x,d.max.x),f=f.concat(d.min.y,d.max.y),d=l[5],e=l[6]);a=X.apply(0,h);l=X.apply(0,f);h=W.apply(0,h);f=W.apply(0,f);f=w(a,l,h-a,f-l);b.bbox=C(f);return f}function s(a,b,d,e,h){if(h)return[[\"M\",+a+ +h,b],[\"l\",d-2*h,0],[\"a\",h,h,0,0,1,h,h],[\"l\",0,e-2*h],[\"a\",h,h,0,0,1,\n",
        "-h,h],[\"l\",2*h-d,0],[\"a\",h,h,0,0,1,-h,-h],[\"l\",0,2*h-e],[\"a\",h,h,0,0,1,h,-h],[\"z\"] ];a=[[\"M\",a,b],[\"l\",d,0],[\"l\",0,e],[\"l\",-d,0],[\"z\"] ];a.toString=z;return a}function x(a,b,d,e,h){null==h&&null==e&&(e=d);a=+a;b=+b;d=+d;e=+e;if(null!=h){var f=Math.PI/180,l=a+d*Math.cos(-e*f);a+=d*Math.cos(-h*f);var n=b+d*Math.sin(-e*f);b+=d*Math.sin(-h*f);d=[[\"M\",l,n],[\"A\",d,d,0,+(180<h-e),0,a,b] ]}else d=[[\"M\",a,b],[\"m\",0,-e],[\"a\",d,e,0,1,1,0,2*e],[\"a\",d,e,0,1,1,0,-2*e],[\"z\"] ];d.toString=z;return d}function G(b){var e=\n",
        "A(b);if(e.abs)return d(e.abs);Q(b,\"array\")&&Q(b&&b[0],\"array\")||(b=a.parsePathString(b));if(!b||!b.length)return[[\"M\",0,0] ];var h=[],f=0,l=0,n=0,k=0,p=0;\"M\"==b[0][0]&&(f=+b[0][1],l=+b[0][2],n=f,k=l,p++,h[0]=[\"M\",f,l]);for(var q=3==b.length&&\"M\"==b[0][0]&&\"R\"==b[1][0].toUpperCase()&&\"Z\"==b[2][0].toUpperCase(),s,r,w=p,c=b.length;w<c;w++){h.push(s=[]);r=b[w];p=r[0];if(p!=p.toUpperCase())switch(s[0]=p.toUpperCase(),s[0]){case \"A\":s[1]=r[1];s[2]=r[2];s[3]=r[3];s[4]=r[4];s[5]=r[5];s[6]=+r[6]+f;s[7]=+r[7]+\n",
        "l;break;case \"V\":s[1]=+r[1]+l;break;case \"H\":s[1]=+r[1]+f;break;case \"R\":for(var t=[f,l].concat(r.slice(1)),u=2,v=t.length;u<v;u++)t[u]=+t[u]+f,t[++u]=+t[u]+l;h.pop();h=h.concat(P(t,q));break;case \"O\":h.pop();t=x(f,l,r[1],r[2]);t.push(t[0]);h=h.concat(t);break;case \"U\":h.pop();h=h.concat(x(f,l,r[1],r[2],r[3]));s=[\"U\"].concat(h[h.length-1].slice(-2));break;case \"M\":n=+r[1]+f,k=+r[2]+l;default:for(u=1,v=r.length;u<v;u++)s[u]=+r[u]+(u%2?f:l)}else if(\"R\"==p)t=[f,l].concat(r.slice(1)),h.pop(),h=h.concat(P(t,\n",
        "q)),s=[\"R\"].concat(r.slice(-2));else if(\"O\"==p)h.pop(),t=x(f,l,r[1],r[2]),t.push(t[0]),h=h.concat(t);else if(\"U\"==p)h.pop(),h=h.concat(x(f,l,r[1],r[2],r[3])),s=[\"U\"].concat(h[h.length-1].slice(-2));else for(t=0,u=r.length;t<u;t++)s[t]=r[t];p=p.toUpperCase();if(\"O\"!=p)switch(s[0]){case \"Z\":f=+n;l=+k;break;case \"H\":f=s[1];break;case \"V\":l=s[1];break;case \"M\":n=s[s.length-2],k=s[s.length-1];default:f=s[s.length-2],l=s[s.length-1]}}h.toString=z;e.abs=d(h);return h}function h(a,b,d,e){return[a,b,d,e,d,\n",
        "e]}function J(a,b,d,e,h,f){var l=1/3,n=2/3;return[l*a+n*d,l*b+n*e,l*h+n*d,l*f+n*e,h,f]}function K(b,d,e,h,f,l,n,k,p,s){var r=120*S/180,q=S/180*(+f||0),c=[],t,x=a._.cacher(function(a,b,c){var d=a*F.cos(c)-b*F.sin(c);a=a*F.sin(c)+b*F.cos(c);return{x:d,y:a}});if(s)v=s[0],t=s[1],l=s[2],u=s[3];else{t=x(b,d,-q);b=t.x;d=t.y;t=x(k,p,-q);k=t.x;p=t.y;F.cos(S/180*f);F.sin(S/180*f);t=(b-k)/2;v=(d-p)/2;u=t*t/(e*e)+v*v/(h*h);1<u&&(u=F.sqrt(u),e*=u,h*=u);var u=e*e,w=h*h,u=(l==n?-1:1)*F.sqrt(Z((u*w-u*v*v-w*t*t)/\n",
        "(u*v*v+w*t*t)));l=u*e*v/h+(b+k)/2;var u=u*-h*t/e+(d+p)/2,v=F.asin(((d-u)/h).toFixed(9));t=F.asin(((p-u)/h).toFixed(9));v=b<l?S-v:v;t=k<l?S-t:t;0>v&&(v=2*S+v);0>t&&(t=2*S+t);n&&v>t&&(v-=2*S);!n&&t>v&&(t-=2*S)}if(Z(t-v)>r){var c=t,w=k,G=p;t=v+r*(n&&t>v?1:-1);k=l+e*F.cos(t);p=u+h*F.sin(t);c=K(k,p,e,h,f,0,n,w,G,[t,c,l,u])}l=t-v;f=F.cos(v);r=F.sin(v);n=F.cos(t);t=F.sin(t);l=F.tan(l/4);e=4/3*e*l;l*=4/3*h;h=[b,d];b=[b+e*r,d-l*f];d=[k+e*t,p-l*n];k=[k,p];b[0]=2*h[0]-b[0];b[1]=2*h[1]-b[1];if(s)return[b,d,k].concat(c);\n",
        "c=[b,d,k].concat(c).join().split(\",\");s=[];k=0;for(p=c.length;k<p;k++)s[k]=k%2?x(c[k-1],c[k],q).y:x(c[k],c[k+1],q).x;return s}function U(a,b,d,e,h,f,l,k){for(var n=[],p=[[],[] ],s,r,c,t,q=0;2>q;++q)0==q?(r=6*a-12*d+6*h,s=-3*a+9*d-9*h+3*l,c=3*d-3*a):(r=6*b-12*e+6*f,s=-3*b+9*e-9*f+3*k,c=3*e-3*b),1E-12>Z(s)?1E-12>Z(r)||(s=-c/r,0<s&&1>s&&n.push(s)):(t=r*r-4*c*s,c=F.sqrt(t),0>t||(t=(-r+c)/(2*s),0<t&&1>t&&n.push(t),s=(-r-c)/(2*s),0<s&&1>s&&n.push(s)));for(r=q=n.length;q--;)s=n[q],c=1-s,p[0][q]=c*c*c*a+3*\n",
        "c*c*s*d+3*c*s*s*h+s*s*s*l,p[1][q]=c*c*c*b+3*c*c*s*e+3*c*s*s*f+s*s*s*k;p[0][r]=a;p[1][r]=b;p[0][r+1]=l;p[1][r+1]=k;p[0].length=p[1].length=r+2;return{min:{x:X.apply(0,p[0]),y:X.apply(0,p[1])},max:{x:W.apply(0,p[0]),y:W.apply(0,p[1])}}}function I(a,b){var e=!b&&A(a);if(!b&&e.curve)return d(e.curve);var f=G(a),l=b&&G(b),n={x:0,y:0,bx:0,by:0,X:0,Y:0,qx:null,qy:null},k={x:0,y:0,bx:0,by:0,X:0,Y:0,qx:null,qy:null},p=function(a,b,c){if(!a)return[\"C\",b.x,b.y,b.x,b.y,b.x,b.y];a[0]in{T:1,Q:1}||(b.qx=b.qy=null);\n",
        "switch(a[0]){case \"M\":b.X=a[1];b.Y=a[2];break;case \"A\":a=[\"C\"].concat(K.apply(0,[b.x,b.y].concat(a.slice(1))));break;case \"S\":\"C\"==c||\"S\"==c?(c=2*b.x-b.bx,b=2*b.y-b.by):(c=b.x,b=b.y);a=[\"C\",c,b].concat(a.slice(1));break;case \"T\":\"Q\"==c||\"T\"==c?(b.qx=2*b.x-b.qx,b.qy=2*b.y-b.qy):(b.qx=b.x,b.qy=b.y);a=[\"C\"].concat(J(b.x,b.y,b.qx,b.qy,a[1],a[2]));break;case \"Q\":b.qx=a[1];b.qy=a[2];a=[\"C\"].concat(J(b.x,b.y,a[1],a[2],a[3],a[4]));break;case \"L\":a=[\"C\"].concat(h(b.x,b.y,a[1],a[2]));break;case \"H\":a=[\"C\"].concat(h(b.x,\n",
        "b.y,a[1],b.y));break;case \"V\":a=[\"C\"].concat(h(b.x,b.y,b.x,a[1]));break;case \"Z\":a=[\"C\"].concat(h(b.x,b.y,b.X,b.Y))}return a},s=function(a,b){if(7<a[b].length){a[b].shift();for(var c=a[b];c.length;)q[b]=\"A\",l&&(u[b]=\"A\"),a.splice(b++,0,[\"C\"].concat(c.splice(0,6)));a.splice(b,1);v=W(f.length,l&&l.length||0)}},r=function(a,b,c,d,e){a&&b&&\"M\"==a[e][0]&&\"M\"!=b[e][0]&&(b.splice(e,0,[\"M\",d.x,d.y]),c.bx=0,c.by=0,c.x=a[e][1],c.y=a[e][2],v=W(f.length,l&&l.length||0))},q=[],u=[],c=\"\",t=\"\",x=0,v=W(f.length,\n",
        "l&&l.length||0);for(;x<v;x++){f[x]&&(c=f[x][0]);\"C\"!=c&&(q[x]=c,x&&(t=q[x-1]));f[x]=p(f[x],n,t);\"A\"!=q[x]&&\"C\"==c&&(q[x]=\"C\");s(f,x);l&&(l[x]&&(c=l[x][0]),\"C\"!=c&&(u[x]=c,x&&(t=u[x-1])),l[x]=p(l[x],k,t),\"A\"!=u[x]&&\"C\"==c&&(u[x]=\"C\"),s(l,x));r(f,l,n,k,x);r(l,f,k,n,x);var w=f[x],z=l&&l[x],y=w.length,U=l&&z.length;n.x=w[y-2];n.y=w[y-1];n.bx=$(w[y-4])||n.x;n.by=$(w[y-3])||n.y;k.bx=l&&($(z[U-4])||k.x);k.by=l&&($(z[U-3])||k.y);k.x=l&&z[U-2];k.y=l&&z[U-1]}l||(e.curve=d(f));return l?[f,l]:f}function P(a,\n",
        "b){for(var d=[],e=0,h=a.length;h-2*!b>e;e+=2){var f=[{x:+a[e-2],y:+a[e-1]},{x:+a[e],y:+a[e+1]},{x:+a[e+2],y:+a[e+3]},{x:+a[e+4],y:+a[e+5]}];b?e?h-4==e?f[3]={x:+a[0],y:+a[1]}:h-2==e&&(f[2]={x:+a[0],y:+a[1]},f[3]={x:+a[2],y:+a[3]}):f[0]={x:+a[h-2],y:+a[h-1]}:h-4==e?f[3]=f[2]:e||(f[0]={x:+a[e],y:+a[e+1]});d.push([\"C\",(-f[0].x+6*f[1].x+f[2].x)/6,(-f[0].y+6*f[1].y+f[2].y)/6,(f[1].x+6*f[2].x-f[3].x)/6,(f[1].y+6*f[2].y-f[3].y)/6,f[2].x,f[2].y])}return d}y=k.prototype;var Q=a.is,C=a._.clone,L=\"hasOwnProperty\",\n",
        "N=/,?([a-z]),?/gi,$=parseFloat,F=Math,S=F.PI,X=F.min,W=F.max,ma=F.pow,Z=F.abs;M=n(1);var na=n(),ba=n(0,1),V=a._unit2px;a.path=A;a.path.getTotalLength=M;a.path.getPointAtLength=na;a.path.getSubpath=function(a,b,d){if(1E-6>this.getTotalLength(a)-d)return ba(a,b).end;a=ba(a,d,1);return b?ba(a,b).end:a};y.getTotalLength=function(){if(this.node.getTotalLength)return this.node.getTotalLength()};y.getPointAtLength=function(a){return na(this.attr(\"d\"),a)};y.getSubpath=function(b,d){return a.path.getSubpath(this.attr(\"d\"),\n",
        "b,d)};a._.box=w;a.path.findDotsAtSegment=u;a.path.bezierBBox=p;a.path.isPointInsideBBox=b;a.path.isBBoxIntersect=q;a.path.intersection=function(a,b){return l(a,b)};a.path.intersectionNumber=function(a,b){return l(a,b,1)};a.path.isPointInside=function(a,d,e){var h=r(a);return b(h,d,e)&&1==l(a,[[\"M\",d,e],[\"H\",h.x2+10] ],1)%2};a.path.getBBox=r;a.path.get={path:function(a){return a.attr(\"path\")},circle:function(a){a=V(a);return x(a.cx,a.cy,a.r)},ellipse:function(a){a=V(a);return x(a.cx||0,a.cy||0,a.rx,\n",
        "a.ry)},rect:function(a){a=V(a);return s(a.x||0,a.y||0,a.width,a.height,a.rx,a.ry)},image:function(a){a=V(a);return s(a.x||0,a.y||0,a.width,a.height)},line:function(a){return\"M\"+[a.attr(\"x1\")||0,a.attr(\"y1\")||0,a.attr(\"x2\"),a.attr(\"y2\")]},polyline:function(a){return\"M\"+a.attr(\"points\")},polygon:function(a){return\"M\"+a.attr(\"points\")+\"z\"},deflt:function(a){a=a.node.getBBox();return s(a.x,a.y,a.width,a.height)}};a.path.toRelative=function(b){var e=A(b),h=String.prototype.toLowerCase;if(e.rel)return d(e.rel);\n",
        "a.is(b,\"array\")&&a.is(b&&b[0],\"array\")||(b=a.parsePathString(b));var f=[],l=0,n=0,k=0,p=0,s=0;\"M\"==b[0][0]&&(l=b[0][1],n=b[0][2],k=l,p=n,s++,f.push([\"M\",l,n]));for(var r=b.length;s<r;s++){var q=f[s]=[],x=b[s];if(x[0]!=h.call(x[0]))switch(q[0]=h.call(x[0]),q[0]){case \"a\":q[1]=x[1];q[2]=x[2];q[3]=x[3];q[4]=x[4];q[5]=x[5];q[6]=+(x[6]-l).toFixed(3);q[7]=+(x[7]-n).toFixed(3);break;case \"v\":q[1]=+(x[1]-n).toFixed(3);break;case \"m\":k=x[1],p=x[2];default:for(var c=1,t=x.length;c<t;c++)q[c]=+(x[c]-(c%2?l:\n",
        "n)).toFixed(3)}else for(f[s]=[],\"m\"==x[0]&&(k=x[1]+l,p=x[2]+n),q=0,c=x.length;q<c;q++)f[s][q]=x[q];x=f[s].length;switch(f[s][0]){case \"z\":l=k;n=p;break;case \"h\":l+=+f[s][x-1];break;case \"v\":n+=+f[s][x-1];break;default:l+=+f[s][x-2],n+=+f[s][x-1]}}f.toString=z;e.rel=d(f);return f};a.path.toAbsolute=G;a.path.toCubic=I;a.path.map=function(a,b){if(!b)return a;var d,e,h,f,l,n,k;a=I(a);h=0;for(l=a.length;h<l;h++)for(k=a[h],f=1,n=k.length;f<n;f+=2)d=b.x(k[f],k[f+1]),e=b.y(k[f],k[f+1]),k[f]=d,k[f+1]=e;return a};\n",
        "a.path.toString=z;a.path.clone=d});C.plugin(function(a,v,y,C){var A=Math.max,w=Math.min,z=function(a){this.items=[];this.bindings={};this.length=0;this.type=\"set\";if(a)for(var f=0,n=a.length;f<n;f++)a[f]&&(this[this.items.length]=this.items[this.items.length]=a[f],this.length++)};v=z.prototype;v.push=function(){for(var a,f,n=0,k=arguments.length;n<k;n++)if(a=arguments[n])f=this.items.length,this[f]=this.items[f]=a,this.length++;return this};v.pop=function(){this.length&&delete this[this.length--];\n",
        "return this.items.pop()};v.forEach=function(a,f){for(var n=0,k=this.items.length;n<k&&!1!==a.call(f,this.items[n],n);n++);return this};v.animate=function(d,f,n,u){\"function\"!=typeof n||n.length||(u=n,n=L.linear);d instanceof a._.Animation&&(u=d.callback,n=d.easing,f=n.dur,d=d.attr);var p=arguments;if(a.is(d,\"array\")&&a.is(p[p.length-1],\"array\"))var b=!0;var q,e=function(){q?this.b=q:q=this.b},l=0,r=u&&function(){l++==this.length&&u.call(this)};return this.forEach(function(a,l){k.once(\"snap.animcreated.\"+\n",
        "a.id,e);b?p[l]&&a.animate.apply(a,p[l]):a.animate(d,f,n,r)})};v.remove=function(){for(;this.length;)this.pop().remove();return this};v.bind=function(a,f,k){var u={};if(\"function\"==typeof f)this.bindings[a]=f;else{var p=k||a;this.bindings[a]=function(a){u[p]=a;f.attr(u)}}return this};v.attr=function(a){var f={},k;for(k in a)if(this.bindings[k])this.bindings[k](a[k]);else f[k]=a[k];a=0;for(k=this.items.length;a<k;a++)this.items[a].attr(f);return this};v.clear=function(){for(;this.length;)this.pop()};\n",
        "v.splice=function(a,f,k){a=0>a?A(this.length+a,0):a;f=A(0,w(this.length-a,f));var u=[],p=[],b=[],q;for(q=2;q<arguments.length;q++)b.push(arguments[q]);for(q=0;q<f;q++)p.push(this[a+q]);for(;q<this.length-a;q++)u.push(this[a+q]);var e=b.length;for(q=0;q<e+u.length;q++)this.items[a+q]=this[a+q]=q<e?b[q]:u[q-e];for(q=this.items.length=this.length-=f-e;this[q];)delete this[q++];return new z(p)};v.exclude=function(a){for(var f=0,k=this.length;f<k;f++)if(this[f]==a)return this.splice(f,1),!0;return!1};\n",
        "v.insertAfter=function(a){for(var f=this.items.length;f--;)this.items[f].insertAfter(a);return this};v.getBBox=function(){for(var a=[],f=[],k=[],u=[],p=this.items.length;p--;)if(!this.items[p].removed){var b=this.items[p].getBBox();a.push(b.x);f.push(b.y);k.push(b.x+b.width);u.push(b.y+b.height)}a=w.apply(0,a);f=w.apply(0,f);k=A.apply(0,k);u=A.apply(0,u);return{x:a,y:f,x2:k,y2:u,width:k-a,height:u-f,cx:a+(k-a)/2,cy:f+(u-f)/2}};v.clone=function(a){a=new z;for(var f=0,k=this.items.length;f<k;f++)a.push(this.items[f].clone());\n",
        "return a};v.toString=function(){return\"Snap\\u2018s set\"};v.type=\"set\";a.set=function(){var a=new z;arguments.length&&a.push.apply(a,Array.prototype.slice.call(arguments,0));return a}});C.plugin(function(a,v,y,C){function A(a){var b=a[0];switch(b.toLowerCase()){case \"t\":return[b,0,0];case \"m\":return[b,1,0,0,1,0,0];case \"r\":return 4==a.length?[b,0,a[2],a[3] ]:[b,0];case \"s\":return 5==a.length?[b,1,1,a[3],a[4] ]:3==a.length?[b,1,1]:[b,1]}}function w(b,d,f){d=q(d).replace(/\\.{3}|\\u2026/g,b);b=a.parseTransformString(b)||\n",
        "[];d=a.parseTransformString(d)||[];for(var k=Math.max(b.length,d.length),p=[],v=[],h=0,w,z,y,I;h<k;h++){y=b[h]||A(d[h]);I=d[h]||A(y);if(y[0]!=I[0]||\"r\"==y[0].toLowerCase()&&(y[2]!=I[2]||y[3]!=I[3])||\"s\"==y[0].toLowerCase()&&(y[3]!=I[3]||y[4]!=I[4])){b=a._.transform2matrix(b,f());d=a._.transform2matrix(d,f());p=[[\"m\",b.a,b.b,b.c,b.d,b.e,b.f] ];v=[[\"m\",d.a,d.b,d.c,d.d,d.e,d.f] ];break}p[h]=[];v[h]=[];w=0;for(z=Math.max(y.length,I.length);w<z;w++)w in y&&(p[h][w]=y[w]),w in I&&(v[h][w]=I[w])}return{from:u(p),\n",
        "to:u(v),f:n(p)}}function z(a){return a}function d(a){return function(b){return+b.toFixed(3)+a}}function f(b){return a.rgb(b[0],b[1],b[2])}function n(a){var b=0,d,f,k,n,h,p,q=[];d=0;for(f=a.length;d<f;d++){h=\"[\";p=['\"'+a[d][0]+'\"'];k=1;for(n=a[d].length;k<n;k++)p[k]=\"val[\"+b++ +\"]\";h+=p+\"]\";q[d]=h}return Function(\"val\",\"return Snap.path.toString.call([\"+q+\"])\")}function u(a){for(var b=[],d=0,f=a.length;d<f;d++)for(var k=1,n=a[d].length;k<n;k++)b.push(a[d][k]);return b}var p={},b=/[a-z]+$/i,q=String;\n",
        "p.stroke=p.fill=\"colour\";v.prototype.equal=function(a,b){return k(\"snap.util.equal\",this,a,b).firstDefined()};k.on(\"snap.util.equal\",function(e,k){var r,s;r=q(this.attr(e)||\"\");var x=this;if(r==+r&&k==+k)return{from:+r,to:+k,f:z};if(\"colour\"==p[e])return r=a.color(r),s=a.color(k),{from:[r.r,r.g,r.b,r.opacity],to:[s.r,s.g,s.b,s.opacity],f:f};if(\"transform\"==e||\"gradientTransform\"==e||\"patternTransform\"==e)return k instanceof a.Matrix&&(k=k.toTransformString()),a._.rgTransform.test(k)||(k=a._.svgTransform2string(k)),\n",
        "w(r,k,function(){return x.getBBox(1)});if(\"d\"==e||\"path\"==e)return r=a.path.toCubic(r,k),{from:u(r[0]),to:u(r[1]),f:n(r[0])};if(\"points\"==e)return r=q(r).split(a._.separator),s=q(k).split(a._.separator),{from:r,to:s,f:function(a){return a}};aUnit=r.match(b);s=q(k).match(b);return aUnit&&aUnit==s?{from:parseFloat(r),to:parseFloat(k),f:d(aUnit)}:{from:this.asPX(e),to:this.asPX(e,k),f:z}})});C.plugin(function(a,v,y,C){var A=v.prototype,w=\"createTouch\"in C.doc;v=\"click dblclick mousedown mousemove mouseout mouseover mouseup touchstart touchmove touchend touchcancel\".split(\" \");\n",
        "var z={mousedown:\"touchstart\",mousemove:\"touchmove\",mouseup:\"touchend\"},d=function(a,b){var d=\"y\"==a?\"scrollTop\":\"scrollLeft\",e=b&&b.node?b.node.ownerDocument:C.doc;return e[d in e.documentElement?\"documentElement\":\"body\"][d]},f=function(){this.returnValue=!1},n=function(){return this.originalEvent.preventDefault()},u=function(){this.cancelBubble=!0},p=function(){return this.originalEvent.stopPropagation()},b=function(){if(C.doc.addEventListener)return function(a,b,e,f){var k=w&&z[b]?z[b]:b,l=function(k){var l=\n",
        "d(\"y\",f),q=d(\"x\",f);if(w&&z.hasOwnProperty(b))for(var r=0,u=k.targetTouches&&k.targetTouches.length;r<u;r++)if(k.targetTouches[r].target==a||a.contains(k.targetTouches[r].target)){u=k;k=k.targetTouches[r];k.originalEvent=u;k.preventDefault=n;k.stopPropagation=p;break}return e.call(f,k,k.clientX+q,k.clientY+l)};b!==k&&a.addEventListener(b,l,!1);a.addEventListener(k,l,!1);return function(){b!==k&&a.removeEventListener(b,l,!1);a.removeEventListener(k,l,!1);return!0}};if(C.doc.attachEvent)return function(a,\n",
        "b,e,h){var k=function(a){a=a||h.node.ownerDocument.window.event;var b=d(\"y\",h),k=d(\"x\",h),k=a.clientX+k,b=a.clientY+b;a.preventDefault=a.preventDefault||f;a.stopPropagation=a.stopPropagation||u;return e.call(h,a,k,b)};a.attachEvent(\"on\"+b,k);return function(){a.detachEvent(\"on\"+b,k);return!0}}}(),q=[],e=function(a){for(var b=a.clientX,e=a.clientY,f=d(\"y\"),l=d(\"x\"),n,p=q.length;p--;){n=q[p];if(w)for(var r=a.touches&&a.touches.length,u;r--;){if(u=a.touches[r],u.identifier==n.el._drag.id||n.el.node.contains(u.target)){b=\n",
        "u.clientX;e=u.clientY;(a.originalEvent?a.originalEvent:a).preventDefault();break}}else a.preventDefault();b+=l;e+=f;k(\"snap.drag.move.\"+n.el.id,n.move_scope||n.el,b-n.el._drag.x,e-n.el._drag.y,b,e,a)}},l=function(b){a.unmousemove(e).unmouseup(l);for(var d=q.length,f;d--;)f=q[d],f.el._drag={},k(\"snap.drag.end.\"+f.el.id,f.end_scope||f.start_scope||f.move_scope||f.el,b);q=[]};for(y=v.length;y--;)(function(d){a[d]=A[d]=function(e,f){a.is(e,\"function\")&&(this.events=this.events||[],this.events.push({name:d,\n",
        "f:e,unbind:b(this.node||document,d,e,f||this)}));return this};a[\"un\"+d]=A[\"un\"+d]=function(a){for(var b=this.events||[],e=b.length;e--;)if(b[e].name==d&&(b[e].f==a||!a)){b[e].unbind();b.splice(e,1);!b.length&&delete this.events;break}return this}})(v[y]);A.hover=function(a,b,d,e){return this.mouseover(a,d).mouseout(b,e||d)};A.unhover=function(a,b){return this.unmouseover(a).unmouseout(b)};var r=[];A.drag=function(b,d,f,h,n,p){function u(r,v,w){(r.originalEvent||r).preventDefault();this._drag.x=v;\n",
        "this._drag.y=w;this._drag.id=r.identifier;!q.length&&a.mousemove(e).mouseup(l);q.push({el:this,move_scope:h,start_scope:n,end_scope:p});d&&k.on(\"snap.drag.start.\"+this.id,d);b&&k.on(\"snap.drag.move.\"+this.id,b);f&&k.on(\"snap.drag.end.\"+this.id,f);k(\"snap.drag.start.\"+this.id,n||h||this,v,w,r)}if(!arguments.length){var v;return this.drag(function(a,b){this.attr({transform:v+(v?\"T\":\"t\")+[a,b]})},function(){v=this.transform().local})}this._drag={};r.push({el:this,start:u});this.mousedown(u);return this};\n",
        "A.undrag=function(){for(var b=r.length;b--;)r[b].el==this&&(this.unmousedown(r[b].start),r.splice(b,1),k.unbind(\"snap.drag.*.\"+this.id));!r.length&&a.unmousemove(e).unmouseup(l);return this}});C.plugin(function(a,v,y,C){y=y.prototype;var A=/^\\s*url\\((.+)\\)/,w=String,z=a._.$;a.filter={};y.filter=function(d){var f=this;\"svg\"!=f.type&&(f=f.paper);d=a.parse(w(d));var k=a._.id(),u=z(\"filter\");z(u,{id:k,filterUnits:\"userSpaceOnUse\"});u.appendChild(d.node);f.defs.appendChild(u);return new v(u)};k.on(\"snap.util.getattr.filter\",\n",
        "function(){k.stop();var d=z(this.node,\"filter\");if(d)return(d=w(d).match(A))&&a.select(d[1])});k.on(\"snap.util.attr.filter\",function(d){if(d instanceof v&&\"filter\"==d.type){k.stop();var f=d.node.id;f||(z(d.node,{id:d.id}),f=d.id);z(this.node,{filter:a.url(f)})}d&&\"none\"!=d||(k.stop(),this.node.removeAttribute(\"filter\"))});a.filter.blur=function(d,f){null==d&&(d=2);return a.format('<feGaussianBlur stdDeviation=\"{def}\"/>',{def:null==f?d:[d,f]})};a.filter.blur.toString=function(){return this()};a.filter.shadow=\n",
        "function(d,f,k,u,p){\"string\"==typeof k&&(p=u=k,k=4);\"string\"!=typeof u&&(p=u,u=\"#000\");null==k&&(k=4);null==p&&(p=1);null==d&&(d=0,f=2);null==f&&(f=d);u=a.color(u||\"#000\");return a.format('<feGaussianBlur in=\"SourceAlpha\" stdDeviation=\"{blur}\"/><feOffset dx=\"{dx}\" dy=\"{dy}\" result=\"offsetblur\"/><feFlood flood-color=\"{color}\"/><feComposite in2=\"offsetblur\" operator=\"in\"/><feComponentTransfer><feFuncA type=\"linear\" slope=\"{opacity}\"/></feComponentTransfer><feMerge><feMergeNode/><feMergeNode in=\"SourceGraphic\"/></feMerge>',\n",
        "{color:u,dx:d,dy:f,blur:k,opacity:p})};a.filter.shadow.toString=function(){return this()};a.filter.grayscale=function(d){null==d&&(d=1);return a.format('<feColorMatrix type=\"matrix\" values=\"{a} {b} {c} 0 0 {d} {e} {f} 0 0 {g} {b} {h} 0 0 0 0 0 1 0\"/>',{a:0.2126+0.7874*(1-d),b:0.7152-0.7152*(1-d),c:0.0722-0.0722*(1-d),d:0.2126-0.2126*(1-d),e:0.7152+0.2848*(1-d),f:0.0722-0.0722*(1-d),g:0.2126-0.2126*(1-d),h:0.0722+0.9278*(1-d)})};a.filter.grayscale.toString=function(){return this()};a.filter.sepia=\n",
        "function(d){null==d&&(d=1);return a.format('<feColorMatrix type=\"matrix\" values=\"{a} {b} {c} 0 0 {d} {e} {f} 0 0 {g} {h} {i} 0 0 0 0 0 1 0\"/>',{a:0.393+0.607*(1-d),b:0.769-0.769*(1-d),c:0.189-0.189*(1-d),d:0.349-0.349*(1-d),e:0.686+0.314*(1-d),f:0.168-0.168*(1-d),g:0.272-0.272*(1-d),h:0.534-0.534*(1-d),i:0.131+0.869*(1-d)})};a.filter.sepia.toString=function(){return this()};a.filter.saturate=function(d){null==d&&(d=1);return a.format('<feColorMatrix type=\"saturate\" values=\"{amount}\"/>',{amount:1-\n",
        "d})};a.filter.saturate.toString=function(){return this()};a.filter.hueRotate=function(d){return a.format('<feColorMatrix type=\"hueRotate\" values=\"{angle}\"/>',{angle:d||0})};a.filter.hueRotate.toString=function(){return this()};a.filter.invert=function(d){null==d&&(d=1);return a.format('<feComponentTransfer><feFuncR type=\"table\" tableValues=\"{amount} {amount2}\"/><feFuncG type=\"table\" tableValues=\"{amount} {amount2}\"/><feFuncB type=\"table\" tableValues=\"{amount} {amount2}\"/></feComponentTransfer>',{amount:d,\n",
        "amount2:1-d})};a.filter.invert.toString=function(){return this()};a.filter.brightness=function(d){null==d&&(d=1);return a.format('<feComponentTransfer><feFuncR type=\"linear\" slope=\"{amount}\"/><feFuncG type=\"linear\" slope=\"{amount}\"/><feFuncB type=\"linear\" slope=\"{amount}\"/></feComponentTransfer>',{amount:d})};a.filter.brightness.toString=function(){return this()};a.filter.contrast=function(d){null==d&&(d=1);return a.format('<feComponentTransfer><feFuncR type=\"linear\" slope=\"{amount}\" intercept=\"{amount2}\"/><feFuncG type=\"linear\" slope=\"{amount}\" intercept=\"{amount2}\"/><feFuncB type=\"linear\" slope=\"{amount}\" intercept=\"{amount2}\"/></feComponentTransfer>',\n",
        "{amount:d,amount2:0.5-d/2})};a.filter.contrast.toString=function(){return this()}});return C});\n",
        "\n",
        "]]> </script>\n",
        "<script> <![CDATA[\n",
        "\n",
        "(function (glob, factory) {\n",
        "    // AMD support\n",
        "    if (typeof define === \"function\" && define.amd) {\n",
        "        // Define as an anonymous module\n",
        "        define(\"Gadfly\", [\"Snap.svg\"], function (Snap) {\n",
        "            return factory(Snap);\n",
        "        });\n",
        "    } else {\n",
        "        // Browser globals (glob is window)\n",
        "        // Snap adds itself to window\n",
        "        glob.Gadfly = factory(glob.Snap);\n",
        "    }\n",
        "}(this, function (Snap) {\n",
        "\n",
        "var Gadfly = {};\n",
        "\n",
        "// Get an x/y coordinate value in pixels\n",
        "var xPX = function(fig, x) {\n",
        "    var client_box = fig.node.getBoundingClientRect();\n",
        "    return x * fig.node.viewBox.baseVal.width / client_box.width;\n",
        "};\n",
        "\n",
        "var yPX = function(fig, y) {\n",
        "    var client_box = fig.node.getBoundingClientRect();\n",
        "    return y * fig.node.viewBox.baseVal.height / client_box.height;\n",
        "};\n",
        "\n",
        "\n",
        "Snap.plugin(function (Snap, Element, Paper, global) {\n",
        "    // Traverse upwards from a snap element to find and return the first\n",
        "    // note with the \"plotroot\" class.\n",
        "    Element.prototype.plotroot = function () {\n",
        "        var element = this;\n",
        "        while (!element.hasClass(\"plotroot\") && element.parent() != null) {\n",
        "            element = element.parent();\n",
        "        }\n",
        "        return element;\n",
        "    };\n",
        "\n",
        "    Element.prototype.svgroot = function () {\n",
        "        var element = this;\n",
        "        while (element.node.nodeName != \"svg\" && element.parent() != null) {\n",
        "            element = element.parent();\n",
        "        }\n",
        "        return element;\n",
        "    };\n",
        "\n",
        "    Element.prototype.plotbounds = function () {\n",
        "        var root = this.plotroot()\n",
        "        var bbox = root.select(\".guide.background\").node.getBBox();\n",
        "        return {\n",
        "            x0: bbox.x,\n",
        "            x1: bbox.x + bbox.width,\n",
        "            y0: bbox.y,\n",
        "            y1: bbox.y + bbox.height\n",
        "        };\n",
        "    };\n",
        "\n",
        "    Element.prototype.plotcenter = function () {\n",
        "        var root = this.plotroot()\n",
        "        var bbox = root.select(\".guide.background\").node.getBBox();\n",
        "        return {\n",
        "            x: bbox.x + bbox.width / 2,\n",
        "            y: bbox.y + bbox.height / 2\n",
        "        };\n",
        "    };\n",
        "\n",
        "    // Emulate IE style mouseenter/mouseleave events, since Microsoft always\n",
        "    // does everything right.\n",
        "    // See: http://www.dynamic-tools.net/toolbox/isMouseLeaveOrEnter/\n",
        "    var events = [\"mouseenter\", \"mouseleave\"];\n",
        "\n",
        "    for (i in events) {\n",
        "        (function (event_name) {\n",
        "            var event_name = events[i];\n",
        "            Element.prototype[event_name] = function (fn, scope) {\n",
        "                if (Snap.is(fn, \"function\")) {\n",
        "                    var fn2 = function (event) {\n",
        "                        if (event.type != \"mouseover\" && event.type != \"mouseout\") {\n",
        "                            return;\n",
        "                        }\n",
        "\n",
        "                        var reltg = event.relatedTarget ? event.relatedTarget :\n",
        "                            event.type == \"mouseout\" ? event.toElement : event.fromElement;\n",
        "                        while (reltg && reltg != this.node) reltg = reltg.parentNode;\n",
        "\n",
        "                        if (reltg != this.node) {\n",
        "                            return fn.apply(this, event);\n",
        "                        }\n",
        "                    };\n",
        "\n",
        "                    if (event_name == \"mouseenter\") {\n",
        "                        this.mouseover(fn2, scope);\n",
        "                    } else {\n",
        "                        this.mouseout(fn2, scope);\n",
        "                    }\n",
        "                }\n",
        "                return this;\n",
        "            };\n",
        "        })(events[i]);\n",
        "    }\n",
        "\n",
        "\n",
        "    Element.prototype.mousewheel = function (fn, scope) {\n",
        "        if (Snap.is(fn, \"function\")) {\n",
        "            var el = this;\n",
        "            var fn2 = function (event) {\n",
        "                fn.apply(el, [event]);\n",
        "            };\n",
        "        }\n",
        "\n",
        "        this.node.addEventListener(\n",
        "            /Firefox/i.test(navigator.userAgent) ? \"DOMMouseScroll\" : \"mousewheel\",\n",
        "            fn2);\n",
        "\n",
        "        return this;\n",
        "    };\n",
        "\n",
        "\n",
        "    // Snap's attr function can be too slow for things like panning/zooming.\n",
        "    // This is a function to directly update element attributes without going\n",
        "    // through eve.\n",
        "    Element.prototype.attribute = function(key, val) {\n",
        "        if (val === undefined) {\n",
        "            return this.node.getAttribute(key, val);\n",
        "        } else {\n",
        "            return this.node.setAttribute(key, val);\n",
        "        }\n",
        "    };\n",
        "});\n",
        "\n",
        "\n",
        "// When the plot is moused over, emphasize the grid lines.\n",
        "Gadfly.plot_mouseover = function(event) {\n",
        "    var root = this.plotroot();\n",
        "    init_pan_zoom(root);\n",
        "\n",
        "    var xgridlines = root.select(\".xgridlines\"),\n",
        "        ygridlines = root.select(\".ygridlines\");\n",
        "\n",
        "    xgridlines.data(\"unfocused_strokedash\",\n",
        "                    xgridlines.attr(\"stroke-dasharray\").replace(/px/g, \"mm\"))\n",
        "    ygridlines.data(\"unfocused_strokedash\",\n",
        "                    ygridlines.attr(\"stroke-dasharray\").replace(/px/g, \"mm\"))\n",
        "\n",
        "    // emphasize grid lines\n",
        "    var destcolor = root.data(\"focused_xgrid_color\");\n",
        "    xgridlines.attr(\"stroke-dasharray\", \"none\")\n",
        "              .selectAll(\"path\")\n",
        "              .animate({stroke: destcolor}, 250);\n",
        "\n",
        "    destcolor = root.data(\"focused_ygrid_color\");\n",
        "    ygridlines.attr(\"stroke-dasharray\", \"none\")\n",
        "              .selectAll(\"path\")\n",
        "              .animate({stroke: destcolor}, 250);\n",
        "\n",
        "    // reveal zoom slider\n",
        "    root.select(\".zoomslider\")\n",
        "        .animate({opacity: 1.0}, 250);\n",
        "};\n",
        "\n",
        "\n",
        "// Unemphasize grid lines on mouse out.\n",
        "Gadfly.plot_mouseout = function(event) {\n",
        "    var root = this.plotroot();\n",
        "    var xgridlines = root.select(\".xgridlines\"),\n",
        "        ygridlines = root.select(\".ygridlines\");\n",
        "\n",
        "    var destcolor = root.data(\"unfocused_xgrid_color\");\n",
        "\n",
        "    xgridlines.attr(\"stroke-dasharray\", xgridlines.data(\"unfocused_strokedash\"))\n",
        "              .selectAll(\"path\")\n",
        "              .animate({stroke: destcolor}, 250);\n",
        "\n",
        "    destcolor = root.data(\"unfocused_ygrid_color\");\n",
        "    ygridlines.attr(\"stroke-dasharray\", ygridlines.data(\"unfocused_strokedash\"))\n",
        "              .selectAll(\"path\")\n",
        "              .animate({stroke: destcolor}, 250);\n",
        "\n",
        "    // hide zoom slider\n",
        "    root.select(\".zoomslider\")\n",
        "        .animate({opacity: 0.0}, 250);\n",
        "};\n",
        "\n",
        "\n",
        "var set_geometry_transform = function(root, tx, ty, scale) {\n",
        "    var xscalable = root.hasClass(\"xscalable\"),\n",
        "        yscalable = root.hasClass(\"yscalable\");\n",
        "\n",
        "    var old_scale = root.data(\"scale\");\n",
        "\n",
        "    var xscale = xscalable ? scale : 1.0,\n",
        "        yscale = yscalable ? scale : 1.0;\n",
        "\n",
        "    tx = xscalable ? tx : 0.0;\n",
        "    ty = yscalable ? ty : 0.0;\n",
        "\n",
        "    var t = new Snap.Matrix().translate(tx, ty).scale(xscale, yscale);\n",
        "\n",
        "    root.selectAll(\".geometry, image\")\n",
        "        .forEach(function (element, i) {\n",
        "            element.transform(t);\n",
        "        });\n",
        "\n",
        "    bounds = root.plotbounds();\n",
        "\n",
        "    if (yscalable) {\n",
        "        var xfixed_t = new Snap.Matrix().translate(0, ty).scale(1.0, yscale);\n",
        "        root.selectAll(\".xfixed\")\n",
        "            .forEach(function (element, i) {\n",
        "                element.transform(xfixed_t);\n",
        "            });\n",
        "\n",
        "        root.select(\".ylabels\")\n",
        "            .transform(xfixed_t)\n",
        "            .selectAll(\"text\")\n",
        "            .forEach(function (element, i) {\n",
        "                if (element.attribute(\"gadfly:inscale\") == \"true\") {\n",
        "                    var cx = element.asPX(\"x\"),\n",
        "                        cy = element.asPX(\"y\");\n",
        "                    var st = element.data(\"static_transform\");\n",
        "                    unscale_t = new Snap.Matrix();\n",
        "                    unscale_t.scale(1, 1/scale, cx, cy).add(st);\n",
        "                    element.transform(unscale_t);\n",
        "\n",
        "                    var y = cy * scale + ty;\n",
        "                    element.attr(\"visibility\",\n",
        "                        bounds.y0 <= y && y <= bounds.y1 ? \"visible\" : \"hidden\");\n",
        "                }\n",
        "            });\n",
        "    }\n",
        "\n",
        "    if (xscalable) {\n",
        "        var yfixed_t = new Snap.Matrix().translate(tx, 0).scale(xscale, 1.0);\n",
        "        var xtrans = new Snap.Matrix().translate(tx, 0);\n",
        "        root.selectAll(\".yfixed\")\n",
        "            .forEach(function (element, i) {\n",
        "                element.transform(yfixed_t);\n",
        "            });\n",
        "\n",
        "        root.select(\".xlabels\")\n",
        "            .transform(yfixed_t)\n",
        "            .selectAll(\"text\")\n",
        "            .forEach(function (element, i) {\n",
        "                if (element.attribute(\"gadfly:inscale\") == \"true\") {\n",
        "                    var cx = element.asPX(\"x\"),\n",
        "                        cy = element.asPX(\"y\");\n",
        "                    var st = element.data(\"static_transform\");\n",
        "                    unscale_t = new Snap.Matrix();\n",
        "                    unscale_t.scale(1/scale, 1, cx, cy).add(st);\n",
        "\n",
        "                    element.transform(unscale_t);\n",
        "\n",
        "                    var x = cx * scale + tx;\n",
        "                    element.attr(\"visibility\",\n",
        "                        bounds.x0 <= x && x <= bounds.x1 ? \"visible\" : \"hidden\");\n",
        "                    }\n",
        "            });\n",
        "    }\n",
        "\n",
        "    // we must unscale anything that is scale invariance: widths, raiduses, etc.\n",
        "    var size_attribs = [\"font-size\"];\n",
        "    var unscaled_selection = \".geometry, .geometry *\";\n",
        "    if (xscalable) {\n",
        "        size_attribs.push(\"rx\");\n",
        "        unscaled_selection += \", .xgridlines\";\n",
        "    }\n",
        "    if (yscalable) {\n",
        "        size_attribs.push(\"ry\");\n",
        "        unscaled_selection += \", .ygridlines\";\n",
        "    }\n",
        "\n",
        "    root.selectAll(unscaled_selection)\n",
        "        .forEach(function (element, i) {\n",
        "            // circle need special help\n",
        "            if (element.node.nodeName == \"circle\") {\n",
        "                var cx = element.attribute(\"cx\"),\n",
        "                    cy = element.attribute(\"cy\");\n",
        "                unscale_t = new Snap.Matrix().scale(1/xscale, 1/yscale,\n",
        "                                                        cx, cy);\n",
        "                element.transform(unscale_t);\n",
        "                return;\n",
        "            }\n",
        "\n",
        "            for (i in size_attribs) {\n",
        "                var key = size_attribs[i];\n",
        "                var val = parseFloat(element.attribute(key));\n",
        "                if (val !== undefined && val != 0 && !isNaN(val)) {\n",
        "                    element.attribute(key, val * old_scale / scale);\n",
        "                }\n",
        "            }\n",
        "        });\n",
        "};\n",
        "\n",
        "\n",
        "// Find the most appropriate tick scale and update label visibility.\n",
        "var update_tickscale = function(root, scale, axis) {\n",
        "    if (!root.hasClass(axis + \"scalable\")) return;\n",
        "\n",
        "    var tickscales = root.data(axis + \"tickscales\");\n",
        "    var best_tickscale = 1.0;\n",
        "    var best_tickscale_dist = Infinity;\n",
        "    for (tickscale in tickscales) {\n",
        "        var dist = Math.abs(Math.log(tickscale) - Math.log(scale));\n",
        "        if (dist < best_tickscale_dist) {\n",
        "            best_tickscale_dist = dist;\n",
        "            best_tickscale = tickscale;\n",
        "        }\n",
        "    }\n",
        "\n",
        "    if (best_tickscale != root.data(axis + \"tickscale\")) {\n",
        "        root.data(axis + \"tickscale\", best_tickscale);\n",
        "        var mark_inscale_gridlines = function (element, i) {\n",
        "            var inscale = element.attr(\"gadfly:scale\") == best_tickscale;\n",
        "            element.attribute(\"gadfly:inscale\", inscale);\n",
        "            element.attr(\"visibility\", inscale ? \"visible\" : \"hidden\");\n",
        "        };\n",
        "\n",
        "        var mark_inscale_labels = function (element, i) {\n",
        "            var inscale = element.attr(\"gadfly:scale\") == best_tickscale;\n",
        "            element.attribute(\"gadfly:inscale\", inscale);\n",
        "            element.attr(\"visibility\", inscale ? \"visible\" : \"hidden\");\n",
        "        };\n",
        "\n",
        "        root.select(\".\" + axis + \"gridlines\").selectAll(\"path\").forEach(mark_inscale_gridlines);\n",
        "        root.select(\".\" + axis + \"labels\").selectAll(\"text\").forEach(mark_inscale_labels);\n",
        "    }\n",
        "};\n",
        "\n",
        "\n",
        "var set_plot_pan_zoom = function(root, tx, ty, scale) {\n",
        "    var old_scale = root.data(\"scale\");\n",
        "    var bounds = root.plotbounds();\n",
        "\n",
        "    var width = bounds.x1 - bounds.x0,\n",
        "        height = bounds.y1 - bounds.y0;\n",
        "\n",
        "    // compute the viewport derived from tx, ty, and scale\n",
        "    var x_min = -width * scale - (scale * width - width),\n",
        "        x_max = width * scale,\n",
        "        y_min = -height * scale - (scale * height - height),\n",
        "        y_max = height * scale;\n",
        "\n",
        "    var x0 = bounds.x0 - scale * bounds.x0,\n",
        "        y0 = bounds.y0 - scale * bounds.y0;\n",
        "\n",
        "    var tx = Math.max(Math.min(tx - x0, x_max), x_min),\n",
        "        ty = Math.max(Math.min(ty - y0, y_max), y_min);\n",
        "\n",
        "    tx += x0;\n",
        "    ty += y0;\n",
        "\n",
        "    // when the scale change, we may need to alter which set of\n",
        "    // ticks is being displayed\n",
        "    if (scale != old_scale) {\n",
        "        update_tickscale(root, scale, \"x\");\n",
        "        update_tickscale(root, scale, \"y\");\n",
        "    }\n",
        "\n",
        "    set_geometry_transform(root, tx, ty, scale);\n",
        "\n",
        "    root.data(\"scale\", scale);\n",
        "    root.data(\"tx\", tx);\n",
        "    root.data(\"ty\", ty);\n",
        "};\n",
        "\n",
        "\n",
        "var scale_centered_translation = function(root, scale) {\n",
        "    var bounds = root.plotbounds();\n",
        "\n",
        "    var width = bounds.x1 - bounds.x0,\n",
        "        height = bounds.y1 - bounds.y0;\n",
        "\n",
        "    var tx0 = root.data(\"tx\"),\n",
        "        ty0 = root.data(\"ty\");\n",
        "\n",
        "    var scale0 = root.data(\"scale\");\n",
        "\n",
        "    // how off from center the current view is\n",
        "    var xoff = tx0 - (bounds.x0 * (1 - scale0) + (width * (1 - scale0)) / 2),\n",
        "        yoff = ty0 - (bounds.y0 * (1 - scale0) + (height * (1 - scale0)) / 2);\n",
        "\n",
        "    // rescale offsets\n",
        "    xoff = xoff * scale / scale0;\n",
        "    yoff = yoff * scale / scale0;\n",
        "\n",
        "    // adjust for the panel position being scaled\n",
        "    var x_edge_adjust = bounds.x0 * (1 - scale),\n",
        "        y_edge_adjust = bounds.y0 * (1 - scale);\n",
        "\n",
        "    return {\n",
        "        x: xoff + x_edge_adjust + (width - width * scale) / 2,\n",
        "        y: yoff + y_edge_adjust + (height - height * scale) / 2\n",
        "    };\n",
        "};\n",
        "\n",
        "\n",
        "// Initialize data for panning zooming if it isn't already.\n",
        "var init_pan_zoom = function(root) {\n",
        "    if (root.data(\"zoompan-ready\")) {\n",
        "        return;\n",
        "    }\n",
        "\n",
        "    // The non-scaling-stroke trick. Rather than try to correct for the\n",
        "    // stroke-width when zooming, we force it to a fixed value.\n",
        "    var px_per_mm = root.node.getCTM().a;\n",
        "\n",
        "    // Drag events report deltas in pixels, which we'd like to convert to\n",
        "    // millimeters.\n",
        "    root.data(\"px_per_mm\", px_per_mm);\n",
        "\n",
        "    root.selectAll(\"path\")\n",
        "        .forEach(function (element, i) {\n",
        "        sw = element.asPX(\"stroke-width\") * px_per_mm;\n",
        "        if (sw > 0) {\n",
        "            element.attribute(\"stroke-width\", sw);\n",
        "            element.attribute(\"vector-effect\", \"non-scaling-stroke\");\n",
        "        }\n",
        "    });\n",
        "\n",
        "    // Store ticks labels original tranformation\n",
        "    root.selectAll(\".xlabels > text, .ylabels > text\")\n",
        "        .forEach(function (element, i) {\n",
        "            var lm = element.transform().localMatrix;\n",
        "            element.data(\"static_transform\",\n",
        "                new Snap.Matrix(lm.a, lm.b, lm.c, lm.d, lm.e, lm.f));\n",
        "        });\n",
        "\n",
        "    if (root.data(\"tx\") === undefined) root.data(\"tx\", 0);\n",
        "    if (root.data(\"ty\") === undefined) root.data(\"ty\", 0);\n",
        "    if (root.data(\"scale\") === undefined) root.data(\"scale\", 1.0);\n",
        "    if (root.data(\"xtickscales\") === undefined) {\n",
        "\n",
        "        // index all the tick scales that are listed\n",
        "        var xtickscales = {};\n",
        "        var ytickscales = {};\n",
        "        var add_x_tick_scales = function (element, i) {\n",
        "            xtickscales[element.attribute(\"gadfly:scale\")] = true;\n",
        "        };\n",
        "        var add_y_tick_scales = function (element, i) {\n",
        "            ytickscales[element.attribute(\"gadfly:scale\")] = true;\n",
        "        };\n",
        "\n",
        "        root.select(\".xgridlines\").selectAll(\"path\").forEach(add_x_tick_scales);\n",
        "        root.select(\".ygridlines\").selectAll(\"path\").forEach(add_y_tick_scales);\n",
        "        root.select(\".xlabels\").selectAll(\"text\").forEach(add_x_tick_scales);\n",
        "        root.select(\".ylabels\").selectAll(\"text\").forEach(add_y_tick_scales);\n",
        "\n",
        "        root.data(\"xtickscales\", xtickscales);\n",
        "        root.data(\"ytickscales\", ytickscales);\n",
        "        root.data(\"xtickscale\", 1.0);\n",
        "    }\n",
        "\n",
        "    var min_scale = 1.0, max_scale = 1.0;\n",
        "    for (scale in xtickscales) {\n",
        "        min_scale = Math.min(min_scale, scale);\n",
        "        max_scale = Math.max(max_scale, scale);\n",
        "    }\n",
        "    for (scale in ytickscales) {\n",
        "        min_scale = Math.min(min_scale, scale);\n",
        "        max_scale = Math.max(max_scale, scale);\n",
        "    }\n",
        "    root.data(\"min_scale\", min_scale);\n",
        "    root.data(\"max_scale\", max_scale);\n",
        "\n",
        "    // store the original positions of labels\n",
        "    root.select(\".xlabels\")\n",
        "        .selectAll(\"text\")\n",
        "        .forEach(function (element, i) {\n",
        "            element.data(\"x\", element.asPX(\"x\"));\n",
        "        });\n",
        "\n",
        "    root.select(\".ylabels\")\n",
        "        .selectAll(\"text\")\n",
        "        .forEach(function (element, i) {\n",
        "            element.data(\"y\", element.asPX(\"y\"));\n",
        "        });\n",
        "\n",
        "    // mark grid lines and ticks as in or out of scale.\n",
        "    var mark_inscale = function (element, i) {\n",
        "        element.attribute(\"gadfly:inscale\", element.attribute(\"gadfly:scale\") == 1.0);\n",
        "    };\n",
        "\n",
        "    root.select(\".xgridlines\").selectAll(\"path\").forEach(mark_inscale);\n",
        "    root.select(\".ygridlines\").selectAll(\"path\").forEach(mark_inscale);\n",
        "    root.select(\".xlabels\").selectAll(\"text\").forEach(mark_inscale);\n",
        "    root.select(\".ylabels\").selectAll(\"text\").forEach(mark_inscale);\n",
        "\n",
        "    // figure out the upper ond lower bounds on panning using the maximum\n",
        "    // and minum grid lines\n",
        "    var bounds = root.plotbounds();\n",
        "    var pan_bounds = {\n",
        "        x0: 0.0,\n",
        "        y0: 0.0,\n",
        "        x1: 0.0,\n",
        "        y1: 0.0\n",
        "    };\n",
        "\n",
        "    root.select(\".xgridlines\")\n",
        "        .selectAll(\"path\")\n",
        "        .forEach(function (element, i) {\n",
        "            if (element.attribute(\"gadfly:inscale\") == \"true\") {\n",
        "                var bbox = element.node.getBBox();\n",
        "                if (bounds.x1 - bbox.x < pan_bounds.x0) {\n",
        "                    pan_bounds.x0 = bounds.x1 - bbox.x;\n",
        "                }\n",
        "                if (bounds.x0 - bbox.x > pan_bounds.x1) {\n",
        "                    pan_bounds.x1 = bounds.x0 - bbox.x;\n",
        "                }\n",
        "            }\n",
        "        });\n",
        "\n",
        "    root.select(\".ygridlines\")\n",
        "        .selectAll(\"path\")\n",
        "        .forEach(function (element, i) {\n",
        "            if (element.attribute(\"gadfly:inscale\") == \"true\") {\n",
        "                var bbox = element.node.getBBox();\n",
        "                if (bounds.y1 - bbox.y < pan_bounds.y0) {\n",
        "                    pan_bounds.y0 = bounds.y1 - bbox.y;\n",
        "                }\n",
        "                if (bounds.y0 - bbox.y > pan_bounds.y1) {\n",
        "                    pan_bounds.y1 = bounds.y0 - bbox.y;\n",
        "                }\n",
        "            }\n",
        "        });\n",
        "\n",
        "    // nudge these values a little\n",
        "    pan_bounds.x0 -= 5;\n",
        "    pan_bounds.x1 += 5;\n",
        "    pan_bounds.y0 -= 5;\n",
        "    pan_bounds.y1 += 5;\n",
        "    root.data(\"pan_bounds\", pan_bounds);\n",
        "\n",
        "    // Set all grid lines at scale 1.0 to visible. Out of bounds lines\n",
        "    // will be clipped.\n",
        "    root.select(\".xgridlines\")\n",
        "        .selectAll(\"path\")\n",
        "        .forEach(function (element, i) {\n",
        "            if (element.attribute(\"gadfly:inscale\") == \"true\") {\n",
        "                element.attr(\"visibility\", \"visible\");\n",
        "            }\n",
        "        });\n",
        "\n",
        "    root.select(\".ygridlines\")\n",
        "        .selectAll(\"path\")\n",
        "        .forEach(function (element, i) {\n",
        "            if (element.attribute(\"gadfly:inscale\") == \"true\") {\n",
        "                element.attr(\"visibility\", \"visible\");\n",
        "            }\n",
        "        });\n",
        "\n",
        "    root.data(\"zoompan-ready\", true)\n",
        "};\n",
        "\n",
        "\n",
        "// Panning\n",
        "Gadfly.guide_background_drag_onmove = function(dx, dy, x, y, event) {\n",
        "    var root = this.plotroot();\n",
        "    var px_per_mm = root.data(\"px_per_mm\");\n",
        "    dx /= px_per_mm;\n",
        "    dy /= px_per_mm;\n",
        "\n",
        "    var tx0 = root.data(\"tx\"),\n",
        "        ty0 = root.data(\"ty\");\n",
        "\n",
        "    var dx0 = root.data(\"dx\"),\n",
        "        dy0 = root.data(\"dy\");\n",
        "\n",
        "    root.data(\"dx\", dx);\n",
        "    root.data(\"dy\", dy);\n",
        "\n",
        "    dx = dx - dx0;\n",
        "    dy = dy - dy0;\n",
        "\n",
        "    var tx = tx0 + dx,\n",
        "        ty = ty0 + dy;\n",
        "\n",
        "    set_plot_pan_zoom(root, tx, ty, root.data(\"scale\"));\n",
        "};\n",
        "\n",
        "\n",
        "Gadfly.guide_background_drag_onstart = function(x, y, event) {\n",
        "    var root = this.plotroot();\n",
        "    root.data(\"dx\", 0);\n",
        "    root.data(\"dy\", 0);\n",
        "    init_pan_zoom(root);\n",
        "};\n",
        "\n",
        "\n",
        "Gadfly.guide_background_drag_onend = function(event) {\n",
        "    var root = this.plotroot();\n",
        "};\n",
        "\n",
        "\n",
        "Gadfly.guide_background_scroll = function(event) {\n",
        "    if (event.shiftKey) {\n",
        "        var root = this.plotroot();\n",
        "        init_pan_zoom(root);\n",
        "        var new_scale = root.data(\"scale\") * Math.pow(2, 0.002 * event.wheelDelta);\n",
        "        new_scale = Math.max(\n",
        "            root.data(\"min_scale\"),\n",
        "            Math.min(root.data(\"max_scale\"), new_scale))\n",
        "        update_plot_scale(root, new_scale);\n",
        "        event.stopPropagation();\n",
        "    }\n",
        "};\n",
        "\n",
        "\n",
        "Gadfly.zoomslider_button_mouseover = function(event) {\n",
        "    this.select(\".button_logo\")\n",
        "         .animate({fill: this.data(\"mouseover_color\")}, 100);\n",
        "};\n",
        "\n",
        "\n",
        "Gadfly.zoomslider_button_mouseout = function(event) {\n",
        "     this.select(\".button_logo\")\n",
        "         .animate({fill: this.data(\"mouseout_color\")}, 100);\n",
        "};\n",
        "\n",
        "\n",
        "Gadfly.zoomslider_zoomout_click = function(event) {\n",
        "    var root = this.plotroot();\n",
        "    init_pan_zoom(root);\n",
        "    var min_scale = root.data(\"min_scale\"),\n",
        "        scale = root.data(\"scale\");\n",
        "    Snap.animate(\n",
        "        scale,\n",
        "        Math.max(min_scale, scale / 1.5),\n",
        "        function (new_scale) {\n",
        "            update_plot_scale(root, new_scale);\n",
        "        },\n",
        "        200);\n",
        "};\n",
        "\n",
        "\n",
        "Gadfly.zoomslider_zoomin_click = function(event) {\n",
        "    var root = this.plotroot();\n",
        "    init_pan_zoom(root);\n",
        "    var max_scale = root.data(\"max_scale\"),\n",
        "        scale = root.data(\"scale\");\n",
        "\n",
        "    Snap.animate(\n",
        "        scale,\n",
        "        Math.min(max_scale, scale * 1.5),\n",
        "        function (new_scale) {\n",
        "            update_plot_scale(root, new_scale);\n",
        "        },\n",
        "        200);\n",
        "};\n",
        "\n",
        "\n",
        "Gadfly.zoomslider_track_click = function(event) {\n",
        "    // TODO\n",
        "};\n",
        "\n",
        "\n",
        "Gadfly.zoomslider_thumb_mousedown = function(event) {\n",
        "    this.animate({fill: this.data(\"mouseover_color\")}, 100);\n",
        "};\n",
        "\n",
        "\n",
        "Gadfly.zoomslider_thumb_mouseup = function(event) {\n",
        "    this.animate({fill: this.data(\"mouseout_color\")}, 100);\n",
        "};\n",
        "\n",
        "\n",
        "// compute the position in [0, 1] of the zoom slider thumb from the current scale\n",
        "var slider_position_from_scale = function(scale, min_scale, max_scale) {\n",
        "    if (scale >= 1.0) {\n",
        "        return 0.5 + 0.5 * (Math.log(scale) / Math.log(max_scale));\n",
        "    }\n",
        "    else {\n",
        "        return 0.5 * (Math.log(scale) - Math.log(min_scale)) / (0 - Math.log(min_scale));\n",
        "    }\n",
        "}\n",
        "\n",
        "\n",
        "var update_plot_scale = function(root, new_scale) {\n",
        "    var trans = scale_centered_translation(root, new_scale);\n",
        "    set_plot_pan_zoom(root, trans.x, trans.y, new_scale);\n",
        "\n",
        "    root.selectAll(\".zoomslider_thumb\")\n",
        "        .forEach(function (element, i) {\n",
        "            var min_pos = element.data(\"min_pos\"),\n",
        "                max_pos = element.data(\"max_pos\"),\n",
        "                min_scale = root.data(\"min_scale\"),\n",
        "                max_scale = root.data(\"max_scale\");\n",
        "            var xmid = (min_pos + max_pos) / 2;\n",
        "            var xpos = slider_position_from_scale(new_scale, min_scale, max_scale);\n",
        "            element.transform(new Snap.Matrix().translate(\n",
        "                Math.max(min_pos, Math.min(\n",
        "                         max_pos, min_pos + (max_pos - min_pos) * xpos)) - xmid, 0));\n",
        "    });\n",
        "};\n",
        "\n",
        "\n",
        "Gadfly.zoomslider_thumb_dragmove = function(dx, dy, x, y) {\n",
        "    var root = this.plotroot();\n",
        "    var min_pos = this.data(\"min_pos\"),\n",
        "        max_pos = this.data(\"max_pos\"),\n",
        "        min_scale = root.data(\"min_scale\"),\n",
        "        max_scale = root.data(\"max_scale\"),\n",
        "        old_scale = root.data(\"old_scale\");\n",
        "\n",
        "    var px_per_mm = root.data(\"px_per_mm\");\n",
        "    dx /= px_per_mm;\n",
        "    dy /= px_per_mm;\n",
        "\n",
        "    var xmid = (min_pos + max_pos) / 2;\n",
        "    var xpos = slider_position_from_scale(old_scale, min_scale, max_scale) +\n",
        "                   dx / (max_pos - min_pos);\n",
        "\n",
        "    // compute the new scale\n",
        "    var new_scale;\n",
        "    if (xpos >= 0.5) {\n",
        "        new_scale = Math.exp(2.0 * (xpos - 0.5) * Math.log(max_scale));\n",
        "    }\n",
        "    else {\n",
        "        new_scale = Math.exp(2.0 * xpos * (0 - Math.log(min_scale)) +\n",
        "                        Math.log(min_scale));\n",
        "    }\n",
        "    new_scale = Math.min(max_scale, Math.max(min_scale, new_scale));\n",
        "\n",
        "    update_plot_scale(root, new_scale);\n",
        "};\n",
        "\n",
        "\n",
        "Gadfly.zoomslider_thumb_dragstart = function(event) {\n",
        "    var root = this.plotroot();\n",
        "    init_pan_zoom(root);\n",
        "\n",
        "    // keep track of what the scale was when we started dragging\n",
        "    root.data(\"old_scale\", root.data(\"scale\"));\n",
        "};\n",
        "\n",
        "\n",
        "Gadfly.zoomslider_thumb_dragend = function(event) {\n",
        "};\n",
        "\n",
        "\n",
        "var toggle_color_class = function(root, color_class, ison) {\n",
        "    var guides = root.selectAll(\".guide.\" + color_class + \",.guide .\" + color_class);\n",
        "    var geoms = root.selectAll(\".geometry.\" + color_class + \",.geometry .\" + color_class);\n",
        "    if (ison) {\n",
        "        guides.animate({opacity: 0.5}, 250);\n",
        "        geoms.animate({opacity: 0.0}, 250);\n",
        "    } else {\n",
        "        guides.animate({opacity: 1.0}, 250);\n",
        "        geoms.animate({opacity: 1.0}, 250);\n",
        "    }\n",
        "};\n",
        "\n",
        "\n",
        "Gadfly.colorkey_swatch_click = function(event) {\n",
        "    var root = this.plotroot();\n",
        "    var color_class = this.data(\"color_class\");\n",
        "\n",
        "    if (event.shiftKey) {\n",
        "        root.selectAll(\".colorkey text\")\n",
        "            .forEach(function (element) {\n",
        "                var other_color_class = element.data(\"color_class\");\n",
        "                if (other_color_class != color_class) {\n",
        "                    toggle_color_class(root, other_color_class,\n",
        "                                       element.attr(\"opacity\") == 1.0);\n",
        "                }\n",
        "            });\n",
        "    } else {\n",
        "        toggle_color_class(root, color_class, this.attr(\"opacity\") == 1.0);\n",
        "    }\n",
        "};\n",
        "\n",
        "\n",
        "return Gadfly;\n",
        "\n",
        "}));\n",
        "\n",
        "\n",
        "//@ sourceURL=gadfly.js\n",
        "\n",
        "(function (glob, factory) {\n",
        "    // AMD support\n",
        "      if (typeof require === \"function\" && typeof define === \"function\" && define.amd) {\n",
        "        require([\"Snap.svg\", \"Gadfly\"], function (Snap, Gadfly) {\n",
        "            factory(Snap, Gadfly);\n",
        "        });\n",
        "      } else {\n",
        "          factory(glob.Snap, glob.Gadfly);\n",
        "      }\n",
        "})(window, function (Snap, Gadfly) {\n",
        "    var fig = Snap(\"#fig-8af436d5302b442f86dc310490af245e\");\n",
        "fig.select(\"#fig-8af436d5302b442f86dc310490af245e-element-4\")\n",
        "   .drag(function() {}, function() {}, function() {});\n",
        "fig.select(\"#fig-8af436d5302b442f86dc310490af245e-element-6\")\n",
        "   .data(\"color_class\", \"color_train_error\")\n",
        ".click(Gadfly.colorkey_swatch_click)\n",
        ";\n",
        "fig.select(\"#fig-8af436d5302b442f86dc310490af245e-element-7\")\n",
        "   .data(\"color_class\", \"color_prec_at_k\")\n",
        ".click(Gadfly.colorkey_swatch_click)\n",
        ";\n",
        "fig.select(\"#fig-8af436d5302b442f86dc310490af245e-element-9\")\n",
        "   .data(\"color_class\", \"color_train_error\")\n",
        ".click(Gadfly.colorkey_swatch_click)\n",
        ";\n",
        "fig.select(\"#fig-8af436d5302b442f86dc310490af245e-element-10\")\n",
        "   .data(\"color_class\", \"color_prec_at_k\")\n",
        ".click(Gadfly.colorkey_swatch_click)\n",
        ";\n",
        "fig.select(\"#fig-8af436d5302b442f86dc310490af245e-element-15\")\n",
        "   .mouseenter(Gadfly.plot_mouseover)\n",
        ".mouseleave(Gadfly.plot_mouseout)\n",
        ".mousewheel(Gadfly.guide_background_scroll)\n",
        ".drag(Gadfly.guide_background_drag_onmove,\n",
        "      Gadfly.guide_background_drag_onstart,\n",
        "      Gadfly.guide_background_drag_onend)\n",
        ";\n",
        "fig.select(\"#fig-8af436d5302b442f86dc310490af245e-element-19\")\n",
        "   .plotroot().data(\"unfocused_ygrid_color\", \"#D0D0E0\")\n",
        ";\n",
        "fig.select(\"#fig-8af436d5302b442f86dc310490af245e-element-19\")\n",
        "   .plotroot().data(\"focused_ygrid_color\", \"#A0A0A0\")\n",
        ";\n",
        "fig.select(\"#fig-8af436d5302b442f86dc310490af245e-element-125\")\n",
        "   .plotroot().data(\"unfocused_xgrid_color\", \"#D0D0E0\")\n",
        ";\n",
        "fig.select(\"#fig-8af436d5302b442f86dc310490af245e-element-125\")\n",
        "   .plotroot().data(\"focused_xgrid_color\", \"#A0A0A0\")\n",
        ";\n",
        "fig.select(\"#fig-8af436d5302b442f86dc310490af245e-element-303\")\n",
        "   .data(\"mouseover_color\", \"#cd5c5c\")\n",
        ";\n",
        "fig.select(\"#fig-8af436d5302b442f86dc310490af245e-element-303\")\n",
        "   .data(\"mouseout_color\", \"#6a6a6a\")\n",
        ";\n",
        "fig.select(\"#fig-8af436d5302b442f86dc310490af245e-element-303\")\n",
        "   .click(Gadfly.zoomslider_zoomin_click)\n",
        ".mouseenter(Gadfly.zoomslider_button_mouseover)\n",
        ".mouseleave(Gadfly.zoomslider_button_mouseout)\n",
        ";\n",
        "fig.select(\"#fig-8af436d5302b442f86dc310490af245e-element-307\")\n",
        "   .data(\"max_pos\", 104.01)\n",
        ";\n",
        "fig.select(\"#fig-8af436d5302b442f86dc310490af245e-element-307\")\n",
        "   .data(\"min_pos\", 87.01)\n",
        ";\n",
        "fig.select(\"#fig-8af436d5302b442f86dc310490af245e-element-307\")\n",
        "   .click(Gadfly.zoomslider_track_click);\n",
        "fig.select(\"#fig-8af436d5302b442f86dc310490af245e-element-309\")\n",
        "   .data(\"max_pos\", 104.01)\n",
        ";\n",
        "fig.select(\"#fig-8af436d5302b442f86dc310490af245e-element-309\")\n",
        "   .data(\"min_pos\", 87.01)\n",
        ";\n",
        "fig.select(\"#fig-8af436d5302b442f86dc310490af245e-element-309\")\n",
        "   .data(\"mouseover_color\", \"#cd5c5c\")\n",
        ";\n",
        "fig.select(\"#fig-8af436d5302b442f86dc310490af245e-element-309\")\n",
        "   .data(\"mouseout_color\", \"#6a6a6a\")\n",
        ";\n",
        "fig.select(\"#fig-8af436d5302b442f86dc310490af245e-element-309\")\n",
        "   .drag(Gadfly.zoomslider_thumb_dragmove,\n",
        "     Gadfly.zoomslider_thumb_dragstart,\n",
        "     Gadfly.zoomslider_thumb_dragend)\n",
        ".mousedown(Gadfly.zoomslider_thumb_mousedown)\n",
        ".mouseup(Gadfly.zoomslider_thumb_mouseup)\n",
        ";\n",
        "fig.select(\"#fig-8af436d5302b442f86dc310490af245e-element-311\")\n",
        "   .data(\"mouseover_color\", \"#cd5c5c\")\n",
        ";\n",
        "fig.select(\"#fig-8af436d5302b442f86dc310490af245e-element-311\")\n",
        "   .data(\"mouseout_color\", \"#6a6a6a\")\n",
        ";\n",
        "fig.select(\"#fig-8af436d5302b442f86dc310490af245e-element-311\")\n",
        "   .click(Gadfly.zoomslider_zoomout_click)\n",
        ".mouseenter(Gadfly.zoomslider_button_mouseover)\n",
        ".mouseleave(Gadfly.zoomslider_button_mouseout)\n",
        ";\n",
        "    });\n",
        "]]> </script>\n",
        "</svg>\n"
       ],
       "metadata": {},
       "output_type": "pyout",
       "png": "[encoded data removed]",
       "prompt_number": 9,
       "svg": [
        "<?xml version=\"1.0\" encoding=\"UTF-8\"?>\n",
        "<svg xmlns=\"http://www.w3.org/2000/svg\"\n",
        "     xmlns:xlink=\"http://www.w3.org/1999/xlink\"\n",
        "     xmlns:gadfly=\"http://www.gadflyjl.org/ns\"\n",
        "     version=\"1.2\"\n",
        "     width=\"141.42mm\" height=\"100mm\" viewBox=\"0 0 141.42 100\"\n",
        "     stroke=\"none\"\n",
        "     fill=\"#000000\"\n",
        "     stroke-width=\"0.3\"\n",
        "     font-size=\"3.88\"\n",
        ">\n",
        "<g class=\"plotroot xscalable yscalable\" id=\"fig-54fa8db96036435d82d825a2db82543f-element-1\">\n",
        "  <g font-size=\"3.88\" font-family=\"'PT Sans','Helvetica Neue','Helvetica',sans-serif\" fill=\"#564A55\" stroke=\"none\" id=\"fig-54fa8db96036435d82d825a2db82543f-element-2\">\n",
        "    <text x=\"69.32\" y=\"92\" text-anchor=\"middle\">reg_param</text>\n",
        "  </g>\n",
        "  <g class=\"guide xlabels\" font-size=\"2.82\" font-family=\"'PT Sans Caption','Helvetica Neue','Helvetica',sans-serif\" fill=\"#6C606B\" id=\"fig-54fa8db96036435d82d825a2db82543f-element-3\">\n",
        "    <text x=\"20.63\" y=\"86.39\" text-anchor=\"middle\">10<tspan style=\"dominant-baseline:inherit\" dy=\"-0.6em\" font-size=\"83.333333%\">0</tspan></text>\n",
        "    <text x=\"53.09\" y=\"86.39\" text-anchor=\"middle\">10<tspan style=\"dominant-baseline:inherit\" dy=\"-0.6em\" font-size=\"83.333333%\">1</tspan></text>\n",
        "    <text x=\"85.55\" y=\"86.39\" text-anchor=\"middle\">10<tspan style=\"dominant-baseline:inherit\" dy=\"-0.6em\" font-size=\"83.333333%\">2</tspan></text>\n",
        "    <text x=\"118.01\" y=\"86.39\" text-anchor=\"middle\">10<tspan style=\"dominant-baseline:inherit\" dy=\"-0.6em\" font-size=\"83.333333%\">3</tspan></text>\n",
        "  </g>\n",
        "  <g class=\"guide colorkey\" id=\"fig-54fa8db96036435d82d825a2db82543f-element-4\">\n",
        "    <g fill=\"#4C404B\" font-size=\"2.82\" font-family=\"'PT Sans','Helvetica Neue','Helvetica',sans-serif\" id=\"fig-54fa8db96036435d82d825a2db82543f-element-5\">\n",
        "      <text x=\"123.83\" y=\"43.19\" dy=\"0.35em\" id=\"fig-54fa8db96036435d82d825a2db82543f-element-6\" class=\"color_train_error\">train_error</text>\n",
        "      <text x=\"123.83\" y=\"46.82\" dy=\"0.35em\" id=\"fig-54fa8db96036435d82d825a2db82543f-element-7\" class=\"color_prec_at_k\">prec_at_k</text>\n",
        "    </g>\n",
        "    <g stroke=\"none\" id=\"fig-54fa8db96036435d82d825a2db82543f-element-8\">\n",
        "      <rect x=\"121.01\" y=\"42.28\" width=\"1.81\" height=\"1.81\" id=\"fig-54fa8db96036435d82d825a2db82543f-element-9\" class=\"color_train_error\" fill=\"#00BFFF\"/>\n",
        "      <rect x=\"121.01\" y=\"45.91\" width=\"1.81\" height=\"1.81\" id=\"fig-54fa8db96036435d82d825a2db82543f-element-10\" class=\"color_prec_at_k\" fill=\"#D4CA3A\"/>\n",
        "    </g>\n",
        "    <g fill=\"#362A35\" font-size=\"3.88\" font-family=\"'PT Sans','Helvetica Neue','Helvetica',sans-serif\" stroke=\"none\" id=\"fig-54fa8db96036435d82d825a2db82543f-element-11\">\n",
        "      <text x=\"121.01\" y=\"39.37\" id=\"fig-54fa8db96036435d82d825a2db82543f-element-12\">variable</text>\n",
        "    </g>\n",
        "  </g>\n",
        "  <g font-size=\"3.88\" font-family=\"'PT Sans','Helvetica Neue','Helvetica',sans-serif\" fill=\"#564A55\" stroke=\"none\" id=\"fig-54fa8db96036435d82d825a2db82543f-element-13\">\n",
        "    <text x=\"8.81\" y=\"41.19\" text-anchor=\"middle\" dy=\"0.35em\" transform=\"rotate(-90, 8.81, 43.19)\" id=\"fig-54fa8db96036435d82d825a2db82543f-element-14\">value</text>\n",
        "  </g>\n",
        "  <g clip-path=\"url(#fig-54fa8db96036435d82d825a2db82543f-element-16)\" id=\"fig-54fa8db96036435d82d825a2db82543f-element-15\">\n",
        "    <g pointer-events=\"visible\" opacity=\"1\" fill=\"none\" stroke=\"none\" class=\"guide background\" id=\"fig-54fa8db96036435d82d825a2db82543f-element-17\">\n",
        "      <rect x=\"18.63\" y=\"5\" width=\"101.38\" height=\"76.38\" id=\"fig-54fa8db96036435d82d825a2db82543f-element-18\"/>\n",
        "    </g>\n",
        "    <g class=\"guide ygridlines xfixed\" stroke-dasharray=\"0.5,0.5\" stroke-width=\"0.2\" stroke=\"#D0D0E0\" id=\"fig-54fa8db96036435d82d825a2db82543f-element-19\">\n",
        "      <path fill=\"none\" d=\"M18.63,79.38 L 120.01 79.38\" id=\"fig-54fa8db96036435d82d825a2db82543f-element-20\"/>\n",
        "      <path fill=\"none\" d=\"M18.63,43.19 L 120.01 43.19\" id=\"fig-54fa8db96036435d82d825a2db82543f-element-21\"/>\n",
        "      <path fill=\"none\" d=\"M18.63,7 L 120.01 7\" id=\"fig-54fa8db96036435d82d825a2db82543f-element-22\"/>\n",
        "    </g>\n",
        "    <g class=\"guide xgridlines yfixed\" stroke-dasharray=\"0.5,0.5\" stroke-width=\"0.2\" stroke=\"#D0D0E0\" id=\"fig-54fa8db96036435d82d825a2db82543f-element-23\">\n",
        "      <path fill=\"none\" d=\"M20.63,5 L 20.63 81.38\" id=\"fig-54fa8db96036435d82d825a2db82543f-element-24\"/>\n",
        "      <path fill=\"none\" d=\"M53.09,5 L 53.09 81.38\" id=\"fig-54fa8db96036435d82d825a2db82543f-element-25\"/>\n",
        "      <path fill=\"none\" d=\"M85.55,5 L 85.55 81.38\" id=\"fig-54fa8db96036435d82d825a2db82543f-element-26\"/>\n",
        "      <path fill=\"none\" d=\"M118.01,5 L 118.01 81.38\" id=\"fig-54fa8db96036435d82d825a2db82543f-element-27\"/>\n",
        "    </g>\n",
        "    <g class=\"plotpanel\" id=\"fig-54fa8db96036435d82d825a2db82543f-element-28\">\n",
        "      <g class=\"geometry\" id=\"fig-54fa8db96036435d82d825a2db82543f-element-29\">\n",
        "        <g stroke-width=\"0.3\" id=\"fig-54fa8db96036435d82d825a2db82543f-element-30\">\n",
        "          <circle cx=\"118.01\" cy=\"7\" r=\"0.9\" id=\"fig-54fa8db96036435d82d825a2db82543f-element-31\" stroke=\"#FFFFFF\" class=\"color_train_error\" fill=\"#00BFFF\"/>\n",
        "          <circle cx=\"107.19\" cy=\"7\" r=\"0.9\" id=\"fig-54fa8db96036435d82d825a2db82543f-element-32\" stroke=\"#FFFFFF\" class=\"color_train_error\" fill=\"#00BFFF\"/>\n",
        "          <circle cx=\"96.37\" cy=\"7\" r=\"0.9\" id=\"fig-54fa8db96036435d82d825a2db82543f-element-33\" stroke=\"#FFFFFF\" class=\"color_train_error\" fill=\"#00BFFF\"/>\n",
        "          <circle cx=\"85.55\" cy=\"10.42\" r=\"0.9\" id=\"fig-54fa8db96036435d82d825a2db82543f-element-34\" stroke=\"#FFFFFF\" class=\"color_train_error\" fill=\"#00BFFF\"/>\n",
        "          <circle cx=\"74.73\" cy=\"50.19\" r=\"0.9\" id=\"fig-54fa8db96036435d82d825a2db82543f-element-35\" stroke=\"#FFFFFF\" class=\"color_train_error\" fill=\"#00BFFF\"/>\n",
        "          <circle cx=\"63.91\" cy=\"79.37\" r=\"0.9\" id=\"fig-54fa8db96036435d82d825a2db82543f-element-36\" stroke=\"#FFFFFF\" class=\"color_train_error\" fill=\"#00BFFF\"/>\n",
        "          <circle cx=\"53.09\" cy=\"79.36\" r=\"0.9\" id=\"fig-54fa8db96036435d82d825a2db82543f-element-37\" stroke=\"#FFFFFF\" class=\"color_train_error\" fill=\"#00BFFF\"/>\n",
        "          <circle cx=\"42.27\" cy=\"79.37\" r=\"0.9\" id=\"fig-54fa8db96036435d82d825a2db82543f-element-38\" stroke=\"#FFFFFF\" class=\"color_train_error\" fill=\"#00BFFF\"/>\n",
        "          <circle cx=\"31.45\" cy=\"79.37\" r=\"0.9\" id=\"fig-54fa8db96036435d82d825a2db82543f-element-39\" stroke=\"#FFFFFF\" class=\"color_train_error\" fill=\"#00BFFF\"/>\n",
        "          <circle cx=\"20.63\" cy=\"79.38\" r=\"0.9\" id=\"fig-54fa8db96036435d82d825a2db82543f-element-40\" stroke=\"#FFFFFF\" class=\"color_train_error\" fill=\"#00BFFF\"/>\n",
        "          <circle cx=\"118.01\" cy=\"35.95\" r=\"0.9\" id=\"fig-54fa8db96036435d82d825a2db82543f-element-41\" stroke=\"#FFFFFF\" class=\"color_prec_at_k\" fill=\"#D4CA3A\"/>\n",
        "          <circle cx=\"107.19\" cy=\"21.48\" r=\"0.9\" id=\"fig-54fa8db96036435d82d825a2db82543f-element-42\" stroke=\"#FFFFFF\" class=\"color_prec_at_k\" fill=\"#D4CA3A\"/>\n",
        "          <circle cx=\"96.37\" cy=\"28.71\" r=\"0.9\" id=\"fig-54fa8db96036435d82d825a2db82543f-element-43\" stroke=\"#FFFFFF\" class=\"color_prec_at_k\" fill=\"#D4CA3A\"/>\n",
        "          <circle cx=\"85.55\" cy=\"21.48\" r=\"0.9\" id=\"fig-54fa8db96036435d82d825a2db82543f-element-44\" stroke=\"#FFFFFF\" class=\"color_prec_at_k\" fill=\"#D4CA3A\"/>\n",
        "          <circle cx=\"74.73\" cy=\"35.95\" r=\"0.9\" id=\"fig-54fa8db96036435d82d825a2db82543f-element-45\" stroke=\"#FFFFFF\" class=\"color_prec_at_k\" fill=\"#D4CA3A\"/>\n",
        "          <circle cx=\"63.91\" cy=\"14.24\" r=\"0.9\" id=\"fig-54fa8db96036435d82d825a2db82543f-element-46\" stroke=\"#FFFFFF\" class=\"color_prec_at_k\" fill=\"#D4CA3A\"/>\n",
        "          <circle cx=\"53.09\" cy=\"21.48\" r=\"0.9\" id=\"fig-54fa8db96036435d82d825a2db82543f-element-47\" stroke=\"#FFFFFF\" class=\"color_prec_at_k\" fill=\"#D4CA3A\"/>\n",
        "          <circle cx=\"42.27\" cy=\"35.95\" r=\"0.9\" id=\"fig-54fa8db96036435d82d825a2db82543f-element-48\" stroke=\"#FFFFFF\" class=\"color_prec_at_k\" fill=\"#D4CA3A\"/>\n",
        "          <circle cx=\"31.45\" cy=\"28.71\" r=\"0.9\" id=\"fig-54fa8db96036435d82d825a2db82543f-element-49\" stroke=\"#FFFFFF\" class=\"color_prec_at_k\" fill=\"#D4CA3A\"/>\n",
        "          <circle cx=\"20.63\" cy=\"35.95\" r=\"0.9\" id=\"fig-54fa8db96036435d82d825a2db82543f-element-50\" stroke=\"#FFFFFF\" class=\"color_prec_at_k\" fill=\"#D4CA3A\"/>\n",
        "        </g>\n",
        "      </g>\n",
        "    </g>\n",
        "  </g>\n",
        "  <g class=\"guide ylabels\" font-size=\"2.82\" font-family=\"'PT Sans Caption','Helvetica Neue','Helvetica',sans-serif\" fill=\"#6C606B\" id=\"fig-54fa8db96036435d82d825a2db82543f-element-51\">\n",
        "    <text x=\"17.63\" y=\"79.38\" text-anchor=\"end\" dy=\"0.35em\" id=\"fig-54fa8db96036435d82d825a2db82543f-element-52\">0.0</text>\n",
        "    <text x=\"17.63\" y=\"43.19\" text-anchor=\"end\" dy=\"0.35em\" id=\"fig-54fa8db96036435d82d825a2db82543f-element-53\">0.5</text>\n",
        "    <text x=\"17.63\" y=\"7\" text-anchor=\"end\" dy=\"0.35em\" id=\"fig-54fa8db96036435d82d825a2db82543f-element-54\">1.0</text>\n",
        "  </g>\n",
        "</g>\n",
        "<defs>\n",
        "<clipPath id=\"fig-54fa8db96036435d82d825a2db82543f-element-16\">\n",
        "  <path d=\"M18.63,5 L 120.01 5 120.01 81.38 18.63 81.38\" />\n",
        "</clipPath\n",
        "></defs>\n",
        "</svg>\n"
       ],
       "text": [
        "Plot(...)"
       ]
      }
     ],
     "prompt_number": 9
    },
    {
     "cell_type": "code",
     "collapsed": false,
     "input": [
      "df1 = copy(df)"
     ],
     "language": "python",
     "metadata": {},
     "outputs": [
      {
       "html": [
        "<table class=\"data-frame\"><tr><th></th><th>train_error</th><th>prec_at_k</th><th>train_time</th><th>reg_param</th><th>solution_1norm</th></tr><tr><th>1</th><td>0.9988773950375265</td><td>0.44611436950146627</td><td>44.97153878211975</td><td>100.0</td><td>4.6087830318090965</td></tr><tr><th>2</th><td>0.15275030543006896</td><td>0.48368069209594966</td><td>77.30177688598633</td><td>31.622776601683793</td><td>155.77230612245023</td></tr><tr><th>3</th><td>0.007513463825226282</td><td>0.5399141630901287</td><td>118.49103093147278</td><td>10.0</td><td>190.77161790805562</td></tr><tr><th>4</th><td>0.0008925813193253064</td><td>0.540969540969541</td><td>163.79250860214233</td><td>3.1622776601683795</td><td>196.8750335346632</td></tr><tr><th>5</th><td>0.0001140131087916901</td><td>0.46505271378367824</td><td>238.94877314567566</td><td>1.0</td><td>198.97901317277416</td></tr><tr><th>6</th><td>0.000115755730938297</td><td>0.4039460020768432</td><td>277.42709851264954</td><td>0.31622776601683794</td><td>199.81726464651496</td></tr><tr><th>7</th><td>3.219342488286213e-5</td><td>0.40169133192389006</td><td>306.5722634792328</td><td>0.1</td><td>200.05717900740035</td></tr><tr><th>8</th><td>5.883441311225049e-5</td><td>0.39270976616231085</td><td>333.66822934150696</td><td>0.03162277660168379</td><td>201.33064398499363</td></tr><tr><th>9</th><td>1.7277088814644995e-7</td><td>0.4352504638218924</td><td>368.830016374588</td><td>0.01</td><td>202.0319175856435</td></tr></table>"
       ],
       "metadata": {},
       "output_type": "pyout",
       "prompt_number": 8,
       "text": [
        "9x5 DataFrame\n",
        "| Row | train_error | prec_at_k | train_time | reg_param | solution_1norm |\n",
        "|-----|-------------|-----------|------------|-----------|----------------|\n",
        "| 1   | 0.998877    | 0.446114  | 44.9715    | 100.0     | 4.60878        |\n",
        "| 2   | 0.15275     | 0.483681  | 77.3018    | 31.6228   | 155.772        |\n",
        "| 3   | 0.00751346  | 0.539914  | 118.491    | 10.0      | 190.772        |\n",
        "| 4   | 0.000892581 | 0.54097   | 163.793    | 3.16228   | 196.875        |\n",
        "| 5   | 0.000114013 | 0.465053  | 238.949    | 1.0       | 198.979        |\n",
        "| 6   | 0.000115756 | 0.403946  | 277.427    | 0.316228  | 199.817        |\n",
        "| 7   | 3.21934e-5  | 0.401691  | 306.572    | 0.1       | 200.057        |\n",
        "| 8   | 5.88344e-5  | 0.39271   | 333.668    | 0.0316228 | 201.331        |\n",
        "| 9   | 1.72771e-7  | 0.43525   | 368.83     | 0.01      | 202.032        |"
       ]
      }
     ],
     "prompt_number": 8
    },
    {
     "cell_type": "code",
     "collapsed": false,
     "input": [
      "nsamp=20\n",
      "dfs1 = Array(DataFrame, nsamp)\n",
      "for isamp=1:nsamp\n",
      "    dfs1[isamp] = censored(500,500)\n",
      "end    "
     ],
     "language": "python",
     "metadata": {},
     "outputs": [
      {
       "output_type": "stream",
       "stream": "stdout",
       "text": [
        "fitting train GLRM for reg_param 0.0\n"
       ]
      },
      {
       "output_type": "stream",
       "stream": "stdout",
       "text": [
        "Fitting GLRM\n",
        "Iteration 10: objective value = 6.762259864709912"
       ]
      },
      {
       "output_type": "stream",
       "stream": "stdout",
       "text": [
        "\n",
        "computing train error and precision at k for reg_param 0.0:\n",
        "\ttrain error: 4.928967728352794e-5"
       ]
      },
      {
       "output_type": "stream",
       "stream": "stdout",
       "text": [
        "\n",
        "prec_at_k:  0.7\n",
        "\tsum of solution, one norm of solution:  (724.117921948977,3401.726534614455)\n",
        "fitting train GLRM for reg_param 1.0\n",
        "Fitting GLRM\n",
        "Iteration 10: objective value = 3126.31275978848"
       ]
      },
      {
       "output_type": "stream",
       "stream": "stdout",
       "text": [
        "\n",
        "Iteration 20: objective value = 2628.257882442441"
       ]
      },
      {
       "output_type": "stream",
       "stream": "stdout",
       "text": [
        "\n",
        "Iteration 30: objective value = 2066.364548566522"
       ]
      },
      {
       "output_type": "stream",
       "stream": "stdout",
       "text": [
        "\n",
        "Iteration 40: objective value = 1596.309329017047"
       ]
      },
      {
       "output_type": "stream",
       "stream": "stdout",
       "text": [
        "\n",
        "computing train error and precision at k for reg_param 1.0:"
       ]
      },
      {
       "output_type": "stream",
       "stream": "stdout",
       "text": [
        "\n",
        "\ttrain error: 5.388864272008809e-5\n",
        "prec_at_k:  0.7\n",
        "\tsum of solution, one norm of solution:  (-2176.14982426748,2309.4577191126614)\n",
        "fitting train GLRM for reg_param 2.0\n",
        "Fitting GLRM\n",
        "Iteration 10: objective value = 5867.0066983558445"
       ]
      },
      {
       "output_type": "stream",
       "stream": "stdout",
       "text": [
        "\n",
        "Iteration 20: objective value = 4265.138192861891"
       ]
      },
      {
       "output_type": "stream",
       "stream": "stdout",
       "text": [
        "\n",
        "Iteration 30: objective value = 3073.509887314397"
       ]
      },
      {
       "output_type": "stream",
       "stream": "stdout",
       "text": [
        "\n",
        "computing train error and precision at k for reg_param 2.0:"
       ]
      },
      {
       "output_type": "stream",
       "stream": "stdout",
       "text": [
        "\n",
        "\ttrain error: 0.00017576985592133605\n",
        "prec_at_k:  0.6\n",
        "\tsum of solution, one norm of solution:  (-420.99825538946175,2250.7973928626)\n",
        "fitting train GLRM for reg_param 3.0\n",
        "Fitting GLRM\n",
        "Iteration 10: objective value = 8108.107944839288"
       ]
      },
      {
       "output_type": "stream",
       "stream": "stdout",
       "text": [
        "\n",
        "Iteration 20: objective value = 5314.152634054336"
       ]
      },
      {
       "output_type": "stream",
       "stream": "stdout",
       "text": [
        "\n",
        "Iteration 30: objective value = 4135.781056238524"
       ]
      },
      {
       "output_type": "stream",
       "stream": "stdout",
       "text": [
        "\n",
        "Iteration 40: objective value = 3673.302205516372"
       ]
      },
      {
       "output_type": "stream",
       "stream": "stdout",
       "text": [
        "\n",
        "Iteration 50: objective value = 3438.988707286307"
       ]
      },
      {
       "output_type": "stream",
       "stream": "stdout",
       "text": [
        "\n",
        "computing train error and precision at k for reg_param 3.0:"
       ]
      },
      {
       "output_type": "stream",
       "stream": "stdout",
       "text": [
        "\n",
        "\ttrain error: 6.524311958903197e-5\n",
        "prec_at_k:  0.7\n",
        "\tsum of solution, one norm of solution:  (871.3268757066705,2204.508978933394)\n",
        "fitting train GLRM for reg_param 4.0\n",
        "Fitting GLRM\n",
        "Iteration 10: objective value = 9999.604478423575"
       ]
      },
      {
       "output_type": "stream",
       "stream": "stdout",
       "text": [
        "\n",
        "Iteration 20: objective value = 6216.552618763501"
       ]
      },
      {
       "output_type": "stream",
       "stream": "stdout",
       "text": [
        "\n",
        "Iteration 30: objective value = 5301.4924557282675"
       ]
      },
      {
       "output_type": "stream",
       "stream": "stdout",
       "text": [
        "\n",
        "Iteration 40: objective value = 4777.768306861233"
       ]
      },
      {
       "output_type": "stream",
       "stream": "stdout",
       "text": [
        "\n",
        "Iteration 50: objective value = 4481.999125700644"
       ]
      },
      {
       "output_type": "stream",
       "stream": "stdout",
       "text": [
        "\n",
        "Iteration 60: objective value = 4347.016265496653"
       ]
      },
      {
       "output_type": "stream",
       "stream": "stdout",
       "text": [
        "\n",
        "computing train error and precision at k for reg_param 4.0:"
       ]
      },
      {
       "output_type": "stream",
       "stream": "stdout",
       "text": [
        "\n",
        "\ttrain error: 3.910260275554195e-5\n",
        "prec_at_k:  0.8\n",
        "\tsum of solution, one norm of solution:  (-257.53918483896626,1855.1881798534478)\n",
        "fitting train GLRM for reg_param 5.0\n",
        "Fitting GLRM\n",
        "Iteration 10: objective value = 11665.726582796484"
       ]
      },
      {
       "output_type": "stream",
       "stream": "stdout",
       "text": [
        "\n",
        "Iteration 20: objective value = 7155.110840460312"
       ]
      },
      {
       "output_type": "stream",
       "stream": "stdout",
       "text": [
        "\n",
        "Iteration 30: objective value = 6639.240141985638"
       ]
      },
      {
       "output_type": "stream",
       "stream": "stdout",
       "text": [
        "\n",
        "Iteration 40: objective value = 5954.380896218337"
       ]
      },
      {
       "output_type": "stream",
       "stream": "stdout",
       "text": [
        "\n",
        "computing train error and precision at k for reg_param 5.0:"
       ]
      },
      {
       "output_type": "stream",
       "stream": "stdout",
       "text": [
        "\n",
        "\ttrain error: 0.00017801295304504606\n",
        "prec_at_k:  0.6"
       ]
      },
      {
       "output_type": "stream",
       "stream": "stdout",
       "text": [
        "\n",
        "\tsum of solution, one norm of solution:  (-1311.7256953607844,2097.8506624804127)\n",
        "fitting train GLRM for reg_param 6.0\n",
        "Fitting GLRM\n",
        "Iteration 10: objective value = 12796.663802068122"
       ]
      },
      {
       "output_type": "stream",
       "stream": "stdout",
       "text": [
        "\n",
        "Iteration 20: objective value = 8213.076111908533"
       ]
      },
      {
       "output_type": "stream",
       "stream": "stdout",
       "text": [
        "\n",
        "Iteration 30: objective value = 7327.060560522125"
       ]
      },
      {
       "output_type": "stream",
       "stream": "stdout",
       "text": [
        "\n",
        "computing train error and precision at k for reg_param 6.0:"
       ]
      },
      {
       "output_type": "stream",
       "stream": "stdout",
       "text": [
        "\n",
        "\ttrain error: 0.00019212614998498942"
       ]
      },
      {
       "output_type": "stream",
       "stream": "stdout",
       "text": [
        "\n",
        "prec_at_k:  0.4\n",
        "\tsum of solution, one norm of solution:  (1669.515006147083,2039.0458423761374)\n",
        "fitting train GLRM for reg_param 7.0\n",
        "Fitting GLRM\n",
        "Iteration 10: objective value = 14010.270396018144"
       ]
      },
      {
       "output_type": "stream",
       "stream": "stdout",
       "text": [
        "\n",
        "Iteration 20: objective value = 9441.722926357752"
       ]
      },
      {
       "output_type": "stream",
       "stream": "stdout",
       "text": [
        "\n",
        "Iteration 30: objective value = 8285.752809922262"
       ]
      },
      {
       "output_type": "stream",
       "stream": "stdout",
       "text": [
        "\n",
        "Iteration 40: objective value = 7739.5610399543675"
       ]
      },
      {
       "output_type": "stream",
       "stream": "stdout",
       "text": [
        "\n",
        "Iteration 50: objective value = 7516.735001982141"
       ]
      },
      {
       "output_type": "stream",
       "stream": "stdout",
       "text": [
        "\n",
        "computing train error and precision at k for reg_param 7.0:"
       ]
      },
      {
       "output_type": "stream",
       "stream": "stdout",
       "text": [
        "\n",
        "\ttrain error: 5.9855138225268276e-5\n",
        "prec_at_k:  0.9\n",
        "\tsum of solution, one norm of solution:  (-640.1767457350114,2151.4918991544982)\n",
        "fitting train GLRM for reg_param 8.0\n",
        "Fitting GLRM\n",
        "Iteration 10: objective value = 15359.106323840031"
       ]
      },
      {
       "output_type": "stream",
       "stream": "stdout",
       "text": [
        "\n",
        "Iteration 20: objective value = 10646.289374008848"
       ]
      },
      {
       "output_type": "stream",
       "stream": "stdout",
       "text": [
        "\n",
        "Iteration 30: objective value = 9331.365412218043"
       ]
      },
      {
       "output_type": "stream",
       "stream": "stdout",
       "text": [
        "\n",
        "Iteration 40: objective value = 8898.257659749044"
       ]
      },
      {
       "output_type": "stream",
       "stream": "stdout",
       "text": [
        "\n",
        "Iteration 50: objective value = 8571.940690592155"
       ]
      },
      {
       "output_type": "stream",
       "stream": "stdout",
       "text": [
        "\n",
        "computing train error and precision at k for reg_param 8.0:"
       ]
      },
      {
       "output_type": "stream",
       "stream": "stdout",
       "text": [
        "\n",
        "\ttrain error: 5.433285958572414e-5\n",
        "prec_at_k:  0.6\n",
        "\tsum of solution, one norm of solution:  (-576.725259219465,1819.9416097324838)\n",
        "fitting train GLRM for reg_param 9.0\n",
        "Fitting GLRM\n",
        "Iteration 10: objective value = 16199.755157528403"
       ]
      },
      {
       "output_type": "stream",
       "stream": "stdout",
       "text": [
        "\n",
        "Iteration 20: objective value = 11540.491225031508"
       ]
      },
      {
       "output_type": "stream",
       "stream": "stdout",
       "text": [
        "\n",
        "Iteration 30: objective value = 10539.091361218167"
       ]
      },
      {
       "output_type": "stream",
       "stream": "stdout",
       "text": [
        "\n",
        "Iteration 40: objective value = 9840.593307188534"
       ]
      },
      {
       "output_type": "stream",
       "stream": "stdout",
       "text": [
        "\n",
        "Iteration 50: objective value = 9572.917525399995"
       ]
      },
      {
       "output_type": "stream",
       "stream": "stdout",
       "text": [
        "\n",
        "Iteration 60: objective value = 9427.005909380141"
       ]
      },
      {
       "output_type": "stream",
       "stream": "stdout",
       "text": [
        "\n",
        "computing train error and precision at k for reg_param 9.0:"
       ]
      },
      {
       "output_type": "stream",
       "stream": "stdout",
       "text": [
        "\n",
        "\ttrain error: 5.032212668617823e-5\n",
        "prec_at_k:  0.7\n",
        "\tsum of solution, one norm of solution:  (1643.9335652804211,2140.2938958870586)\n",
        "fitting train GLRM for reg_param 10.0\n",
        "Fitting GLRM\n",
        "Iteration 10: objective value = 17113.533683263344"
       ]
      },
      {
       "output_type": "stream",
       "stream": "stdout",
       "text": [
        "\n",
        "Iteration 20: objective value = 12720.365450231073"
       ]
      },
      {
       "output_type": "stream",
       "stream": "stdout",
       "text": [
        "\n",
        "Iteration 30: objective value = 11545.028513278343"
       ]
      },
      {
       "output_type": "stream",
       "stream": "stdout",
       "text": [
        "\n",
        "Iteration 40: objective value = 10886.05782607277"
       ]
      },
      {
       "output_type": "stream",
       "stream": "stdout",
       "text": [
        "\n",
        "Iteration 50: objective value = 10639.828524638346"
       ]
      },
      {
       "output_type": "stream",
       "stream": "stdout",
       "text": [
        "\n",
        "Iteration 60: objective value = 10466.900027817319"
       ]
      },
      {
       "output_type": "stream",
       "stream": "stdout",
       "text": [
        "\n",
        "computing train error and precision at k for reg_param 10.0:"
       ]
      },
      {
       "output_type": "stream",
       "stream": "stdout",
       "text": [
        "\n",
        "\ttrain error: 3.611358221836548e-5\n",
        "prec_at_k:  0.7\n",
        "\tsum of solution, one norm of solution:  (901.349891395165,1467.2522548546785)\n",
        "fitting train GLRM for reg_param 0.0"
       ]
      },
      {
       "output_type": "stream",
       "stream": "stdout",
       "text": [
        "\n",
        "Fitting GLRM\n",
        "Iteration 10: objective value = 7.741463874206328"
       ]
      },
      {
       "output_type": "stream",
       "stream": "stdout",
       "text": [
        "\n",
        "computing train error and precision at k for reg_param 0.0:"
       ]
      },
      {
       "output_type": "stream",
       "stream": "stdout",
       "text": [
        "\n",
        "\ttrain error: 6.236067388685114e-5\n",
        "prec_at_k:  0.9"
       ]
      },
      {
       "output_type": "stream",
       "stream": "stdout",
       "text": [
        "\n",
        "\tsum of solution, one norm of solution:  (-268.27851557373697,3428.5589434202648)\n",
        "fitting train GLRM for reg_param 1.0\n",
        "Fitting GLRM\n",
        "Iteration 10: objective value = 3293.7025737415306"
       ]
      },
      {
       "output_type": "stream",
       "stream": "stdout",
       "text": [
        "\n",
        "Iteration 20: objective value = 2761.7643548928445"
       ]
      },
      {
       "output_type": "stream",
       "stream": "stdout",
       "text": [
        "\n",
        "Iteration 30: objective value = 2158.836745648395"
       ]
      },
      {
       "output_type": "stream",
       "stream": "stdout",
       "text": [
        "\n",
        "Iteration 40: objective value = 1648.2021721766635"
       ]
      },
      {
       "output_type": "stream",
       "stream": "stdout",
       "text": [
        "\n",
        "Iteration 50: objective value = 1439.2431916789644"
       ]
      },
      {
       "output_type": "stream",
       "stream": "stdout",
       "text": [
        "\n",
        "computing train error and precision at k for reg_param 1.0:"
       ]
      },
      {
       "output_type": "stream",
       "stream": "stdout",
       "text": [
        "\n",
        "\ttrain error: 5.9043176288706e-5\n",
        "prec_at_k:  0.8\n",
        "\tsum of solution, one norm of solution:  (722.8338875696031,2220.79728499884)\n",
        "fitting train GLRM for reg_param 2.0\n",
        "Fitting GLRM\n",
        "Iteration 10: objective value = 5838.821022151023"
       ]
      },
      {
       "output_type": "stream",
       "stream": "stdout",
       "text": [
        "\n",
        "Iteration 20: objective value = 4236.644746493224"
       ]
      },
      {
       "output_type": "stream",
       "stream": "stdout",
       "text": [
        "\n",
        "Iteration 30: objective value = 3075.7056989666617"
       ]
      },
      {
       "output_type": "stream",
       "stream": "stdout",
       "text": [
        "\n",
        "Iteration 40: objective value = 2725.7101209119114"
       ]
      },
      {
       "output_type": "stream",
       "stream": "stdout",
       "text": [
        "\n",
        "Iteration 50: objective value = 2466.186038657538"
       ]
      },
      {
       "output_type": "stream",
       "stream": "stdout",
       "text": [
        "\n",
        "computing train error and precision at k for reg_param 2.0:"
       ]
      },
      {
       "output_type": "stream",
       "stream": "stdout",
       "text": [
        "\n",
        "\ttrain error: 3.371926140991306e-5\n",
        "prec_at_k:  0.7"
       ]
      },
      {
       "output_type": "stream",
       "stream": "stdout",
       "text": [
        "\n",
        "\tsum of solution, one norm of solution:  (-555.1203094698008,2218.877338567192)\n",
        "fitting train GLRM for reg_param 3.0\n",
        "Fitting GLRM\n",
        "Iteration 10: objective value = 8081.432313634282"
       ]
      },
      {
       "output_type": "stream",
       "stream": "stdout",
       "text": [
        "\n",
        "Iteration 20: objective value = 5289.144713104305"
       ]
      },
      {
       "output_type": "stream",
       "stream": "stdout",
       "text": [
        "\n",
        "Iteration 30: objective value = 4224.014199964967"
       ]
      },
      {
       "output_type": "stream",
       "stream": "stdout",
       "text": [
        "\n",
        "computing train error and precision at k for reg_param 3.0:"
       ]
      },
      {
       "output_type": "stream",
       "stream": "stdout",
       "text": [
        "\n",
        "\ttrain error: 0.0001862293349733932\n",
        "prec_at_k:  0.8"
       ]
      },
      {
       "output_type": "stream",
       "stream": "stdout",
       "text": [
        "\n",
        "\tsum of solution, one norm of solution:  (701.7434607630462,2225.8950163998816)\n",
        "fitting train GLRM for reg_param 4.0\n",
        "Fitting GLRM\n",
        "Iteration 10: objective value = 9974.448173037757"
       ]
      },
      {
       "output_type": "stream",
       "stream": "stdout",
       "text": [
        "\n",
        "Iteration 20: objective value = 6143.980275736332"
       ]
      },
      {
       "output_type": "stream",
       "stream": "stdout",
       "text": [
        "\n",
        "Iteration 30: objective value = 5337.482897630906"
       ]
      },
      {
       "output_type": "stream",
       "stream": "stdout",
       "text": [
        "\n",
        "Iteration 40: objective value = 4848.324947396107"
       ]
      },
      {
       "output_type": "stream",
       "stream": "stdout",
       "text": [
        "\n",
        "Iteration 50: objective value = 4554.139957282493"
       ]
      },
      {
       "output_type": "stream",
       "stream": "stdout",
       "text": [
        "\n",
        "computing train error and precision at k for reg_param 4.0:"
       ]
      },
      {
       "output_type": "stream",
       "stream": "stdout",
       "text": [
        "\n",
        "\ttrain error: 4.8505947110529723e-5\n",
        "prec_at_k:  0.8"
       ]
      },
      {
       "output_type": "stream",
       "stream": "stdout",
       "text": [
        "\n",
        "\tsum of solution, one norm of solution:  (534.7772200189397,2070.31639743262)\n",
        "fitting train GLRM for reg_param 5.0\n",
        "Fitting GLRM\n",
        "Iteration 10: objective value = 11765.698790523924"
       ]
      },
      {
       "output_type": "stream",
       "stream": "stdout",
       "text": [
        "\n",
        "Iteration 20: objective value = 7294.78556119829"
       ]
      },
      {
       "output_type": "stream",
       "stream": "stdout",
       "text": [
        "\n",
        "computing train error and precision at k for reg_param 5.0:"
       ]
      },
      {
       "output_type": "stream",
       "stream": "stdout",
       "text": [
        "\n",
        "\ttrain error: 0.000592416381020234\n",
        "prec_at_k:  0.6\n",
        "\tsum of solution, one norm of solution:  (364.75701705914537,2168.6130393506896)\n",
        "fitting train GLRM for reg_param 6.0\n",
        "Fitting GLRM\n",
        "Iteration 10: objective value = 12999.371583862618"
       ]
      },
      {
       "output_type": "stream",
       "stream": "stdout",
       "text": [
        "\n",
        "Iteration 20: objective value = 8447.729076934296"
       ]
      },
      {
       "output_type": "stream",
       "stream": "stdout",
       "text": [
        "\n",
        "Iteration 30: objective value = 7485.994647718614"
       ]
      },
      {
       "output_type": "stream",
       "stream": "stdout",
       "text": [
        "\n",
        "Iteration 40: objective value = 6808.263908658028"
       ]
      },
      {
       "output_type": "stream",
       "stream": "stdout",
       "text": [
        "\n",
        "Iteration 50: objective value = 6576.54940558185"
       ]
      },
      {
       "output_type": "stream",
       "stream": "stdout",
       "text": [
        "\n",
        "Iteration 60: objective value = 6416.840170938818"
       ]
      },
      {
       "output_type": "stream",
       "stream": "stdout",
       "text": [
        "\n",
        "computing train error and precision at k for reg_param 6.0:"
       ]
      },
      {
       "output_type": "stream",
       "stream": "stdout",
       "text": [
        "\n",
        "\ttrain error: 3.0206483601863685e-5\n",
        "prec_at_k:  0.8\n",
        "\tsum of solution, one norm of solution:  (1096.2969108881769,1923.1401673421174)\n",
        "fitting train GLRM for reg_param 7.0\n",
        "Fitting GLRM\n",
        "Iteration 10: objective value = 13978.241679363597"
       ]
      },
      {
       "output_type": "stream",
       "stream": "stdout",
       "text": [
        "\n",
        "Iteration 20: objective value = 9385.52988153385"
       ]
      },
      {
       "output_type": "stream",
       "stream": "stdout",
       "text": [
        "\n",
        "Iteration 30: objective value = 8248.687666392394"
       ]
      },
      {
       "output_type": "stream",
       "stream": "stdout",
       "text": [
        "\n",
        "Iteration 40: objective value = 7771.725277548065"
       ]
      },
      {
       "output_type": "stream",
       "stream": "stdout",
       "text": [
        "\n",
        "Iteration 50: objective value = 7555.735652905273"
       ]
      },
      {
       "output_type": "stream",
       "stream": "stdout",
       "text": [
        "\n",
        "Iteration 60: objective value = 7390.162606355015"
       ]
      },
      {
       "output_type": "stream",
       "stream": "stdout",
       "text": [
        "\n",
        "computing train error and precision at k for reg_param 7.0:"
       ]
      },
      {
       "output_type": "stream",
       "stream": "stdout",
       "text": [
        "\n",
        "\ttrain error: 5.569380268715084e-5\n",
        "prec_at_k:  1.0\n",
        "\tsum of solution, one norm of solution:  (-808.4916199580448,1821.4245393924589)\n",
        "fitting train GLRM for reg_param 8.0\n",
        "Fitting GLRM\n",
        "Iteration 10: objective value = 15177.626494966999"
       ]
      },
      {
       "output_type": "stream",
       "stream": "stdout",
       "text": [
        "\n",
        "Iteration 20: objective value = 10400.088320030673"
       ]
      },
      {
       "output_type": "stream",
       "stream": "stdout",
       "text": [
        "\n",
        "computing train error and precision at k for reg_param 8.0:"
       ]
      },
      {
       "output_type": "stream",
       "stream": "stdout",
       "text": [
        "\n",
        "\ttrain error: 0.0006551750426794934\n",
        "prec_at_k:  0.7\n",
        "\tsum of solution, one norm of solution:  (1039.7217384037904,2354.313075277486)\n",
        "fitting train GLRM for reg_param 9.0\n",
        "Fitting GLRM\n",
        "Iteration 10: objective value = 16077.018669271478"
       ]
      },
      {
       "output_type": "stream",
       "stream": "stdout",
       "text": [
        "\n",
        "Iteration 20: objective value = 11448.875886143112"
       ]
      },
      {
       "output_type": "stream",
       "stream": "stdout",
       "text": [
        "\n",
        "Iteration 30: objective value = 10481.564854888344"
       ]
      },
      {
       "output_type": "stream",
       "stream": "stdout",
       "text": [
        "\n",
        "Iteration 40: objective value = 9778.72357846929"
       ]
      },
      {
       "output_type": "stream",
       "stream": "stdout",
       "text": [
        "\n",
        "Iteration 50: objective value = 9518.776653067545"
       ]
      },
      {
       "output_type": "stream",
       "stream": "stdout",
       "text": [
        "\n",
        "Iteration 60: objective value = 9367.462226728983"
       ]
      },
      {
       "output_type": "stream",
       "stream": "stdout",
       "text": [
        "\n",
        "computing train error and precision at k for reg_param 9.0:"
       ]
      },
      {
       "output_type": "stream",
       "stream": "stdout",
       "text": [
        "\n",
        "\ttrain error: 5.644105512660641e-5\n",
        "prec_at_k:  0.6\n",
        "\tsum of solution, one norm of solution:  (-1768.597725142044,1934.733024450847)\n",
        "fitting train GLRM for reg_param 10.0\n",
        "Fitting GLRM\n",
        "Iteration 10: objective value = 17040.774450881465"
       ]
      },
      {
       "output_type": "stream",
       "stream": "stdout",
       "text": [
        "\n",
        "Iteration 20: objective value = 12227.639232642226"
       ]
      },
      {
       "output_type": "stream",
       "stream": "stdout",
       "text": [
        "\n",
        "Iteration 30: objective value = 11324.646499966257"
       ]
      },
      {
       "output_type": "stream",
       "stream": "stdout",
       "text": [
        "\n",
        "Iteration 40: objective value = 10865.341147382109"
       ]
      },
      {
       "output_type": "stream",
       "stream": "stdout",
       "text": [
        "\n",
        "computing train error and precision at k for reg_param 10.0:"
       ]
      },
      {
       "output_type": "stream",
       "stream": "stdout",
       "text": [
        "\n",
        "\ttrain error: 8.964255929101895e-5"
       ]
      },
      {
       "output_type": "stream",
       "stream": "stdout",
       "text": [
        "\n",
        "prec_at_k:  0.7\n",
        "\tsum of solution, one norm of solution:  (517.0298749342732,2038.844536701314)\n",
        "fitting train GLRM for reg_param 0.0"
       ]
      },
      {
       "output_type": "stream",
       "stream": "stdout",
       "text": [
        "\n",
        "Fitting GLRM\n",
        "Iteration 10: objective value = 9.295875956519113"
       ]
      },
      {
       "output_type": "stream",
       "stream": "stdout",
       "text": [
        "\n",
        "computing train error and precision at k for reg_param 0.0:"
       ]
      },
      {
       "output_type": "stream",
       "stream": "stdout",
       "text": [
        "\n",
        "\ttrain error: 8.413925011176516e-5\n",
        "prec_at_k:  0.7\n",
        "\tsum of solution, one norm of solution:  (-1750.8942770228243,3477.428838528045)\n",
        "fitting train GLRM for reg_param 1.0\n",
        "Fitting GLRM\n",
        "Iteration 10: objective value = 3191.3717225840605"
       ]
      },
      {
       "output_type": "stream",
       "stream": "stdout",
       "text": [
        "\n",
        "Iteration 20: objective value = 2680.436324485513"
       ]
      },
      {
       "output_type": "stream",
       "stream": "stdout",
       "text": [
        "\n",
        "Iteration 30: objective value = 2102.7905771937267"
       ]
      },
      {
       "output_type": "stream",
       "stream": "stdout",
       "text": [
        "\n",
        "Iteration 40: objective value = 1627.9951170013376"
       ]
      },
      {
       "output_type": "stream",
       "stream": "stdout",
       "text": [
        "\n",
        "computing train error and precision at k for reg_param 1.0:"
       ]
      },
      {
       "output_type": "stream",
       "stream": "stdout",
       "text": [
        "\n",
        "\ttrain error: 6.933840794766041e-5\n",
        "prec_at_k:  0.7\n",
        "\tsum of solution, one norm of solution:  (1089.8755655532418,2070.267208252136)\n",
        "fitting train GLRM for reg_param 2.0\n",
        "Fitting GLRM\n",
        "Iteration 10: objective value = 5902.924808886174"
       ]
      },
      {
       "output_type": "stream",
       "stream": "stdout",
       "text": [
        "\n",
        "Iteration 20: objective value = 4285.886723163607"
       ]
      },
      {
       "output_type": "stream",
       "stream": "stdout",
       "text": [
        "\n",
        "Iteration 30: objective value = 3088.341532549274"
       ]
      },
      {
       "output_type": "stream",
       "stream": "stdout",
       "text": [
        "\n",
        "Iteration 40: objective value = 2729.488044020456"
       ]
      },
      {
       "output_type": "stream",
       "stream": "stdout",
       "text": [
        "\n",
        "Iteration 50: objective value = 2469.706786970704"
       ]
      },
      {
       "output_type": "stream",
       "stream": "stdout",
       "text": [
        "\n",
        "computing train error and precision at k for reg_param 2.0:"
       ]
      },
      {
       "output_type": "stream",
       "stream": "stdout",
       "text": [
        "\n",
        "\ttrain error: 4.322672861480946e-5\n",
        "prec_at_k:  0.7\n",
        "\tsum of solution, one norm of solution:  (1814.078141514824,2083.960124578103)\n",
        "fitting train GLRM for reg_param 3.0\n",
        "Fitting GLRM\n",
        "Iteration 10: objective value = 7950.008290734167"
       ]
      },
      {
       "output_type": "stream",
       "stream": "stdout",
       "text": [
        "\n",
        "Iteration 20: objective value = 5214.367678609411"
       ]
      },
      {
       "output_type": "stream",
       "stream": "stdout",
       "text": [
        "\n",
        "Iteration 30: objective value = 4213.23991349727"
       ]
      },
      {
       "output_type": "stream",
       "stream": "stdout",
       "text": [
        "\n",
        "computing train error and precision at k for reg_param 3.0:"
       ]
      },
      {
       "output_type": "stream",
       "stream": "stdout",
       "text": [
        "\n",
        "\ttrain error: 0.00015034742446758616\n",
        "prec_at_k:  0.8"
       ]
      },
      {
       "output_type": "stream",
       "stream": "stdout",
       "text": [
        "\n",
        "\tsum of solution, one norm of solution:  (-820.1226782810567,1882.9901519553698)\n",
        "fitting train GLRM for reg_param 4.0\n",
        "Fitting GLRM\n",
        "Iteration 10: objective value = 9960.515522637239"
       ]
      },
      {
       "output_type": "stream",
       "stream": "stdout",
       "text": [
        "\n",
        "Iteration 20: objective value = 6177.558977859981"
       ]
      },
      {
       "output_type": "stream",
       "stream": "stdout",
       "text": [
        "\n",
        "Iteration 30: objective value = 5226.1718242856105"
       ]
      },
      {
       "output_type": "stream",
       "stream": "stdout",
       "text": [
        "\n",
        "Iteration 40: objective value = 4832.873051430672"
       ]
      },
      {
       "output_type": "stream",
       "stream": "stdout",
       "text": [
        "\n",
        "Iteration 50: objective value = 4553.309259768436"
       ]
      },
      {
       "output_type": "stream",
       "stream": "stdout",
       "text": [
        "\n",
        "Iteration 60: objective value = 4383.992850116568"
       ]
      },
      {
       "output_type": "stream",
       "stream": "stdout",
       "text": [
        "\n",
        "computing train error and precision at k for reg_param 4.0:"
       ]
      },
      {
       "output_type": "stream",
       "stream": "stdout",
       "text": [
        "\n",
        "\ttrain error: 3.936601238283574e-5\n",
        "prec_at_k:  0.5\n",
        "\tsum of solution, one norm of solution:  (-438.1603971857663,2047.1881411552326)\n",
        "fitting train GLRM for reg_param 5.0\n",
        "Fitting GLRM\n",
        "Iteration 10: objective value = 11713.245816901703"
       ]
      },
      {
       "output_type": "stream",
       "stream": "stdout",
       "text": [
        "\n",
        "Iteration 20: objective value = 7146.40479991644"
       ]
      },
      {
       "output_type": "stream",
       "stream": "stdout",
       "text": [
        "\n",
        "Iteration 30: objective value = 6178.063802428874"
       ]
      },
      {
       "output_type": "stream",
       "stream": "stdout",
       "text": [
        "\n",
        "computing train error and precision at k for reg_param 5.0:"
       ]
      },
      {
       "output_type": "stream",
       "stream": "stdout",
       "text": [
        "\n",
        "\ttrain error: 0.0002706278838349035\n",
        "prec_at_k:  0.9"
       ]
      },
      {
       "output_type": "stream",
       "stream": "stdout",
       "text": [
        "\n",
        "\tsum of solution, one norm of solution:  (495.8638655092245,2315.675420167041)\n",
        "fitting train GLRM for reg_param 6.0\n",
        "Fitting GLRM\n",
        "Iteration 10: objective value = 12827.946086907115"
       ]
      },
      {
       "output_type": "stream",
       "stream": "stdout",
       "text": [
        "\n",
        "Iteration 20: objective value = 8162.844673083718"
       ]
      },
      {
       "output_type": "stream",
       "stream": "stdout",
       "text": [
        "\n",
        "Iteration 30: objective value = 7355.490357057004"
       ]
      },
      {
       "output_type": "stream",
       "stream": "stdout",
       "text": [
        "\n",
        "Iteration 40: objective value = 6758.259521434066"
       ]
      },
      {
       "output_type": "stream",
       "stream": "stdout",
       "text": [
        "\n",
        "computing train error and precision at k for reg_param 6.0:"
       ]
      },
      {
       "output_type": "stream",
       "stream": "stdout",
       "text": [
        "\n",
        "\ttrain error: 9.674927427587224e-5\n",
        "prec_at_k:  0.5\n",
        "\tsum of solution, one norm of solution:  (1231.578416177185,1931.4222738824624)\n",
        "fitting train GLRM for reg_param 7.0\n",
        "Fitting GLRM\n",
        "Iteration 10: objective value = 14066.749329895258"
       ]
      },
      {
       "output_type": "stream",
       "stream": "stdout",
       "text": [
        "\n",
        "Iteration 20: objective value = 9465.705248231141"
       ]
      },
      {
       "output_type": "stream",
       "stream": "stdout",
       "text": [
        "\n",
        "Iteration 30: objective value = 8217.057242145689"
       ]
      },
      {
       "output_type": "stream",
       "stream": "stdout",
       "text": [
        "\n",
        "Iteration 40: objective value = 7763.334325334513"
       ]
      },
      {
       "output_type": "stream",
       "stream": "stdout",
       "text": [
        "\n",
        "Iteration 50: objective value = 7526.482959963397"
       ]
      },
      {
       "output_type": "stream",
       "stream": "stdout",
       "text": [
        "\n",
        "Iteration 60: objective value = 7347.101611921883"
       ]
      },
      {
       "output_type": "stream",
       "stream": "stdout",
       "text": [
        "\n",
        "computing train error and precision at k for reg_param 7.0:\n",
        "\ttrain error: 4.887783158697422e-5"
       ]
      },
      {
       "output_type": "stream",
       "stream": "stdout",
       "text": [
        "\n",
        "prec_at_k:  0.9\n",
        "\tsum of solution, one norm of solution:  (-1256.6855672484066,1869.2182170497363)\n",
        "fitting train GLRM for reg_param 8.0\n",
        "Fitting GLRM\n",
        "Iteration 10: objective value = 15018.094380653421"
       ]
      },
      {
       "output_type": "stream",
       "stream": "stdout",
       "text": [
        "\n",
        "Iteration 20: objective value = 10263.735274732664"
       ]
      },
      {
       "output_type": "stream",
       "stream": "stdout",
       "text": [
        "\n",
        "Iteration 30: objective value = 9366.897285143936"
       ]
      },
      {
       "output_type": "stream",
       "stream": "stdout",
       "text": [
        "\n",
        "Iteration 40: objective value = 8782.923822542061"
       ]
      },
      {
       "output_type": "stream",
       "stream": "stdout",
       "text": [
        "\n",
        "Iteration 50: objective value = 8526.353938245331"
       ]
      },
      {
       "output_type": "stream",
       "stream": "stdout",
       "text": [
        "\n",
        "computing train error and precision at k for reg_param 8.0:"
       ]
      },
      {
       "output_type": "stream",
       "stream": "stdout",
       "text": [
        "\n",
        "\ttrain error: 4.7977517208723534e-5\n",
        "prec_at_k:  0.8\n",
        "\tsum of solution, one norm of solution:  (-613.8404375550535,2105.0451953741763)\n",
        "fitting train GLRM for reg_param 9.0\n",
        "Fitting GLRM\n",
        "Iteration 10: objective value = 15950.470212832894"
       ]
      },
      {
       "output_type": "stream",
       "stream": "stdout",
       "text": [
        "\n",
        "Iteration 20: objective value = 11379.852384703468"
       ]
      },
      {
       "output_type": "stream",
       "stream": "stdout",
       "text": [
        "\n",
        "Iteration 30: objective value = 10368.698248304236"
       ]
      },
      {
       "output_type": "stream",
       "stream": "stdout",
       "text": [
        "\n",
        "Iteration 40: objective value = 9807.323952173574"
       ]
      },
      {
       "output_type": "stream",
       "stream": "stdout",
       "text": [
        "\n",
        "computing train error and precision at k for reg_param 9.0:"
       ]
      },
      {
       "output_type": "stream",
       "stream": "stdout",
       "text": [
        "\n",
        "\ttrain error: 0.00010586704596816715\n",
        "prec_at_k:  0.7"
       ]
      },
      {
       "output_type": "stream",
       "stream": "stdout",
       "text": [
        "\n",
        "\tsum of solution, one norm of solution:  (462.4154956369633,1978.6507453511554)\n",
        "fitting train GLRM for reg_param 10.0\n",
        "Fitting GLRM\n",
        "Iteration 10: objective value = 16908.264192414812"
       ]
      },
      {
       "output_type": "stream",
       "stream": "stdout",
       "text": [
        "\n",
        "computing train error and precision at k for reg_param 10.0:"
       ]
      },
      {
       "output_type": "stream",
       "stream": "stdout",
       "text": [
        "\n",
        "\ttrain error: 0.0014862211784120026\n",
        "prec_at_k:  0.6"
       ]
      },
      {
       "output_type": "stream",
       "stream": "stdout",
       "text": [
        "\n",
        "\tsum of solution, one norm of solution:  (1703.8652800162695,2011.9709487961372)\n",
        "fitting train GLRM for reg_param 0.0"
       ]
      },
      {
       "output_type": "stream",
       "stream": "stdout",
       "text": [
        "\n",
        "Fitting GLRM\n",
        "Iteration 10: objective value = 9.930456117263667"
       ]
      },
      {
       "output_type": "stream",
       "stream": "stdout",
       "text": [
        "\n",
        "computing train error and precision at k for reg_param 0.0:"
       ]
      },
      {
       "output_type": "stream",
       "stream": "stdout",
       "text": [
        "\n",
        "\ttrain error: 0.00010357722870807982\n",
        "prec_at_k:  0.8\n",
        "\tsum of solution, one norm of solution:  (655.4951316581192,3443.827026689839)\n",
        "fitting train GLRM for reg_param 1.0\n",
        "Fitting GLRM\n",
        "Iteration 10: objective value = 3201.6500197389205"
       ]
      },
      {
       "output_type": "stream",
       "stream": "stdout",
       "text": [
        "\n",
        "Iteration 20: objective value = 2688.519548011884"
       ]
      },
      {
       "output_type": "stream",
       "stream": "stdout",
       "text": [
        "\n",
        "Iteration 30: objective value = 2108.8454567172603"
       ]
      },
      {
       "output_type": "stream",
       "stream": "stdout",
       "text": [
        "\n",
        "Iteration 40: objective value = 1628.850432709595"
       ]
      },
      {
       "output_type": "stream",
       "stream": "stdout",
       "text": [
        "\n",
        "Iteration 50: objective value = 1442.7811080677204"
       ]
      },
      {
       "output_type": "stream",
       "stream": "stdout",
       "text": [
        "\n",
        "computing train error and precision at k for reg_param 1.0:\n",
        "\ttrain error: 7.003190923056171e-5"
       ]
      },
      {
       "output_type": "stream",
       "stream": "stdout",
       "text": [
        "\n",
        "prec_at_k:  0.8\n",
        "\tsum of solution, one norm of solution:  (-796.7953743805949,1970.5356890582893)\n",
        "fitting train GLRM for reg_param 2.0\n",
        "Fitting GLRM\n",
        "Iteration 10: objective value = 6022.084564820403"
       ]
      },
      {
       "output_type": "stream",
       "stream": "stdout",
       "text": [
        "\n",
        "Iteration 20: objective value = 4367.2015882641535"
       ]
      },
      {
       "output_type": "stream",
       "stream": "stdout",
       "text": [
        "\n",
        "Iteration 30: objective value = 3138.693395733036"
       ]
      },
      {
       "output_type": "stream",
       "stream": "stdout",
       "text": [
        "\n",
        "Iteration 40: objective value = 2680.477926875447"
       ]
      },
      {
       "output_type": "stream",
       "stream": "stdout",
       "text": [
        "\n",
        "Iteration 50: objective value = 2500.0577925897032"
       ]
      },
      {
       "output_type": "stream",
       "stream": "stdout",
       "text": [
        "\n",
        "computing train error and precision at k for reg_param 2.0:"
       ]
      },
      {
       "output_type": "stream",
       "stream": "stdout",
       "text": [
        "\n",
        "\ttrain error: 5.567895734406794e-5\n",
        "prec_at_k:  0.7\n",
        "\tsum of solution, one norm of solution:  (-1628.680550722483,2212.3752909416426)\n",
        "fitting train GLRM for reg_param 3.0\n",
        "Fitting GLRM\n",
        "Iteration 10: objective value = 8247.414270212796"
       ]
      },
      {
       "output_type": "stream",
       "stream": "stdout",
       "text": [
        "\n",
        "Iteration 20: objective value = 5400.114207859844"
       ]
      },
      {
       "output_type": "stream",
       "stream": "stdout",
       "text": [
        "\n",
        "Iteration 30: objective value = 4176.53240161959"
       ]
      },
      {
       "output_type": "stream",
       "stream": "stdout",
       "text": [
        "\n",
        "Iteration 40: objective value = 3677.0819020463987"
       ]
      },
      {
       "output_type": "stream",
       "stream": "stdout",
       "text": [
        "\n",
        "computing train error and precision at k for reg_param 3.0:"
       ]
      },
      {
       "output_type": "stream",
       "stream": "stdout",
       "text": [
        "\n",
        "\ttrain error: 0.00011036175020662334\n",
        "prec_at_k:  0.9\n",
        "\tsum of solution, one norm of solution:  (-1362.436614866805,2138.7800165923295)\n",
        "fitting train GLRM for reg_param 4.0\n",
        "Fitting GLRM\n",
        "Iteration 10: objective value = 10080.87652187812"
       ]
      },
      {
       "output_type": "stream",
       "stream": "stdout",
       "text": [
        "\n",
        "Iteration 20: objective value = 6140.535494890756"
       ]
      },
      {
       "output_type": "stream",
       "stream": "stdout",
       "text": [
        "\n",
        "Iteration 30: objective value = 5357.713217664428"
       ]
      },
      {
       "output_type": "stream",
       "stream": "stdout",
       "text": [
        "\n",
        "Iteration 40: objective value = 4804.916100993335"
       ]
      },
      {
       "output_type": "stream",
       "stream": "stdout",
       "text": [
        "\n",
        "Iteration 50: objective value = 4526.551417848674"
       ]
      },
      {
       "output_type": "stream",
       "stream": "stdout",
       "text": [
        "\n",
        "Iteration 60: objective value = 4372.968725824011"
       ]
      },
      {
       "output_type": "stream",
       "stream": "stdout",
       "text": [
        "\n",
        "computing train error and precision at k for reg_param 4.0:"
       ]
      },
      {
       "output_type": "stream",
       "stream": "stdout",
       "text": [
        "\n",
        "\ttrain error: 3.383459095162923e-5\n",
        "prec_at_k:  0.8"
       ]
      },
      {
       "output_type": "stream",
       "stream": "stdout",
       "text": [
        "\n",
        "\tsum of solution, one norm of solution:  (-847.4737433349721,2150.584883359661)\n",
        "fitting train GLRM for reg_param 5.0\n",
        "Fitting GLRM\n",
        "Iteration 10: objective value = 11630.45682759878"
       ]
      },
      {
       "output_type": "stream",
       "stream": "stdout",
       "text": [
        "\n",
        "Iteration 20: objective value = 7106.84362347728"
       ]
      },
      {
       "output_type": "stream",
       "stream": "stdout",
       "text": [
        "\n",
        "Iteration 30: objective value = 6437.469435523088"
       ]
      },
      {
       "output_type": "stream",
       "stream": "stdout",
       "text": [
        "\n",
        "Iteration 40: objective value = 5882.076072093203"
       ]
      },
      {
       "output_type": "stream",
       "stream": "stdout",
       "text": [
        "\n",
        "Iteration 50: objective value = 5530.110373495338"
       ]
      },
      {
       "output_type": "stream",
       "stream": "stdout",
       "text": [
        "\n",
        "computing train error and precision at k for reg_param 5.0:\n",
        "\ttrain error: 9.851159334567978e-5\n",
        "prec_at_k:  0.8"
       ]
      },
      {
       "output_type": "stream",
       "stream": "stdout",
       "text": [
        "\n",
        "\tsum of solution, one norm of solution:  (-379.4654556783163,2099.188115766675)\n",
        "fitting train GLRM for reg_param 6.0\n",
        "Fitting GLRM\n",
        "Iteration 10: objective value = 12951.988479791287"
       ]
      },
      {
       "output_type": "stream",
       "stream": "stdout",
       "text": [
        "\n",
        "Iteration 20: objective value = 8260.028538033577"
       ]
      },
      {
       "output_type": "stream",
       "stream": "stdout",
       "text": [
        "\n",
        "Iteration 30: objective value = 7381.525918590766"
       ]
      },
      {
       "output_type": "stream",
       "stream": "stdout",
       "text": [
        "\n",
        "Iteration 40: objective value = 6784.3455989484955"
       ]
      },
      {
       "output_type": "stream",
       "stream": "stdout",
       "text": [
        "\n",
        "computing train error and precision at k for reg_param 6.0:"
       ]
      },
      {
       "output_type": "stream",
       "stream": "stdout",
       "text": [
        "\n",
        "\ttrain error: 0.00013746143853572237\n",
        "prec_at_k:  0.8\n",
        "\tsum of solution, one norm of solution:  (494.4269573444695,2199.3770034726676)\n",
        "fitting train GLRM for reg_param 7.0\n",
        "Fitting GLRM\n",
        "Iteration 10: objective value = 14044.72969074428"
       ]
      },
      {
       "output_type": "stream",
       "stream": "stdout",
       "text": [
        "\n",
        "Iteration 20: objective value = 9239.588365026511"
       ]
      },
      {
       "output_type": "stream",
       "stream": "stdout",
       "text": [
        "\n",
        "Iteration 30: objective value = 8140.927329337718"
       ]
      },
      {
       "output_type": "stream",
       "stream": "stdout",
       "text": [
        "\n",
        "Iteration 40: objective value = 7738.684148493119"
       ]
      },
      {
       "output_type": "stream",
       "stream": "stdout",
       "text": [
        "\n",
        "Iteration 50: objective value = 7498.877743436868"
       ]
      },
      {
       "output_type": "stream",
       "stream": "stdout",
       "text": [
        "\n",
        "computing train error and precision at k for reg_param 7.0:"
       ]
      },
      {
       "output_type": "stream",
       "stream": "stdout",
       "text": [
        "\n",
        "\ttrain error: 5.6785749254204374e-5\n",
        "prec_at_k:  0.8\n",
        "\tsum of solution, one norm of solution:  (484.86932928118466,1749.8722318872315)\n",
        "fitting train GLRM for reg_param 8.0\n",
        "Fitting GLRM\n",
        "Iteration 10: objective value = 15077.950346058562"
       ]
      },
      {
       "output_type": "stream",
       "stream": "stdout",
       "text": [
        "\n",
        "Iteration 20: objective value = 10353.320702993122"
       ]
      },
      {
       "output_type": "stream",
       "stream": "stdout",
       "text": [
        "\n",
        "Iteration 30: objective value = 9412.476977434146"
       ]
      },
      {
       "output_type": "stream",
       "stream": "stdout",
       "text": [
        "\n",
        "Iteration 40: objective value = 8819.404388383196"
       ]
      },
      {
       "output_type": "stream",
       "stream": "stdout",
       "text": [
        "\n",
        "Iteration 50: objective value = 8589.86699025397"
       ]
      },
      {
       "output_type": "stream",
       "stream": "stdout",
       "text": [
        "\n",
        "computing train error and precision at k for reg_param 8.0:"
       ]
      },
      {
       "output_type": "stream",
       "stream": "stdout",
       "text": [
        "\n",
        "\ttrain error: 6.534202592532863e-5\n",
        "prec_at_k:  0.8\n",
        "\tsum of solution, one norm of solution:  (-256.3480799740027,2056.3739568731744)\n",
        "fitting train GLRM for reg_param 9.0\n",
        "Fitting GLRM\n",
        "Iteration 10: objective value = 16220.700323368923"
       ]
      },
      {
       "output_type": "stream",
       "stream": "stdout",
       "text": [
        "\n",
        "Iteration 20: objective value = 11598.082492395379"
       ]
      },
      {
       "output_type": "stream",
       "stream": "stdout",
       "text": [
        "\n",
        "Iteration 30: objective value = 10536.167047693278"
       ]
      },
      {
       "output_type": "stream",
       "stream": "stdout",
       "text": [
        "\n",
        "Iteration 40: objective value = 9937.054167973305"
       ]
      },
      {
       "output_type": "stream",
       "stream": "stdout",
       "text": [
        "\n",
        "Iteration 50: objective value = 9658.787138232507"
       ]
      },
      {
       "output_type": "stream",
       "stream": "stdout",
       "text": [
        "\n",
        "computing train error and precision at k for reg_param 9.0:"
       ]
      },
      {
       "output_type": "stream",
       "stream": "stdout",
       "text": [
        "\n",
        "\ttrain error: 5.007851605546133e-5\n",
        "prec_at_k:  0.8"
       ]
      },
      {
       "output_type": "stream",
       "stream": "stdout",
       "text": [
        "\n",
        "\tsum of solution, one norm of solution:  (683.1693401867099,1966.9194185574715)\n",
        "fitting train GLRM for reg_param 10.0\n",
        "Fitting GLRM\n",
        "Iteration 10: objective value = 16695.46092144877"
       ]
      },
      {
       "output_type": "stream",
       "stream": "stdout",
       "text": [
        "\n",
        "Iteration 20: objective value = 12417.40307801114"
       ]
      },
      {
       "output_type": "stream",
       "stream": "stdout",
       "text": [
        "\n",
        "Iteration 30: objective value = 11312.616372561777"
       ]
      },
      {
       "output_type": "stream",
       "stream": "stdout",
       "text": [
        "\n",
        "Iteration 40: objective value = 10796.65893561645"
       ]
      },
      {
       "output_type": "stream",
       "stream": "stdout",
       "text": [
        "\n",
        "Iteration 50: objective value = 10609.6091416959"
       ]
      },
      {
       "output_type": "stream",
       "stream": "stdout",
       "text": [
        "\n",
        "Iteration 60: objective value = 10461.838094285391"
       ]
      },
      {
       "output_type": "stream",
       "stream": "stdout",
       "text": [
        "\n",
        "Iteration 70: objective value = 10349.909752917321"
       ]
      },
      {
       "output_type": "stream",
       "stream": "stdout",
       "text": [
        "\n",
        "computing train error and precision at k for reg_param 10.0:"
       ]
      },
      {
       "output_type": "stream",
       "stream": "stdout",
       "text": [
        "\n",
        "\ttrain error: 6.984368944018062e-5\n",
        "prec_at_k:  1.0\n",
        "\tsum of solution, one norm of solution:  (-773.728134995047,2024.6761902607304)\n",
        "fitting train GLRM for reg_param 0.0"
       ]
      },
      {
       "output_type": "stream",
       "stream": "stdout",
       "text": [
        "\n",
        "Fitting GLRM\n",
        "Iteration 10: objective value = 7.572813963269735"
       ]
      },
      {
       "output_type": "stream",
       "stream": "stdout",
       "text": [
        "\n",
        "computing train error and precision at k for reg_param 0.0:"
       ]
      },
      {
       "output_type": "stream",
       "stream": "stdout",
       "text": [
        "\n",
        "\ttrain error: 6.390344278563409e-5\n",
        "prec_at_k:  0.8\n",
        "\tsum of solution, one norm of solution:  (2724.0936857912284,3381.0135586697925)\n",
        "fitting train GLRM for reg_param 1.0\n",
        "Fitting GLRM\n",
        "Iteration 10: objective value = 3137.092432156229"
       ]
      },
      {
       "output_type": "stream",
       "stream": "stdout",
       "text": [
        "\n",
        "Iteration 20: objective value = 2632.348966595705"
       ]
      },
      {
       "output_type": "stream",
       "stream": "stdout",
       "text": [
        "\n",
        "Iteration 30: objective value = 2061.8829859830757"
       ]
      },
      {
       "output_type": "stream",
       "stream": "stdout",
       "text": [
        "\n",
        "Iteration 40: objective value = 1598.4199731436397"
       ]
      },
      {
       "output_type": "stream",
       "stream": "stdout",
       "text": [
        "\n",
        "computing train error and precision at k for reg_param 1.0:"
       ]
      },
      {
       "output_type": "stream",
       "stream": "stdout",
       "text": [
        "\n",
        "\ttrain error: 7.100742808952334e-5\n",
        "prec_at_k:  0.9\n",
        "\tsum of solution, one norm of solution:  (-1083.148616637437,2269.353972523237)\n",
        "fitting train GLRM for reg_param 2.0\n",
        "Fitting GLRM\n",
        "Iteration 10: objective value = 5859.291004221711"
       ]
      },
      {
       "output_type": "stream",
       "stream": "stdout",
       "text": [
        "\n",
        "Iteration 20: objective value = 4263.911909856886"
       ]
      },
      {
       "output_type": "stream",
       "stream": "stdout",
       "text": [
        "\n",
        "Iteration 30: objective value = 3075.103824961614"
       ]
      },
      {
       "output_type": "stream",
       "stream": "stdout",
       "text": [
        "\n",
        "Iteration 40: objective value = 2732.165819326876"
       ]
      },
      {
       "output_type": "stream",
       "stream": "stdout",
       "text": [
        "\n",
        "Iteration 50: objective value = 2486.0320432617586"
       ]
      },
      {
       "output_type": "stream",
       "stream": "stdout",
       "text": [
        "\n",
        "computing train error and precision at k for reg_param 2.0:"
       ]
      },
      {
       "output_type": "stream",
       "stream": "stdout",
       "text": [
        "\n",
        "\ttrain error: 5.3511637130574085e-5\n",
        "prec_at_k:  0.6\n",
        "\tsum of solution, one norm of solution:  (-758.5078102587664,2061.5497036653614)\n",
        "fitting train GLRM for reg_param 3.0\n",
        "Fitting GLRM\n",
        "Iteration 10: objective value = 8107.819096893945"
       ]
      },
      {
       "output_type": "stream",
       "stream": "stdout",
       "text": [
        "\n",
        "Iteration 20: objective value = 5310.17176614217"
       ]
      },
      {
       "output_type": "stream",
       "stream": "stdout",
       "text": [
        "\n",
        "Iteration 30: objective value = 4221.625164794333"
       ]
      },
      {
       "output_type": "stream",
       "stream": "stdout",
       "text": [
        "\n",
        "Iteration 40: objective value = 3847.1113220987986"
       ]
      },
      {
       "output_type": "stream",
       "stream": "stdout",
       "text": [
        "\n",
        "computing train error and precision at k for reg_param 3.0:"
       ]
      },
      {
       "output_type": "stream",
       "stream": "stdout",
       "text": [
        "\n",
        "\ttrain error: 0.00010299736570508913\n",
        "prec_at_k:  0.8\n",
        "\tsum of solution, one norm of solution:  (-1338.4724806952756,1744.4258640265234)\n",
        "fitting train GLRM for reg_param 4.0\n",
        "Fitting GLRM\n",
        "Iteration 10: objective value = 10373.646201917638"
       ]
      },
      {
       "output_type": "stream",
       "stream": "stdout",
       "text": [
        "\n",
        "Iteration 20: objective value = 6391.129943767324"
       ]
      },
      {
       "output_type": "stream",
       "stream": "stdout",
       "text": [
        "\n",
        "Iteration 30: objective value = 5349.350272455165"
       ]
      },
      {
       "output_type": "stream",
       "stream": "stdout",
       "text": [
        "\n",
        "Iteration 40: objective value = 4887.716361628244"
       ]
      },
      {
       "output_type": "stream",
       "stream": "stdout",
       "text": [
        "\n",
        "computing train error and precision at k for reg_param 4.0:"
       ]
      },
      {
       "output_type": "stream",
       "stream": "stdout",
       "text": [
        "\n",
        "\ttrain error: 0.0001301518077193623\n",
        "prec_at_k:  0.8\n",
        "\tsum of solution, one norm of solution:  (238.25005229362438,2016.8519135704355)\n",
        "fitting train GLRM for reg_param 5.0\n",
        "Fitting GLRM\n",
        "Iteration 10: objective value = 11610.32728619217"
       ]
      },
      {
       "output_type": "stream",
       "stream": "stdout",
       "text": [
        "\n",
        "Iteration 20: objective value = 7150.115109591489"
       ]
      },
      {
       "output_type": "stream",
       "stream": "stdout",
       "text": [
        "\n",
        "Iteration 30: objective value = 6467.622022074521"
       ]
      },
      {
       "output_type": "stream",
       "stream": "stdout",
       "text": [
        "\n",
        "Iteration 40: objective value = 5832.131019707563"
       ]
      },
      {
       "output_type": "stream",
       "stream": "stdout",
       "text": [
        "\n",
        "Iteration 50: objective value = 5517.105959471913"
       ]
      },
      {
       "output_type": "stream",
       "stream": "stdout",
       "text": [
        "\n",
        "Iteration 60: objective value = 5390.565582363099"
       ]
      },
      {
       "output_type": "stream",
       "stream": "stdout",
       "text": [
        "\n",
        "computing train error and precision at k for reg_param 5.0:"
       ]
      },
      {
       "output_type": "stream",
       "stream": "stdout",
       "text": [
        "\n",
        "\ttrain error: 5.086921791827254e-5\n",
        "prec_at_k:  0.8"
       ]
      },
      {
       "output_type": "stream",
       "stream": "stdout",
       "text": [
        "\n",
        "\tsum of solution, one norm of solution:  (1439.3883156871175,1520.1147366053417)\n",
        "fitting train GLRM for reg_param 6.0\n",
        "Fitting GLRM\n",
        "Iteration 10: objective value = 12975.180746317264"
       ]
      },
      {
       "output_type": "stream",
       "stream": "stdout",
       "text": [
        "\n",
        "Iteration 20: objective value = 8189.52215233659"
       ]
      },
      {
       "output_type": "stream",
       "stream": "stdout",
       "text": [
        "\n",
        "Iteration 30: objective value = 7358.682357366654"
       ]
      },
      {
       "output_type": "stream",
       "stream": "stdout",
       "text": [
        "\n",
        "Iteration 40: objective value = 6761.172191892119"
       ]
      },
      {
       "output_type": "stream",
       "stream": "stdout",
       "text": [
        "\n",
        "computing train error and precision at k for reg_param 6.0:"
       ]
      },
      {
       "output_type": "stream",
       "stream": "stdout",
       "text": [
        "\n",
        "\ttrain error: 0.0001089348710326518\n",
        "prec_at_k:  0.8\n",
        "\tsum of solution, one norm of solution:  (114.25964574841404,1999.0916665619088)\n",
        "fitting train GLRM for reg_param 7.0\n",
        "Fitting GLRM"
       ]
      },
      {
       "output_type": "stream",
       "stream": "stdout",
       "text": [
        "\n",
        "Iteration 10: objective value = 14103.300533035013"
       ]
      },
      {
       "output_type": "stream",
       "stream": "stdout",
       "text": [
        "\n",
        "Iteration 20: objective value = 9517.462969869866"
       ]
      },
      {
       "output_type": "stream",
       "stream": "stdout",
       "text": [
        "\n",
        "Iteration 30: objective value = 8219.49549927297"
       ]
      },
      {
       "output_type": "stream",
       "stream": "stdout",
       "text": [
        "\n",
        "Iteration 40: objective value = 7688.790573577357"
       ]
      },
      {
       "output_type": "stream",
       "stream": "stdout",
       "text": [
        "\n",
        "computing train error and precision at k for reg_param 7.0:"
       ]
      },
      {
       "output_type": "stream",
       "stream": "stdout",
       "text": [
        "\n",
        "\ttrain error: 0.00014722966389414555\n",
        "prec_at_k:  0.8\n",
        "\tsum of solution, one norm of solution:  (1917.6185427244473,1927.9972560642827)\n",
        "fitting train GLRM for reg_param 8.0\n",
        "Fitting GLRM\n",
        "Iteration 10: objective value = 15138.49024870792"
       ]
      },
      {
       "output_type": "stream",
       "stream": "stdout",
       "text": [
        "\n",
        "Iteration 20: objective value = 10223.23067834431"
       ]
      },
      {
       "output_type": "stream",
       "stream": "stdout",
       "text": [
        "\n",
        "Iteration 30: objective value = 9315.932404684436"
       ]
      },
      {
       "output_type": "stream",
       "stream": "stdout",
       "text": [
        "\n",
        "Iteration 40: objective value = 8725.439332840348"
       ]
      },
      {
       "output_type": "stream",
       "stream": "stdout",
       "text": [
        "\n",
        "computing train error and precision at k for reg_param 8.0:"
       ]
      },
      {
       "output_type": "stream",
       "stream": "stdout",
       "text": [
        "\n",
        "\ttrain error: 0.00010550112761374336\n",
        "prec_at_k:  0.7\n",
        "\tsum of solution, one norm of solution:  (-771.6841755259843,2035.7730770525075)\n",
        "fitting train GLRM for reg_param 9.0\n",
        "Fitting GLRM\n",
        "Iteration 10: objective value = 16148.696115337807"
       ]
      },
      {
       "output_type": "stream",
       "stream": "stdout",
       "text": [
        "\n",
        "Iteration 20: objective value = 11477.65600978911"
       ]
      },
      {
       "output_type": "stream",
       "stream": "stdout",
       "text": [
        "\n",
        "Iteration 30: objective value = 10258.75327484826"
       ]
      },
      {
       "output_type": "stream",
       "stream": "stdout",
       "text": [
        "\n",
        "Iteration 40: objective value = 9809.495622390228"
       ]
      },
      {
       "output_type": "stream",
       "stream": "stdout",
       "text": [
        "\n",
        "computing train error and precision at k for reg_param 9.0:"
       ]
      },
      {
       "output_type": "stream",
       "stream": "stdout",
       "text": [
        "\n",
        "\ttrain error: 0.0001050164318762258\n",
        "prec_at_k:  0.7\n",
        "\tsum of solution, one norm of solution:  (890.7427647065992,2173.4661473125207)\n",
        "fitting train GLRM for reg_param 10.0\n",
        "Fitting GLRM\n",
        "Iteration 10: objective value = 17018.33733322537"
       ]
      },
      {
       "output_type": "stream",
       "stream": "stdout",
       "text": [
        "\n",
        "Iteration 20: objective value = 12687.728478536812"
       ]
      },
      {
       "output_type": "stream",
       "stream": "stdout",
       "text": [
        "\n",
        "Iteration 30: objective value = 11336.793301812597"
       ]
      },
      {
       "output_type": "stream",
       "stream": "stdout",
       "text": [
        "\n",
        "Iteration 40: objective value = 10829.262971077334"
       ]
      },
      {
       "output_type": "stream",
       "stream": "stdout",
       "text": [
        "\n",
        "computing train error and precision at k for reg_param 10.0:"
       ]
      },
      {
       "output_type": "stream",
       "stream": "stdout",
       "text": [
        "\n",
        "\ttrain error: 8.300919567974655e-5\n",
        "prec_at_k:  0.8\n",
        "\tsum of solution, one norm of solution:  (1283.6851420742018,1407.1907877711542)\n",
        "fitting train GLRM for reg_param 0.0"
       ]
      },
      {
       "output_type": "stream",
       "stream": "stdout",
       "text": [
        "\n",
        "Fitting GLRM\n",
        "Iteration 10: objective value = 11.430417236486738"
       ]
      },
      {
       "output_type": "stream",
       "stream": "stdout",
       "text": [
        "\n",
        "computing train error and precision at k for reg_param 0.0:\n",
        "\ttrain error: 0.00010744692751730068"
       ]
      },
      {
       "output_type": "stream",
       "stream": "stdout",
       "text": [
        "\n",
        "prec_at_k:  0.6"
       ]
      },
      {
       "output_type": "stream",
       "stream": "stdout",
       "text": [
        "\n",
        "\tsum of solution, one norm of solution:  (-821.3418071775855,3455.737180332451)\n",
        "fitting train GLRM for reg_param 1.0\n",
        "Fitting GLRM\n",
        "Iteration 10: objective value = 3234.598098958212"
       ]
      },
      {
       "output_type": "stream",
       "stream": "stdout",
       "text": [
        "\n",
        "Iteration 20: objective value = 2714.205381397966"
       ]
      },
      {
       "output_type": "stream",
       "stream": "stdout",
       "text": [
        "\n",
        "Iteration 30: objective value = 2121.438076244579"
       ]
      },
      {
       "output_type": "stream",
       "stream": "stdout",
       "text": [
        "\n",
        "Iteration 40: objective value = 1633.9518824592415"
       ]
      },
      {
       "output_type": "stream",
       "stream": "stdout",
       "text": [
        "\n",
        "Iteration 50: objective value = 1442.232663940408"
       ]
      },
      {
       "output_type": "stream",
       "stream": "stdout",
       "text": [
        "\n",
        "computing train error and precision at k for reg_param 1.0:"
       ]
      },
      {
       "output_type": "stream",
       "stream": "stdout",
       "text": [
        "\n",
        "\ttrain error: 7.201901557686928e-5\n",
        "prec_at_k:  0.7\n",
        "\tsum of solution, one norm of solution:  (406.78645830348273,2249.186619887033)\n",
        "fitting train GLRM for reg_param 2.0\n",
        "Fitting GLRM\n",
        "Iteration 10: objective value = 5977.435452821703"
       ]
      },
      {
       "output_type": "stream",
       "stream": "stdout",
       "text": [
        "\n",
        "Iteration 20: objective value = 4328.683229223249"
       ]
      },
      {
       "output_type": "stream",
       "stream": "stdout",
       "text": [
        "\n",
        "Iteration 30: objective value = 3098.050025840594"
       ]
      },
      {
       "output_type": "stream",
       "stream": "stdout",
       "text": [
        "\n",
        "Iteration 40: objective value = 2706.05502051095"
       ]
      },
      {
       "output_type": "stream",
       "stream": "stdout",
       "text": [
        "\n",
        "computing train error and precision at k for reg_param 2.0:"
       ]
      },
      {
       "output_type": "stream",
       "stream": "stdout",
       "text": [
        "\n",
        "\ttrain error: 7.714698656113499e-5\n",
        "prec_at_k:  0.8\n",
        "\tsum of solution, one norm of solution:  (531.2732479056862,2324.0061733663115)\n",
        "fitting train GLRM for reg_param 3.0\n",
        "Fitting GLRM\n",
        "Iteration 10: objective value = 8098.261304858543"
       ]
      },
      {
       "output_type": "stream",
       "stream": "stdout",
       "text": [
        "\n",
        "Iteration 20: objective value = 5296.098139055867"
       ]
      },
      {
       "output_type": "stream",
       "stream": "stdout",
       "text": [
        "\n",
        "Iteration 30: objective value = 4162.094523227573"
       ]
      },
      {
       "output_type": "stream",
       "stream": "stdout",
       "text": [
        "\n",
        "Iteration 40: objective value = 3701.924841721792"
       ]
      },
      {
       "output_type": "stream",
       "stream": "stdout",
       "text": [
        "\n",
        "Iteration 50: objective value = 3479.192124644888"
       ]
      },
      {
       "output_type": "stream",
       "stream": "stdout",
       "text": [
        "\n",
        "computing train error and precision at k for reg_param 3.0:"
       ]
      },
      {
       "output_type": "stream",
       "stream": "stdout",
       "text": [
        "\n",
        "\ttrain error: 7.442679668830862e-5\n",
        "prec_at_k:  0.5"
       ]
      },
      {
       "output_type": "stream",
       "stream": "stdout",
       "text": [
        "\n",
        "\tsum of solution, one norm of solution:  (-134.43888625483117,2061.3230463274067)\n",
        "fitting train GLRM for reg_param 4.0\n",
        "Fitting GLRM\n",
        "Iteration 10: objective value = 9898.540051631997"
       ]
      },
      {
       "output_type": "stream",
       "stream": "stdout",
       "text": [
        "\n",
        "Iteration 20: objective value = 6088.075378397665"
       ]
      },
      {
       "output_type": "stream",
       "stream": "stdout",
       "text": [
        "\n",
        "Iteration 30: objective value = 5210.522184016924"
       ]
      },
      {
       "output_type": "stream",
       "stream": "stdout",
       "text": [
        "\n",
        "Iteration 40: objective value = 4775.15262817449"
       ]
      },
      {
       "output_type": "stream",
       "stream": "stdout",
       "text": [
        "\n",
        "computing train error and precision at k for reg_param 4.0:"
       ]
      },
      {
       "output_type": "stream",
       "stream": "stdout",
       "text": [
        "\n",
        "\ttrain error: 0.00011879712753644243\n",
        "prec_at_k:  0.6\n",
        "\tsum of solution, one norm of solution:  (1526.1824803741622,1953.666093462079)\n",
        "fitting train GLRM for reg_param 5.0\n",
        "Fitting GLRM\n",
        "Iteration 10: objective value = 11674.972782792245"
       ]
      },
      {
       "output_type": "stream",
       "stream": "stdout",
       "text": [
        "\n",
        "Iteration 20: objective value = 7150.160926191919"
       ]
      },
      {
       "output_type": "stream",
       "stream": "stdout",
       "text": [
        "\n",
        "Iteration 30: objective value = 6204.858646539519"
       ]
      },
      {
       "output_type": "stream",
       "stream": "stdout",
       "text": [
        "\n",
        "Iteration 40: objective value = 5731.687474146639"
       ]
      },
      {
       "output_type": "stream",
       "stream": "stdout",
       "text": [
        "\n",
        "Iteration 50: objective value = 5503.404661508398"
       ]
      },
      {
       "output_type": "stream",
       "stream": "stdout",
       "text": [
        "\n",
        "computing train error and precision at k for reg_param 5.0:"
       ]
      },
      {
       "output_type": "stream",
       "stream": "stdout",
       "text": [
        "\n",
        "\ttrain error: 4.969547419542349e-5\n",
        "prec_at_k:  0.7\n",
        "\tsum of solution, one norm of solution:  (1095.887404410521,1824.9284520557685)\n",
        "fitting train GLRM for reg_param 6.0\n",
        "Fitting GLRM\n",
        "Iteration 10: objective value = 12882.332630155639"
       ]
      },
      {
       "output_type": "stream",
       "stream": "stdout",
       "text": [
        "\n",
        "Iteration 20: objective value = 8211.449285239136"
       ]
      },
      {
       "output_type": "stream",
       "stream": "stdout",
       "text": [
        "\n",
        "Iteration 30: objective value = 7273.818857736729"
       ]
      },
      {
       "output_type": "stream",
       "stream": "stdout",
       "text": [
        "\n",
        "Iteration 40: objective value = 6746.05520607012"
       ]
      },
      {
       "output_type": "stream",
       "stream": "stdout",
       "text": [
        "\n",
        "computing train error and precision at k for reg_param 6.0:"
       ]
      },
      {
       "output_type": "stream",
       "stream": "stdout",
       "text": [
        "\n",
        "\ttrain error: 8.760659965260101e-5"
       ]
      }
     ]
    },
    {
     "cell_type": "code",
     "collapsed": false,
     "input": [
      "dfav = DataFrame(train_error = mean([df[:train_error] for df in dfs1]), \n",
      "                 prec_at_k = mean([df[:prec_at_k] for df in dfs1]),\n",
      "                 reg_param = reg_params)\n",
      "dflong = vcat(map(l->stack(dfav,l,:reg_param), [:train_error, :prec_at_k])...)\n",
      "p = Gadfly.plot(dflong,x=:reg_param,y=:value,color=:variable,\n",
      "#Coord.Cartesian(xmin=4,xmax=18))\n",
      "Gadfly.Scale.x_log10)"
     ],
     "language": "python",
     "metadata": {},
     "outputs": [
      {
       "html": [
        "<?xml version=\"1.0\" encoding=\"UTF-8\"?>\n",
        "<svg xmlns=\"http://www.w3.org/2000/svg\"\n",
        "     xmlns:xlink=\"http://www.w3.org/1999/xlink\"\n",
        "     xmlns:gadfly=\"http://www.gadflyjl.org/ns\"\n",
        "     version=\"1.2\"\n",
        "     width=\"141.42mm\" height=\"100mm\" viewBox=\"0 0 141.42 100\"\n",
        "     stroke=\"none\"\n",
        "     fill=\"#000000\"\n",
        "     stroke-width=\"0.3\"\n",
        "     font-size=\"3.88\"\n",
        "\n",
        "     id=\"fig-b1a361c730ca4a10b3dd360c8e2004b1\">\n",
        "<g class=\"plotroot xscalable yscalable\" id=\"fig-b1a361c730ca4a10b3dd360c8e2004b1-element-1\">\n",
        "  <g font-size=\"3.88\" font-family=\"'PT Sans','Helvetica Neue','Helvetica',sans-serif\" fill=\"#564A55\" stroke=\"none\" id=\"fig-b1a361c730ca4a10b3dd360c8e2004b1-element-2\">\n",
        "    <text x=\"69.32\" y=\"92\" text-anchor=\"middle\">reg_param</text>\n",
        "  </g>\n",
        "  <g class=\"guide xlabels\" font-size=\"2.82\" font-family=\"'PT Sans Caption','Helvetica Neue','Helvetica',sans-serif\" fill=\"#6C606B\" id=\"fig-b1a361c730ca4a10b3dd360c8e2004b1-element-3\">\n",
        "    <text x=\"-109.21\" y=\"86.39\" text-anchor=\"middle\" visibility=\"hidden\" gadfly:scale=\"1.0\">10<tspan style=\"dominant-baseline:inherit\" dy=\"-0.6em\" font-size=\"83.333333%\">-4</tspan></text>\n",
        "    <text x=\"-76.75\" y=\"86.39\" text-anchor=\"middle\" visibility=\"hidden\" gadfly:scale=\"1.0\">10<tspan style=\"dominant-baseline:inherit\" dy=\"-0.6em\" font-size=\"83.333333%\">-3</tspan></text>\n",
        "    <text x=\"-44.29\" y=\"86.39\" text-anchor=\"middle\" visibility=\"hidden\" gadfly:scale=\"1.0\">10<tspan style=\"dominant-baseline:inherit\" dy=\"-0.6em\" font-size=\"83.333333%\">-2</tspan></text>\n",
        "    <text x=\"-11.83\" y=\"86.39\" text-anchor=\"middle\" visibility=\"hidden\" gadfly:scale=\"1.0\">10<tspan style=\"dominant-baseline:inherit\" dy=\"-0.6em\" font-size=\"83.333333%\">-1</tspan></text>\n",
        "    <text x=\"20.63\" y=\"86.39\" text-anchor=\"middle\" visibility=\"visible\" gadfly:scale=\"1.0\">10<tspan style=\"dominant-baseline:inherit\" dy=\"-0.6em\" font-size=\"83.333333%\">0</tspan></text>\n",
        "    <text x=\"53.09\" y=\"86.39\" text-anchor=\"middle\" visibility=\"visible\" gadfly:scale=\"1.0\">10<tspan style=\"dominant-baseline:inherit\" dy=\"-0.6em\" font-size=\"83.333333%\">1</tspan></text>\n",
        "    <text x=\"85.55\" y=\"86.39\" text-anchor=\"middle\" visibility=\"visible\" gadfly:scale=\"1.0\">10<tspan style=\"dominant-baseline:inherit\" dy=\"-0.6em\" font-size=\"83.333333%\">2</tspan></text>\n",
        "    <text x=\"118.01\" y=\"86.39\" text-anchor=\"middle\" visibility=\"visible\" gadfly:scale=\"1.0\">10<tspan style=\"dominant-baseline:inherit\" dy=\"-0.6em\" font-size=\"83.333333%\">3</tspan></text>\n",
        "    <text x=\"150.48\" y=\"86.39\" text-anchor=\"middle\" visibility=\"hidden\" gadfly:scale=\"1.0\">10<tspan style=\"dominant-baseline:inherit\" dy=\"-0.6em\" font-size=\"83.333333%\">4</tspan></text>\n",
        "    <text x=\"182.94\" y=\"86.39\" text-anchor=\"middle\" visibility=\"hidden\" gadfly:scale=\"1.0\">10<tspan style=\"dominant-baseline:inherit\" dy=\"-0.6em\" font-size=\"83.333333%\">5</tspan></text>\n",
        "    <text x=\"215.4\" y=\"86.39\" text-anchor=\"middle\" visibility=\"hidden\" gadfly:scale=\"1.0\">10<tspan style=\"dominant-baseline:inherit\" dy=\"-0.6em\" font-size=\"83.333333%\">6</tspan></text>\n",
        "    <text x=\"247.86\" y=\"86.39\" text-anchor=\"middle\" visibility=\"hidden\" gadfly:scale=\"1.0\">10<tspan style=\"dominant-baseline:inherit\" dy=\"-0.6em\" font-size=\"83.333333%\">7</tspan></text>\n",
        "    <text x=\"-76.75\" y=\"86.39\" text-anchor=\"middle\" visibility=\"hidden\" gadfly:scale=\"10.0\">10<tspan style=\"dominant-baseline:inherit\" dy=\"-0.6em\" font-size=\"83.333333%\">-3.0</tspan></text>\n",
        "    <text x=\"-73.51\" y=\"86.39\" text-anchor=\"middle\" visibility=\"hidden\" gadfly:scale=\"10.0\">10<tspan style=\"dominant-baseline:inherit\" dy=\"-0.6em\" font-size=\"83.333333%\">-2.9</tspan></text>\n",
        "    <text x=\"-70.26\" y=\"86.39\" text-anchor=\"middle\" visibility=\"hidden\" gadfly:scale=\"10.0\">10<tspan style=\"dominant-baseline:inherit\" dy=\"-0.6em\" font-size=\"83.333333%\">-2.8</tspan></text>\n",
        "    <text x=\"-67.01\" y=\"86.39\" text-anchor=\"middle\" visibility=\"hidden\" gadfly:scale=\"10.0\">10<tspan style=\"dominant-baseline:inherit\" dy=\"-0.6em\" font-size=\"83.333333%\">-2.7</tspan></text>\n",
        "    <text x=\"-63.77\" y=\"86.39\" text-anchor=\"middle\" visibility=\"hidden\" gadfly:scale=\"10.0\">10<tspan style=\"dominant-baseline:inherit\" dy=\"-0.6em\" font-size=\"83.333333%\">-2.6</tspan></text>\n",
        "    <text x=\"-60.52\" y=\"86.39\" text-anchor=\"middle\" visibility=\"hidden\" gadfly:scale=\"10.0\">10<tspan style=\"dominant-baseline:inherit\" dy=\"-0.6em\" font-size=\"83.333333%\">-2.5</tspan></text>\n",
        "    <text x=\"-57.27\" y=\"86.39\" text-anchor=\"middle\" visibility=\"hidden\" gadfly:scale=\"10.0\">10<tspan style=\"dominant-baseline:inherit\" dy=\"-0.6em\" font-size=\"83.333333%\">-2.4</tspan></text>\n",
        "    <text x=\"-54.03\" y=\"86.39\" text-anchor=\"middle\" visibility=\"hidden\" gadfly:scale=\"10.0\">10<tspan style=\"dominant-baseline:inherit\" dy=\"-0.6em\" font-size=\"83.333333%\">-2.3</tspan></text>\n",
        "    <text x=\"-50.78\" y=\"86.39\" text-anchor=\"middle\" visibility=\"hidden\" gadfly:scale=\"10.0\">10<tspan style=\"dominant-baseline:inherit\" dy=\"-0.6em\" font-size=\"83.333333%\">-2.2</tspan></text>\n",
        "    <text x=\"-47.54\" y=\"86.39\" text-anchor=\"middle\" visibility=\"hidden\" gadfly:scale=\"10.0\">10<tspan style=\"dominant-baseline:inherit\" dy=\"-0.6em\" font-size=\"83.333333%\">-2.1</tspan></text>\n",
        "    <text x=\"-44.29\" y=\"86.39\" text-anchor=\"middle\" visibility=\"hidden\" gadfly:scale=\"10.0\">10<tspan style=\"dominant-baseline:inherit\" dy=\"-0.6em\" font-size=\"83.333333%\">-2.0</tspan></text>\n",
        "    <text x=\"-41.04\" y=\"86.39\" text-anchor=\"middle\" visibility=\"hidden\" gadfly:scale=\"10.0\">10<tspan style=\"dominant-baseline:inherit\" dy=\"-0.6em\" font-size=\"83.333333%\">-1.9</tspan></text>\n",
        "    <text x=\"-37.8\" y=\"86.39\" text-anchor=\"middle\" visibility=\"hidden\" gadfly:scale=\"10.0\">10<tspan style=\"dominant-baseline:inherit\" dy=\"-0.6em\" font-size=\"83.333333%\">-1.8</tspan></text>\n",
        "    <text x=\"-34.55\" y=\"86.39\" text-anchor=\"middle\" visibility=\"hidden\" gadfly:scale=\"10.0\">10<tspan style=\"dominant-baseline:inherit\" dy=\"-0.6em\" font-size=\"83.333333%\">-1.7</tspan></text>\n",
        "    <text x=\"-31.31\" y=\"86.39\" text-anchor=\"middle\" visibility=\"hidden\" gadfly:scale=\"10.0\">10<tspan style=\"dominant-baseline:inherit\" dy=\"-0.6em\" font-size=\"83.333333%\">-1.6</tspan></text>\n",
        "    <text x=\"-28.06\" y=\"86.39\" text-anchor=\"middle\" visibility=\"hidden\" gadfly:scale=\"10.0\">10<tspan style=\"dominant-baseline:inherit\" dy=\"-0.6em\" font-size=\"83.333333%\">-1.5</tspan></text>\n",
        "    <text x=\"-24.81\" y=\"86.39\" text-anchor=\"middle\" visibility=\"hidden\" gadfly:scale=\"10.0\">10<tspan style=\"dominant-baseline:inherit\" dy=\"-0.6em\" font-size=\"83.333333%\">-1.4</tspan></text>\n",
        "    <text x=\"-21.57\" y=\"86.39\" text-anchor=\"middle\" visibility=\"hidden\" gadfly:scale=\"10.0\">10<tspan style=\"dominant-baseline:inherit\" dy=\"-0.6em\" font-size=\"83.333333%\">-1.3</tspan></text>\n",
        "    <text x=\"-18.32\" y=\"86.39\" text-anchor=\"middle\" visibility=\"hidden\" gadfly:scale=\"10.0\">10<tspan style=\"dominant-baseline:inherit\" dy=\"-0.6em\" font-size=\"83.333333%\">-1.2</tspan></text>\n",
        "    <text x=\"-15.08\" y=\"86.39\" text-anchor=\"middle\" visibility=\"hidden\" gadfly:scale=\"10.0\">10<tspan style=\"dominant-baseline:inherit\" dy=\"-0.6em\" font-size=\"83.333333%\">-1.1</tspan></text>\n",
        "    <text x=\"-11.83\" y=\"86.39\" text-anchor=\"middle\" visibility=\"hidden\" gadfly:scale=\"10.0\">10<tspan style=\"dominant-baseline:inherit\" dy=\"-0.6em\" font-size=\"83.333333%\">-1.0</tspan></text>\n",
        "    <text x=\"-8.58\" y=\"86.39\" text-anchor=\"middle\" visibility=\"hidden\" gadfly:scale=\"10.0\">10<tspan style=\"dominant-baseline:inherit\" dy=\"-0.6em\" font-size=\"83.333333%\">-0.9</tspan></text>\n",
        "    <text x=\"-5.34\" y=\"86.39\" text-anchor=\"middle\" visibility=\"hidden\" gadfly:scale=\"10.0\">10<tspan style=\"dominant-baseline:inherit\" dy=\"-0.6em\" font-size=\"83.333333%\">-0.8</tspan></text>\n",
        "    <text x=\"-2.09\" y=\"86.39\" text-anchor=\"middle\" visibility=\"hidden\" gadfly:scale=\"10.0\">10<tspan style=\"dominant-baseline:inherit\" dy=\"-0.6em\" font-size=\"83.333333%\">-0.7</tspan></text>\n",
        "    <text x=\"1.16\" y=\"86.39\" text-anchor=\"middle\" visibility=\"hidden\" gadfly:scale=\"10.0\">10<tspan style=\"dominant-baseline:inherit\" dy=\"-0.6em\" font-size=\"83.333333%\">-0.6</tspan></text>\n",
        "    <text x=\"4.4\" y=\"86.39\" text-anchor=\"middle\" visibility=\"hidden\" gadfly:scale=\"10.0\">10<tspan style=\"dominant-baseline:inherit\" dy=\"-0.6em\" font-size=\"83.333333%\">-0.5</tspan></text>\n",
        "    <text x=\"7.65\" y=\"86.39\" text-anchor=\"middle\" visibility=\"hidden\" gadfly:scale=\"10.0\">10<tspan style=\"dominant-baseline:inherit\" dy=\"-0.6em\" font-size=\"83.333333%\">-0.4</tspan></text>\n",
        "    <text x=\"10.89\" y=\"86.39\" text-anchor=\"middle\" visibility=\"hidden\" gadfly:scale=\"10.0\">10<tspan style=\"dominant-baseline:inherit\" dy=\"-0.6em\" font-size=\"83.333333%\">-0.3</tspan></text>\n",
        "    <text x=\"14.14\" y=\"86.39\" text-anchor=\"middle\" visibility=\"hidden\" gadfly:scale=\"10.0\">10<tspan style=\"dominant-baseline:inherit\" dy=\"-0.6em\" font-size=\"83.333333%\">-0.2</tspan></text>\n",
        "    <text x=\"17.39\" y=\"86.39\" text-anchor=\"middle\" visibility=\"hidden\" gadfly:scale=\"10.0\">10<tspan style=\"dominant-baseline:inherit\" dy=\"-0.6em\" font-size=\"83.333333%\">-0.1</tspan></text>\n",
        "    <text x=\"20.63\" y=\"86.39\" text-anchor=\"middle\" visibility=\"hidden\" gadfly:scale=\"10.0\">10<tspan style=\"dominant-baseline:inherit\" dy=\"-0.6em\" font-size=\"83.333333%\">0.0</tspan></text>\n",
        "    <text x=\"23.88\" y=\"86.39\" text-anchor=\"middle\" visibility=\"hidden\" gadfly:scale=\"10.0\">10<tspan style=\"dominant-baseline:inherit\" dy=\"-0.6em\" font-size=\"83.333333%\">0.1</tspan></text>\n",
        "    <text x=\"27.12\" y=\"86.39\" text-anchor=\"middle\" visibility=\"hidden\" gadfly:scale=\"10.0\">10<tspan style=\"dominant-baseline:inherit\" dy=\"-0.6em\" font-size=\"83.333333%\">0.2</tspan></text>\n",
        "    <text x=\"30.37\" y=\"86.39\" text-anchor=\"middle\" visibility=\"hidden\" gadfly:scale=\"10.0\">10<tspan style=\"dominant-baseline:inherit\" dy=\"-0.6em\" font-size=\"83.333333%\">0.3</tspan></text>\n",
        "    <text x=\"33.62\" y=\"86.39\" text-anchor=\"middle\" visibility=\"hidden\" gadfly:scale=\"10.0\">10<tspan style=\"dominant-baseline:inherit\" dy=\"-0.6em\" font-size=\"83.333333%\">0.4</tspan></text>\n",
        "    <text x=\"36.86\" y=\"86.39\" text-anchor=\"middle\" visibility=\"hidden\" gadfly:scale=\"10.0\">10<tspan style=\"dominant-baseline:inherit\" dy=\"-0.6em\" font-size=\"83.333333%\">0.5</tspan></text>\n",
        "    <text x=\"40.11\" y=\"86.39\" text-anchor=\"middle\" visibility=\"hidden\" gadfly:scale=\"10.0\">10<tspan style=\"dominant-baseline:inherit\" dy=\"-0.6em\" font-size=\"83.333333%\">0.6</tspan></text>\n",
        "    <text x=\"43.35\" y=\"86.39\" text-anchor=\"middle\" visibility=\"hidden\" gadfly:scale=\"10.0\">10<tspan style=\"dominant-baseline:inherit\" dy=\"-0.6em\" font-size=\"83.333333%\">0.7</tspan></text>\n",
        "    <text x=\"46.6\" y=\"86.39\" text-anchor=\"middle\" visibility=\"hidden\" gadfly:scale=\"10.0\">10<tspan style=\"dominant-baseline:inherit\" dy=\"-0.6em\" font-size=\"83.333333%\">0.8</tspan></text>\n",
        "    <text x=\"49.85\" y=\"86.39\" text-anchor=\"middle\" visibility=\"hidden\" gadfly:scale=\"10.0\">10<tspan style=\"dominant-baseline:inherit\" dy=\"-0.6em\" font-size=\"83.333333%\">0.9</tspan></text>\n",
        "    <text x=\"53.09\" y=\"86.39\" text-anchor=\"middle\" visibility=\"hidden\" gadfly:scale=\"10.0\">10<tspan style=\"dominant-baseline:inherit\" dy=\"-0.6em\" font-size=\"83.333333%\">1.0</tspan></text>\n",
        "    <text x=\"56.34\" y=\"86.39\" text-anchor=\"middle\" visibility=\"hidden\" gadfly:scale=\"10.0\">10<tspan style=\"dominant-baseline:inherit\" dy=\"-0.6em\" font-size=\"83.333333%\">1.1</tspan></text>\n",
        "    <text x=\"59.58\" y=\"86.39\" text-anchor=\"middle\" visibility=\"hidden\" gadfly:scale=\"10.0\">10<tspan style=\"dominant-baseline:inherit\" dy=\"-0.6em\" font-size=\"83.333333%\">1.2</tspan></text>\n",
        "    <text x=\"62.83\" y=\"86.39\" text-anchor=\"middle\" visibility=\"hidden\" gadfly:scale=\"10.0\">10<tspan style=\"dominant-baseline:inherit\" dy=\"-0.6em\" font-size=\"83.333333%\">1.3</tspan></text>\n",
        "    <text x=\"66.08\" y=\"86.39\" text-anchor=\"middle\" visibility=\"hidden\" gadfly:scale=\"10.0\">10<tspan style=\"dominant-baseline:inherit\" dy=\"-0.6em\" font-size=\"83.333333%\">1.4</tspan></text>\n",
        "    <text x=\"69.32\" y=\"86.39\" text-anchor=\"middle\" visibility=\"hidden\" gadfly:scale=\"10.0\">10<tspan style=\"dominant-baseline:inherit\" dy=\"-0.6em\" font-size=\"83.333333%\">1.5</tspan></text>\n",
        "    <text x=\"72.57\" y=\"86.39\" text-anchor=\"middle\" visibility=\"hidden\" gadfly:scale=\"10.0\">10<tspan style=\"dominant-baseline:inherit\" dy=\"-0.6em\" font-size=\"83.333333%\">1.6</tspan></text>\n",
        "    <text x=\"75.82\" y=\"86.39\" text-anchor=\"middle\" visibility=\"hidden\" gadfly:scale=\"10.0\">10<tspan style=\"dominant-baseline:inherit\" dy=\"-0.6em\" font-size=\"83.333333%\">1.7</tspan></text>\n",
        "    <text x=\"79.06\" y=\"86.39\" text-anchor=\"middle\" visibility=\"hidden\" gadfly:scale=\"10.0\">10<tspan style=\"dominant-baseline:inherit\" dy=\"-0.6em\" font-size=\"83.333333%\">1.8</tspan></text>\n",
        "    <text x=\"82.31\" y=\"86.39\" text-anchor=\"middle\" visibility=\"hidden\" gadfly:scale=\"10.0\">10<tspan style=\"dominant-baseline:inherit\" dy=\"-0.6em\" font-size=\"83.333333%\">1.9</tspan></text>\n",
        "    <text x=\"85.55\" y=\"86.39\" text-anchor=\"middle\" visibility=\"hidden\" gadfly:scale=\"10.0\">10<tspan style=\"dominant-baseline:inherit\" dy=\"-0.6em\" font-size=\"83.333333%\">2.0</tspan></text>\n",
        "    <text x=\"88.8\" y=\"86.39\" text-anchor=\"middle\" visibility=\"hidden\" gadfly:scale=\"10.0\">10<tspan style=\"dominant-baseline:inherit\" dy=\"-0.6em\" font-size=\"83.333333%\">2.1</tspan></text>\n",
        "    <text x=\"92.05\" y=\"86.39\" text-anchor=\"middle\" visibility=\"hidden\" gadfly:scale=\"10.0\">10<tspan style=\"dominant-baseline:inherit\" dy=\"-0.6em\" font-size=\"83.333333%\">2.2</tspan></text>\n",
        "    <text x=\"95.29\" y=\"86.39\" text-anchor=\"middle\" visibility=\"hidden\" gadfly:scale=\"10.0\">10<tspan style=\"dominant-baseline:inherit\" dy=\"-0.6em\" font-size=\"83.333333%\">2.3</tspan></text>\n",
        "    <text x=\"98.54\" y=\"86.39\" text-anchor=\"middle\" visibility=\"hidden\" gadfly:scale=\"10.0\">10<tspan style=\"dominant-baseline:inherit\" dy=\"-0.6em\" font-size=\"83.333333%\">2.4</tspan></text>\n",
        "    <text x=\"101.78\" y=\"86.39\" text-anchor=\"middle\" visibility=\"hidden\" gadfly:scale=\"10.0\">10<tspan style=\"dominant-baseline:inherit\" dy=\"-0.6em\" font-size=\"83.333333%\">2.5</tspan></text>\n",
        "    <text x=\"105.03\" y=\"86.39\" text-anchor=\"middle\" visibility=\"hidden\" gadfly:scale=\"10.0\">10<tspan style=\"dominant-baseline:inherit\" dy=\"-0.6em\" font-size=\"83.333333%\">2.6</tspan></text>\n",
        "    <text x=\"108.28\" y=\"86.39\" text-anchor=\"middle\" visibility=\"hidden\" gadfly:scale=\"10.0\">10<tspan style=\"dominant-baseline:inherit\" dy=\"-0.6em\" font-size=\"83.333333%\">2.7</tspan></text>\n",
        "    <text x=\"111.52\" y=\"86.39\" text-anchor=\"middle\" visibility=\"hidden\" gadfly:scale=\"10.0\">10<tspan style=\"dominant-baseline:inherit\" dy=\"-0.6em\" font-size=\"83.333333%\">2.8</tspan></text>\n",
        "    <text x=\"114.77\" y=\"86.39\" text-anchor=\"middle\" visibility=\"hidden\" gadfly:scale=\"10.0\">10<tspan style=\"dominant-baseline:inherit\" dy=\"-0.6em\" font-size=\"83.333333%\">2.9</tspan></text>\n",
        "    <text x=\"118.01\" y=\"86.39\" text-anchor=\"middle\" visibility=\"hidden\" gadfly:scale=\"10.0\">10<tspan style=\"dominant-baseline:inherit\" dy=\"-0.6em\" font-size=\"83.333333%\">3.0</tspan></text>\n",
        "    <text x=\"121.26\" y=\"86.39\" text-anchor=\"middle\" visibility=\"hidden\" gadfly:scale=\"10.0\">10<tspan style=\"dominant-baseline:inherit\" dy=\"-0.6em\" font-size=\"83.333333%\">3.1</tspan></text>\n",
        "    <text x=\"124.51\" y=\"86.39\" text-anchor=\"middle\" visibility=\"hidden\" gadfly:scale=\"10.0\">10<tspan style=\"dominant-baseline:inherit\" dy=\"-0.6em\" font-size=\"83.333333%\">3.2</tspan></text>\n",
        "    <text x=\"127.75\" y=\"86.39\" text-anchor=\"middle\" visibility=\"hidden\" gadfly:scale=\"10.0\">10<tspan style=\"dominant-baseline:inherit\" dy=\"-0.6em\" font-size=\"83.333333%\">3.3</tspan></text>\n",
        "    <text x=\"131\" y=\"86.39\" text-anchor=\"middle\" visibility=\"hidden\" gadfly:scale=\"10.0\">10<tspan style=\"dominant-baseline:inherit\" dy=\"-0.6em\" font-size=\"83.333333%\">3.4</tspan></text>\n",
        "    <text x=\"134.25\" y=\"86.39\" text-anchor=\"middle\" visibility=\"hidden\" gadfly:scale=\"10.0\">10<tspan style=\"dominant-baseline:inherit\" dy=\"-0.6em\" font-size=\"83.333333%\">3.5</tspan></text>\n",
        "    <text x=\"137.49\" y=\"86.39\" text-anchor=\"middle\" visibility=\"hidden\" gadfly:scale=\"10.0\">10<tspan style=\"dominant-baseline:inherit\" dy=\"-0.6em\" font-size=\"83.333333%\">3.6</tspan></text>\n",
        "    <text x=\"140.74\" y=\"86.39\" text-anchor=\"middle\" visibility=\"hidden\" gadfly:scale=\"10.0\">10<tspan style=\"dominant-baseline:inherit\" dy=\"-0.6em\" font-size=\"83.333333%\">3.7</tspan></text>\n",
        "    <text x=\"143.98\" y=\"86.39\" text-anchor=\"middle\" visibility=\"hidden\" gadfly:scale=\"10.0\">10<tspan style=\"dominant-baseline:inherit\" dy=\"-0.6em\" font-size=\"83.333333%\">3.8</tspan></text>\n",
        "    <text x=\"147.23\" y=\"86.39\" text-anchor=\"middle\" visibility=\"hidden\" gadfly:scale=\"10.0\">10<tspan style=\"dominant-baseline:inherit\" dy=\"-0.6em\" font-size=\"83.333333%\">3.9</tspan></text>\n",
        "    <text x=\"150.48\" y=\"86.39\" text-anchor=\"middle\" visibility=\"hidden\" gadfly:scale=\"10.0\">10<tspan style=\"dominant-baseline:inherit\" dy=\"-0.6em\" font-size=\"83.333333%\">4.0</tspan></text>\n",
        "    <text x=\"153.72\" y=\"86.39\" text-anchor=\"middle\" visibility=\"hidden\" gadfly:scale=\"10.0\">10<tspan style=\"dominant-baseline:inherit\" dy=\"-0.6em\" font-size=\"83.333333%\">4.1</tspan></text>\n",
        "    <text x=\"156.97\" y=\"86.39\" text-anchor=\"middle\" visibility=\"hidden\" gadfly:scale=\"10.0\">10<tspan style=\"dominant-baseline:inherit\" dy=\"-0.6em\" font-size=\"83.333333%\">4.2</tspan></text>\n",
        "    <text x=\"160.21\" y=\"86.39\" text-anchor=\"middle\" visibility=\"hidden\" gadfly:scale=\"10.0\">10<tspan style=\"dominant-baseline:inherit\" dy=\"-0.6em\" font-size=\"83.333333%\">4.3</tspan></text>\n",
        "    <text x=\"163.46\" y=\"86.39\" text-anchor=\"middle\" visibility=\"hidden\" gadfly:scale=\"10.0\">10<tspan style=\"dominant-baseline:inherit\" dy=\"-0.6em\" font-size=\"83.333333%\">4.4</tspan></text>\n",
        "    <text x=\"166.71\" y=\"86.39\" text-anchor=\"middle\" visibility=\"hidden\" gadfly:scale=\"10.0\">10<tspan style=\"dominant-baseline:inherit\" dy=\"-0.6em\" font-size=\"83.333333%\">4.5</tspan></text>\n",
        "    <text x=\"169.95\" y=\"86.39\" text-anchor=\"middle\" visibility=\"hidden\" gadfly:scale=\"10.0\">10<tspan style=\"dominant-baseline:inherit\" dy=\"-0.6em\" font-size=\"83.333333%\">4.6</tspan></text>\n",
        "    <text x=\"173.2\" y=\"86.39\" text-anchor=\"middle\" visibility=\"hidden\" gadfly:scale=\"10.0\">10<tspan style=\"dominant-baseline:inherit\" dy=\"-0.6em\" font-size=\"83.333333%\">4.7</tspan></text>\n",
        "    <text x=\"176.44\" y=\"86.39\" text-anchor=\"middle\" visibility=\"hidden\" gadfly:scale=\"10.0\">10<tspan style=\"dominant-baseline:inherit\" dy=\"-0.6em\" font-size=\"83.333333%\">4.8</tspan></text>\n",
        "    <text x=\"179.69\" y=\"86.39\" text-anchor=\"middle\" visibility=\"hidden\" gadfly:scale=\"10.0\">10<tspan style=\"dominant-baseline:inherit\" dy=\"-0.6em\" font-size=\"83.333333%\">4.9</tspan></text>\n",
        "    <text x=\"182.94\" y=\"86.39\" text-anchor=\"middle\" visibility=\"hidden\" gadfly:scale=\"10.0\">10<tspan style=\"dominant-baseline:inherit\" dy=\"-0.6em\" font-size=\"83.333333%\">5.0</tspan></text>\n",
        "    <text x=\"186.18\" y=\"86.39\" text-anchor=\"middle\" visibility=\"hidden\" gadfly:scale=\"10.0\">10<tspan style=\"dominant-baseline:inherit\" dy=\"-0.6em\" font-size=\"83.333333%\">5.1</tspan></text>\n",
        "    <text x=\"189.43\" y=\"86.39\" text-anchor=\"middle\" visibility=\"hidden\" gadfly:scale=\"10.0\">10<tspan style=\"dominant-baseline:inherit\" dy=\"-0.6em\" font-size=\"83.333333%\">5.2</tspan></text>\n",
        "    <text x=\"192.68\" y=\"86.39\" text-anchor=\"middle\" visibility=\"hidden\" gadfly:scale=\"10.0\">10<tspan style=\"dominant-baseline:inherit\" dy=\"-0.6em\" font-size=\"83.333333%\">5.3</tspan></text>\n",
        "    <text x=\"195.92\" y=\"86.39\" text-anchor=\"middle\" visibility=\"hidden\" gadfly:scale=\"10.0\">10<tspan style=\"dominant-baseline:inherit\" dy=\"-0.6em\" font-size=\"83.333333%\">5.4</tspan></text>\n",
        "    <text x=\"199.17\" y=\"86.39\" text-anchor=\"middle\" visibility=\"hidden\" gadfly:scale=\"10.0\">10<tspan style=\"dominant-baseline:inherit\" dy=\"-0.6em\" font-size=\"83.333333%\">5.5</tspan></text>\n",
        "    <text x=\"202.41\" y=\"86.39\" text-anchor=\"middle\" visibility=\"hidden\" gadfly:scale=\"10.0\">10<tspan style=\"dominant-baseline:inherit\" dy=\"-0.6em\" font-size=\"83.333333%\">5.6</tspan></text>\n",
        "    <text x=\"205.66\" y=\"86.39\" text-anchor=\"middle\" visibility=\"hidden\" gadfly:scale=\"10.0\">10<tspan style=\"dominant-baseline:inherit\" dy=\"-0.6em\" font-size=\"83.333333%\">5.7</tspan></text>\n",
        "    <text x=\"208.91\" y=\"86.39\" text-anchor=\"middle\" visibility=\"hidden\" gadfly:scale=\"10.0\">10<tspan style=\"dominant-baseline:inherit\" dy=\"-0.6em\" font-size=\"83.333333%\">5.8</tspan></text>\n",
        "    <text x=\"212.15\" y=\"86.39\" text-anchor=\"middle\" visibility=\"hidden\" gadfly:scale=\"10.0\">10<tspan style=\"dominant-baseline:inherit\" dy=\"-0.6em\" font-size=\"83.333333%\">5.9</tspan></text>\n",
        "    <text x=\"215.4\" y=\"86.39\" text-anchor=\"middle\" visibility=\"hidden\" gadfly:scale=\"10.0\">10<tspan style=\"dominant-baseline:inherit\" dy=\"-0.6em\" font-size=\"83.333333%\">6.0</tspan></text>\n",
        "    <text x=\"-76.75\" y=\"86.39\" text-anchor=\"middle\" visibility=\"hidden\" gadfly:scale=\"0.5\">10<tspan style=\"dominant-baseline:inherit\" dy=\"-0.6em\" font-size=\"83.333333%\">-3</tspan></text>\n",
        "    <text x=\"20.63\" y=\"86.39\" text-anchor=\"middle\" visibility=\"hidden\" gadfly:scale=\"0.5\">10<tspan style=\"dominant-baseline:inherit\" dy=\"-0.6em\" font-size=\"83.333333%\">0</tspan></text>\n",
        "    <text x=\"118.01\" y=\"86.39\" text-anchor=\"middle\" visibility=\"hidden\" gadfly:scale=\"0.5\">10<tspan style=\"dominant-baseline:inherit\" dy=\"-0.6em\" font-size=\"83.333333%\">3</tspan></text>\n",
        "    <text x=\"215.4\" y=\"86.39\" text-anchor=\"middle\" visibility=\"hidden\" gadfly:scale=\"0.5\">10<tspan style=\"dominant-baseline:inherit\" dy=\"-0.6em\" font-size=\"83.333333%\">6</tspan></text>\n",
        "    <text x=\"-76.75\" y=\"86.39\" text-anchor=\"middle\" visibility=\"hidden\" gadfly:scale=\"5.0\">10<tspan style=\"dominant-baseline:inherit\" dy=\"-0.6em\" font-size=\"83.333333%\">-3.0</tspan></text>\n",
        "    <text x=\"-70.26\" y=\"86.39\" text-anchor=\"middle\" visibility=\"hidden\" gadfly:scale=\"5.0\">10<tspan style=\"dominant-baseline:inherit\" dy=\"-0.6em\" font-size=\"83.333333%\">-2.8</tspan></text>\n",
        "    <text x=\"-63.77\" y=\"86.39\" text-anchor=\"middle\" visibility=\"hidden\" gadfly:scale=\"5.0\">10<tspan style=\"dominant-baseline:inherit\" dy=\"-0.6em\" font-size=\"83.333333%\">-2.6</tspan></text>\n",
        "    <text x=\"-57.27\" y=\"86.39\" text-anchor=\"middle\" visibility=\"hidden\" gadfly:scale=\"5.0\">10<tspan style=\"dominant-baseline:inherit\" dy=\"-0.6em\" font-size=\"83.333333%\">-2.4</tspan></text>\n",
        "    <text x=\"-50.78\" y=\"86.39\" text-anchor=\"middle\" visibility=\"hidden\" gadfly:scale=\"5.0\">10<tspan style=\"dominant-baseline:inherit\" dy=\"-0.6em\" font-size=\"83.333333%\">-2.2</tspan></text>\n",
        "    <text x=\"-44.29\" y=\"86.39\" text-anchor=\"middle\" visibility=\"hidden\" gadfly:scale=\"5.0\">10<tspan style=\"dominant-baseline:inherit\" dy=\"-0.6em\" font-size=\"83.333333%\">-2.0</tspan></text>\n",
        "    <text x=\"-37.8\" y=\"86.39\" text-anchor=\"middle\" visibility=\"hidden\" gadfly:scale=\"5.0\">10<tspan style=\"dominant-baseline:inherit\" dy=\"-0.6em\" font-size=\"83.333333%\">-1.8</tspan></text>\n",
        "    <text x=\"-31.31\" y=\"86.39\" text-anchor=\"middle\" visibility=\"hidden\" gadfly:scale=\"5.0\">10<tspan style=\"dominant-baseline:inherit\" dy=\"-0.6em\" font-size=\"83.333333%\">-1.6</tspan></text>\n",
        "    <text x=\"-24.81\" y=\"86.39\" text-anchor=\"middle\" visibility=\"hidden\" gadfly:scale=\"5.0\">10<tspan style=\"dominant-baseline:inherit\" dy=\"-0.6em\" font-size=\"83.333333%\">-1.4</tspan></text>\n",
        "    <text x=\"-18.32\" y=\"86.39\" text-anchor=\"middle\" visibility=\"hidden\" gadfly:scale=\"5.0\">10<tspan style=\"dominant-baseline:inherit\" dy=\"-0.6em\" font-size=\"83.333333%\">-1.2</tspan></text>\n",
        "    <text x=\"-11.83\" y=\"86.39\" text-anchor=\"middle\" visibility=\"hidden\" gadfly:scale=\"5.0\">10<tspan style=\"dominant-baseline:inherit\" dy=\"-0.6em\" font-size=\"83.333333%\">-1.0</tspan></text>\n",
        "    <text x=\"-5.34\" y=\"86.39\" text-anchor=\"middle\" visibility=\"hidden\" gadfly:scale=\"5.0\">10<tspan style=\"dominant-baseline:inherit\" dy=\"-0.6em\" font-size=\"83.333333%\">-0.8</tspan></text>\n",
        "    <text x=\"1.16\" y=\"86.39\" text-anchor=\"middle\" visibility=\"hidden\" gadfly:scale=\"5.0\">10<tspan style=\"dominant-baseline:inherit\" dy=\"-0.6em\" font-size=\"83.333333%\">-0.6</tspan></text>\n",
        "    <text x=\"7.65\" y=\"86.39\" text-anchor=\"middle\" visibility=\"hidden\" gadfly:scale=\"5.0\">10<tspan style=\"dominant-baseline:inherit\" dy=\"-0.6em\" font-size=\"83.333333%\">-0.4</tspan></text>\n",
        "    <text x=\"14.14\" y=\"86.39\" text-anchor=\"middle\" visibility=\"hidden\" gadfly:scale=\"5.0\">10<tspan style=\"dominant-baseline:inherit\" dy=\"-0.6em\" font-size=\"83.333333%\">-0.2</tspan></text>\n",
        "    <text x=\"20.63\" y=\"86.39\" text-anchor=\"middle\" visibility=\"hidden\" gadfly:scale=\"5.0\">10<tspan style=\"dominant-baseline:inherit\" dy=\"-0.6em\" font-size=\"83.333333%\">0.0</tspan></text>\n",
        "    <text x=\"27.12\" y=\"86.39\" text-anchor=\"middle\" visibility=\"hidden\" gadfly:scale=\"5.0\">10<tspan style=\"dominant-baseline:inherit\" dy=\"-0.6em\" font-size=\"83.333333%\">0.2</tspan></text>\n",
        "    <text x=\"33.62\" y=\"86.39\" text-anchor=\"middle\" visibility=\"hidden\" gadfly:scale=\"5.0\">10<tspan style=\"dominant-baseline:inherit\" dy=\"-0.6em\" font-size=\"83.333333%\">0.4</tspan></text>\n",
        "    <text x=\"40.11\" y=\"86.39\" text-anchor=\"middle\" visibility=\"hidden\" gadfly:scale=\"5.0\">10<tspan style=\"dominant-baseline:inherit\" dy=\"-0.6em\" font-size=\"83.333333%\">0.6</tspan></text>\n",
        "    <text x=\"46.6\" y=\"86.39\" text-anchor=\"middle\" visibility=\"hidden\" gadfly:scale=\"5.0\">10<tspan style=\"dominant-baseline:inherit\" dy=\"-0.6em\" font-size=\"83.333333%\">0.8</tspan></text>\n",
        "    <text x=\"53.09\" y=\"86.39\" text-anchor=\"middle\" visibility=\"hidden\" gadfly:scale=\"5.0\">10<tspan style=\"dominant-baseline:inherit\" dy=\"-0.6em\" font-size=\"83.333333%\">1.0</tspan></text>\n",
        "    <text x=\"59.58\" y=\"86.39\" text-anchor=\"middle\" visibility=\"hidden\" gadfly:scale=\"5.0\">10<tspan style=\"dominant-baseline:inherit\" dy=\"-0.6em\" font-size=\"83.333333%\">1.2</tspan></text>\n",
        "    <text x=\"66.08\" y=\"86.39\" text-anchor=\"middle\" visibility=\"hidden\" gadfly:scale=\"5.0\">10<tspan style=\"dominant-baseline:inherit\" dy=\"-0.6em\" font-size=\"83.333333%\">1.4</tspan></text>\n",
        "    <text x=\"72.57\" y=\"86.39\" text-anchor=\"middle\" visibility=\"hidden\" gadfly:scale=\"5.0\">10<tspan style=\"dominant-baseline:inherit\" dy=\"-0.6em\" font-size=\"83.333333%\">1.6</tspan></text>\n",
        "    <text x=\"79.06\" y=\"86.39\" text-anchor=\"middle\" visibility=\"hidden\" gadfly:scale=\"5.0\">10<tspan style=\"dominant-baseline:inherit\" dy=\"-0.6em\" font-size=\"83.333333%\">1.8</tspan></text>\n",
        "    <text x=\"85.55\" y=\"86.39\" text-anchor=\"middle\" visibility=\"hidden\" gadfly:scale=\"5.0\">10<tspan style=\"dominant-baseline:inherit\" dy=\"-0.6em\" font-size=\"83.333333%\">2.0</tspan></text>\n",
        "    <text x=\"92.05\" y=\"86.39\" text-anchor=\"middle\" visibility=\"hidden\" gadfly:scale=\"5.0\">10<tspan style=\"dominant-baseline:inherit\" dy=\"-0.6em\" font-size=\"83.333333%\">2.2</tspan></text>\n",
        "    <text x=\"98.54\" y=\"86.39\" text-anchor=\"middle\" visibility=\"hidden\" gadfly:scale=\"5.0\">10<tspan style=\"dominant-baseline:inherit\" dy=\"-0.6em\" font-size=\"83.333333%\">2.4</tspan></text>\n",
        "    <text x=\"105.03\" y=\"86.39\" text-anchor=\"middle\" visibility=\"hidden\" gadfly:scale=\"5.0\">10<tspan style=\"dominant-baseline:inherit\" dy=\"-0.6em\" font-size=\"83.333333%\">2.6</tspan></text>\n",
        "    <text x=\"111.52\" y=\"86.39\" text-anchor=\"middle\" visibility=\"hidden\" gadfly:scale=\"5.0\">10<tspan style=\"dominant-baseline:inherit\" dy=\"-0.6em\" font-size=\"83.333333%\">2.8</tspan></text>\n",
        "    <text x=\"118.01\" y=\"86.39\" text-anchor=\"middle\" visibility=\"hidden\" gadfly:scale=\"5.0\">10<tspan style=\"dominant-baseline:inherit\" dy=\"-0.6em\" font-size=\"83.333333%\">3.0</tspan></text>\n",
        "    <text x=\"124.51\" y=\"86.39\" text-anchor=\"middle\" visibility=\"hidden\" gadfly:scale=\"5.0\">10<tspan style=\"dominant-baseline:inherit\" dy=\"-0.6em\" font-size=\"83.333333%\">3.2</tspan></text>\n",
        "    <text x=\"131\" y=\"86.39\" text-anchor=\"middle\" visibility=\"hidden\" gadfly:scale=\"5.0\">10<tspan style=\"dominant-baseline:inherit\" dy=\"-0.6em\" font-size=\"83.333333%\">3.4</tspan></text>\n",
        "    <text x=\"137.49\" y=\"86.39\" text-anchor=\"middle\" visibility=\"hidden\" gadfly:scale=\"5.0\">10<tspan style=\"dominant-baseline:inherit\" dy=\"-0.6em\" font-size=\"83.333333%\">3.6</tspan></text>\n",
        "    <text x=\"143.98\" y=\"86.39\" text-anchor=\"middle\" visibility=\"hidden\" gadfly:scale=\"5.0\">10<tspan style=\"dominant-baseline:inherit\" dy=\"-0.6em\" font-size=\"83.333333%\">3.8</tspan></text>\n",
        "    <text x=\"150.48\" y=\"86.39\" text-anchor=\"middle\" visibility=\"hidden\" gadfly:scale=\"5.0\">10<tspan style=\"dominant-baseline:inherit\" dy=\"-0.6em\" font-size=\"83.333333%\">4.0</tspan></text>\n",
        "    <text x=\"156.97\" y=\"86.39\" text-anchor=\"middle\" visibility=\"hidden\" gadfly:scale=\"5.0\">10<tspan style=\"dominant-baseline:inherit\" dy=\"-0.6em\" font-size=\"83.333333%\">4.2</tspan></text>\n",
        "    <text x=\"163.46\" y=\"86.39\" text-anchor=\"middle\" visibility=\"hidden\" gadfly:scale=\"5.0\">10<tspan style=\"dominant-baseline:inherit\" dy=\"-0.6em\" font-size=\"83.333333%\">4.4</tspan></text>\n",
        "    <text x=\"169.95\" y=\"86.39\" text-anchor=\"middle\" visibility=\"hidden\" gadfly:scale=\"5.0\">10<tspan style=\"dominant-baseline:inherit\" dy=\"-0.6em\" font-size=\"83.333333%\">4.6</tspan></text>\n",
        "    <text x=\"176.44\" y=\"86.39\" text-anchor=\"middle\" visibility=\"hidden\" gadfly:scale=\"5.0\">10<tspan style=\"dominant-baseline:inherit\" dy=\"-0.6em\" font-size=\"83.333333%\">4.8</tspan></text>\n",
        "    <text x=\"182.94\" y=\"86.39\" text-anchor=\"middle\" visibility=\"hidden\" gadfly:scale=\"5.0\">10<tspan style=\"dominant-baseline:inherit\" dy=\"-0.6em\" font-size=\"83.333333%\">5.0</tspan></text>\n",
        "    <text x=\"189.43\" y=\"86.39\" text-anchor=\"middle\" visibility=\"hidden\" gadfly:scale=\"5.0\">10<tspan style=\"dominant-baseline:inherit\" dy=\"-0.6em\" font-size=\"83.333333%\">5.2</tspan></text>\n",
        "    <text x=\"195.92\" y=\"86.39\" text-anchor=\"middle\" visibility=\"hidden\" gadfly:scale=\"5.0\">10<tspan style=\"dominant-baseline:inherit\" dy=\"-0.6em\" font-size=\"83.333333%\">5.4</tspan></text>\n",
        "    <text x=\"202.41\" y=\"86.39\" text-anchor=\"middle\" visibility=\"hidden\" gadfly:scale=\"5.0\">10<tspan style=\"dominant-baseline:inherit\" dy=\"-0.6em\" font-size=\"83.333333%\">5.6</tspan></text>\n",
        "    <text x=\"208.91\" y=\"86.39\" text-anchor=\"middle\" visibility=\"hidden\" gadfly:scale=\"5.0\">10<tspan style=\"dominant-baseline:inherit\" dy=\"-0.6em\" font-size=\"83.333333%\">5.8</tspan></text>\n",
        "    <text x=\"215.4\" y=\"86.39\" text-anchor=\"middle\" visibility=\"hidden\" gadfly:scale=\"5.0\">10<tspan style=\"dominant-baseline:inherit\" dy=\"-0.6em\" font-size=\"83.333333%\">6.0</tspan></text>\n",
        "  </g>\n",
        "  <g class=\"guide colorkey\" id=\"fig-b1a361c730ca4a10b3dd360c8e2004b1-element-4\">\n",
        "    <g fill=\"#4C404B\" font-size=\"2.82\" font-family=\"'PT Sans','Helvetica Neue','Helvetica',sans-serif\" id=\"fig-b1a361c730ca4a10b3dd360c8e2004b1-element-5\">\n",
        "      <text x=\"123.83\" y=\"43.19\" dy=\"0.35em\" id=\"fig-b1a361c730ca4a10b3dd360c8e2004b1-element-6\" class=\"color_train_error\">train_error</text>\n",
        "      <text x=\"123.83\" y=\"46.82\" dy=\"0.35em\" id=\"fig-b1a361c730ca4a10b3dd360c8e2004b1-element-7\" class=\"color_prec_at_k\">prec_at_k</text>\n",
        "    </g>\n",
        "    <g stroke=\"none\" id=\"fig-b1a361c730ca4a10b3dd360c8e2004b1-element-8\">\n",
        "      <rect x=\"121.01\" y=\"42.28\" width=\"1.81\" height=\"1.81\" id=\"fig-b1a361c730ca4a10b3dd360c8e2004b1-element-9\" class=\"color_train_error\" fill=\"#00BFFF\"/>\n",
        "      <rect x=\"121.01\" y=\"45.91\" width=\"1.81\" height=\"1.81\" id=\"fig-b1a361c730ca4a10b3dd360c8e2004b1-element-10\" class=\"color_prec_at_k\" fill=\"#D4CA3A\"/>\n",
        "    </g>\n",
        "    <g fill=\"#362A35\" font-size=\"3.88\" font-family=\"'PT Sans','Helvetica Neue','Helvetica',sans-serif\" stroke=\"none\" id=\"fig-b1a361c730ca4a10b3dd360c8e2004b1-element-11\">\n",
        "      <text x=\"121.01\" y=\"39.37\" id=\"fig-b1a361c730ca4a10b3dd360c8e2004b1-element-12\">variable</text>\n",
        "    </g>\n",
        "  </g>\n",
        "  <g font-size=\"3.88\" font-family=\"'PT Sans','Helvetica Neue','Helvetica',sans-serif\" fill=\"#564A55\" stroke=\"none\" id=\"fig-b1a361c730ca4a10b3dd360c8e2004b1-element-13\">\n",
        "    <text x=\"8.81\" y=\"41.19\" text-anchor=\"middle\" dy=\"0.35em\" transform=\"rotate(-90, 8.81, 43.19)\" id=\"fig-b1a361c730ca4a10b3dd360c8e2004b1-element-14\">value</text>\n",
        "  </g>\n",
        "  <g clip-path=\"url(#fig-b1a361c730ca4a10b3dd360c8e2004b1-element-16)\" id=\"fig-b1a361c730ca4a10b3dd360c8e2004b1-element-15\">\n",
        "    <g pointer-events=\"visible\" opacity=\"1\" fill=\"none\" stroke=\"none\" class=\"guide background\" id=\"fig-b1a361c730ca4a10b3dd360c8e2004b1-element-17\">\n",
        "      <rect x=\"18.63\" y=\"5\" width=\"101.38\" height=\"76.38\" id=\"fig-b1a361c730ca4a10b3dd360c8e2004b1-element-18\"/>\n",
        "    </g>\n",
        "    <g class=\"guide ygridlines xfixed\" stroke-dasharray=\"0.5,0.5\" stroke-width=\"0.2\" stroke=\"#D0D0E0\" id=\"fig-b1a361c730ca4a10b3dd360c8e2004b1-element-19\">\n",
        "      <path fill=\"none\" d=\"M18.63,187.95 L 120.01 187.95\" id=\"fig-b1a361c730ca4a10b3dd360c8e2004b1-element-20\" visibility=\"hidden\" gadfly:scale=\"1.0\"/>\n",
        "      <path fill=\"none\" d=\"M18.63,151.76 L 120.01 151.76\" id=\"fig-b1a361c730ca4a10b3dd360c8e2004b1-element-21\" visibility=\"hidden\" gadfly:scale=\"1.0\"/>\n",
        "      <path fill=\"none\" d=\"M18.63,115.57 L 120.01 115.57\" id=\"fig-b1a361c730ca4a10b3dd360c8e2004b1-element-22\" visibility=\"hidden\" gadfly:scale=\"1.0\"/>\n",
        "      <path fill=\"none\" d=\"M18.63,79.38 L 120.01 79.38\" id=\"fig-b1a361c730ca4a10b3dd360c8e2004b1-element-23\" visibility=\"visible\" gadfly:scale=\"1.0\"/>\n",
        "      <path fill=\"none\" d=\"M18.63,43.19 L 120.01 43.19\" id=\"fig-b1a361c730ca4a10b3dd360c8e2004b1-element-24\" visibility=\"visible\" gadfly:scale=\"1.0\"/>\n",
        "      <path fill=\"none\" d=\"M18.63,7 L 120.01 7\" id=\"fig-b1a361c730ca4a10b3dd360c8e2004b1-element-25\" visibility=\"visible\" gadfly:scale=\"1.0\"/>\n",
        "      <path fill=\"none\" d=\"M18.63,-29.19 L 120.01 -29.19\" id=\"fig-b1a361c730ca4a10b3dd360c8e2004b1-element-26\" visibility=\"hidden\" gadfly:scale=\"1.0\"/>\n",
        "      <path fill=\"none\" d=\"M18.63,-65.38 L 120.01 -65.38\" id=\"fig-b1a361c730ca4a10b3dd360c8e2004b1-element-27\" visibility=\"hidden\" gadfly:scale=\"1.0\"/>\n",
        "      <path fill=\"none\" d=\"M18.63,-101.57 L 120.01 -101.57\" id=\"fig-b1a361c730ca4a10b3dd360c8e2004b1-element-28\" visibility=\"hidden\" gadfly:scale=\"1.0\"/>\n",
        "      <path fill=\"none\" d=\"M18.63,151.76 L 120.01 151.76\" id=\"fig-b1a361c730ca4a10b3dd360c8e2004b1-element-29\" visibility=\"hidden\" gadfly:scale=\"10.0\"/>\n",
        "      <path fill=\"none\" d=\"M18.63,148.14 L 120.01 148.14\" id=\"fig-b1a361c730ca4a10b3dd360c8e2004b1-element-30\" visibility=\"hidden\" gadfly:scale=\"10.0\"/>\n",
        "      <path fill=\"none\" d=\"M18.63,144.52 L 120.01 144.52\" id=\"fig-b1a361c730ca4a10b3dd360c8e2004b1-element-31\" visibility=\"hidden\" gadfly:scale=\"10.0\"/>\n",
        "      <path fill=\"none\" d=\"M18.63,140.9 L 120.01 140.9\" id=\"fig-b1a361c730ca4a10b3dd360c8e2004b1-element-32\" visibility=\"hidden\" gadfly:scale=\"10.0\"/>\n",
        "      <path fill=\"none\" d=\"M18.63,137.28 L 120.01 137.28\" id=\"fig-b1a361c730ca4a10b3dd360c8e2004b1-element-33\" visibility=\"hidden\" gadfly:scale=\"10.0\"/>\n",
        "      <path fill=\"none\" d=\"M18.63,133.66 L 120.01 133.66\" id=\"fig-b1a361c730ca4a10b3dd360c8e2004b1-element-34\" visibility=\"hidden\" gadfly:scale=\"10.0\"/>\n",
        "      <path fill=\"none\" d=\"M18.63,130.04 L 120.01 130.04\" id=\"fig-b1a361c730ca4a10b3dd360c8e2004b1-element-35\" visibility=\"hidden\" gadfly:scale=\"10.0\"/>\n",
        "      <path fill=\"none\" d=\"M18.63,126.42 L 120.01 126.42\" id=\"fig-b1a361c730ca4a10b3dd360c8e2004b1-element-36\" visibility=\"hidden\" gadfly:scale=\"10.0\"/>\n",
        "      <path fill=\"none\" d=\"M18.63,122.81 L 120.01 122.81\" id=\"fig-b1a361c730ca4a10b3dd360c8e2004b1-element-37\" visibility=\"hidden\" gadfly:scale=\"10.0\"/>\n",
        "      <path fill=\"none\" d=\"M18.63,119.19 L 120.01 119.19\" id=\"fig-b1a361c730ca4a10b3dd360c8e2004b1-element-38\" visibility=\"hidden\" gadfly:scale=\"10.0\"/>\n",
        "      <path fill=\"none\" d=\"M18.63,115.57 L 120.01 115.57\" id=\"fig-b1a361c730ca4a10b3dd360c8e2004b1-element-39\" visibility=\"hidden\" gadfly:scale=\"10.0\"/>\n",
        "      <path fill=\"none\" d=\"M18.63,111.95 L 120.01 111.95\" id=\"fig-b1a361c730ca4a10b3dd360c8e2004b1-element-40\" visibility=\"hidden\" gadfly:scale=\"10.0\"/>\n",
        "      <path fill=\"none\" d=\"M18.63,108.33 L 120.01 108.33\" id=\"fig-b1a361c730ca4a10b3dd360c8e2004b1-element-41\" visibility=\"hidden\" gadfly:scale=\"10.0\"/>\n",
        "      <path fill=\"none\" d=\"M18.63,104.71 L 120.01 104.71\" id=\"fig-b1a361c730ca4a10b3dd360c8e2004b1-element-42\" visibility=\"hidden\" gadfly:scale=\"10.0\"/>\n",
        "      <path fill=\"none\" d=\"M18.63,101.09 L 120.01 101.09\" id=\"fig-b1a361c730ca4a10b3dd360c8e2004b1-element-43\" visibility=\"hidden\" gadfly:scale=\"10.0\"/>\n",
        "      <path fill=\"none\" d=\"M18.63,97.47 L 120.01 97.47\" id=\"fig-b1a361c730ca4a10b3dd360c8e2004b1-element-44\" visibility=\"hidden\" gadfly:scale=\"10.0\"/>\n",
        "      <path fill=\"none\" d=\"M18.63,93.85 L 120.01 93.85\" id=\"fig-b1a361c730ca4a10b3dd360c8e2004b1-element-45\" visibility=\"hidden\" gadfly:scale=\"10.0\"/>\n",
        "      <path fill=\"none\" d=\"M18.63,90.24 L 120.01 90.24\" id=\"fig-b1a361c730ca4a10b3dd360c8e2004b1-element-46\" visibility=\"hidden\" gadfly:scale=\"10.0\"/>\n",
        "      <path fill=\"none\" d=\"M18.63,86.62 L 120.01 86.62\" id=\"fig-b1a361c730ca4a10b3dd360c8e2004b1-element-47\" visibility=\"hidden\" gadfly:scale=\"10.0\"/>\n",
        "      <path fill=\"none\" d=\"M18.63,83 L 120.01 83\" id=\"fig-b1a361c730ca4a10b3dd360c8e2004b1-element-48\" visibility=\"hidden\" gadfly:scale=\"10.0\"/>\n",
        "      <path fill=\"none\" d=\"M18.63,79.38 L 120.01 79.38\" id=\"fig-b1a361c730ca4a10b3dd360c8e2004b1-element-49\" visibility=\"hidden\" gadfly:scale=\"10.0\"/>\n",
        "      <path fill=\"none\" d=\"M18.63,75.76 L 120.01 75.76\" id=\"fig-b1a361c730ca4a10b3dd360c8e2004b1-element-50\" visibility=\"hidden\" gadfly:scale=\"10.0\"/>\n",
        "      <path fill=\"none\" d=\"M18.63,72.14 L 120.01 72.14\" id=\"fig-b1a361c730ca4a10b3dd360c8e2004b1-element-51\" visibility=\"hidden\" gadfly:scale=\"10.0\"/>\n",
        "      <path fill=\"none\" d=\"M18.63,68.52 L 120.01 68.52\" id=\"fig-b1a361c730ca4a10b3dd360c8e2004b1-element-52\" visibility=\"hidden\" gadfly:scale=\"10.0\"/>\n",
        "      <path fill=\"none\" d=\"M18.63,64.9 L 120.01 64.9\" id=\"fig-b1a361c730ca4a10b3dd360c8e2004b1-element-53\" visibility=\"hidden\" gadfly:scale=\"10.0\"/>\n",
        "      <path fill=\"none\" d=\"M18.63,61.28 L 120.01 61.28\" id=\"fig-b1a361c730ca4a10b3dd360c8e2004b1-element-54\" visibility=\"hidden\" gadfly:scale=\"10.0\"/>\n",
        "      <path fill=\"none\" d=\"M18.63,57.66 L 120.01 57.66\" id=\"fig-b1a361c730ca4a10b3dd360c8e2004b1-element-55\" visibility=\"hidden\" gadfly:scale=\"10.0\"/>\n",
        "      <path fill=\"none\" d=\"M18.63,54.05 L 120.01 54.05\" id=\"fig-b1a361c730ca4a10b3dd360c8e2004b1-element-56\" visibility=\"hidden\" gadfly:scale=\"10.0\"/>\n",
        "      <path fill=\"none\" d=\"M18.63,50.43 L 120.01 50.43\" id=\"fig-b1a361c730ca4a10b3dd360c8e2004b1-element-57\" visibility=\"hidden\" gadfly:scale=\"10.0\"/>\n",
        "      <path fill=\"none\" d=\"M18.63,46.81 L 120.01 46.81\" id=\"fig-b1a361c730ca4a10b3dd360c8e2004b1-element-58\" visibility=\"hidden\" gadfly:scale=\"10.0\"/>\n",
        "      <path fill=\"none\" d=\"M18.63,43.19 L 120.01 43.19\" id=\"fig-b1a361c730ca4a10b3dd360c8e2004b1-element-59\" visibility=\"hidden\" gadfly:scale=\"10.0\"/>\n",
        "      <path fill=\"none\" d=\"M18.63,39.57 L 120.01 39.57\" id=\"fig-b1a361c730ca4a10b3dd360c8e2004b1-element-60\" visibility=\"hidden\" gadfly:scale=\"10.0\"/>\n",
        "      <path fill=\"none\" d=\"M18.63,35.95 L 120.01 35.95\" id=\"fig-b1a361c730ca4a10b3dd360c8e2004b1-element-61\" visibility=\"hidden\" gadfly:scale=\"10.0\"/>\n",
        "      <path fill=\"none\" d=\"M18.63,32.33 L 120.01 32.33\" id=\"fig-b1a361c730ca4a10b3dd360c8e2004b1-element-62\" visibility=\"hidden\" gadfly:scale=\"10.0\"/>\n",
        "      <path fill=\"none\" d=\"M18.63,28.71 L 120.01 28.71\" id=\"fig-b1a361c730ca4a10b3dd360c8e2004b1-element-63\" visibility=\"hidden\" gadfly:scale=\"10.0\"/>\n",
        "      <path fill=\"none\" d=\"M18.63,25.09 L 120.01 25.09\" id=\"fig-b1a361c730ca4a10b3dd360c8e2004b1-element-64\" visibility=\"hidden\" gadfly:scale=\"10.0\"/>\n",
        "      <path fill=\"none\" d=\"M18.63,21.48 L 120.01 21.48\" id=\"fig-b1a361c730ca4a10b3dd360c8e2004b1-element-65\" visibility=\"hidden\" gadfly:scale=\"10.0\"/>\n",
        "      <path fill=\"none\" d=\"M18.63,17.86 L 120.01 17.86\" id=\"fig-b1a361c730ca4a10b3dd360c8e2004b1-element-66\" visibility=\"hidden\" gadfly:scale=\"10.0\"/>\n",
        "      <path fill=\"none\" d=\"M18.63,14.24 L 120.01 14.24\" id=\"fig-b1a361c730ca4a10b3dd360c8e2004b1-element-67\" visibility=\"hidden\" gadfly:scale=\"10.0\"/>\n",
        "      <path fill=\"none\" d=\"M18.63,10.62 L 120.01 10.62\" id=\"fig-b1a361c730ca4a10b3dd360c8e2004b1-element-68\" visibility=\"hidden\" gadfly:scale=\"10.0\"/>\n",
        "      <path fill=\"none\" d=\"M18.63,7 L 120.01 7\" id=\"fig-b1a361c730ca4a10b3dd360c8e2004b1-element-69\" visibility=\"hidden\" gadfly:scale=\"10.0\"/>\n",
        "      <path fill=\"none\" d=\"M18.63,3.38 L 120.01 3.38\" id=\"fig-b1a361c730ca4a10b3dd360c8e2004b1-element-70\" visibility=\"hidden\" gadfly:scale=\"10.0\"/>\n",
        "      <path fill=\"none\" d=\"M18.63,-0.24 L 120.01 -0.24\" id=\"fig-b1a361c730ca4a10b3dd360c8e2004b1-element-71\" visibility=\"hidden\" gadfly:scale=\"10.0\"/>\n",
        "      <path fill=\"none\" d=\"M18.63,-3.86 L 120.01 -3.86\" id=\"fig-b1a361c730ca4a10b3dd360c8e2004b1-element-72\" visibility=\"hidden\" gadfly:scale=\"10.0\"/>\n",
        "      <path fill=\"none\" d=\"M18.63,-7.48 L 120.01 -7.48\" id=\"fig-b1a361c730ca4a10b3dd360c8e2004b1-element-73\" visibility=\"hidden\" gadfly:scale=\"10.0\"/>\n",
        "      <path fill=\"none\" d=\"M18.63,-11.09 L 120.01 -11.09\" id=\"fig-b1a361c730ca4a10b3dd360c8e2004b1-element-74\" visibility=\"hidden\" gadfly:scale=\"10.0\"/>\n",
        "      <path fill=\"none\" d=\"M18.63,-14.71 L 120.01 -14.71\" id=\"fig-b1a361c730ca4a10b3dd360c8e2004b1-element-75\" visibility=\"hidden\" gadfly:scale=\"10.0\"/>\n",
        "      <path fill=\"none\" d=\"M18.63,-18.33 L 120.01 -18.33\" id=\"fig-b1a361c730ca4a10b3dd360c8e2004b1-element-76\" visibility=\"hidden\" gadfly:scale=\"10.0\"/>\n",
        "      <path fill=\"none\" d=\"M18.63,-21.95 L 120.01 -21.95\" id=\"fig-b1a361c730ca4a10b3dd360c8e2004b1-element-77\" visibility=\"hidden\" gadfly:scale=\"10.0\"/>\n",
        "      <path fill=\"none\" d=\"M18.63,-25.57 L 120.01 -25.57\" id=\"fig-b1a361c730ca4a10b3dd360c8e2004b1-element-78\" visibility=\"hidden\" gadfly:scale=\"10.0\"/>\n",
        "      <path fill=\"none\" d=\"M18.63,-29.19 L 120.01 -29.19\" id=\"fig-b1a361c730ca4a10b3dd360c8e2004b1-element-79\" visibility=\"hidden\" gadfly:scale=\"10.0\"/>\n",
        "      <path fill=\"none\" d=\"M18.63,-32.81 L 120.01 -32.81\" id=\"fig-b1a361c730ca4a10b3dd360c8e2004b1-element-80\" visibility=\"hidden\" gadfly:scale=\"10.0\"/>\n",
        "      <path fill=\"none\" d=\"M18.63,-36.43 L 120.01 -36.43\" id=\"fig-b1a361c730ca4a10b3dd360c8e2004b1-element-81\" visibility=\"hidden\" gadfly:scale=\"10.0\"/>\n",
        "      <path fill=\"none\" d=\"M18.63,-40.05 L 120.01 -40.05\" id=\"fig-b1a361c730ca4a10b3dd360c8e2004b1-element-82\" visibility=\"hidden\" gadfly:scale=\"10.0\"/>\n",
        "      <path fill=\"none\" d=\"M18.63,-43.66 L 120.01 -43.66\" id=\"fig-b1a361c730ca4a10b3dd360c8e2004b1-element-83\" visibility=\"hidden\" gadfly:scale=\"10.0\"/>\n",
        "      <path fill=\"none\" d=\"M18.63,-47.28 L 120.01 -47.28\" id=\"fig-b1a361c730ca4a10b3dd360c8e2004b1-element-84\" visibility=\"hidden\" gadfly:scale=\"10.0\"/>\n",
        "      <path fill=\"none\" d=\"M18.63,-50.9 L 120.01 -50.9\" id=\"fig-b1a361c730ca4a10b3dd360c8e2004b1-element-85\" visibility=\"hidden\" gadfly:scale=\"10.0\"/>\n",
        "      <path fill=\"none\" d=\"M18.63,-54.52 L 120.01 -54.52\" id=\"fig-b1a361c730ca4a10b3dd360c8e2004b1-element-86\" visibility=\"hidden\" gadfly:scale=\"10.0\"/>\n",
        "      <path fill=\"none\" d=\"M18.63,-58.14 L 120.01 -58.14\" id=\"fig-b1a361c730ca4a10b3dd360c8e2004b1-element-87\" visibility=\"hidden\" gadfly:scale=\"10.0\"/>\n",
        "      <path fill=\"none\" d=\"M18.63,-61.76 L 120.01 -61.76\" id=\"fig-b1a361c730ca4a10b3dd360c8e2004b1-element-88\" visibility=\"hidden\" gadfly:scale=\"10.0\"/>\n",
        "      <path fill=\"none\" d=\"M18.63,-65.38 L 120.01 -65.38\" id=\"fig-b1a361c730ca4a10b3dd360c8e2004b1-element-89\" visibility=\"hidden\" gadfly:scale=\"10.0\"/>\n",
        "      <path fill=\"none\" d=\"M18.63,151.76 L 120.01 151.76\" id=\"fig-b1a361c730ca4a10b3dd360c8e2004b1-element-90\" visibility=\"hidden\" gadfly:scale=\"0.5\"/>\n",
        "      <path fill=\"none\" d=\"M18.63,79.38 L 120.01 79.38\" id=\"fig-b1a361c730ca4a10b3dd360c8e2004b1-element-91\" visibility=\"hidden\" gadfly:scale=\"0.5\"/>\n",
        "      <path fill=\"none\" d=\"M18.63,7 L 120.01 7\" id=\"fig-b1a361c730ca4a10b3dd360c8e2004b1-element-92\" visibility=\"hidden\" gadfly:scale=\"0.5\"/>\n",
        "      <path fill=\"none\" d=\"M18.63,-65.38 L 120.01 -65.38\" id=\"fig-b1a361c730ca4a10b3dd360c8e2004b1-element-93\" visibility=\"hidden\" gadfly:scale=\"0.5\"/>\n",
        "      <path fill=\"none\" d=\"M18.63,151.76 L 120.01 151.76\" id=\"fig-b1a361c730ca4a10b3dd360c8e2004b1-element-94\" visibility=\"hidden\" gadfly:scale=\"5.0\"/>\n",
        "      <path fill=\"none\" d=\"M18.63,144.52 L 120.01 144.52\" id=\"fig-b1a361c730ca4a10b3dd360c8e2004b1-element-95\" visibility=\"hidden\" gadfly:scale=\"5.0\"/>\n",
        "      <path fill=\"none\" d=\"M18.63,137.28 L 120.01 137.28\" id=\"fig-b1a361c730ca4a10b3dd360c8e2004b1-element-96\" visibility=\"hidden\" gadfly:scale=\"5.0\"/>\n",
        "      <path fill=\"none\" d=\"M18.63,130.04 L 120.01 130.04\" id=\"fig-b1a361c730ca4a10b3dd360c8e2004b1-element-97\" visibility=\"hidden\" gadfly:scale=\"5.0\"/>\n",
        "      <path fill=\"none\" d=\"M18.63,122.81 L 120.01 122.81\" id=\"fig-b1a361c730ca4a10b3dd360c8e2004b1-element-98\" visibility=\"hidden\" gadfly:scale=\"5.0\"/>\n",
        "      <path fill=\"none\" d=\"M18.63,115.57 L 120.01 115.57\" id=\"fig-b1a361c730ca4a10b3dd360c8e2004b1-element-99\" visibility=\"hidden\" gadfly:scale=\"5.0\"/>\n",
        "      <path fill=\"none\" d=\"M18.63,108.33 L 120.01 108.33\" id=\"fig-b1a361c730ca4a10b3dd360c8e2004b1-element-100\" visibility=\"hidden\" gadfly:scale=\"5.0\"/>\n",
        "      <path fill=\"none\" d=\"M18.63,101.09 L 120.01 101.09\" id=\"fig-b1a361c730ca4a10b3dd360c8e2004b1-element-101\" visibility=\"hidden\" gadfly:scale=\"5.0\"/>\n",
        "      <path fill=\"none\" d=\"M18.63,93.85 L 120.01 93.85\" id=\"fig-b1a361c730ca4a10b3dd360c8e2004b1-element-102\" visibility=\"hidden\" gadfly:scale=\"5.0\"/>\n",
        "      <path fill=\"none\" d=\"M18.63,86.62 L 120.01 86.62\" id=\"fig-b1a361c730ca4a10b3dd360c8e2004b1-element-103\" visibility=\"hidden\" gadfly:scale=\"5.0\"/>\n",
        "      <path fill=\"none\" d=\"M18.63,79.38 L 120.01 79.38\" id=\"fig-b1a361c730ca4a10b3dd360c8e2004b1-element-104\" visibility=\"hidden\" gadfly:scale=\"5.0\"/>\n",
        "      <path fill=\"none\" d=\"M18.63,72.14 L 120.01 72.14\" id=\"fig-b1a361c730ca4a10b3dd360c8e2004b1-element-105\" visibility=\"hidden\" gadfly:scale=\"5.0\"/>\n",
        "      <path fill=\"none\" d=\"M18.63,64.9 L 120.01 64.9\" id=\"fig-b1a361c730ca4a10b3dd360c8e2004b1-element-106\" visibility=\"hidden\" gadfly:scale=\"5.0\"/>\n",
        "      <path fill=\"none\" d=\"M18.63,57.66 L 120.01 57.66\" id=\"fig-b1a361c730ca4a10b3dd360c8e2004b1-element-107\" visibility=\"hidden\" gadfly:scale=\"5.0\"/>\n",
        "      <path fill=\"none\" d=\"M18.63,50.43 L 120.01 50.43\" id=\"fig-b1a361c730ca4a10b3dd360c8e2004b1-element-108\" visibility=\"hidden\" gadfly:scale=\"5.0\"/>\n",
        "      <path fill=\"none\" d=\"M18.63,43.19 L 120.01 43.19\" id=\"fig-b1a361c730ca4a10b3dd360c8e2004b1-element-109\" visibility=\"hidden\" gadfly:scale=\"5.0\"/>\n",
        "      <path fill=\"none\" d=\"M18.63,35.95 L 120.01 35.95\" id=\"fig-b1a361c730ca4a10b3dd360c8e2004b1-element-110\" visibility=\"hidden\" gadfly:scale=\"5.0\"/>\n",
        "      <path fill=\"none\" d=\"M18.63,28.71 L 120.01 28.71\" id=\"fig-b1a361c730ca4a10b3dd360c8e2004b1-element-111\" visibility=\"hidden\" gadfly:scale=\"5.0\"/>\n",
        "      <path fill=\"none\" d=\"M18.63,21.48 L 120.01 21.48\" id=\"fig-b1a361c730ca4a10b3dd360c8e2004b1-element-112\" visibility=\"hidden\" gadfly:scale=\"5.0\"/>\n",
        "      <path fill=\"none\" d=\"M18.63,14.24 L 120.01 14.24\" id=\"fig-b1a361c730ca4a10b3dd360c8e2004b1-element-113\" visibility=\"hidden\" gadfly:scale=\"5.0\"/>\n",
        "      <path fill=\"none\" d=\"M18.63,7 L 120.01 7\" id=\"fig-b1a361c730ca4a10b3dd360c8e2004b1-element-114\" visibility=\"hidden\" gadfly:scale=\"5.0\"/>\n",
        "      <path fill=\"none\" d=\"M18.63,-0.24 L 120.01 -0.24\" id=\"fig-b1a361c730ca4a10b3dd360c8e2004b1-element-115\" visibility=\"hidden\" gadfly:scale=\"5.0\"/>\n",
        "      <path fill=\"none\" d=\"M18.63,-7.48 L 120.01 -7.48\" id=\"fig-b1a361c730ca4a10b3dd360c8e2004b1-element-116\" visibility=\"hidden\" gadfly:scale=\"5.0\"/>\n",
        "      <path fill=\"none\" d=\"M18.63,-14.71 L 120.01 -14.71\" id=\"fig-b1a361c730ca4a10b3dd360c8e2004b1-element-117\" visibility=\"hidden\" gadfly:scale=\"5.0\"/>\n",
        "      <path fill=\"none\" d=\"M18.63,-21.95 L 120.01 -21.95\" id=\"fig-b1a361c730ca4a10b3dd360c8e2004b1-element-118\" visibility=\"hidden\" gadfly:scale=\"5.0\"/>\n",
        "      <path fill=\"none\" d=\"M18.63,-29.19 L 120.01 -29.19\" id=\"fig-b1a361c730ca4a10b3dd360c8e2004b1-element-119\" visibility=\"hidden\" gadfly:scale=\"5.0\"/>\n",
        "      <path fill=\"none\" d=\"M18.63,-36.43 L 120.01 -36.43\" id=\"fig-b1a361c730ca4a10b3dd360c8e2004b1-element-120\" visibility=\"hidden\" gadfly:scale=\"5.0\"/>\n",
        "      <path fill=\"none\" d=\"M18.63,-43.66 L 120.01 -43.66\" id=\"fig-b1a361c730ca4a10b3dd360c8e2004b1-element-121\" visibility=\"hidden\" gadfly:scale=\"5.0\"/>\n",
        "      <path fill=\"none\" d=\"M18.63,-50.9 L 120.01 -50.9\" id=\"fig-b1a361c730ca4a10b3dd360c8e2004b1-element-122\" visibility=\"hidden\" gadfly:scale=\"5.0\"/>\n",
        "      <path fill=\"none\" d=\"M18.63,-58.14 L 120.01 -58.14\" id=\"fig-b1a361c730ca4a10b3dd360c8e2004b1-element-123\" visibility=\"hidden\" gadfly:scale=\"5.0\"/>\n",
        "      <path fill=\"none\" d=\"M18.63,-65.38 L 120.01 -65.38\" id=\"fig-b1a361c730ca4a10b3dd360c8e2004b1-element-124\" visibility=\"hidden\" gadfly:scale=\"5.0\"/>\n",
        "    </g>\n",
        "    <g class=\"guide xgridlines yfixed\" stroke-dasharray=\"0.5,0.5\" stroke-width=\"0.2\" stroke=\"#D0D0E0\" id=\"fig-b1a361c730ca4a10b3dd360c8e2004b1-element-125\">\n",
        "      <path fill=\"none\" d=\"M-109.21,5 L -109.21 81.38\" id=\"fig-b1a361c730ca4a10b3dd360c8e2004b1-element-126\" visibility=\"hidden\" gadfly:scale=\"1.0\"/>\n",
        "      <path fill=\"none\" d=\"M-76.75,5 L -76.75 81.38\" id=\"fig-b1a361c730ca4a10b3dd360c8e2004b1-element-127\" visibility=\"hidden\" gadfly:scale=\"1.0\"/>\n",
        "      <path fill=\"none\" d=\"M-44.29,5 L -44.29 81.38\" id=\"fig-b1a361c730ca4a10b3dd360c8e2004b1-element-128\" visibility=\"hidden\" gadfly:scale=\"1.0\"/>\n",
        "      <path fill=\"none\" d=\"M-11.83,5 L -11.83 81.38\" id=\"fig-b1a361c730ca4a10b3dd360c8e2004b1-element-129\" visibility=\"hidden\" gadfly:scale=\"1.0\"/>\n",
        "      <path fill=\"none\" d=\"M20.63,5 L 20.63 81.38\" id=\"fig-b1a361c730ca4a10b3dd360c8e2004b1-element-130\" visibility=\"visible\" gadfly:scale=\"1.0\"/>\n",
        "      <path fill=\"none\" d=\"M53.09,5 L 53.09 81.38\" id=\"fig-b1a361c730ca4a10b3dd360c8e2004b1-element-131\" visibility=\"visible\" gadfly:scale=\"1.0\"/>\n",
        "      <path fill=\"none\" d=\"M85.55,5 L 85.55 81.38\" id=\"fig-b1a361c730ca4a10b3dd360c8e2004b1-element-132\" visibility=\"visible\" gadfly:scale=\"1.0\"/>\n",
        "      <path fill=\"none\" d=\"M118.01,5 L 118.01 81.38\" id=\"fig-b1a361c730ca4a10b3dd360c8e2004b1-element-133\" visibility=\"visible\" gadfly:scale=\"1.0\"/>\n",
        "      <path fill=\"none\" d=\"M150.48,5 L 150.48 81.38\" id=\"fig-b1a361c730ca4a10b3dd360c8e2004b1-element-134\" visibility=\"hidden\" gadfly:scale=\"1.0\"/>\n",
        "      <path fill=\"none\" d=\"M182.94,5 L 182.94 81.38\" id=\"fig-b1a361c730ca4a10b3dd360c8e2004b1-element-135\" visibility=\"hidden\" gadfly:scale=\"1.0\"/>\n",
        "      <path fill=\"none\" d=\"M215.4,5 L 215.4 81.38\" id=\"fig-b1a361c730ca4a10b3dd360c8e2004b1-element-136\" visibility=\"hidden\" gadfly:scale=\"1.0\"/>\n",
        "      <path fill=\"none\" d=\"M247.86,5 L 247.86 81.38\" id=\"fig-b1a361c730ca4a10b3dd360c8e2004b1-element-137\" visibility=\"hidden\" gadfly:scale=\"1.0\"/>\n",
        "      <path fill=\"none\" d=\"M-76.75,5 L -76.75 81.38\" id=\"fig-b1a361c730ca4a10b3dd360c8e2004b1-element-138\" visibility=\"hidden\" gadfly:scale=\"10.0\"/>\n",
        "      <path fill=\"none\" d=\"M-73.51,5 L -73.51 81.38\" id=\"fig-b1a361c730ca4a10b3dd360c8e2004b1-element-139\" visibility=\"hidden\" gadfly:scale=\"10.0\"/>\n",
        "      <path fill=\"none\" d=\"M-70.26,5 L -70.26 81.38\" id=\"fig-b1a361c730ca4a10b3dd360c8e2004b1-element-140\" visibility=\"hidden\" gadfly:scale=\"10.0\"/>\n",
        "      <path fill=\"none\" d=\"M-67.01,5 L -67.01 81.38\" id=\"fig-b1a361c730ca4a10b3dd360c8e2004b1-element-141\" visibility=\"hidden\" gadfly:scale=\"10.0\"/>\n",
        "      <path fill=\"none\" d=\"M-63.77,5 L -63.77 81.38\" id=\"fig-b1a361c730ca4a10b3dd360c8e2004b1-element-142\" visibility=\"hidden\" gadfly:scale=\"10.0\"/>\n",
        "      <path fill=\"none\" d=\"M-60.52,5 L -60.52 81.38\" id=\"fig-b1a361c730ca4a10b3dd360c8e2004b1-element-143\" visibility=\"hidden\" gadfly:scale=\"10.0\"/>\n",
        "      <path fill=\"none\" d=\"M-57.27,5 L -57.27 81.38\" id=\"fig-b1a361c730ca4a10b3dd360c8e2004b1-element-144\" visibility=\"hidden\" gadfly:scale=\"10.0\"/>\n",
        "      <path fill=\"none\" d=\"M-54.03,5 L -54.03 81.38\" id=\"fig-b1a361c730ca4a10b3dd360c8e2004b1-element-145\" visibility=\"hidden\" gadfly:scale=\"10.0\"/>\n",
        "      <path fill=\"none\" d=\"M-50.78,5 L -50.78 81.38\" id=\"fig-b1a361c730ca4a10b3dd360c8e2004b1-element-146\" visibility=\"hidden\" gadfly:scale=\"10.0\"/>\n",
        "      <path fill=\"none\" d=\"M-47.54,5 L -47.54 81.38\" id=\"fig-b1a361c730ca4a10b3dd360c8e2004b1-element-147\" visibility=\"hidden\" gadfly:scale=\"10.0\"/>\n",
        "      <path fill=\"none\" d=\"M-44.29,5 L -44.29 81.38\" id=\"fig-b1a361c730ca4a10b3dd360c8e2004b1-element-148\" visibility=\"hidden\" gadfly:scale=\"10.0\"/>\n",
        "      <path fill=\"none\" d=\"M-41.04,5 L -41.04 81.38\" id=\"fig-b1a361c730ca4a10b3dd360c8e2004b1-element-149\" visibility=\"hidden\" gadfly:scale=\"10.0\"/>\n",
        "      <path fill=\"none\" d=\"M-37.8,5 L -37.8 81.38\" id=\"fig-b1a361c730ca4a10b3dd360c8e2004b1-element-150\" visibility=\"hidden\" gadfly:scale=\"10.0\"/>\n",
        "      <path fill=\"none\" d=\"M-34.55,5 L -34.55 81.38\" id=\"fig-b1a361c730ca4a10b3dd360c8e2004b1-element-151\" visibility=\"hidden\" gadfly:scale=\"10.0\"/>\n",
        "      <path fill=\"none\" d=\"M-31.31,5 L -31.31 81.38\" id=\"fig-b1a361c730ca4a10b3dd360c8e2004b1-element-152\" visibility=\"hidden\" gadfly:scale=\"10.0\"/>\n",
        "      <path fill=\"none\" d=\"M-28.06,5 L -28.06 81.38\" id=\"fig-b1a361c730ca4a10b3dd360c8e2004b1-element-153\" visibility=\"hidden\" gadfly:scale=\"10.0\"/>\n",
        "      <path fill=\"none\" d=\"M-24.81,5 L -24.81 81.38\" id=\"fig-b1a361c730ca4a10b3dd360c8e2004b1-element-154\" visibility=\"hidden\" gadfly:scale=\"10.0\"/>\n",
        "      <path fill=\"none\" d=\"M-21.57,5 L -21.57 81.38\" id=\"fig-b1a361c730ca4a10b3dd360c8e2004b1-element-155\" visibility=\"hidden\" gadfly:scale=\"10.0\"/>\n",
        "      <path fill=\"none\" d=\"M-18.32,5 L -18.32 81.38\" id=\"fig-b1a361c730ca4a10b3dd360c8e2004b1-element-156\" visibility=\"hidden\" gadfly:scale=\"10.0\"/>\n",
        "      <path fill=\"none\" d=\"M-15.08,5 L -15.08 81.38\" id=\"fig-b1a361c730ca4a10b3dd360c8e2004b1-element-157\" visibility=\"hidden\" gadfly:scale=\"10.0\"/>\n",
        "      <path fill=\"none\" d=\"M-11.83,5 L -11.83 81.38\" id=\"fig-b1a361c730ca4a10b3dd360c8e2004b1-element-158\" visibility=\"hidden\" gadfly:scale=\"10.0\"/>\n",
        "      <path fill=\"none\" d=\"M-8.58,5 L -8.58 81.38\" id=\"fig-b1a361c730ca4a10b3dd360c8e2004b1-element-159\" visibility=\"hidden\" gadfly:scale=\"10.0\"/>\n",
        "      <path fill=\"none\" d=\"M-5.34,5 L -5.34 81.38\" id=\"fig-b1a361c730ca4a10b3dd360c8e2004b1-element-160\" visibility=\"hidden\" gadfly:scale=\"10.0\"/>\n",
        "      <path fill=\"none\" d=\"M-2.09,5 L -2.09 81.38\" id=\"fig-b1a361c730ca4a10b3dd360c8e2004b1-element-161\" visibility=\"hidden\" gadfly:scale=\"10.0\"/>\n",
        "      <path fill=\"none\" d=\"M1.16,5 L 1.16 81.38\" id=\"fig-b1a361c730ca4a10b3dd360c8e2004b1-element-162\" visibility=\"hidden\" gadfly:scale=\"10.0\"/>\n",
        "      <path fill=\"none\" d=\"M4.4,5 L 4.4 81.38\" id=\"fig-b1a361c730ca4a10b3dd360c8e2004b1-element-163\" visibility=\"hidden\" gadfly:scale=\"10.0\"/>\n",
        "      <path fill=\"none\" d=\"M7.65,5 L 7.65 81.38\" id=\"fig-b1a361c730ca4a10b3dd360c8e2004b1-element-164\" visibility=\"hidden\" gadfly:scale=\"10.0\"/>\n",
        "      <path fill=\"none\" d=\"M10.89,5 L 10.89 81.38\" id=\"fig-b1a361c730ca4a10b3dd360c8e2004b1-element-165\" visibility=\"hidden\" gadfly:scale=\"10.0\"/>\n",
        "      <path fill=\"none\" d=\"M14.14,5 L 14.14 81.38\" id=\"fig-b1a361c730ca4a10b3dd360c8e2004b1-element-166\" visibility=\"hidden\" gadfly:scale=\"10.0\"/>\n",
        "      <path fill=\"none\" d=\"M17.39,5 L 17.39 81.38\" id=\"fig-b1a361c730ca4a10b3dd360c8e2004b1-element-167\" visibility=\"hidden\" gadfly:scale=\"10.0\"/>\n",
        "      <path fill=\"none\" d=\"M20.63,5 L 20.63 81.38\" id=\"fig-b1a361c730ca4a10b3dd360c8e2004b1-element-168\" visibility=\"hidden\" gadfly:scale=\"10.0\"/>\n",
        "      <path fill=\"none\" d=\"M23.88,5 L 23.88 81.38\" id=\"fig-b1a361c730ca4a10b3dd360c8e2004b1-element-169\" visibility=\"hidden\" gadfly:scale=\"10.0\"/>\n",
        "      <path fill=\"none\" d=\"M27.12,5 L 27.12 81.38\" id=\"fig-b1a361c730ca4a10b3dd360c8e2004b1-element-170\" visibility=\"hidden\" gadfly:scale=\"10.0\"/>\n",
        "      <path fill=\"none\" d=\"M30.37,5 L 30.37 81.38\" id=\"fig-b1a361c730ca4a10b3dd360c8e2004b1-element-171\" visibility=\"hidden\" gadfly:scale=\"10.0\"/>\n",
        "      <path fill=\"none\" d=\"M33.62,5 L 33.62 81.38\" id=\"fig-b1a361c730ca4a10b3dd360c8e2004b1-element-172\" visibility=\"hidden\" gadfly:scale=\"10.0\"/>\n",
        "      <path fill=\"none\" d=\"M36.86,5 L 36.86 81.38\" id=\"fig-b1a361c730ca4a10b3dd360c8e2004b1-element-173\" visibility=\"hidden\" gadfly:scale=\"10.0\"/>\n",
        "      <path fill=\"none\" d=\"M40.11,5 L 40.11 81.38\" id=\"fig-b1a361c730ca4a10b3dd360c8e2004b1-element-174\" visibility=\"hidden\" gadfly:scale=\"10.0\"/>\n",
        "      <path fill=\"none\" d=\"M43.35,5 L 43.35 81.38\" id=\"fig-b1a361c730ca4a10b3dd360c8e2004b1-element-175\" visibility=\"hidden\" gadfly:scale=\"10.0\"/>\n",
        "      <path fill=\"none\" d=\"M46.6,5 L 46.6 81.38\" id=\"fig-b1a361c730ca4a10b3dd360c8e2004b1-element-176\" visibility=\"hidden\" gadfly:scale=\"10.0\"/>\n",
        "      <path fill=\"none\" d=\"M49.85,5 L 49.85 81.38\" id=\"fig-b1a361c730ca4a10b3dd360c8e2004b1-element-177\" visibility=\"hidden\" gadfly:scale=\"10.0\"/>\n",
        "      <path fill=\"none\" d=\"M53.09,5 L 53.09 81.38\" id=\"fig-b1a361c730ca4a10b3dd360c8e2004b1-element-178\" visibility=\"hidden\" gadfly:scale=\"10.0\"/>\n",
        "      <path fill=\"none\" d=\"M56.34,5 L 56.34 81.38\" id=\"fig-b1a361c730ca4a10b3dd360c8e2004b1-element-179\" visibility=\"hidden\" gadfly:scale=\"10.0\"/>\n",
        "      <path fill=\"none\" d=\"M59.58,5 L 59.58 81.38\" id=\"fig-b1a361c730ca4a10b3dd360c8e2004b1-element-180\" visibility=\"hidden\" gadfly:scale=\"10.0\"/>\n",
        "      <path fill=\"none\" d=\"M62.83,5 L 62.83 81.38\" id=\"fig-b1a361c730ca4a10b3dd360c8e2004b1-element-181\" visibility=\"hidden\" gadfly:scale=\"10.0\"/>\n",
        "      <path fill=\"none\" d=\"M66.08,5 L 66.08 81.38\" id=\"fig-b1a361c730ca4a10b3dd360c8e2004b1-element-182\" visibility=\"hidden\" gadfly:scale=\"10.0\"/>\n",
        "      <path fill=\"none\" d=\"M69.32,5 L 69.32 81.38\" id=\"fig-b1a361c730ca4a10b3dd360c8e2004b1-element-183\" visibility=\"hidden\" gadfly:scale=\"10.0\"/>\n",
        "      <path fill=\"none\" d=\"M72.57,5 L 72.57 81.38\" id=\"fig-b1a361c730ca4a10b3dd360c8e2004b1-element-184\" visibility=\"hidden\" gadfly:scale=\"10.0\"/>\n",
        "      <path fill=\"none\" d=\"M75.82,5 L 75.82 81.38\" id=\"fig-b1a361c730ca4a10b3dd360c8e2004b1-element-185\" visibility=\"hidden\" gadfly:scale=\"10.0\"/>\n",
        "      <path fill=\"none\" d=\"M79.06,5 L 79.06 81.38\" id=\"fig-b1a361c730ca4a10b3dd360c8e2004b1-element-186\" visibility=\"hidden\" gadfly:scale=\"10.0\"/>\n",
        "      <path fill=\"none\" d=\"M82.31,5 L 82.31 81.38\" id=\"fig-b1a361c730ca4a10b3dd360c8e2004b1-element-187\" visibility=\"hidden\" gadfly:scale=\"10.0\"/>\n",
        "      <path fill=\"none\" d=\"M85.55,5 L 85.55 81.38\" id=\"fig-b1a361c730ca4a10b3dd360c8e2004b1-element-188\" visibility=\"hidden\" gadfly:scale=\"10.0\"/>\n",
        "      <path fill=\"none\" d=\"M88.8,5 L 88.8 81.38\" id=\"fig-b1a361c730ca4a10b3dd360c8e2004b1-element-189\" visibility=\"hidden\" gadfly:scale=\"10.0\"/>\n",
        "      <path fill=\"none\" d=\"M92.05,5 L 92.05 81.38\" id=\"fig-b1a361c730ca4a10b3dd360c8e2004b1-element-190\" visibility=\"hidden\" gadfly:scale=\"10.0\"/>\n",
        "      <path fill=\"none\" d=\"M95.29,5 L 95.29 81.38\" id=\"fig-b1a361c730ca4a10b3dd360c8e2004b1-element-191\" visibility=\"hidden\" gadfly:scale=\"10.0\"/>\n",
        "      <path fill=\"none\" d=\"M98.54,5 L 98.54 81.38\" id=\"fig-b1a361c730ca4a10b3dd360c8e2004b1-element-192\" visibility=\"hidden\" gadfly:scale=\"10.0\"/>\n",
        "      <path fill=\"none\" d=\"M101.78,5 L 101.78 81.38\" id=\"fig-b1a361c730ca4a10b3dd360c8e2004b1-element-193\" visibility=\"hidden\" gadfly:scale=\"10.0\"/>\n",
        "      <path fill=\"none\" d=\"M105.03,5 L 105.03 81.38\" id=\"fig-b1a361c730ca4a10b3dd360c8e2004b1-element-194\" visibility=\"hidden\" gadfly:scale=\"10.0\"/>\n",
        "      <path fill=\"none\" d=\"M108.28,5 L 108.28 81.38\" id=\"fig-b1a361c730ca4a10b3dd360c8e2004b1-element-195\" visibility=\"hidden\" gadfly:scale=\"10.0\"/>\n",
        "      <path fill=\"none\" d=\"M111.52,5 L 111.52 81.38\" id=\"fig-b1a361c730ca4a10b3dd360c8e2004b1-element-196\" visibility=\"hidden\" gadfly:scale=\"10.0\"/>\n",
        "      <path fill=\"none\" d=\"M114.77,5 L 114.77 81.38\" id=\"fig-b1a361c730ca4a10b3dd360c8e2004b1-element-197\" visibility=\"hidden\" gadfly:scale=\"10.0\"/>\n",
        "      <path fill=\"none\" d=\"M118.01,5 L 118.01 81.38\" id=\"fig-b1a361c730ca4a10b3dd360c8e2004b1-element-198\" visibility=\"hidden\" gadfly:scale=\"10.0\"/>\n",
        "      <path fill=\"none\" d=\"M121.26,5 L 121.26 81.38\" id=\"fig-b1a361c730ca4a10b3dd360c8e2004b1-element-199\" visibility=\"hidden\" gadfly:scale=\"10.0\"/>\n",
        "      <path fill=\"none\" d=\"M124.51,5 L 124.51 81.38\" id=\"fig-b1a361c730ca4a10b3dd360c8e2004b1-element-200\" visibility=\"hidden\" gadfly:scale=\"10.0\"/>\n",
        "      <path fill=\"none\" d=\"M127.75,5 L 127.75 81.38\" id=\"fig-b1a361c730ca4a10b3dd360c8e2004b1-element-201\" visibility=\"hidden\" gadfly:scale=\"10.0\"/>\n",
        "      <path fill=\"none\" d=\"M131,5 L 131 81.38\" id=\"fig-b1a361c730ca4a10b3dd360c8e2004b1-element-202\" visibility=\"hidden\" gadfly:scale=\"10.0\"/>\n",
        "      <path fill=\"none\" d=\"M134.25,5 L 134.25 81.38\" id=\"fig-b1a361c730ca4a10b3dd360c8e2004b1-element-203\" visibility=\"hidden\" gadfly:scale=\"10.0\"/>\n",
        "      <path fill=\"none\" d=\"M137.49,5 L 137.49 81.38\" id=\"fig-b1a361c730ca4a10b3dd360c8e2004b1-element-204\" visibility=\"hidden\" gadfly:scale=\"10.0\"/>\n",
        "      <path fill=\"none\" d=\"M140.74,5 L 140.74 81.38\" id=\"fig-b1a361c730ca4a10b3dd360c8e2004b1-element-205\" visibility=\"hidden\" gadfly:scale=\"10.0\"/>\n",
        "      <path fill=\"none\" d=\"M143.98,5 L 143.98 81.38\" id=\"fig-b1a361c730ca4a10b3dd360c8e2004b1-element-206\" visibility=\"hidden\" gadfly:scale=\"10.0\"/>\n",
        "      <path fill=\"none\" d=\"M147.23,5 L 147.23 81.38\" id=\"fig-b1a361c730ca4a10b3dd360c8e2004b1-element-207\" visibility=\"hidden\" gadfly:scale=\"10.0\"/>\n",
        "      <path fill=\"none\" d=\"M150.48,5 L 150.48 81.38\" id=\"fig-b1a361c730ca4a10b3dd360c8e2004b1-element-208\" visibility=\"hidden\" gadfly:scale=\"10.0\"/>\n",
        "      <path fill=\"none\" d=\"M153.72,5 L 153.72 81.38\" id=\"fig-b1a361c730ca4a10b3dd360c8e2004b1-element-209\" visibility=\"hidden\" gadfly:scale=\"10.0\"/>\n",
        "      <path fill=\"none\" d=\"M156.97,5 L 156.97 81.38\" id=\"fig-b1a361c730ca4a10b3dd360c8e2004b1-element-210\" visibility=\"hidden\" gadfly:scale=\"10.0\"/>\n",
        "      <path fill=\"none\" d=\"M160.21,5 L 160.21 81.38\" id=\"fig-b1a361c730ca4a10b3dd360c8e2004b1-element-211\" visibility=\"hidden\" gadfly:scale=\"10.0\"/>\n",
        "      <path fill=\"none\" d=\"M163.46,5 L 163.46 81.38\" id=\"fig-b1a361c730ca4a10b3dd360c8e2004b1-element-212\" visibility=\"hidden\" gadfly:scale=\"10.0\"/>\n",
        "      <path fill=\"none\" d=\"M166.71,5 L 166.71 81.38\" id=\"fig-b1a361c730ca4a10b3dd360c8e2004b1-element-213\" visibility=\"hidden\" gadfly:scale=\"10.0\"/>\n",
        "      <path fill=\"none\" d=\"M169.95,5 L 169.95 81.38\" id=\"fig-b1a361c730ca4a10b3dd360c8e2004b1-element-214\" visibility=\"hidden\" gadfly:scale=\"10.0\"/>\n",
        "      <path fill=\"none\" d=\"M173.2,5 L 173.2 81.38\" id=\"fig-b1a361c730ca4a10b3dd360c8e2004b1-element-215\" visibility=\"hidden\" gadfly:scale=\"10.0\"/>\n",
        "      <path fill=\"none\" d=\"M176.44,5 L 176.44 81.38\" id=\"fig-b1a361c730ca4a10b3dd360c8e2004b1-element-216\" visibility=\"hidden\" gadfly:scale=\"10.0\"/>\n",
        "      <path fill=\"none\" d=\"M179.69,5 L 179.69 81.38\" id=\"fig-b1a361c730ca4a10b3dd360c8e2004b1-element-217\" visibility=\"hidden\" gadfly:scale=\"10.0\"/>\n",
        "      <path fill=\"none\" d=\"M182.94,5 L 182.94 81.38\" id=\"fig-b1a361c730ca4a10b3dd360c8e2004b1-element-218\" visibility=\"hidden\" gadfly:scale=\"10.0\"/>\n",
        "      <path fill=\"none\" d=\"M186.18,5 L 186.18 81.38\" id=\"fig-b1a361c730ca4a10b3dd360c8e2004b1-element-219\" visibility=\"hidden\" gadfly:scale=\"10.0\"/>\n",
        "      <path fill=\"none\" d=\"M189.43,5 L 189.43 81.38\" id=\"fig-b1a361c730ca4a10b3dd360c8e2004b1-element-220\" visibility=\"hidden\" gadfly:scale=\"10.0\"/>\n",
        "      <path fill=\"none\" d=\"M192.68,5 L 192.68 81.38\" id=\"fig-b1a361c730ca4a10b3dd360c8e2004b1-element-221\" visibility=\"hidden\" gadfly:scale=\"10.0\"/>\n",
        "      <path fill=\"none\" d=\"M195.92,5 L 195.92 81.38\" id=\"fig-b1a361c730ca4a10b3dd360c8e2004b1-element-222\" visibility=\"hidden\" gadfly:scale=\"10.0\"/>\n",
        "      <path fill=\"none\" d=\"M199.17,5 L 199.17 81.38\" id=\"fig-b1a361c730ca4a10b3dd360c8e2004b1-element-223\" visibility=\"hidden\" gadfly:scale=\"10.0\"/>\n",
        "      <path fill=\"none\" d=\"M202.41,5 L 202.41 81.38\" id=\"fig-b1a361c730ca4a10b3dd360c8e2004b1-element-224\" visibility=\"hidden\" gadfly:scale=\"10.0\"/>\n",
        "      <path fill=\"none\" d=\"M205.66,5 L 205.66 81.38\" id=\"fig-b1a361c730ca4a10b3dd360c8e2004b1-element-225\" visibility=\"hidden\" gadfly:scale=\"10.0\"/>\n",
        "      <path fill=\"none\" d=\"M208.91,5 L 208.91 81.38\" id=\"fig-b1a361c730ca4a10b3dd360c8e2004b1-element-226\" visibility=\"hidden\" gadfly:scale=\"10.0\"/>\n",
        "      <path fill=\"none\" d=\"M212.15,5 L 212.15 81.38\" id=\"fig-b1a361c730ca4a10b3dd360c8e2004b1-element-227\" visibility=\"hidden\" gadfly:scale=\"10.0\"/>\n",
        "      <path fill=\"none\" d=\"M215.4,5 L 215.4 81.38\" id=\"fig-b1a361c730ca4a10b3dd360c8e2004b1-element-228\" visibility=\"hidden\" gadfly:scale=\"10.0\"/>\n",
        "      <path fill=\"none\" d=\"M-76.75,5 L -76.75 81.38\" id=\"fig-b1a361c730ca4a10b3dd360c8e2004b1-element-229\" visibility=\"hidden\" gadfly:scale=\"0.5\"/>\n",
        "      <path fill=\"none\" d=\"M20.63,5 L 20.63 81.38\" id=\"fig-b1a361c730ca4a10b3dd360c8e2004b1-element-230\" visibility=\"hidden\" gadfly:scale=\"0.5\"/>\n",
        "      <path fill=\"none\" d=\"M118.01,5 L 118.01 81.38\" id=\"fig-b1a361c730ca4a10b3dd360c8e2004b1-element-231\" visibility=\"hidden\" gadfly:scale=\"0.5\"/>\n",
        "      <path fill=\"none\" d=\"M215.4,5 L 215.4 81.38\" id=\"fig-b1a361c730ca4a10b3dd360c8e2004b1-element-232\" visibility=\"hidden\" gadfly:scale=\"0.5\"/>\n",
        "      <path fill=\"none\" d=\"M-76.75,5 L -76.75 81.38\" id=\"fig-b1a361c730ca4a10b3dd360c8e2004b1-element-233\" visibility=\"hidden\" gadfly:scale=\"5.0\"/>\n",
        "      <path fill=\"none\" d=\"M-70.26,5 L -70.26 81.38\" id=\"fig-b1a361c730ca4a10b3dd360c8e2004b1-element-234\" visibility=\"hidden\" gadfly:scale=\"5.0\"/>\n",
        "      <path fill=\"none\" d=\"M-63.77,5 L -63.77 81.38\" id=\"fig-b1a361c730ca4a10b3dd360c8e2004b1-element-235\" visibility=\"hidden\" gadfly:scale=\"5.0\"/>\n",
        "      <path fill=\"none\" d=\"M-57.27,5 L -57.27 81.38\" id=\"fig-b1a361c730ca4a10b3dd360c8e2004b1-element-236\" visibility=\"hidden\" gadfly:scale=\"5.0\"/>\n",
        "      <path fill=\"none\" d=\"M-50.78,5 L -50.78 81.38\" id=\"fig-b1a361c730ca4a10b3dd360c8e2004b1-element-237\" visibility=\"hidden\" gadfly:scale=\"5.0\"/>\n",
        "      <path fill=\"none\" d=\"M-44.29,5 L -44.29 81.38\" id=\"fig-b1a361c730ca4a10b3dd360c8e2004b1-element-238\" visibility=\"hidden\" gadfly:scale=\"5.0\"/>\n",
        "      <path fill=\"none\" d=\"M-37.8,5 L -37.8 81.38\" id=\"fig-b1a361c730ca4a10b3dd360c8e2004b1-element-239\" visibility=\"hidden\" gadfly:scale=\"5.0\"/>\n",
        "      <path fill=\"none\" d=\"M-31.31,5 L -31.31 81.38\" id=\"fig-b1a361c730ca4a10b3dd360c8e2004b1-element-240\" visibility=\"hidden\" gadfly:scale=\"5.0\"/>\n",
        "      <path fill=\"none\" d=\"M-24.81,5 L -24.81 81.38\" id=\"fig-b1a361c730ca4a10b3dd360c8e2004b1-element-241\" visibility=\"hidden\" gadfly:scale=\"5.0\"/>\n",
        "      <path fill=\"none\" d=\"M-18.32,5 L -18.32 81.38\" id=\"fig-b1a361c730ca4a10b3dd360c8e2004b1-element-242\" visibility=\"hidden\" gadfly:scale=\"5.0\"/>\n",
        "      <path fill=\"none\" d=\"M-11.83,5 L -11.83 81.38\" id=\"fig-b1a361c730ca4a10b3dd360c8e2004b1-element-243\" visibility=\"hidden\" gadfly:scale=\"5.0\"/>\n",
        "      <path fill=\"none\" d=\"M-5.34,5 L -5.34 81.38\" id=\"fig-b1a361c730ca4a10b3dd360c8e2004b1-element-244\" visibility=\"hidden\" gadfly:scale=\"5.0\"/>\n",
        "      <path fill=\"none\" d=\"M1.16,5 L 1.16 81.38\" id=\"fig-b1a361c730ca4a10b3dd360c8e2004b1-element-245\" visibility=\"hidden\" gadfly:scale=\"5.0\"/>\n",
        "      <path fill=\"none\" d=\"M7.65,5 L 7.65 81.38\" id=\"fig-b1a361c730ca4a10b3dd360c8e2004b1-element-246\" visibility=\"hidden\" gadfly:scale=\"5.0\"/>\n",
        "      <path fill=\"none\" d=\"M14.14,5 L 14.14 81.38\" id=\"fig-b1a361c730ca4a10b3dd360c8e2004b1-element-247\" visibility=\"hidden\" gadfly:scale=\"5.0\"/>\n",
        "      <path fill=\"none\" d=\"M20.63,5 L 20.63 81.38\" id=\"fig-b1a361c730ca4a10b3dd360c8e2004b1-element-248\" visibility=\"hidden\" gadfly:scale=\"5.0\"/>\n",
        "      <path fill=\"none\" d=\"M27.12,5 L 27.12 81.38\" id=\"fig-b1a361c730ca4a10b3dd360c8e2004b1-element-249\" visibility=\"hidden\" gadfly:scale=\"5.0\"/>\n",
        "      <path fill=\"none\" d=\"M33.62,5 L 33.62 81.38\" id=\"fig-b1a361c730ca4a10b3dd360c8e2004b1-element-250\" visibility=\"hidden\" gadfly:scale=\"5.0\"/>\n",
        "      <path fill=\"none\" d=\"M40.11,5 L 40.11 81.38\" id=\"fig-b1a361c730ca4a10b3dd360c8e2004b1-element-251\" visibility=\"hidden\" gadfly:scale=\"5.0\"/>\n",
        "      <path fill=\"none\" d=\"M46.6,5 L 46.6 81.38\" id=\"fig-b1a361c730ca4a10b3dd360c8e2004b1-element-252\" visibility=\"hidden\" gadfly:scale=\"5.0\"/>\n",
        "      <path fill=\"none\" d=\"M53.09,5 L 53.09 81.38\" id=\"fig-b1a361c730ca4a10b3dd360c8e2004b1-element-253\" visibility=\"hidden\" gadfly:scale=\"5.0\"/>\n",
        "      <path fill=\"none\" d=\"M59.58,5 L 59.58 81.38\" id=\"fig-b1a361c730ca4a10b3dd360c8e2004b1-element-254\" visibility=\"hidden\" gadfly:scale=\"5.0\"/>\n",
        "      <path fill=\"none\" d=\"M66.08,5 L 66.08 81.38\" id=\"fig-b1a361c730ca4a10b3dd360c8e2004b1-element-255\" visibility=\"hidden\" gadfly:scale=\"5.0\"/>\n",
        "      <path fill=\"none\" d=\"M72.57,5 L 72.57 81.38\" id=\"fig-b1a361c730ca4a10b3dd360c8e2004b1-element-256\" visibility=\"hidden\" gadfly:scale=\"5.0\"/>\n",
        "      <path fill=\"none\" d=\"M79.06,5 L 79.06 81.38\" id=\"fig-b1a361c730ca4a10b3dd360c8e2004b1-element-257\" visibility=\"hidden\" gadfly:scale=\"5.0\"/>\n",
        "      <path fill=\"none\" d=\"M85.55,5 L 85.55 81.38\" id=\"fig-b1a361c730ca4a10b3dd360c8e2004b1-element-258\" visibility=\"hidden\" gadfly:scale=\"5.0\"/>\n",
        "      <path fill=\"none\" d=\"M92.05,5 L 92.05 81.38\" id=\"fig-b1a361c730ca4a10b3dd360c8e2004b1-element-259\" visibility=\"hidden\" gadfly:scale=\"5.0\"/>\n",
        "      <path fill=\"none\" d=\"M98.54,5 L 98.54 81.38\" id=\"fig-b1a361c730ca4a10b3dd360c8e2004b1-element-260\" visibility=\"hidden\" gadfly:scale=\"5.0\"/>\n",
        "      <path fill=\"none\" d=\"M105.03,5 L 105.03 81.38\" id=\"fig-b1a361c730ca4a10b3dd360c8e2004b1-element-261\" visibility=\"hidden\" gadfly:scale=\"5.0\"/>\n",
        "      <path fill=\"none\" d=\"M111.52,5 L 111.52 81.38\" id=\"fig-b1a361c730ca4a10b3dd360c8e2004b1-element-262\" visibility=\"hidden\" gadfly:scale=\"5.0\"/>\n",
        "      <path fill=\"none\" d=\"M118.01,5 L 118.01 81.38\" id=\"fig-b1a361c730ca4a10b3dd360c8e2004b1-element-263\" visibility=\"hidden\" gadfly:scale=\"5.0\"/>\n",
        "      <path fill=\"none\" d=\"M124.51,5 L 124.51 81.38\" id=\"fig-b1a361c730ca4a10b3dd360c8e2004b1-element-264\" visibility=\"hidden\" gadfly:scale=\"5.0\"/>\n",
        "      <path fill=\"none\" d=\"M131,5 L 131 81.38\" id=\"fig-b1a361c730ca4a10b3dd360c8e2004b1-element-265\" visibility=\"hidden\" gadfly:scale=\"5.0\"/>\n",
        "      <path fill=\"none\" d=\"M137.49,5 L 137.49 81.38\" id=\"fig-b1a361c730ca4a10b3dd360c8e2004b1-element-266\" visibility=\"hidden\" gadfly:scale=\"5.0\"/>\n",
        "      <path fill=\"none\" d=\"M143.98,5 L 143.98 81.38\" id=\"fig-b1a361c730ca4a10b3dd360c8e2004b1-element-267\" visibility=\"hidden\" gadfly:scale=\"5.0\"/>\n",
        "      <path fill=\"none\" d=\"M150.48,5 L 150.48 81.38\" id=\"fig-b1a361c730ca4a10b3dd360c8e2004b1-element-268\" visibility=\"hidden\" gadfly:scale=\"5.0\"/>\n",
        "      <path fill=\"none\" d=\"M156.97,5 L 156.97 81.38\" id=\"fig-b1a361c730ca4a10b3dd360c8e2004b1-element-269\" visibility=\"hidden\" gadfly:scale=\"5.0\"/>\n",
        "      <path fill=\"none\" d=\"M163.46,5 L 163.46 81.38\" id=\"fig-b1a361c730ca4a10b3dd360c8e2004b1-element-270\" visibility=\"hidden\" gadfly:scale=\"5.0\"/>\n",
        "      <path fill=\"none\" d=\"M169.95,5 L 169.95 81.38\" id=\"fig-b1a361c730ca4a10b3dd360c8e2004b1-element-271\" visibility=\"hidden\" gadfly:scale=\"5.0\"/>\n",
        "      <path fill=\"none\" d=\"M176.44,5 L 176.44 81.38\" id=\"fig-b1a361c730ca4a10b3dd360c8e2004b1-element-272\" visibility=\"hidden\" gadfly:scale=\"5.0\"/>\n",
        "      <path fill=\"none\" d=\"M182.94,5 L 182.94 81.38\" id=\"fig-b1a361c730ca4a10b3dd360c8e2004b1-element-273\" visibility=\"hidden\" gadfly:scale=\"5.0\"/>\n",
        "      <path fill=\"none\" d=\"M189.43,5 L 189.43 81.38\" id=\"fig-b1a361c730ca4a10b3dd360c8e2004b1-element-274\" visibility=\"hidden\" gadfly:scale=\"5.0\"/>\n",
        "      <path fill=\"none\" d=\"M195.92,5 L 195.92 81.38\" id=\"fig-b1a361c730ca4a10b3dd360c8e2004b1-element-275\" visibility=\"hidden\" gadfly:scale=\"5.0\"/>\n",
        "      <path fill=\"none\" d=\"M202.41,5 L 202.41 81.38\" id=\"fig-b1a361c730ca4a10b3dd360c8e2004b1-element-276\" visibility=\"hidden\" gadfly:scale=\"5.0\"/>\n",
        "      <path fill=\"none\" d=\"M208.91,5 L 208.91 81.38\" id=\"fig-b1a361c730ca4a10b3dd360c8e2004b1-element-277\" visibility=\"hidden\" gadfly:scale=\"5.0\"/>\n",
        "      <path fill=\"none\" d=\"M215.4,5 L 215.4 81.38\" id=\"fig-b1a361c730ca4a10b3dd360c8e2004b1-element-278\" visibility=\"hidden\" gadfly:scale=\"5.0\"/>\n",
        "    </g>\n",
        "    <g class=\"plotpanel\" id=\"fig-b1a361c730ca4a10b3dd360c8e2004b1-element-279\">\n",
        "      <g class=\"geometry\" id=\"fig-b1a361c730ca4a10b3dd360c8e2004b1-element-280\">\n",
        "        <g stroke-width=\"0.3\" id=\"fig-b1a361c730ca4a10b3dd360c8e2004b1-element-281\">\n",
        "          <circle cx=\"118.01\" cy=\"7\" r=\"0.9\" id=\"fig-b1a361c730ca4a10b3dd360c8e2004b1-element-282\" stroke=\"#FFFFFF\" class=\"color_train_error\" fill=\"#00BFFF\"/>\n",
        "          <circle cx=\"107.19\" cy=\"7\" r=\"0.9\" id=\"fig-b1a361c730ca4a10b3dd360c8e2004b1-element-283\" stroke=\"#FFFFFF\" class=\"color_train_error\" fill=\"#00BFFF\"/>\n",
        "          <circle cx=\"96.37\" cy=\"7.49\" r=\"0.9\" id=\"fig-b1a361c730ca4a10b3dd360c8e2004b1-element-284\" stroke=\"#FFFFFF\" class=\"color_train_error\" fill=\"#00BFFF\"/>\n",
        "          <circle cx=\"85.55\" cy=\"23.17\" r=\"0.9\" id=\"fig-b1a361c730ca4a10b3dd360c8e2004b1-element-285\" stroke=\"#FFFFFF\" class=\"color_train_error\" fill=\"#00BFFF\"/>\n",
        "          <circle cx=\"74.73\" cy=\"79.32\" r=\"0.9\" id=\"fig-b1a361c730ca4a10b3dd360c8e2004b1-element-286\" stroke=\"#FFFFFF\" class=\"color_train_error\" fill=\"#00BFFF\"/>\n",
        "          <circle cx=\"63.91\" cy=\"79.36\" r=\"0.9\" id=\"fig-b1a361c730ca4a10b3dd360c8e2004b1-element-287\" stroke=\"#FFFFFF\" class=\"color_train_error\" fill=\"#00BFFF\"/>\n",
        "          <circle cx=\"53.09\" cy=\"79.37\" r=\"0.9\" id=\"fig-b1a361c730ca4a10b3dd360c8e2004b1-element-288\" stroke=\"#FFFFFF\" class=\"color_train_error\" fill=\"#00BFFF\"/>\n",
        "          <circle cx=\"42.27\" cy=\"79.37\" r=\"0.9\" id=\"fig-b1a361c730ca4a10b3dd360c8e2004b1-element-289\" stroke=\"#FFFFFF\" class=\"color_train_error\" fill=\"#00BFFF\"/>\n",
        "          <circle cx=\"31.45\" cy=\"79.37\" r=\"0.9\" id=\"fig-b1a361c730ca4a10b3dd360c8e2004b1-element-290\" stroke=\"#FFFFFF\" class=\"color_train_error\" fill=\"#00BFFF\"/>\n",
        "          <circle cx=\"20.63\" cy=\"79.37\" r=\"0.9\" id=\"fig-b1a361c730ca4a10b3dd360c8e2004b1-element-291\" stroke=\"#FFFFFF\" class=\"color_train_error\" fill=\"#00BFFF\"/>\n",
        "          <circle cx=\"118.01\" cy=\"20.75\" r=\"0.9\" id=\"fig-b1a361c730ca4a10b3dd360c8e2004b1-element-292\" stroke=\"#FFFFFF\" class=\"color_prec_at_k\" fill=\"#D4CA3A\"/>\n",
        "          <circle cx=\"107.19\" cy=\"21.48\" r=\"0.9\" id=\"fig-b1a361c730ca4a10b3dd360c8e2004b1-element-293\" stroke=\"#FFFFFF\" class=\"color_prec_at_k\" fill=\"#D4CA3A\"/>\n",
        "          <circle cx=\"96.37\" cy=\"23.29\" r=\"0.9\" id=\"fig-b1a361c730ca4a10b3dd360c8e2004b1-element-294\" stroke=\"#FFFFFF\" class=\"color_prec_at_k\" fill=\"#D4CA3A\"/>\n",
        "          <circle cx=\"85.55\" cy=\"26.9\" r=\"0.9\" id=\"fig-b1a361c730ca4a10b3dd360c8e2004b1-element-295\" stroke=\"#FFFFFF\" class=\"color_prec_at_k\" fill=\"#D4CA3A\"/>\n",
        "          <circle cx=\"74.73\" cy=\"29.44\" r=\"0.9\" id=\"fig-b1a361c730ca4a10b3dd360c8e2004b1-element-296\" stroke=\"#FFFFFF\" class=\"color_prec_at_k\" fill=\"#D4CA3A\"/>\n",
        "          <circle cx=\"63.91\" cy=\"31.97\" r=\"0.9\" id=\"fig-b1a361c730ca4a10b3dd360c8e2004b1-element-297\" stroke=\"#FFFFFF\" class=\"color_prec_at_k\" fill=\"#D4CA3A\"/>\n",
        "          <circle cx=\"53.09\" cy=\"34.14\" r=\"0.9\" id=\"fig-b1a361c730ca4a10b3dd360c8e2004b1-element-298\" stroke=\"#FFFFFF\" class=\"color_prec_at_k\" fill=\"#D4CA3A\"/>\n",
        "          <circle cx=\"42.27\" cy=\"31.61\" r=\"0.9\" id=\"fig-b1a361c730ca4a10b3dd360c8e2004b1-element-299\" stroke=\"#FFFFFF\" class=\"color_prec_at_k\" fill=\"#D4CA3A\"/>\n",
        "          <circle cx=\"31.45\" cy=\"32.33\" r=\"0.9\" id=\"fig-b1a361c730ca4a10b3dd360c8e2004b1-element-300\" stroke=\"#FFFFFF\" class=\"color_prec_at_k\" fill=\"#D4CA3A\"/>\n",
        "          <circle cx=\"20.63\" cy=\"35.59\" r=\"0.9\" id=\"fig-b1a361c730ca4a10b3dd360c8e2004b1-element-301\" stroke=\"#FFFFFF\" class=\"color_prec_at_k\" fill=\"#D4CA3A\"/>\n",
        "        </g>\n",
        "      </g>\n",
        "    </g>\n",
        "    <g opacity=\"0\" class=\"guide zoomslider\" stroke=\"none\" id=\"fig-b1a361c730ca4a10b3dd360c8e2004b1-element-302\">\n",
        "      <g fill=\"#EAEAEA\" stroke-width=\"0.3\" stroke-opacity=\"0\" stroke=\"#6A6A6A\" id=\"fig-b1a361c730ca4a10b3dd360c8e2004b1-element-303\">\n",
        "        <rect x=\"113.01\" y=\"8\" width=\"4\" height=\"4\" id=\"fig-b1a361c730ca4a10b3dd360c8e2004b1-element-304\"/>\n",
        "        <g class=\"button_logo\" fill=\"#6A6A6A\" id=\"fig-b1a361c730ca4a10b3dd360c8e2004b1-element-305\">\n",
        "          <path d=\"M113.81,9.6 L 114.61 9.6 114.61 8.8 115.41 8.8 115.41 9.6 116.21 9.6 116.21 10.4 115.41 10.4 115.41 11.2 114.61 11.2 114.61 10.4 113.81 10.4 z\" id=\"fig-b1a361c730ca4a10b3dd360c8e2004b1-element-306\"/>\n",
        "        </g>\n",
        "      </g>\n",
        "      <g fill=\"#EAEAEA\" id=\"fig-b1a361c730ca4a10b3dd360c8e2004b1-element-307\">\n",
        "        <rect x=\"93.51\" y=\"8\" width=\"19\" height=\"4\" id=\"fig-b1a361c730ca4a10b3dd360c8e2004b1-element-308\"/>\n",
        "      </g>\n",
        "      <g class=\"zoomslider_thumb\" fill=\"#6A6A6A\" id=\"fig-b1a361c730ca4a10b3dd360c8e2004b1-element-309\">\n",
        "        <rect x=\"102.01\" y=\"8\" width=\"2\" height=\"4\" id=\"fig-b1a361c730ca4a10b3dd360c8e2004b1-element-310\"/>\n",
        "      </g>\n",
        "      <g fill=\"#EAEAEA\" stroke-width=\"0.3\" stroke-opacity=\"0\" stroke=\"#6A6A6A\" id=\"fig-b1a361c730ca4a10b3dd360c8e2004b1-element-311\">\n",
        "        <rect x=\"89.01\" y=\"8\" width=\"4\" height=\"4\" id=\"fig-b1a361c730ca4a10b3dd360c8e2004b1-element-312\"/>\n",
        "        <g class=\"button_logo\" fill=\"#6A6A6A\" id=\"fig-b1a361c730ca4a10b3dd360c8e2004b1-element-313\">\n",
        "          <path d=\"M89.81,9.6 L 92.21 9.6 92.21 10.4 89.81 10.4 z\" id=\"fig-b1a361c730ca4a10b3dd360c8e2004b1-element-314\"/>\n",
        "        </g>\n",
        "      </g>\n",
        "    </g>\n",
        "  </g>\n",
        "  <g class=\"guide ylabels\" font-size=\"2.82\" font-family=\"'PT Sans Caption','Helvetica Neue','Helvetica',sans-serif\" fill=\"#6C606B\" id=\"fig-b1a361c730ca4a10b3dd360c8e2004b1-element-315\">\n",
        "    <text x=\"17.63\" y=\"187.95\" text-anchor=\"end\" dy=\"0.35em\" id=\"fig-b1a361c730ca4a10b3dd360c8e2004b1-element-316\" visibility=\"hidden\" gadfly:scale=\"1.0\">-1.5</text>\n",
        "    <text x=\"17.63\" y=\"151.76\" text-anchor=\"end\" dy=\"0.35em\" id=\"fig-b1a361c730ca4a10b3dd360c8e2004b1-element-317\" visibility=\"hidden\" gadfly:scale=\"1.0\">-1.0</text>\n",
        "    <text x=\"17.63\" y=\"115.57\" text-anchor=\"end\" dy=\"0.35em\" id=\"fig-b1a361c730ca4a10b3dd360c8e2004b1-element-318\" visibility=\"hidden\" gadfly:scale=\"1.0\">-0.5</text>\n",
        "    <text x=\"17.63\" y=\"79.38\" text-anchor=\"end\" dy=\"0.35em\" id=\"fig-b1a361c730ca4a10b3dd360c8e2004b1-element-319\" visibility=\"visible\" gadfly:scale=\"1.0\">0.0</text>\n",
        "    <text x=\"17.63\" y=\"43.19\" text-anchor=\"end\" dy=\"0.35em\" id=\"fig-b1a361c730ca4a10b3dd360c8e2004b1-element-320\" visibility=\"visible\" gadfly:scale=\"1.0\">0.5</text>\n",
        "    <text x=\"17.63\" y=\"7\" text-anchor=\"end\" dy=\"0.35em\" id=\"fig-b1a361c730ca4a10b3dd360c8e2004b1-element-321\" visibility=\"visible\" gadfly:scale=\"1.0\">1.0</text>\n",
        "    <text x=\"17.63\" y=\"-29.19\" text-anchor=\"end\" dy=\"0.35em\" id=\"fig-b1a361c730ca4a10b3dd360c8e2004b1-element-322\" visibility=\"hidden\" gadfly:scale=\"1.0\">1.5</text>\n",
        "    <text x=\"17.63\" y=\"-65.38\" text-anchor=\"end\" dy=\"0.35em\" id=\"fig-b1a361c730ca4a10b3dd360c8e2004b1-element-323\" visibility=\"hidden\" gadfly:scale=\"1.0\">2.0</text>\n",
        "    <text x=\"17.63\" y=\"-101.57\" text-anchor=\"end\" dy=\"0.35em\" id=\"fig-b1a361c730ca4a10b3dd360c8e2004b1-element-324\" visibility=\"hidden\" gadfly:scale=\"1.0\">2.5</text>\n",
        "    <text x=\"17.63\" y=\"151.76\" text-anchor=\"end\" dy=\"0.35em\" id=\"fig-b1a361c730ca4a10b3dd360c8e2004b1-element-325\" visibility=\"hidden\" gadfly:scale=\"10.0\">-1.00</text>\n",
        "    <text x=\"17.63\" y=\"148.14\" text-anchor=\"end\" dy=\"0.35em\" id=\"fig-b1a361c730ca4a10b3dd360c8e2004b1-element-326\" visibility=\"hidden\" gadfly:scale=\"10.0\">-0.95</text>\n",
        "    <text x=\"17.63\" y=\"144.52\" text-anchor=\"end\" dy=\"0.35em\" id=\"fig-b1a361c730ca4a10b3dd360c8e2004b1-element-327\" visibility=\"hidden\" gadfly:scale=\"10.0\">-0.90</text>\n",
        "    <text x=\"17.63\" y=\"140.9\" text-anchor=\"end\" dy=\"0.35em\" id=\"fig-b1a361c730ca4a10b3dd360c8e2004b1-element-328\" visibility=\"hidden\" gadfly:scale=\"10.0\">-0.85</text>\n",
        "    <text x=\"17.63\" y=\"137.28\" text-anchor=\"end\" dy=\"0.35em\" id=\"fig-b1a361c730ca4a10b3dd360c8e2004b1-element-329\" visibility=\"hidden\" gadfly:scale=\"10.0\">-0.80</text>\n",
        "    <text x=\"17.63\" y=\"133.66\" text-anchor=\"end\" dy=\"0.35em\" id=\"fig-b1a361c730ca4a10b3dd360c8e2004b1-element-330\" visibility=\"hidden\" gadfly:scale=\"10.0\">-0.75</text>\n",
        "    <text x=\"17.63\" y=\"130.04\" text-anchor=\"end\" dy=\"0.35em\" id=\"fig-b1a361c730ca4a10b3dd360c8e2004b1-element-331\" visibility=\"hidden\" gadfly:scale=\"10.0\">-0.70</text>\n",
        "    <text x=\"17.63\" y=\"126.42\" text-anchor=\"end\" dy=\"0.35em\" id=\"fig-b1a361c730ca4a10b3dd360c8e2004b1-element-332\" visibility=\"hidden\" gadfly:scale=\"10.0\">-0.65</text>\n",
        "    <text x=\"17.63\" y=\"122.81\" text-anchor=\"end\" dy=\"0.35em\" id=\"fig-b1a361c730ca4a10b3dd360c8e2004b1-element-333\" visibility=\"hidden\" gadfly:scale=\"10.0\">-0.60</text>\n",
        "    <text x=\"17.63\" y=\"119.19\" text-anchor=\"end\" dy=\"0.35em\" id=\"fig-b1a361c730ca4a10b3dd360c8e2004b1-element-334\" visibility=\"hidden\" gadfly:scale=\"10.0\">-0.55</text>\n",
        "    <text x=\"17.63\" y=\"115.57\" text-anchor=\"end\" dy=\"0.35em\" id=\"fig-b1a361c730ca4a10b3dd360c8e2004b1-element-335\" visibility=\"hidden\" gadfly:scale=\"10.0\">-0.50</text>\n",
        "    <text x=\"17.63\" y=\"111.95\" text-anchor=\"end\" dy=\"0.35em\" id=\"fig-b1a361c730ca4a10b3dd360c8e2004b1-element-336\" visibility=\"hidden\" gadfly:scale=\"10.0\">-0.45</text>\n",
        "    <text x=\"17.63\" y=\"108.33\" text-anchor=\"end\" dy=\"0.35em\" id=\"fig-b1a361c730ca4a10b3dd360c8e2004b1-element-337\" visibility=\"hidden\" gadfly:scale=\"10.0\">-0.40</text>\n",
        "    <text x=\"17.63\" y=\"104.71\" text-anchor=\"end\" dy=\"0.35em\" id=\"fig-b1a361c730ca4a10b3dd360c8e2004b1-element-338\" visibility=\"hidden\" gadfly:scale=\"10.0\">-0.35</text>\n",
        "    <text x=\"17.63\" y=\"101.09\" text-anchor=\"end\" dy=\"0.35em\" id=\"fig-b1a361c730ca4a10b3dd360c8e2004b1-element-339\" visibility=\"hidden\" gadfly:scale=\"10.0\">-0.30</text>\n",
        "    <text x=\"17.63\" y=\"97.47\" text-anchor=\"end\" dy=\"0.35em\" id=\"fig-b1a361c730ca4a10b3dd360c8e2004b1-element-340\" visibility=\"hidden\" gadfly:scale=\"10.0\">-0.25</text>\n",
        "    <text x=\"17.63\" y=\"93.85\" text-anchor=\"end\" dy=\"0.35em\" id=\"fig-b1a361c730ca4a10b3dd360c8e2004b1-element-341\" visibility=\"hidden\" gadfly:scale=\"10.0\">-0.20</text>\n",
        "    <text x=\"17.63\" y=\"90.24\" text-anchor=\"end\" dy=\"0.35em\" id=\"fig-b1a361c730ca4a10b3dd360c8e2004b1-element-342\" visibility=\"hidden\" gadfly:scale=\"10.0\">-0.15</text>\n",
        "    <text x=\"17.63\" y=\"86.62\" text-anchor=\"end\" dy=\"0.35em\" id=\"fig-b1a361c730ca4a10b3dd360c8e2004b1-element-343\" visibility=\"hidden\" gadfly:scale=\"10.0\">-0.10</text>\n",
        "    <text x=\"17.63\" y=\"83\" text-anchor=\"end\" dy=\"0.35em\" id=\"fig-b1a361c730ca4a10b3dd360c8e2004b1-element-344\" visibility=\"hidden\" gadfly:scale=\"10.0\">-0.05</text>\n",
        "    <text x=\"17.63\" y=\"79.38\" text-anchor=\"end\" dy=\"0.35em\" id=\"fig-b1a361c730ca4a10b3dd360c8e2004b1-element-345\" visibility=\"hidden\" gadfly:scale=\"10.0\">0.00</text>\n",
        "    <text x=\"17.63\" y=\"75.76\" text-anchor=\"end\" dy=\"0.35em\" id=\"fig-b1a361c730ca4a10b3dd360c8e2004b1-element-346\" visibility=\"hidden\" gadfly:scale=\"10.0\">0.05</text>\n",
        "    <text x=\"17.63\" y=\"72.14\" text-anchor=\"end\" dy=\"0.35em\" id=\"fig-b1a361c730ca4a10b3dd360c8e2004b1-element-347\" visibility=\"hidden\" gadfly:scale=\"10.0\">0.10</text>\n",
        "    <text x=\"17.63\" y=\"68.52\" text-anchor=\"end\" dy=\"0.35em\" id=\"fig-b1a361c730ca4a10b3dd360c8e2004b1-element-348\" visibility=\"hidden\" gadfly:scale=\"10.0\">0.15</text>\n",
        "    <text x=\"17.63\" y=\"64.9\" text-anchor=\"end\" dy=\"0.35em\" id=\"fig-b1a361c730ca4a10b3dd360c8e2004b1-element-349\" visibility=\"hidden\" gadfly:scale=\"10.0\">0.20</text>\n",
        "    <text x=\"17.63\" y=\"61.28\" text-anchor=\"end\" dy=\"0.35em\" id=\"fig-b1a361c730ca4a10b3dd360c8e2004b1-element-350\" visibility=\"hidden\" gadfly:scale=\"10.0\">0.25</text>\n",
        "    <text x=\"17.63\" y=\"57.66\" text-anchor=\"end\" dy=\"0.35em\" id=\"fig-b1a361c730ca4a10b3dd360c8e2004b1-element-351\" visibility=\"hidden\" gadfly:scale=\"10.0\">0.30</text>\n",
        "    <text x=\"17.63\" y=\"54.05\" text-anchor=\"end\" dy=\"0.35em\" id=\"fig-b1a361c730ca4a10b3dd360c8e2004b1-element-352\" visibility=\"hidden\" gadfly:scale=\"10.0\">0.35</text>\n",
        "    <text x=\"17.63\" y=\"50.43\" text-anchor=\"end\" dy=\"0.35em\" id=\"fig-b1a361c730ca4a10b3dd360c8e2004b1-element-353\" visibility=\"hidden\" gadfly:scale=\"10.0\">0.40</text>\n",
        "    <text x=\"17.63\" y=\"46.81\" text-anchor=\"end\" dy=\"0.35em\" id=\"fig-b1a361c730ca4a10b3dd360c8e2004b1-element-354\" visibility=\"hidden\" gadfly:scale=\"10.0\">0.45</text>\n",
        "    <text x=\"17.63\" y=\"43.19\" text-anchor=\"end\" dy=\"0.35em\" id=\"fig-b1a361c730ca4a10b3dd360c8e2004b1-element-355\" visibility=\"hidden\" gadfly:scale=\"10.0\">0.50</text>\n",
        "    <text x=\"17.63\" y=\"39.57\" text-anchor=\"end\" dy=\"0.35em\" id=\"fig-b1a361c730ca4a10b3dd360c8e2004b1-element-356\" visibility=\"hidden\" gadfly:scale=\"10.0\">0.55</text>\n",
        "    <text x=\"17.63\" y=\"35.95\" text-anchor=\"end\" dy=\"0.35em\" id=\"fig-b1a361c730ca4a10b3dd360c8e2004b1-element-357\" visibility=\"hidden\" gadfly:scale=\"10.0\">0.60</text>\n",
        "    <text x=\"17.63\" y=\"32.33\" text-anchor=\"end\" dy=\"0.35em\" id=\"fig-b1a361c730ca4a10b3dd360c8e2004b1-element-358\" visibility=\"hidden\" gadfly:scale=\"10.0\">0.65</text>\n",
        "    <text x=\"17.63\" y=\"28.71\" text-anchor=\"end\" dy=\"0.35em\" id=\"fig-b1a361c730ca4a10b3dd360c8e2004b1-element-359\" visibility=\"hidden\" gadfly:scale=\"10.0\">0.70</text>\n",
        "    <text x=\"17.63\" y=\"25.09\" text-anchor=\"end\" dy=\"0.35em\" id=\"fig-b1a361c730ca4a10b3dd360c8e2004b1-element-360\" visibility=\"hidden\" gadfly:scale=\"10.0\">0.75</text>\n",
        "    <text x=\"17.63\" y=\"21.48\" text-anchor=\"end\" dy=\"0.35em\" id=\"fig-b1a361c730ca4a10b3dd360c8e2004b1-element-361\" visibility=\"hidden\" gadfly:scale=\"10.0\">0.80</text>\n",
        "    <text x=\"17.63\" y=\"17.86\" text-anchor=\"end\" dy=\"0.35em\" id=\"fig-b1a361c730ca4a10b3dd360c8e2004b1-element-362\" visibility=\"hidden\" gadfly:scale=\"10.0\">0.85</text>\n",
        "    <text x=\"17.63\" y=\"14.24\" text-anchor=\"end\" dy=\"0.35em\" id=\"fig-b1a361c730ca4a10b3dd360c8e2004b1-element-363\" visibility=\"hidden\" gadfly:scale=\"10.0\">0.90</text>\n",
        "    <text x=\"17.63\" y=\"10.62\" text-anchor=\"end\" dy=\"0.35em\" id=\"fig-b1a361c730ca4a10b3dd360c8e2004b1-element-364\" visibility=\"hidden\" gadfly:scale=\"10.0\">0.95</text>\n",
        "    <text x=\"17.63\" y=\"7\" text-anchor=\"end\" dy=\"0.35em\" id=\"fig-b1a361c730ca4a10b3dd360c8e2004b1-element-365\" visibility=\"hidden\" gadfly:scale=\"10.0\">1.00</text>\n",
        "    <text x=\"17.63\" y=\"3.38\" text-anchor=\"end\" dy=\"0.35em\" id=\"fig-b1a361c730ca4a10b3dd360c8e2004b1-element-366\" visibility=\"hidden\" gadfly:scale=\"10.0\">1.05</text>\n",
        "    <text x=\"17.63\" y=\"-0.24\" text-anchor=\"end\" dy=\"0.35em\" id=\"fig-b1a361c730ca4a10b3dd360c8e2004b1-element-367\" visibility=\"hidden\" gadfly:scale=\"10.0\">1.10</text>\n",
        "    <text x=\"17.63\" y=\"-3.86\" text-anchor=\"end\" dy=\"0.35em\" id=\"fig-b1a361c730ca4a10b3dd360c8e2004b1-element-368\" visibility=\"hidden\" gadfly:scale=\"10.0\">1.15</text>\n",
        "    <text x=\"17.63\" y=\"-7.48\" text-anchor=\"end\" dy=\"0.35em\" id=\"fig-b1a361c730ca4a10b3dd360c8e2004b1-element-369\" visibility=\"hidden\" gadfly:scale=\"10.0\">1.20</text>\n",
        "    <text x=\"17.63\" y=\"-11.09\" text-anchor=\"end\" dy=\"0.35em\" id=\"fig-b1a361c730ca4a10b3dd360c8e2004b1-element-370\" visibility=\"hidden\" gadfly:scale=\"10.0\">1.25</text>\n",
        "    <text x=\"17.63\" y=\"-14.71\" text-anchor=\"end\" dy=\"0.35em\" id=\"fig-b1a361c730ca4a10b3dd360c8e2004b1-element-371\" visibility=\"hidden\" gadfly:scale=\"10.0\">1.30</text>\n",
        "    <text x=\"17.63\" y=\"-18.33\" text-anchor=\"end\" dy=\"0.35em\" id=\"fig-b1a361c730ca4a10b3dd360c8e2004b1-element-372\" visibility=\"hidden\" gadfly:scale=\"10.0\">1.35</text>\n",
        "    <text x=\"17.63\" y=\"-21.95\" text-anchor=\"end\" dy=\"0.35em\" id=\"fig-b1a361c730ca4a10b3dd360c8e2004b1-element-373\" visibility=\"hidden\" gadfly:scale=\"10.0\">1.40</text>\n",
        "    <text x=\"17.63\" y=\"-25.57\" text-anchor=\"end\" dy=\"0.35em\" id=\"fig-b1a361c730ca4a10b3dd360c8e2004b1-element-374\" visibility=\"hidden\" gadfly:scale=\"10.0\">1.45</text>\n",
        "    <text x=\"17.63\" y=\"-29.19\" text-anchor=\"end\" dy=\"0.35em\" id=\"fig-b1a361c730ca4a10b3dd360c8e2004b1-element-375\" visibility=\"hidden\" gadfly:scale=\"10.0\">1.50</text>\n",
        "    <text x=\"17.63\" y=\"-32.81\" text-anchor=\"end\" dy=\"0.35em\" id=\"fig-b1a361c730ca4a10b3dd360c8e2004b1-element-376\" visibility=\"hidden\" gadfly:scale=\"10.0\">1.55</text>\n",
        "    <text x=\"17.63\" y=\"-36.43\" text-anchor=\"end\" dy=\"0.35em\" id=\"fig-b1a361c730ca4a10b3dd360c8e2004b1-element-377\" visibility=\"hidden\" gadfly:scale=\"10.0\">1.60</text>\n",
        "    <text x=\"17.63\" y=\"-40.05\" text-anchor=\"end\" dy=\"0.35em\" id=\"fig-b1a361c730ca4a10b3dd360c8e2004b1-element-378\" visibility=\"hidden\" gadfly:scale=\"10.0\">1.65</text>\n",
        "    <text x=\"17.63\" y=\"-43.66\" text-anchor=\"end\" dy=\"0.35em\" id=\"fig-b1a361c730ca4a10b3dd360c8e2004b1-element-379\" visibility=\"hidden\" gadfly:scale=\"10.0\">1.70</text>\n",
        "    <text x=\"17.63\" y=\"-47.28\" text-anchor=\"end\" dy=\"0.35em\" id=\"fig-b1a361c730ca4a10b3dd360c8e2004b1-element-380\" visibility=\"hidden\" gadfly:scale=\"10.0\">1.75</text>\n",
        "    <text x=\"17.63\" y=\"-50.9\" text-anchor=\"end\" dy=\"0.35em\" id=\"fig-b1a361c730ca4a10b3dd360c8e2004b1-element-381\" visibility=\"hidden\" gadfly:scale=\"10.0\">1.80</text>\n",
        "    <text x=\"17.63\" y=\"-54.52\" text-anchor=\"end\" dy=\"0.35em\" id=\"fig-b1a361c730ca4a10b3dd360c8e2004b1-element-382\" visibility=\"hidden\" gadfly:scale=\"10.0\">1.85</text>\n",
        "    <text x=\"17.63\" y=\"-58.14\" text-anchor=\"end\" dy=\"0.35em\" id=\"fig-b1a361c730ca4a10b3dd360c8e2004b1-element-383\" visibility=\"hidden\" gadfly:scale=\"10.0\">1.90</text>\n",
        "    <text x=\"17.63\" y=\"-61.76\" text-anchor=\"end\" dy=\"0.35em\" id=\"fig-b1a361c730ca4a10b3dd360c8e2004b1-element-384\" visibility=\"hidden\" gadfly:scale=\"10.0\">1.95</text>\n",
        "    <text x=\"17.63\" y=\"-65.38\" text-anchor=\"end\" dy=\"0.35em\" id=\"fig-b1a361c730ca4a10b3dd360c8e2004b1-element-385\" visibility=\"hidden\" gadfly:scale=\"10.0\">2.00</text>\n",
        "    <text x=\"17.63\" y=\"151.76\" text-anchor=\"end\" dy=\"0.35em\" id=\"fig-b1a361c730ca4a10b3dd360c8e2004b1-element-386\" visibility=\"hidden\" gadfly:scale=\"0.5\">-1</text>\n",
        "    <text x=\"17.63\" y=\"79.38\" text-anchor=\"end\" dy=\"0.35em\" id=\"fig-b1a361c730ca4a10b3dd360c8e2004b1-element-387\" visibility=\"hidden\" gadfly:scale=\"0.5\">0</text>\n",
        "    <text x=\"17.63\" y=\"7\" text-anchor=\"end\" dy=\"0.35em\" id=\"fig-b1a361c730ca4a10b3dd360c8e2004b1-element-388\" visibility=\"hidden\" gadfly:scale=\"0.5\">1</text>\n",
        "    <text x=\"17.63\" y=\"-65.38\" text-anchor=\"end\" dy=\"0.35em\" id=\"fig-b1a361c730ca4a10b3dd360c8e2004b1-element-389\" visibility=\"hidden\" gadfly:scale=\"0.5\">2</text>\n",
        "    <text x=\"17.63\" y=\"151.76\" text-anchor=\"end\" dy=\"0.35em\" id=\"fig-b1a361c730ca4a10b3dd360c8e2004b1-element-390\" visibility=\"hidden\" gadfly:scale=\"5.0\">-1.0</text>\n",
        "    <text x=\"17.63\" y=\"144.52\" text-anchor=\"end\" dy=\"0.35em\" id=\"fig-b1a361c730ca4a10b3dd360c8e2004b1-element-391\" visibility=\"hidden\" gadfly:scale=\"5.0\">-0.9</text>\n",
        "    <text x=\"17.63\" y=\"137.28\" text-anchor=\"end\" dy=\"0.35em\" id=\"fig-b1a361c730ca4a10b3dd360c8e2004b1-element-392\" visibility=\"hidden\" gadfly:scale=\"5.0\">-0.8</text>\n",
        "    <text x=\"17.63\" y=\"130.04\" text-anchor=\"end\" dy=\"0.35em\" id=\"fig-b1a361c730ca4a10b3dd360c8e2004b1-element-393\" visibility=\"hidden\" gadfly:scale=\"5.0\">-0.7</text>\n",
        "    <text x=\"17.63\" y=\"122.81\" text-anchor=\"end\" dy=\"0.35em\" id=\"fig-b1a361c730ca4a10b3dd360c8e2004b1-element-394\" visibility=\"hidden\" gadfly:scale=\"5.0\">-0.6</text>\n",
        "    <text x=\"17.63\" y=\"115.57\" text-anchor=\"end\" dy=\"0.35em\" id=\"fig-b1a361c730ca4a10b3dd360c8e2004b1-element-395\" visibility=\"hidden\" gadfly:scale=\"5.0\">-0.5</text>\n",
        "    <text x=\"17.63\" y=\"108.33\" text-anchor=\"end\" dy=\"0.35em\" id=\"fig-b1a361c730ca4a10b3dd360c8e2004b1-element-396\" visibility=\"hidden\" gadfly:scale=\"5.0\">-0.4</text>\n",
        "    <text x=\"17.63\" y=\"101.09\" text-anchor=\"end\" dy=\"0.35em\" id=\"fig-b1a361c730ca4a10b3dd360c8e2004b1-element-397\" visibility=\"hidden\" gadfly:scale=\"5.0\">-0.3</text>\n",
        "    <text x=\"17.63\" y=\"93.85\" text-anchor=\"end\" dy=\"0.35em\" id=\"fig-b1a361c730ca4a10b3dd360c8e2004b1-element-398\" visibility=\"hidden\" gadfly:scale=\"5.0\">-0.2</text>\n",
        "    <text x=\"17.63\" y=\"86.62\" text-anchor=\"end\" dy=\"0.35em\" id=\"fig-b1a361c730ca4a10b3dd360c8e2004b1-element-399\" visibility=\"hidden\" gadfly:scale=\"5.0\">-0.1</text>\n",
        "    <text x=\"17.63\" y=\"79.38\" text-anchor=\"end\" dy=\"0.35em\" id=\"fig-b1a361c730ca4a10b3dd360c8e2004b1-element-400\" visibility=\"hidden\" gadfly:scale=\"5.0\">0.0</text>\n",
        "    <text x=\"17.63\" y=\"72.14\" text-anchor=\"end\" dy=\"0.35em\" id=\"fig-b1a361c730ca4a10b3dd360c8e2004b1-element-401\" visibility=\"hidden\" gadfly:scale=\"5.0\">0.1</text>\n",
        "    <text x=\"17.63\" y=\"64.9\" text-anchor=\"end\" dy=\"0.35em\" id=\"fig-b1a361c730ca4a10b3dd360c8e2004b1-element-402\" visibility=\"hidden\" gadfly:scale=\"5.0\">0.2</text>\n",
        "    <text x=\"17.63\" y=\"57.66\" text-anchor=\"end\" dy=\"0.35em\" id=\"fig-b1a361c730ca4a10b3dd360c8e2004b1-element-403\" visibility=\"hidden\" gadfly:scale=\"5.0\">0.3</text>\n",
        "    <text x=\"17.63\" y=\"50.43\" text-anchor=\"end\" dy=\"0.35em\" id=\"fig-b1a361c730ca4a10b3dd360c8e2004b1-element-404\" visibility=\"hidden\" gadfly:scale=\"5.0\">0.4</text>\n",
        "    <text x=\"17.63\" y=\"43.19\" text-anchor=\"end\" dy=\"0.35em\" id=\"fig-b1a361c730ca4a10b3dd360c8e2004b1-element-405\" visibility=\"hidden\" gadfly:scale=\"5.0\">0.5</text>\n",
        "    <text x=\"17.63\" y=\"35.95\" text-anchor=\"end\" dy=\"0.35em\" id=\"fig-b1a361c730ca4a10b3dd360c8e2004b1-element-406\" visibility=\"hidden\" gadfly:scale=\"5.0\">0.6</text>\n",
        "    <text x=\"17.63\" y=\"28.71\" text-anchor=\"end\" dy=\"0.35em\" id=\"fig-b1a361c730ca4a10b3dd360c8e2004b1-element-407\" visibility=\"hidden\" gadfly:scale=\"5.0\">0.7</text>\n",
        "    <text x=\"17.63\" y=\"21.48\" text-anchor=\"end\" dy=\"0.35em\" id=\"fig-b1a361c730ca4a10b3dd360c8e2004b1-element-408\" visibility=\"hidden\" gadfly:scale=\"5.0\">0.8</text>\n",
        "    <text x=\"17.63\" y=\"14.24\" text-anchor=\"end\" dy=\"0.35em\" id=\"fig-b1a361c730ca4a10b3dd360c8e2004b1-element-409\" visibility=\"hidden\" gadfly:scale=\"5.0\">0.9</text>\n",
        "    <text x=\"17.63\" y=\"7\" text-anchor=\"end\" dy=\"0.35em\" id=\"fig-b1a361c730ca4a10b3dd360c8e2004b1-element-410\" visibility=\"hidden\" gadfly:scale=\"5.0\">1.0</text>\n",
        "    <text x=\"17.63\" y=\"-0.24\" text-anchor=\"end\" dy=\"0.35em\" id=\"fig-b1a361c730ca4a10b3dd360c8e2004b1-element-411\" visibility=\"hidden\" gadfly:scale=\"5.0\">1.1</text>\n",
        "    <text x=\"17.63\" y=\"-7.48\" text-anchor=\"end\" dy=\"0.35em\" id=\"fig-b1a361c730ca4a10b3dd360c8e2004b1-element-412\" visibility=\"hidden\" gadfly:scale=\"5.0\">1.2</text>\n",
        "    <text x=\"17.63\" y=\"-14.71\" text-anchor=\"end\" dy=\"0.35em\" id=\"fig-b1a361c730ca4a10b3dd360c8e2004b1-element-413\" visibility=\"hidden\" gadfly:scale=\"5.0\">1.3</text>\n",
        "    <text x=\"17.63\" y=\"-21.95\" text-anchor=\"end\" dy=\"0.35em\" id=\"fig-b1a361c730ca4a10b3dd360c8e2004b1-element-414\" visibility=\"hidden\" gadfly:scale=\"5.0\">1.4</text>\n",
        "    <text x=\"17.63\" y=\"-29.19\" text-anchor=\"end\" dy=\"0.35em\" id=\"fig-b1a361c730ca4a10b3dd360c8e2004b1-element-415\" visibility=\"hidden\" gadfly:scale=\"5.0\">1.5</text>\n",
        "    <text x=\"17.63\" y=\"-36.43\" text-anchor=\"end\" dy=\"0.35em\" id=\"fig-b1a361c730ca4a10b3dd360c8e2004b1-element-416\" visibility=\"hidden\" gadfly:scale=\"5.0\">1.6</text>\n",
        "    <text x=\"17.63\" y=\"-43.66\" text-anchor=\"end\" dy=\"0.35em\" id=\"fig-b1a361c730ca4a10b3dd360c8e2004b1-element-417\" visibility=\"hidden\" gadfly:scale=\"5.0\">1.7</text>\n",
        "    <text x=\"17.63\" y=\"-50.9\" text-anchor=\"end\" dy=\"0.35em\" id=\"fig-b1a361c730ca4a10b3dd360c8e2004b1-element-418\" visibility=\"hidden\" gadfly:scale=\"5.0\">1.8</text>\n",
        "    <text x=\"17.63\" y=\"-58.14\" text-anchor=\"end\" dy=\"0.35em\" id=\"fig-b1a361c730ca4a10b3dd360c8e2004b1-element-419\" visibility=\"hidden\" gadfly:scale=\"5.0\">1.9</text>\n",
        "    <text x=\"17.63\" y=\"-65.38\" text-anchor=\"end\" dy=\"0.35em\" id=\"fig-b1a361c730ca4a10b3dd360c8e2004b1-element-420\" visibility=\"hidden\" gadfly:scale=\"5.0\">2.0</text>\n",
        "  </g>\n",
        "</g>\n",
        "<defs>\n",
        "<clipPath id=\"fig-b1a361c730ca4a10b3dd360c8e2004b1-element-16\">\n",
        "  <path d=\"M18.63,5 L 120.01 5 120.01 81.38 18.63 81.38\" />\n",
        "</clipPath\n",
        "></defs>\n",
        "<script> <![CDATA[\n",
        "(function(N){var k=/[\\.\\/]/,L=/\\s*,\\s*/,C=function(a,d){return a-d},a,v,y={n:{}},M=function(){for(var a=0,d=this.length;a<d;a++)if(\"undefined\"!=typeof this[a])return this[a]},A=function(){for(var a=this.length;--a;)if(\"undefined\"!=typeof this[a])return this[a]},w=function(k,d){k=String(k);var f=v,n=Array.prototype.slice.call(arguments,2),u=w.listeners(k),p=0,b,q=[],e={},l=[],r=a;l.firstDefined=M;l.lastDefined=A;a=k;for(var s=v=0,x=u.length;s<x;s++)\"zIndex\"in u[s]&&(q.push(u[s].zIndex),0>u[s].zIndex&&\n",
        "(e[u[s].zIndex]=u[s]));for(q.sort(C);0>q[p];)if(b=e[q[p++] ],l.push(b.apply(d,n)),v)return v=f,l;for(s=0;s<x;s++)if(b=u[s],\"zIndex\"in b)if(b.zIndex==q[p]){l.push(b.apply(d,n));if(v)break;do if(p++,(b=e[q[p] ])&&l.push(b.apply(d,n)),v)break;while(b)}else e[b.zIndex]=b;else if(l.push(b.apply(d,n)),v)break;v=f;a=r;return l};w._events=y;w.listeners=function(a){a=a.split(k);var d=y,f,n,u,p,b,q,e,l=[d],r=[];u=0;for(p=a.length;u<p;u++){e=[];b=0;for(q=l.length;b<q;b++)for(d=l[b].n,f=[d[a[u] ],d[\"*\"] ],n=2;n--;)if(d=\n",
        "f[n])e.push(d),r=r.concat(d.f||[]);l=e}return r};w.on=function(a,d){a=String(a);if(\"function\"!=typeof d)return function(){};for(var f=a.split(L),n=0,u=f.length;n<u;n++)(function(a){a=a.split(k);for(var b=y,f,e=0,l=a.length;e<l;e++)b=b.n,b=b.hasOwnProperty(a[e])&&b[a[e] ]||(b[a[e] ]={n:{}});b.f=b.f||[];e=0;for(l=b.f.length;e<l;e++)if(b.f[e]==d){f=!0;break}!f&&b.f.push(d)})(f[n]);return function(a){+a==+a&&(d.zIndex=+a)}};w.f=function(a){var d=[].slice.call(arguments,1);return function(){w.apply(null,\n",
        "[a,null].concat(d).concat([].slice.call(arguments,0)))}};w.stop=function(){v=1};w.nt=function(k){return k?(new RegExp(\"(?:\\\\.|\\\\/|^)\"+k+\"(?:\\\\.|\\\\/|$)\")).test(a):a};w.nts=function(){return a.split(k)};w.off=w.unbind=function(a,d){if(a){var f=a.split(L);if(1<f.length)for(var n=0,u=f.length;n<u;n++)w.off(f[n],d);else{for(var f=a.split(k),p,b,q,e,l=[y],n=0,u=f.length;n<u;n++)for(e=0;e<l.length;e+=q.length-2){q=[e,1];p=l[e].n;if(\"*\"!=f[n])p[f[n] ]&&q.push(p[f[n] ]);else for(b in p)p.hasOwnProperty(b)&&\n",
        "q.push(p[b]);l.splice.apply(l,q)}n=0;for(u=l.length;n<u;n++)for(p=l[n];p.n;){if(d){if(p.f){e=0;for(f=p.f.length;e<f;e++)if(p.f[e]==d){p.f.splice(e,1);break}!p.f.length&&delete p.f}for(b in p.n)if(p.n.hasOwnProperty(b)&&p.n[b].f){q=p.n[b].f;e=0;for(f=q.length;e<f;e++)if(q[e]==d){q.splice(e,1);break}!q.length&&delete p.n[b].f}}else for(b in delete p.f,p.n)p.n.hasOwnProperty(b)&&p.n[b].f&&delete p.n[b].f;p=p.n}}}else w._events=y={n:{}}};w.once=function(a,d){var f=function(){w.unbind(a,f);return d.apply(this,\n",
        "arguments)};return w.on(a,f)};w.version=\"0.4.2\";w.toString=function(){return\"You are running Eve 0.4.2\"};\"undefined\"!=typeof module&&module.exports?module.exports=w:\"function\"===typeof define&&define.amd?define(\"eve\",[],function(){return w}):N.eve=w})(this);\n",
        "(function(N,k){\"function\"===typeof define&&define.amd?define(\"Snap.svg\",[\"eve\"],function(L){return k(N,L)}):k(N,N.eve)})(this,function(N,k){var L=function(a){var k={},y=N.requestAnimationFrame||N.webkitRequestAnimationFrame||N.mozRequestAnimationFrame||N.oRequestAnimationFrame||N.msRequestAnimationFrame||function(a){setTimeout(a,16)},M=Array.isArray||function(a){return a instanceof Array||\"[object Array]\"==Object.prototype.toString.call(a)},A=0,w=\"M\"+(+new Date).toString(36),z=function(a){if(null==\n",
        "a)return this.s;var b=this.s-a;this.b+=this.dur*b;this.B+=this.dur*b;this.s=a},d=function(a){if(null==a)return this.spd;this.spd=a},f=function(a){if(null==a)return this.dur;this.s=this.s*a/this.dur;this.dur=a},n=function(){delete k[this.id];this.update();a(\"mina.stop.\"+this.id,this)},u=function(){this.pdif||(delete k[this.id],this.update(),this.pdif=this.get()-this.b)},p=function(){this.pdif&&(this.b=this.get()-this.pdif,delete this.pdif,k[this.id]=this)},b=function(){var a;if(M(this.start)){a=[];\n",
        "for(var b=0,e=this.start.length;b<e;b++)a[b]=+this.start[b]+(this.end[b]-this.start[b])*this.easing(this.s)}else a=+this.start+(this.end-this.start)*this.easing(this.s);this.set(a)},q=function(){var l=0,b;for(b in k)if(k.hasOwnProperty(b)){var e=k[b],f=e.get();l++;e.s=(f-e.b)/(e.dur/e.spd);1<=e.s&&(delete k[b],e.s=1,l--,function(b){setTimeout(function(){a(\"mina.finish.\"+b.id,b)})}(e));e.update()}l&&y(q)},e=function(a,r,s,x,G,h,J){a={id:w+(A++).toString(36),start:a,end:r,b:s,s:0,dur:x-s,spd:1,get:G,\n",
        "set:h,easing:J||e.linear,status:z,speed:d,duration:f,stop:n,pause:u,resume:p,update:b};k[a.id]=a;r=0;for(var K in k)if(k.hasOwnProperty(K)&&(r++,2==r))break;1==r&&y(q);return a};e.time=Date.now||function(){return+new Date};e.getById=function(a){return k[a]||null};e.linear=function(a){return a};e.easeout=function(a){return Math.pow(a,1.7)};e.easein=function(a){return Math.pow(a,0.48)};e.easeinout=function(a){if(1==a)return 1;if(0==a)return 0;var b=0.48-a/1.04,e=Math.sqrt(0.1734+b*b);a=e-b;a=Math.pow(Math.abs(a),\n",
        "1/3)*(0>a?-1:1);b=-e-b;b=Math.pow(Math.abs(b),1/3)*(0>b?-1:1);a=a+b+0.5;return 3*(1-a)*a*a+a*a*a};e.backin=function(a){return 1==a?1:a*a*(2.70158*a-1.70158)};e.backout=function(a){if(0==a)return 0;a-=1;return a*a*(2.70158*a+1.70158)+1};e.elastic=function(a){return a==!!a?a:Math.pow(2,-10*a)*Math.sin(2*(a-0.075)*Math.PI/0.3)+1};e.bounce=function(a){a<1/2.75?a*=7.5625*a:a<2/2.75?(a-=1.5/2.75,a=7.5625*a*a+0.75):a<2.5/2.75?(a-=2.25/2.75,a=7.5625*a*a+0.9375):(a-=2.625/2.75,a=7.5625*a*a+0.984375);return a};\n",
        "return N.mina=e}(\"undefined\"==typeof k?function(){}:k),C=function(){function a(c,t){if(c){if(c.tagName)return x(c);if(y(c,\"array\")&&a.set)return a.set.apply(a,c);if(c instanceof e)return c;if(null==t)return c=G.doc.querySelector(c),x(c)}return new s(null==c?\"100%\":c,null==t?\"100%\":t)}function v(c,a){if(a){\"#text\"==c&&(c=G.doc.createTextNode(a.text||\"\"));\"string\"==typeof c&&(c=v(c));if(\"string\"==typeof a)return\"xlink:\"==a.substring(0,6)?c.getAttributeNS(m,a.substring(6)):\"xml:\"==a.substring(0,4)?c.getAttributeNS(la,\n",
        "a.substring(4)):c.getAttribute(a);for(var da in a)if(a[h](da)){var b=J(a[da]);b?\"xlink:\"==da.substring(0,6)?c.setAttributeNS(m,da.substring(6),b):\"xml:\"==da.substring(0,4)?c.setAttributeNS(la,da.substring(4),b):c.setAttribute(da,b):c.removeAttribute(da)}}else c=G.doc.createElementNS(la,c);return c}function y(c,a){a=J.prototype.toLowerCase.call(a);return\"finite\"==a?isFinite(c):\"array\"==a&&(c instanceof Array||Array.isArray&&Array.isArray(c))?!0:\"null\"==a&&null===c||a==typeof c&&null!==c||\"object\"==\n",
        "a&&c===Object(c)||$.call(c).slice(8,-1).toLowerCase()==a}function M(c){if(\"function\"==typeof c||Object(c)!==c)return c;var a=new c.constructor,b;for(b in c)c[h](b)&&(a[b]=M(c[b]));return a}function A(c,a,b){function m(){var e=Array.prototype.slice.call(arguments,0),f=e.join(\"\\u2400\"),d=m.cache=m.cache||{},l=m.count=m.count||[];if(d[h](f)){a:for(var e=l,l=f,B=0,H=e.length;B<H;B++)if(e[B]===l){e.push(e.splice(B,1)[0]);break a}return b?b(d[f]):d[f]}1E3<=l.length&&delete d[l.shift()];l.push(f);d[f]=c.apply(a,\n",
        "e);return b?b(d[f]):d[f]}return m}function w(c,a,b,m,e,f){return null==e?(c-=b,a-=m,c||a?(180*I.atan2(-a,-c)/C+540)%360:0):w(c,a,e,f)-w(b,m,e,f)}function z(c){return c%360*C/180}function d(c){var a=[];c=c.replace(/(?:^|\\s)(\\w+)\\(([^)]+)\\)/g,function(c,b,m){m=m.split(/\\s*,\\s*|\\s+/);\"rotate\"==b&&1==m.length&&m.push(0,0);\"scale\"==b&&(2<m.length?m=m.slice(0,2):2==m.length&&m.push(0,0),1==m.length&&m.push(m[0],0,0));\"skewX\"==b?a.push([\"m\",1,0,I.tan(z(m[0])),1,0,0]):\"skewY\"==b?a.push([\"m\",1,I.tan(z(m[0])),\n",
        "0,1,0,0]):a.push([b.charAt(0)].concat(m));return c});return a}function f(c,t){var b=O(c),m=new a.Matrix;if(b)for(var e=0,f=b.length;e<f;e++){var h=b[e],d=h.length,B=J(h[0]).toLowerCase(),H=h[0]!=B,l=H?m.invert():0,E;\"t\"==B&&2==d?m.translate(h[1],0):\"t\"==B&&3==d?H?(d=l.x(0,0),B=l.y(0,0),H=l.x(h[1],h[2]),l=l.y(h[1],h[2]),m.translate(H-d,l-B)):m.translate(h[1],h[2]):\"r\"==B?2==d?(E=E||t,m.rotate(h[1],E.x+E.width/2,E.y+E.height/2)):4==d&&(H?(H=l.x(h[2],h[3]),l=l.y(h[2],h[3]),m.rotate(h[1],H,l)):m.rotate(h[1],\n",
        "h[2],h[3])):\"s\"==B?2==d||3==d?(E=E||t,m.scale(h[1],h[d-1],E.x+E.width/2,E.y+E.height/2)):4==d?H?(H=l.x(h[2],h[3]),l=l.y(h[2],h[3]),m.scale(h[1],h[1],H,l)):m.scale(h[1],h[1],h[2],h[3]):5==d&&(H?(H=l.x(h[3],h[4]),l=l.y(h[3],h[4]),m.scale(h[1],h[2],H,l)):m.scale(h[1],h[2],h[3],h[4])):\"m\"==B&&7==d&&m.add(h[1],h[2],h[3],h[4],h[5],h[6])}return m}function n(c,t){if(null==t){var m=!0;t=\"linearGradient\"==c.type||\"radialGradient\"==c.type?c.node.getAttribute(\"gradientTransform\"):\"pattern\"==c.type?c.node.getAttribute(\"patternTransform\"):\n",
        "c.node.getAttribute(\"transform\");if(!t)return new a.Matrix;t=d(t)}else t=a._.rgTransform.test(t)?J(t).replace(/\\.{3}|\\u2026/g,c._.transform||aa):d(t),y(t,\"array\")&&(t=a.path?a.path.toString.call(t):J(t)),c._.transform=t;var b=f(t,c.getBBox(1));if(m)return b;c.matrix=b}function u(c){c=c.node.ownerSVGElement&&x(c.node.ownerSVGElement)||c.node.parentNode&&x(c.node.parentNode)||a.select(\"svg\")||a(0,0);var t=c.select(\"defs\"),t=null==t?!1:t.node;t||(t=r(\"defs\",c.node).node);return t}function p(c){return c.node.ownerSVGElement&&\n",
        "x(c.node.ownerSVGElement)||a.select(\"svg\")}function b(c,a,m){function b(c){if(null==c)return aa;if(c==+c)return c;v(B,{width:c});try{return B.getBBox().width}catch(a){return 0}}function h(c){if(null==c)return aa;if(c==+c)return c;v(B,{height:c});try{return B.getBBox().height}catch(a){return 0}}function e(b,B){null==a?d[b]=B(c.attr(b)||0):b==a&&(d=B(null==m?c.attr(b)||0:m))}var f=p(c).node,d={},B=f.querySelector(\".svg---mgr\");B||(B=v(\"rect\"),v(B,{x:-9E9,y:-9E9,width:10,height:10,\"class\":\"svg---mgr\",\n",
        "fill:\"none\"}),f.appendChild(B));switch(c.type){case \"rect\":e(\"rx\",b),e(\"ry\",h);case \"image\":e(\"width\",b),e(\"height\",h);case \"text\":e(\"x\",b);e(\"y\",h);break;case \"circle\":e(\"cx\",b);e(\"cy\",h);e(\"r\",b);break;case \"ellipse\":e(\"cx\",b);e(\"cy\",h);e(\"rx\",b);e(\"ry\",h);break;case \"line\":e(\"x1\",b);e(\"x2\",b);e(\"y1\",h);e(\"y2\",h);break;case \"marker\":e(\"refX\",b);e(\"markerWidth\",b);e(\"refY\",h);e(\"markerHeight\",h);break;case \"radialGradient\":e(\"fx\",b);e(\"fy\",h);break;case \"tspan\":e(\"dx\",b);e(\"dy\",h);break;default:e(a,\n",
        "b)}f.removeChild(B);return d}function q(c){y(c,\"array\")||(c=Array.prototype.slice.call(arguments,0));for(var a=0,b=0,m=this.node;this[a];)delete this[a++];for(a=0;a<c.length;a++)\"set\"==c[a].type?c[a].forEach(function(c){m.appendChild(c.node)}):m.appendChild(c[a].node);for(var h=m.childNodes,a=0;a<h.length;a++)this[b++]=x(h[a]);return this}function e(c){if(c.snap in E)return E[c.snap];var a=this.id=V(),b;try{b=c.ownerSVGElement}catch(m){}this.node=c;b&&(this.paper=new s(b));this.type=c.tagName;this.anims=\n",
        "{};this._={transform:[]};c.snap=a;E[a]=this;\"g\"==this.type&&(this.add=q);if(this.type in{g:1,mask:1,pattern:1})for(var e in s.prototype)s.prototype[h](e)&&(this[e]=s.prototype[e])}function l(c){this.node=c}function r(c,a){var b=v(c);a.appendChild(b);return x(b)}function s(c,a){var b,m,f,d=s.prototype;if(c&&\"svg\"==c.tagName){if(c.snap in E)return E[c.snap];var l=c.ownerDocument;b=new e(c);m=c.getElementsByTagName(\"desc\")[0];f=c.getElementsByTagName(\"defs\")[0];m||(m=v(\"desc\"),m.appendChild(l.createTextNode(\"Created with Snap\")),\n",
        "b.node.appendChild(m));f||(f=v(\"defs\"),b.node.appendChild(f));b.defs=f;for(var ca in d)d[h](ca)&&(b[ca]=d[ca]);b.paper=b.root=b}else b=r(\"svg\",G.doc.body),v(b.node,{height:a,version:1.1,width:c,xmlns:la});return b}function x(c){return!c||c instanceof e||c instanceof l?c:c.tagName&&\"svg\"==c.tagName.toLowerCase()?new s(c):c.tagName&&\"object\"==c.tagName.toLowerCase()&&\"image/svg+xml\"==c.type?new s(c.contentDocument.getElementsByTagName(\"svg\")[0]):new e(c)}a.version=\"0.3.0\";a.toString=function(){return\"Snap v\"+\n",
        "this.version};a._={};var G={win:N,doc:N.document};a._.glob=G;var h=\"hasOwnProperty\",J=String,K=parseFloat,U=parseInt,I=Math,P=I.max,Q=I.min,Y=I.abs,C=I.PI,aa=\"\",$=Object.prototype.toString,F=/^\\s*((#[a-f\\d]{6})|(#[a-f\\d]{3})|rgba?\\(\\s*([\\d\\.]+%?\\s*,\\s*[\\d\\.]+%?\\s*,\\s*[\\d\\.]+%?(?:\\s*,\\s*[\\d\\.]+%?)?)\\s*\\)|hsba?\\(\\s*([\\d\\.]+(?:deg|\\xb0|%)?\\s*,\\s*[\\d\\.]+%?\\s*,\\s*[\\d\\.]+(?:%?\\s*,\\s*[\\d\\.]+)?%?)\\s*\\)|hsla?\\(\\s*([\\d\\.]+(?:deg|\\xb0|%)?\\s*,\\s*[\\d\\.]+%?\\s*,\\s*[\\d\\.]+(?:%?\\s*,\\s*[\\d\\.]+)?%?)\\s*\\))\\s*$/i;a._.separator=\n",
        "RegExp(\"[,\\t\\n\\x0B\\f\\r \\u00a0\\u1680\\u180e\\u2000\\u2001\\u2002\\u2003\\u2004\\u2005\\u2006\\u2007\\u2008\\u2009\\u200a\\u202f\\u205f\\u3000\\u2028\\u2029]+\");var S=RegExp(\"[\\t\\n\\x0B\\f\\r \\u00a0\\u1680\\u180e\\u2000\\u2001\\u2002\\u2003\\u2004\\u2005\\u2006\\u2007\\u2008\\u2009\\u200a\\u202f\\u205f\\u3000\\u2028\\u2029]*,[\\t\\n\\x0B\\f\\r \\u00a0\\u1680\\u180e\\u2000\\u2001\\u2002\\u2003\\u2004\\u2005\\u2006\\u2007\\u2008\\u2009\\u200a\\u202f\\u205f\\u3000\\u2028\\u2029]*\"),X={hs:1,rg:1},W=RegExp(\"([a-z])[\\t\\n\\x0B\\f\\r \\u00a0\\u1680\\u180e\\u2000\\u2001\\u2002\\u2003\\u2004\\u2005\\u2006\\u2007\\u2008\\u2009\\u200a\\u202f\\u205f\\u3000\\u2028\\u2029,]*((-?\\\\d*\\\\.?\\\\d*(?:e[\\\\-+]?\\\\d+)?[\\t\\n\\x0B\\f\\r \\u00a0\\u1680\\u180e\\u2000\\u2001\\u2002\\u2003\\u2004\\u2005\\u2006\\u2007\\u2008\\u2009\\u200a\\u202f\\u205f\\u3000\\u2028\\u2029]*,?[\\t\\n\\x0B\\f\\r \\u00a0\\u1680\\u180e\\u2000\\u2001\\u2002\\u2003\\u2004\\u2005\\u2006\\u2007\\u2008\\u2009\\u200a\\u202f\\u205f\\u3000\\u2028\\u2029]*)+)\",\n",
        "\"ig\"),ma=RegExp(\"([rstm])[\\t\\n\\x0B\\f\\r \\u00a0\\u1680\\u180e\\u2000\\u2001\\u2002\\u2003\\u2004\\u2005\\u2006\\u2007\\u2008\\u2009\\u200a\\u202f\\u205f\\u3000\\u2028\\u2029,]*((-?\\\\d*\\\\.?\\\\d*(?:e[\\\\-+]?\\\\d+)?[\\t\\n\\x0B\\f\\r \\u00a0\\u1680\\u180e\\u2000\\u2001\\u2002\\u2003\\u2004\\u2005\\u2006\\u2007\\u2008\\u2009\\u200a\\u202f\\u205f\\u3000\\u2028\\u2029]*,?[\\t\\n\\x0B\\f\\r \\u00a0\\u1680\\u180e\\u2000\\u2001\\u2002\\u2003\\u2004\\u2005\\u2006\\u2007\\u2008\\u2009\\u200a\\u202f\\u205f\\u3000\\u2028\\u2029]*)+)\",\"ig\"),Z=RegExp(\"(-?\\\\d*\\\\.?\\\\d*(?:e[\\\\-+]?\\\\d+)?)[\\t\\n\\x0B\\f\\r \\u00a0\\u1680\\u180e\\u2000\\u2001\\u2002\\u2003\\u2004\\u2005\\u2006\\u2007\\u2008\\u2009\\u200a\\u202f\\u205f\\u3000\\u2028\\u2029]*,?[\\t\\n\\x0B\\f\\r \\u00a0\\u1680\\u180e\\u2000\\u2001\\u2002\\u2003\\u2004\\u2005\\u2006\\u2007\\u2008\\u2009\\u200a\\u202f\\u205f\\u3000\\u2028\\u2029]*\",\n",
        "\"ig\"),na=0,ba=\"S\"+(+new Date).toString(36),V=function(){return ba+(na++).toString(36)},m=\"http://www.w3.org/1999/xlink\",la=\"http://www.w3.org/2000/svg\",E={},ca=a.url=function(c){return\"url('#\"+c+\"')\"};a._.$=v;a._.id=V;a.format=function(){var c=/\\{([^\\}]+)\\}/g,a=/(?:(?:^|\\.)(.+?)(?=\\[|\\.|$|\\()|\\[('|\")(.+?)\\2\\])(\\(\\))?/g,b=function(c,b,m){var h=m;b.replace(a,function(c,a,b,m,t){a=a||m;h&&(a in h&&(h=h[a]),\"function\"==typeof h&&t&&(h=h()))});return h=(null==h||h==m?c:h)+\"\"};return function(a,m){return J(a).replace(c,\n",
        "function(c,a){return b(c,a,m)})}}();a._.clone=M;a._.cacher=A;a.rad=z;a.deg=function(c){return 180*c/C%360};a.angle=w;a.is=y;a.snapTo=function(c,a,b){b=y(b,\"finite\")?b:10;if(y(c,\"array\"))for(var m=c.length;m--;){if(Y(c[m]-a)<=b)return c[m]}else{c=+c;m=a%c;if(m<b)return a-m;if(m>c-b)return a-m+c}return a};a.getRGB=A(function(c){if(!c||(c=J(c)).indexOf(\"-\")+1)return{r:-1,g:-1,b:-1,hex:\"none\",error:1,toString:ka};if(\"none\"==c)return{r:-1,g:-1,b:-1,hex:\"none\",toString:ka};!X[h](c.toLowerCase().substring(0,\n",
        "2))&&\"#\"!=c.charAt()&&(c=T(c));if(!c)return{r:-1,g:-1,b:-1,hex:\"none\",error:1,toString:ka};var b,m,e,f,d;if(c=c.match(F)){c[2]&&(e=U(c[2].substring(5),16),m=U(c[2].substring(3,5),16),b=U(c[2].substring(1,3),16));c[3]&&(e=U((d=c[3].charAt(3))+d,16),m=U((d=c[3].charAt(2))+d,16),b=U((d=c[3].charAt(1))+d,16));c[4]&&(d=c[4].split(S),b=K(d[0]),\"%\"==d[0].slice(-1)&&(b*=2.55),m=K(d[1]),\"%\"==d[1].slice(-1)&&(m*=2.55),e=K(d[2]),\"%\"==d[2].slice(-1)&&(e*=2.55),\"rgba\"==c[1].toLowerCase().slice(0,4)&&(f=K(d[3])),\n",
        "d[3]&&\"%\"==d[3].slice(-1)&&(f/=100));if(c[5])return d=c[5].split(S),b=K(d[0]),\"%\"==d[0].slice(-1)&&(b/=100),m=K(d[1]),\"%\"==d[1].slice(-1)&&(m/=100),e=K(d[2]),\"%\"==d[2].slice(-1)&&(e/=100),\"deg\"!=d[0].slice(-3)&&\"\\u00b0\"!=d[0].slice(-1)||(b/=360),\"hsba\"==c[1].toLowerCase().slice(0,4)&&(f=K(d[3])),d[3]&&\"%\"==d[3].slice(-1)&&(f/=100),a.hsb2rgb(b,m,e,f);if(c[6])return d=c[6].split(S),b=K(d[0]),\"%\"==d[0].slice(-1)&&(b/=100),m=K(d[1]),\"%\"==d[1].slice(-1)&&(m/=100),e=K(d[2]),\"%\"==d[2].slice(-1)&&(e/=100),\n",
        "\"deg\"!=d[0].slice(-3)&&\"\\u00b0\"!=d[0].slice(-1)||(b/=360),\"hsla\"==c[1].toLowerCase().slice(0,4)&&(f=K(d[3])),d[3]&&\"%\"==d[3].slice(-1)&&(f/=100),a.hsl2rgb(b,m,e,f);b=Q(I.round(b),255);m=Q(I.round(m),255);e=Q(I.round(e),255);f=Q(P(f,0),1);c={r:b,g:m,b:e,toString:ka};c.hex=\"#\"+(16777216|e|m<<8|b<<16).toString(16).slice(1);c.opacity=y(f,\"finite\")?f:1;return c}return{r:-1,g:-1,b:-1,hex:\"none\",error:1,toString:ka}},a);a.hsb=A(function(c,b,m){return a.hsb2rgb(c,b,m).hex});a.hsl=A(function(c,b,m){return a.hsl2rgb(c,\n",
        "b,m).hex});a.rgb=A(function(c,a,b,m){if(y(m,\"finite\")){var e=I.round;return\"rgba(\"+[e(c),e(a),e(b),+m.toFixed(2)]+\")\"}return\"#\"+(16777216|b|a<<8|c<<16).toString(16).slice(1)});var T=function(c){var a=G.doc.getElementsByTagName(\"head\")[0]||G.doc.getElementsByTagName(\"svg\")[0];T=A(function(c){if(\"red\"==c.toLowerCase())return\"rgb(255, 0, 0)\";a.style.color=\"rgb(255, 0, 0)\";a.style.color=c;c=G.doc.defaultView.getComputedStyle(a,aa).getPropertyValue(\"color\");return\"rgb(255, 0, 0)\"==c?null:c});return T(c)},\n",
        "qa=function(){return\"hsb(\"+[this.h,this.s,this.b]+\")\"},ra=function(){return\"hsl(\"+[this.h,this.s,this.l]+\")\"},ka=function(){return 1==this.opacity||null==this.opacity?this.hex:\"rgba(\"+[this.r,this.g,this.b,this.opacity]+\")\"},D=function(c,b,m){null==b&&y(c,\"object\")&&\"r\"in c&&\"g\"in c&&\"b\"in c&&(m=c.b,b=c.g,c=c.r);null==b&&y(c,string)&&(m=a.getRGB(c),c=m.r,b=m.g,m=m.b);if(1<c||1<b||1<m)c/=255,b/=255,m/=255;return[c,b,m]},oa=function(c,b,m,e){c=I.round(255*c);b=I.round(255*b);m=I.round(255*m);c={r:c,\n",
        "g:b,b:m,opacity:y(e,\"finite\")?e:1,hex:a.rgb(c,b,m),toString:ka};y(e,\"finite\")&&(c.opacity=e);return c};a.color=function(c){var b;y(c,\"object\")&&\"h\"in c&&\"s\"in c&&\"b\"in c?(b=a.hsb2rgb(c),c.r=b.r,c.g=b.g,c.b=b.b,c.opacity=1,c.hex=b.hex):y(c,\"object\")&&\"h\"in c&&\"s\"in c&&\"l\"in c?(b=a.hsl2rgb(c),c.r=b.r,c.g=b.g,c.b=b.b,c.opacity=1,c.hex=b.hex):(y(c,\"string\")&&(c=a.getRGB(c)),y(c,\"object\")&&\"r\"in c&&\"g\"in c&&\"b\"in c&&!(\"error\"in c)?(b=a.rgb2hsl(c),c.h=b.h,c.s=b.s,c.l=b.l,b=a.rgb2hsb(c),c.v=b.b):(c={hex:\"none\"},\n",
        "c.r=c.g=c.b=c.h=c.s=c.v=c.l=-1,c.error=1));c.toString=ka;return c};a.hsb2rgb=function(c,a,b,m){y(c,\"object\")&&\"h\"in c&&\"s\"in c&&\"b\"in c&&(b=c.b,a=c.s,c=c.h,m=c.o);var e,h,d;c=360*c%360/60;d=b*a;a=d*(1-Y(c%2-1));b=e=h=b-d;c=~~c;b+=[d,a,0,0,a,d][c];e+=[a,d,d,a,0,0][c];h+=[0,0,a,d,d,a][c];return oa(b,e,h,m)};a.hsl2rgb=function(c,a,b,m){y(c,\"object\")&&\"h\"in c&&\"s\"in c&&\"l\"in c&&(b=c.l,a=c.s,c=c.h);if(1<c||1<a||1<b)c/=360,a/=100,b/=100;var e,h,d;c=360*c%360/60;d=2*a*(0.5>b?b:1-b);a=d*(1-Y(c%2-1));b=e=\n",
        "h=b-d/2;c=~~c;b+=[d,a,0,0,a,d][c];e+=[a,d,d,a,0,0][c];h+=[0,0,a,d,d,a][c];return oa(b,e,h,m)};a.rgb2hsb=function(c,a,b){b=D(c,a,b);c=b[0];a=b[1];b=b[2];var m,e;m=P(c,a,b);e=m-Q(c,a,b);c=((0==e?0:m==c?(a-b)/e:m==a?(b-c)/e+2:(c-a)/e+4)+360)%6*60/360;return{h:c,s:0==e?0:e/m,b:m,toString:qa}};a.rgb2hsl=function(c,a,b){b=D(c,a,b);c=b[0];a=b[1];b=b[2];var m,e,h;m=P(c,a,b);e=Q(c,a,b);h=m-e;c=((0==h?0:m==c?(a-b)/h:m==a?(b-c)/h+2:(c-a)/h+4)+360)%6*60/360;m=(m+e)/2;return{h:c,s:0==h?0:0.5>m?h/(2*m):h/(2-2*\n",
        "m),l:m,toString:ra}};a.parsePathString=function(c){if(!c)return null;var b=a.path(c);if(b.arr)return a.path.clone(b.arr);var m={a:7,c:6,o:2,h:1,l:2,m:2,r:4,q:4,s:4,t:2,v:1,u:3,z:0},e=[];y(c,\"array\")&&y(c[0],\"array\")&&(e=a.path.clone(c));e.length||J(c).replace(W,function(c,a,b){var h=[];c=a.toLowerCase();b.replace(Z,function(c,a){a&&h.push(+a)});\"m\"==c&&2<h.length&&(e.push([a].concat(h.splice(0,2))),c=\"l\",a=\"m\"==a?\"l\":\"L\");\"o\"==c&&1==h.length&&e.push([a,h[0] ]);if(\"r\"==c)e.push([a].concat(h));else for(;h.length>=\n",
        "m[c]&&(e.push([a].concat(h.splice(0,m[c]))),m[c]););});e.toString=a.path.toString;b.arr=a.path.clone(e);return e};var O=a.parseTransformString=function(c){if(!c)return null;var b=[];y(c,\"array\")&&y(c[0],\"array\")&&(b=a.path.clone(c));b.length||J(c).replace(ma,function(c,a,m){var e=[];a.toLowerCase();m.replace(Z,function(c,a){a&&e.push(+a)});b.push([a].concat(e))});b.toString=a.path.toString;return b};a._.svgTransform2string=d;a._.rgTransform=RegExp(\"^[a-z][\\t\\n\\x0B\\f\\r \\u00a0\\u1680\\u180e\\u2000\\u2001\\u2002\\u2003\\u2004\\u2005\\u2006\\u2007\\u2008\\u2009\\u200a\\u202f\\u205f\\u3000\\u2028\\u2029]*-?\\\\.?\\\\d\",\n",
        "\"i\");a._.transform2matrix=f;a._unit2px=b;a._.getSomeDefs=u;a._.getSomeSVG=p;a.select=function(c){return x(G.doc.querySelector(c))};a.selectAll=function(c){c=G.doc.querySelectorAll(c);for(var b=(a.set||Array)(),m=0;m<c.length;m++)b.push(x(c[m]));return b};setInterval(function(){for(var c in E)if(E[h](c)){var a=E[c],b=a.node;(\"svg\"!=a.type&&!b.ownerSVGElement||\"svg\"==a.type&&(!b.parentNode||\"ownerSVGElement\"in b.parentNode&&!b.ownerSVGElement))&&delete E[c]}},1E4);(function(c){function m(c){function a(c,\n",
        "b){var m=v(c.node,b);(m=(m=m&&m.match(d))&&m[2])&&\"#\"==m.charAt()&&(m=m.substring(1))&&(f[m]=(f[m]||[]).concat(function(a){var m={};m[b]=ca(a);v(c.node,m)}))}function b(c){var a=v(c.node,\"xlink:href\");a&&\"#\"==a.charAt()&&(a=a.substring(1))&&(f[a]=(f[a]||[]).concat(function(a){c.attr(\"xlink:href\",\"#\"+a)}))}var e=c.selectAll(\"*\"),h,d=/^\\s*url\\((\"|'|)(.*)\\1\\)\\s*$/;c=[];for(var f={},l=0,E=e.length;l<E;l++){h=e[l];a(h,\"fill\");a(h,\"stroke\");a(h,\"filter\");a(h,\"mask\");a(h,\"clip-path\");b(h);var t=v(h.node,\n",
        "\"id\");t&&(v(h.node,{id:h.id}),c.push({old:t,id:h.id}))}l=0;for(E=c.length;l<E;l++)if(e=f[c[l].old])for(h=0,t=e.length;h<t;h++)e[h](c[l].id)}function e(c,a,b){return function(m){m=m.slice(c,a);1==m.length&&(m=m[0]);return b?b(m):m}}function d(c){return function(){var a=c?\"<\"+this.type:\"\",b=this.node.attributes,m=this.node.childNodes;if(c)for(var e=0,h=b.length;e<h;e++)a+=\" \"+b[e].name+'=\"'+b[e].value.replace(/\"/g,'\\\\\"')+'\"';if(m.length){c&&(a+=\">\");e=0;for(h=m.length;e<h;e++)3==m[e].nodeType?a+=m[e].nodeValue:\n",
        "1==m[e].nodeType&&(a+=x(m[e]).toString());c&&(a+=\"</\"+this.type+\">\")}else c&&(a+=\"/>\");return a}}c.attr=function(c,a){if(!c)return this;if(y(c,\"string\"))if(1<arguments.length){var b={};b[c]=a;c=b}else return k(\"snap.util.getattr.\"+c,this).firstDefined();for(var m in c)c[h](m)&&k(\"snap.util.attr.\"+m,this,c[m]);return this};c.getBBox=function(c){if(!a.Matrix||!a.path)return this.node.getBBox();var b=this,m=new a.Matrix;if(b.removed)return a._.box();for(;\"use\"==b.type;)if(c||(m=m.add(b.transform().localMatrix.translate(b.attr(\"x\")||\n",
        "0,b.attr(\"y\")||0))),b.original)b=b.original;else var e=b.attr(\"xlink:href\"),b=b.original=b.node.ownerDocument.getElementById(e.substring(e.indexOf(\"#\")+1));var e=b._,h=a.path.get[b.type]||a.path.get.deflt;try{if(c)return e.bboxwt=h?a.path.getBBox(b.realPath=h(b)):a._.box(b.node.getBBox()),a._.box(e.bboxwt);b.realPath=h(b);b.matrix=b.transform().localMatrix;e.bbox=a.path.getBBox(a.path.map(b.realPath,m.add(b.matrix)));return a._.box(e.bbox)}catch(d){return a._.box()}};var f=function(){return this.string};\n",
        "c.transform=function(c){var b=this._;if(null==c){var m=this;c=new a.Matrix(this.node.getCTM());for(var e=n(this),h=[e],d=new a.Matrix,l=e.toTransformString(),b=J(e)==J(this.matrix)?J(b.transform):l;\"svg\"!=m.type&&(m=m.parent());)h.push(n(m));for(m=h.length;m--;)d.add(h[m]);return{string:b,globalMatrix:c,totalMatrix:d,localMatrix:e,diffMatrix:c.clone().add(e.invert()),global:c.toTransformString(),total:d.toTransformString(),local:l,toString:f}}c instanceof a.Matrix?this.matrix=c:n(this,c);this.node&&\n",
        "(\"linearGradient\"==this.type||\"radialGradient\"==this.type?v(this.node,{gradientTransform:this.matrix}):\"pattern\"==this.type?v(this.node,{patternTransform:this.matrix}):v(this.node,{transform:this.matrix}));return this};c.parent=function(){return x(this.node.parentNode)};c.append=c.add=function(c){if(c){if(\"set\"==c.type){var a=this;c.forEach(function(c){a.add(c)});return this}c=x(c);this.node.appendChild(c.node);c.paper=this.paper}return this};c.appendTo=function(c){c&&(c=x(c),c.append(this));return this};\n",
        "c.prepend=function(c){if(c){if(\"set\"==c.type){var a=this,b;c.forEach(function(c){b?b.after(c):a.prepend(c);b=c});return this}c=x(c);var m=c.parent();this.node.insertBefore(c.node,this.node.firstChild);this.add&&this.add();c.paper=this.paper;this.parent()&&this.parent().add();m&&m.add()}return this};c.prependTo=function(c){c=x(c);c.prepend(this);return this};c.before=function(c){if(\"set\"==c.type){var a=this;c.forEach(function(c){var b=c.parent();a.node.parentNode.insertBefore(c.node,a.node);b&&b.add()});\n",
        "this.parent().add();return this}c=x(c);var b=c.parent();this.node.parentNode.insertBefore(c.node,this.node);this.parent()&&this.parent().add();b&&b.add();c.paper=this.paper;return this};c.after=function(c){c=x(c);var a=c.parent();this.node.nextSibling?this.node.parentNode.insertBefore(c.node,this.node.nextSibling):this.node.parentNode.appendChild(c.node);this.parent()&&this.parent().add();a&&a.add();c.paper=this.paper;return this};c.insertBefore=function(c){c=x(c);var a=this.parent();c.node.parentNode.insertBefore(this.node,\n",
        "c.node);this.paper=c.paper;a&&a.add();c.parent()&&c.parent().add();return this};c.insertAfter=function(c){c=x(c);var a=this.parent();c.node.parentNode.insertBefore(this.node,c.node.nextSibling);this.paper=c.paper;a&&a.add();c.parent()&&c.parent().add();return this};c.remove=function(){var c=this.parent();this.node.parentNode&&this.node.parentNode.removeChild(this.node);delete this.paper;this.removed=!0;c&&c.add();return this};c.select=function(c){return x(this.node.querySelector(c))};c.selectAll=\n",
        "function(c){c=this.node.querySelectorAll(c);for(var b=(a.set||Array)(),m=0;m<c.length;m++)b.push(x(c[m]));return b};c.asPX=function(c,a){null==a&&(a=this.attr(c));return+b(this,c,a)};c.use=function(){var c,a=this.node.id;a||(a=this.id,v(this.node,{id:a}));c=\"linearGradient\"==this.type||\"radialGradient\"==this.type||\"pattern\"==this.type?r(this.type,this.node.parentNode):r(\"use\",this.node.parentNode);v(c.node,{\"xlink:href\":\"#\"+a});c.original=this;return c};var l=/\\S+/g;c.addClass=function(c){var a=(c||\n",
        "\"\").match(l)||[];c=this.node;var b=c.className.baseVal,m=b.match(l)||[],e,h,d;if(a.length){for(e=0;d=a[e++];)h=m.indexOf(d),~h||m.push(d);a=m.join(\" \");b!=a&&(c.className.baseVal=a)}return this};c.removeClass=function(c){var a=(c||\"\").match(l)||[];c=this.node;var b=c.className.baseVal,m=b.match(l)||[],e,h;if(m.length){for(e=0;h=a[e++];)h=m.indexOf(h),~h&&m.splice(h,1);a=m.join(\" \");b!=a&&(c.className.baseVal=a)}return this};c.hasClass=function(c){return!!~(this.node.className.baseVal.match(l)||[]).indexOf(c)};\n",
        "c.toggleClass=function(c,a){if(null!=a)return a?this.addClass(c):this.removeClass(c);var b=(c||\"\").match(l)||[],m=this.node,e=m.className.baseVal,h=e.match(l)||[],d,f,E;for(d=0;E=b[d++];)f=h.indexOf(E),~f?h.splice(f,1):h.push(E);b=h.join(\" \");e!=b&&(m.className.baseVal=b);return this};c.clone=function(){var c=x(this.node.cloneNode(!0));v(c.node,\"id\")&&v(c.node,{id:c.id});m(c);c.insertAfter(this);return c};c.toDefs=function(){u(this).appendChild(this.node);return this};c.pattern=c.toPattern=function(c,\n",
        "a,b,m){var e=r(\"pattern\",u(this));null==c&&(c=this.getBBox());y(c,\"object\")&&\"x\"in c&&(a=c.y,b=c.width,m=c.height,c=c.x);v(e.node,{x:c,y:a,width:b,height:m,patternUnits:\"userSpaceOnUse\",id:e.id,viewBox:[c,a,b,m].join(\" \")});e.node.appendChild(this.node);return e};c.marker=function(c,a,b,m,e,h){var d=r(\"marker\",u(this));null==c&&(c=this.getBBox());y(c,\"object\")&&\"x\"in c&&(a=c.y,b=c.width,m=c.height,e=c.refX||c.cx,h=c.refY||c.cy,c=c.x);v(d.node,{viewBox:[c,a,b,m].join(\" \"),markerWidth:b,markerHeight:m,\n",
        "orient:\"auto\",refX:e||0,refY:h||0,id:d.id});d.node.appendChild(this.node);return d};var E=function(c,a,b,m){\"function\"!=typeof b||b.length||(m=b,b=L.linear);this.attr=c;this.dur=a;b&&(this.easing=b);m&&(this.callback=m)};a._.Animation=E;a.animation=function(c,a,b,m){return new E(c,a,b,m)};c.inAnim=function(){var c=[],a;for(a in this.anims)this.anims[h](a)&&function(a){c.push({anim:new E(a._attrs,a.dur,a.easing,a._callback),mina:a,curStatus:a.status(),status:function(c){return a.status(c)},stop:function(){a.stop()}})}(this.anims[a]);\n",
        "return c};a.animate=function(c,a,b,m,e,h){\"function\"!=typeof e||e.length||(h=e,e=L.linear);var d=L.time();c=L(c,a,d,d+m,L.time,b,e);h&&k.once(\"mina.finish.\"+c.id,h);return c};c.stop=function(){for(var c=this.inAnim(),a=0,b=c.length;a<b;a++)c[a].stop();return this};c.animate=function(c,a,b,m){\"function\"!=typeof b||b.length||(m=b,b=L.linear);c instanceof E&&(m=c.callback,b=c.easing,a=b.dur,c=c.attr);var d=[],f=[],l={},t,ca,n,T=this,q;for(q in c)if(c[h](q)){T.equal?(n=T.equal(q,J(c[q])),t=n.from,ca=\n",
        "n.to,n=n.f):(t=+T.attr(q),ca=+c[q]);var la=y(t,\"array\")?t.length:1;l[q]=e(d.length,d.length+la,n);d=d.concat(t);f=f.concat(ca)}t=L.time();var p=L(d,f,t,t+a,L.time,function(c){var a={},b;for(b in l)l[h](b)&&(a[b]=l[b](c));T.attr(a)},b);T.anims[p.id]=p;p._attrs=c;p._callback=m;k(\"snap.animcreated.\"+T.id,p);k.once(\"mina.finish.\"+p.id,function(){delete T.anims[p.id];m&&m.call(T)});k.once(\"mina.stop.\"+p.id,function(){delete T.anims[p.id]});return T};var T={};c.data=function(c,b){var m=T[this.id]=T[this.id]||\n",
        "{};if(0==arguments.length)return k(\"snap.data.get.\"+this.id,this,m,null),m;if(1==arguments.length){if(a.is(c,\"object\")){for(var e in c)c[h](e)&&this.data(e,c[e]);return this}k(\"snap.data.get.\"+this.id,this,m[c],c);return m[c]}m[c]=b;k(\"snap.data.set.\"+this.id,this,b,c);return this};c.removeData=function(c){null==c?T[this.id]={}:T[this.id]&&delete T[this.id][c];return this};c.outerSVG=c.toString=d(1);c.innerSVG=d()})(e.prototype);a.parse=function(c){var a=G.doc.createDocumentFragment(),b=!0,m=G.doc.createElement(\"div\");\n",
        "c=J(c);c.match(/^\\s*<\\s*svg(?:\\s|>)/)||(c=\"<svg>\"+c+\"</svg>\",b=!1);m.innerHTML=c;if(c=m.getElementsByTagName(\"svg\")[0])if(b)a=c;else for(;c.firstChild;)a.appendChild(c.firstChild);m.innerHTML=aa;return new l(a)};l.prototype.select=e.prototype.select;l.prototype.selectAll=e.prototype.selectAll;a.fragment=function(){for(var c=Array.prototype.slice.call(arguments,0),b=G.doc.createDocumentFragment(),m=0,e=c.length;m<e;m++){var h=c[m];h.node&&h.node.nodeType&&b.appendChild(h.node);h.nodeType&&b.appendChild(h);\n",
        "\"string\"==typeof h&&b.appendChild(a.parse(h).node)}return new l(b)};a._.make=r;a._.wrap=x;s.prototype.el=function(c,a){var b=r(c,this.node);a&&b.attr(a);return b};k.on(\"snap.util.getattr\",function(){var c=k.nt(),c=c.substring(c.lastIndexOf(\".\")+1),a=c.replace(/[A-Z]/g,function(c){return\"-\"+c.toLowerCase()});return pa[h](a)?this.node.ownerDocument.defaultView.getComputedStyle(this.node,null).getPropertyValue(a):v(this.node,c)});var pa={\"alignment-baseline\":0,\"baseline-shift\":0,clip:0,\"clip-path\":0,\n",
        "\"clip-rule\":0,color:0,\"color-interpolation\":0,\"color-interpolation-filters\":0,\"color-profile\":0,\"color-rendering\":0,cursor:0,direction:0,display:0,\"dominant-baseline\":0,\"enable-background\":0,fill:0,\"fill-opacity\":0,\"fill-rule\":0,filter:0,\"flood-color\":0,\"flood-opacity\":0,font:0,\"font-family\":0,\"font-size\":0,\"font-size-adjust\":0,\"font-stretch\":0,\"font-style\":0,\"font-variant\":0,\"font-weight\":0,\"glyph-orientation-horizontal\":0,\"glyph-orientation-vertical\":0,\"image-rendering\":0,kerning:0,\"letter-spacing\":0,\n",
        "\"lighting-color\":0,marker:0,\"marker-end\":0,\"marker-mid\":0,\"marker-start\":0,mask:0,opacity:0,overflow:0,\"pointer-events\":0,\"shape-rendering\":0,\"stop-color\":0,\"stop-opacity\":0,stroke:0,\"stroke-dasharray\":0,\"stroke-dashoffset\":0,\"stroke-linecap\":0,\"stroke-linejoin\":0,\"stroke-miterlimit\":0,\"stroke-opacity\":0,\"stroke-width\":0,\"text-anchor\":0,\"text-decoration\":0,\"text-rendering\":0,\"unicode-bidi\":0,visibility:0,\"word-spacing\":0,\"writing-mode\":0};k.on(\"snap.util.attr\",function(c){var a=k.nt(),b={},a=a.substring(a.lastIndexOf(\".\")+\n",
        "1);b[a]=c;var m=a.replace(/-(\\w)/gi,function(c,a){return a.toUpperCase()}),a=a.replace(/[A-Z]/g,function(c){return\"-\"+c.toLowerCase()});pa[h](a)?this.node.style[m]=null==c?aa:c:v(this.node,b)});a.ajax=function(c,a,b,m){var e=new XMLHttpRequest,h=V();if(e){if(y(a,\"function\"))m=b,b=a,a=null;else if(y(a,\"object\")){var d=[],f;for(f in a)a.hasOwnProperty(f)&&d.push(encodeURIComponent(f)+\"=\"+encodeURIComponent(a[f]));a=d.join(\"&\")}e.open(a?\"POST\":\"GET\",c,!0);a&&(e.setRequestHeader(\"X-Requested-With\",\"XMLHttpRequest\"),\n",
        "e.setRequestHeader(\"Content-type\",\"application/x-www-form-urlencoded\"));b&&(k.once(\"snap.ajax.\"+h+\".0\",b),k.once(\"snap.ajax.\"+h+\".200\",b),k.once(\"snap.ajax.\"+h+\".304\",b));e.onreadystatechange=function(){4==e.readyState&&k(\"snap.ajax.\"+h+\".\"+e.status,m,e)};if(4==e.readyState)return e;e.send(a);return e}};a.load=function(c,b,m){a.ajax(c,function(c){c=a.parse(c.responseText);m?b.call(m,c):b(c)})};a.getElementByPoint=function(c,a){var b,m,e=G.doc.elementFromPoint(c,a);if(G.win.opera&&\"svg\"==e.tagName){b=\n",
        "e;m=b.getBoundingClientRect();b=b.ownerDocument;var h=b.body,d=b.documentElement;b=m.top+(g.win.pageYOffset||d.scrollTop||h.scrollTop)-(d.clientTop||h.clientTop||0);m=m.left+(g.win.pageXOffset||d.scrollLeft||h.scrollLeft)-(d.clientLeft||h.clientLeft||0);h=e.createSVGRect();h.x=c-m;h.y=a-b;h.width=h.height=1;b=e.getIntersectionList(h,null);b.length&&(e=b[b.length-1])}return e?x(e):null};a.plugin=function(c){c(a,e,s,G,l)};return G.win.Snap=a}();C.plugin(function(a,k,y,M,A){function w(a,d,f,b,q,e){null==\n",
        "d&&\"[object SVGMatrix]\"==z.call(a)?(this.a=a.a,this.b=a.b,this.c=a.c,this.d=a.d,this.e=a.e,this.f=a.f):null!=a?(this.a=+a,this.b=+d,this.c=+f,this.d=+b,this.e=+q,this.f=+e):(this.a=1,this.c=this.b=0,this.d=1,this.f=this.e=0)}var z=Object.prototype.toString,d=String,f=Math;(function(n){function k(a){return a[0]*a[0]+a[1]*a[1]}function p(a){var d=f.sqrt(k(a));a[0]&&(a[0]/=d);a[1]&&(a[1]/=d)}n.add=function(a,d,e,f,n,p){var k=[[],[],[] ],u=[[this.a,this.c,this.e],[this.b,this.d,this.f],[0,0,1] ];d=[[a,\n",
        "e,n],[d,f,p],[0,0,1] ];a&&a instanceof w&&(d=[[a.a,a.c,a.e],[a.b,a.d,a.f],[0,0,1] ]);for(a=0;3>a;a++)for(e=0;3>e;e++){for(f=n=0;3>f;f++)n+=u[a][f]*d[f][e];k[a][e]=n}this.a=k[0][0];this.b=k[1][0];this.c=k[0][1];this.d=k[1][1];this.e=k[0][2];this.f=k[1][2];return this};n.invert=function(){var a=this.a*this.d-this.b*this.c;return new w(this.d/a,-this.b/a,-this.c/a,this.a/a,(this.c*this.f-this.d*this.e)/a,(this.b*this.e-this.a*this.f)/a)};n.clone=function(){return new w(this.a,this.b,this.c,this.d,this.e,\n",
        "this.f)};n.translate=function(a,d){return this.add(1,0,0,1,a,d)};n.scale=function(a,d,e,f){null==d&&(d=a);(e||f)&&this.add(1,0,0,1,e,f);this.add(a,0,0,d,0,0);(e||f)&&this.add(1,0,0,1,-e,-f);return this};n.rotate=function(b,d,e){b=a.rad(b);d=d||0;e=e||0;var l=+f.cos(b).toFixed(9);b=+f.sin(b).toFixed(9);this.add(l,b,-b,l,d,e);return this.add(1,0,0,1,-d,-e)};n.x=function(a,d){return a*this.a+d*this.c+this.e};n.y=function(a,d){return a*this.b+d*this.d+this.f};n.get=function(a){return+this[d.fromCharCode(97+\n",
        "a)].toFixed(4)};n.toString=function(){return\"matrix(\"+[this.get(0),this.get(1),this.get(2),this.get(3),this.get(4),this.get(5)].join()+\")\"};n.offset=function(){return[this.e.toFixed(4),this.f.toFixed(4)]};n.determinant=function(){return this.a*this.d-this.b*this.c};n.split=function(){var b={};b.dx=this.e;b.dy=this.f;var d=[[this.a,this.c],[this.b,this.d] ];b.scalex=f.sqrt(k(d[0]));p(d[0]);b.shear=d[0][0]*d[1][0]+d[0][1]*d[1][1];d[1]=[d[1][0]-d[0][0]*b.shear,d[1][1]-d[0][1]*b.shear];b.scaley=f.sqrt(k(d[1]));\n",
        "p(d[1]);b.shear/=b.scaley;0>this.determinant()&&(b.scalex=-b.scalex);var e=-d[0][1],d=d[1][1];0>d?(b.rotate=a.deg(f.acos(d)),0>e&&(b.rotate=360-b.rotate)):b.rotate=a.deg(f.asin(e));b.isSimple=!+b.shear.toFixed(9)&&(b.scalex.toFixed(9)==b.scaley.toFixed(9)||!b.rotate);b.isSuperSimple=!+b.shear.toFixed(9)&&b.scalex.toFixed(9)==b.scaley.toFixed(9)&&!b.rotate;b.noRotation=!+b.shear.toFixed(9)&&!b.rotate;return b};n.toTransformString=function(a){a=a||this.split();if(+a.shear.toFixed(9))return\"m\"+[this.get(0),\n",
        "this.get(1),this.get(2),this.get(3),this.get(4),this.get(5)];a.scalex=+a.scalex.toFixed(4);a.scaley=+a.scaley.toFixed(4);a.rotate=+a.rotate.toFixed(4);return(a.dx||a.dy?\"t\"+[+a.dx.toFixed(4),+a.dy.toFixed(4)]:\"\")+(1!=a.scalex||1!=a.scaley?\"s\"+[a.scalex,a.scaley,0,0]:\"\")+(a.rotate?\"r\"+[+a.rotate.toFixed(4),0,0]:\"\")}})(w.prototype);a.Matrix=w;a.matrix=function(a,d,f,b,k,e){return new w(a,d,f,b,k,e)}});C.plugin(function(a,v,y,M,A){function w(h){return function(d){k.stop();d instanceof A&&1==d.node.childNodes.length&&\n",
        "(\"radialGradient\"==d.node.firstChild.tagName||\"linearGradient\"==d.node.firstChild.tagName||\"pattern\"==d.node.firstChild.tagName)&&(d=d.node.firstChild,b(this).appendChild(d),d=u(d));if(d instanceof v)if(\"radialGradient\"==d.type||\"linearGradient\"==d.type||\"pattern\"==d.type){d.node.id||e(d.node,{id:d.id});var f=l(d.node.id)}else f=d.attr(h);else f=a.color(d),f.error?(f=a(b(this).ownerSVGElement).gradient(d))?(f.node.id||e(f.node,{id:f.id}),f=l(f.node.id)):f=d:f=r(f);d={};d[h]=f;e(this.node,d);this.node.style[h]=\n",
        "x}}function z(a){k.stop();a==+a&&(a+=\"px\");this.node.style.fontSize=a}function d(a){var b=[];a=a.childNodes;for(var e=0,f=a.length;e<f;e++){var l=a[e];3==l.nodeType&&b.push(l.nodeValue);\"tspan\"==l.tagName&&(1==l.childNodes.length&&3==l.firstChild.nodeType?b.push(l.firstChild.nodeValue):b.push(d(l)))}return b}function f(){k.stop();return this.node.style.fontSize}var n=a._.make,u=a._.wrap,p=a.is,b=a._.getSomeDefs,q=/^url\\(#?([^)]+)\\)$/,e=a._.$,l=a.url,r=String,s=a._.separator,x=\"\";k.on(\"snap.util.attr.mask\",\n",
        "function(a){if(a instanceof v||a instanceof A){k.stop();a instanceof A&&1==a.node.childNodes.length&&(a=a.node.firstChild,b(this).appendChild(a),a=u(a));if(\"mask\"==a.type)var d=a;else d=n(\"mask\",b(this)),d.node.appendChild(a.node);!d.node.id&&e(d.node,{id:d.id});e(this.node,{mask:l(d.id)})}});(function(a){k.on(\"snap.util.attr.clip\",a);k.on(\"snap.util.attr.clip-path\",a);k.on(\"snap.util.attr.clipPath\",a)})(function(a){if(a instanceof v||a instanceof A){k.stop();if(\"clipPath\"==a.type)var d=a;else d=\n",
        "n(\"clipPath\",b(this)),d.node.appendChild(a.node),!d.node.id&&e(d.node,{id:d.id});e(this.node,{\"clip-path\":l(d.id)})}});k.on(\"snap.util.attr.fill\",w(\"fill\"));k.on(\"snap.util.attr.stroke\",w(\"stroke\"));var G=/^([lr])(?:\\(([^)]*)\\))?(.*)$/i;k.on(\"snap.util.grad.parse\",function(a){a=r(a);var b=a.match(G);if(!b)return null;a=b[1];var e=b[2],b=b[3],e=e.split(/\\s*,\\s*/).map(function(a){return+a==a?+a:a});1==e.length&&0==e[0]&&(e=[]);b=b.split(\"-\");b=b.map(function(a){a=a.split(\":\");var b={color:a[0]};a[1]&&\n",
        "(b.offset=parseFloat(a[1]));return b});return{type:a,params:e,stops:b}});k.on(\"snap.util.attr.d\",function(b){k.stop();p(b,\"array\")&&p(b[0],\"array\")&&(b=a.path.toString.call(b));b=r(b);b.match(/[ruo]/i)&&(b=a.path.toAbsolute(b));e(this.node,{d:b})})(-1);k.on(\"snap.util.attr.#text\",function(a){k.stop();a=r(a);for(a=M.doc.createTextNode(a);this.node.firstChild;)this.node.removeChild(this.node.firstChild);this.node.appendChild(a)})(-1);k.on(\"snap.util.attr.path\",function(a){k.stop();this.attr({d:a})})(-1);\n",
        "k.on(\"snap.util.attr.class\",function(a){k.stop();this.node.className.baseVal=a})(-1);k.on(\"snap.util.attr.viewBox\",function(a){a=p(a,\"object\")&&\"x\"in a?[a.x,a.y,a.width,a.height].join(\" \"):p(a,\"array\")?a.join(\" \"):a;e(this.node,{viewBox:a});k.stop()})(-1);k.on(\"snap.util.attr.transform\",function(a){this.transform(a);k.stop()})(-1);k.on(\"snap.util.attr.r\",function(a){\"rect\"==this.type&&(k.stop(),e(this.node,{rx:a,ry:a}))})(-1);k.on(\"snap.util.attr.textpath\",function(a){k.stop();if(\"text\"==this.type){var d,\n",
        "f;if(!a&&this.textPath){for(a=this.textPath;a.node.firstChild;)this.node.appendChild(a.node.firstChild);a.remove();delete this.textPath}else if(p(a,\"string\")?(d=b(this),a=u(d.parentNode).path(a),d.appendChild(a.node),d=a.id,a.attr({id:d})):(a=u(a),a instanceof v&&(d=a.attr(\"id\"),d||(d=a.id,a.attr({id:d})))),d)if(a=this.textPath,f=this.node,a)a.attr({\"xlink:href\":\"#\"+d});else{for(a=e(\"textPath\",{\"xlink:href\":\"#\"+d});f.firstChild;)a.appendChild(f.firstChild);f.appendChild(a);this.textPath=u(a)}}})(-1);\n",
        "k.on(\"snap.util.attr.text\",function(a){if(\"text\"==this.type){for(var b=this.node,d=function(a){var b=e(\"tspan\");if(p(a,\"array\"))for(var f=0;f<a.length;f++)b.appendChild(d(a[f]));else b.appendChild(M.doc.createTextNode(a));b.normalize&&b.normalize();return b};b.firstChild;)b.removeChild(b.firstChild);for(a=d(a);a.firstChild;)b.appendChild(a.firstChild)}k.stop()})(-1);k.on(\"snap.util.attr.fontSize\",z)(-1);k.on(\"snap.util.attr.font-size\",z)(-1);k.on(\"snap.util.getattr.transform\",function(){k.stop();\n",
        "return this.transform()})(-1);k.on(\"snap.util.getattr.textpath\",function(){k.stop();return this.textPath})(-1);(function(){function b(d){return function(){k.stop();var b=M.doc.defaultView.getComputedStyle(this.node,null).getPropertyValue(\"marker-\"+d);return\"none\"==b?b:a(M.doc.getElementById(b.match(q)[1]))}}function d(a){return function(b){k.stop();var d=\"marker\"+a.charAt(0).toUpperCase()+a.substring(1);if(\"\"==b||!b)this.node.style[d]=\"none\";else if(\"marker\"==b.type){var f=b.node.id;f||e(b.node,{id:b.id});\n",
        "this.node.style[d]=l(f)}}}k.on(\"snap.util.getattr.marker-end\",b(\"end\"))(-1);k.on(\"snap.util.getattr.markerEnd\",b(\"end\"))(-1);k.on(\"snap.util.getattr.marker-start\",b(\"start\"))(-1);k.on(\"snap.util.getattr.markerStart\",b(\"start\"))(-1);k.on(\"snap.util.getattr.marker-mid\",b(\"mid\"))(-1);k.on(\"snap.util.getattr.markerMid\",b(\"mid\"))(-1);k.on(\"snap.util.attr.marker-end\",d(\"end\"))(-1);k.on(\"snap.util.attr.markerEnd\",d(\"end\"))(-1);k.on(\"snap.util.attr.marker-start\",d(\"start\"))(-1);k.on(\"snap.util.attr.markerStart\",\n",
        "d(\"start\"))(-1);k.on(\"snap.util.attr.marker-mid\",d(\"mid\"))(-1);k.on(\"snap.util.attr.markerMid\",d(\"mid\"))(-1)})();k.on(\"snap.util.getattr.r\",function(){if(\"rect\"==this.type&&e(this.node,\"rx\")==e(this.node,\"ry\"))return k.stop(),e(this.node,\"rx\")})(-1);k.on(\"snap.util.getattr.text\",function(){if(\"text\"==this.type||\"tspan\"==this.type){k.stop();var a=d(this.node);return 1==a.length?a[0]:a}})(-1);k.on(\"snap.util.getattr.#text\",function(){return this.node.textContent})(-1);k.on(\"snap.util.getattr.viewBox\",\n",
        "function(){k.stop();var b=e(this.node,\"viewBox\");if(b)return b=b.split(s),a._.box(+b[0],+b[1],+b[2],+b[3])})(-1);k.on(\"snap.util.getattr.points\",function(){var a=e(this.node,\"points\");k.stop();if(a)return a.split(s)})(-1);k.on(\"snap.util.getattr.path\",function(){var a=e(this.node,\"d\");k.stop();return a})(-1);k.on(\"snap.util.getattr.class\",function(){return this.node.className.baseVal})(-1);k.on(\"snap.util.getattr.fontSize\",f)(-1);k.on(\"snap.util.getattr.font-size\",f)(-1)});C.plugin(function(a,v,y,\n",
        "M,A){function w(a){return a}function z(a){return function(b){return+b.toFixed(3)+a}}var d={\"+\":function(a,b){return a+b},\"-\":function(a,b){return a-b},\"/\":function(a,b){return a/b},\"*\":function(a,b){return a*b}},f=String,n=/[a-z]+$/i,u=/^\\s*([+\\-\\/*])\\s*=\\s*([\\d.eE+\\-]+)\\s*([^\\d\\s]+)?\\s*$/;k.on(\"snap.util.attr\",function(a){if(a=f(a).match(u)){var b=k.nt(),b=b.substring(b.lastIndexOf(\".\")+1),q=this.attr(b),e={};k.stop();var l=a[3]||\"\",r=q.match(n),s=d[a[1] ];r&&r==l?a=s(parseFloat(q),+a[2]):(q=this.asPX(b),\n",
        "a=s(this.asPX(b),this.asPX(b,a[2]+l)));isNaN(q)||isNaN(a)||(e[b]=a,this.attr(e))}})(-10);k.on(\"snap.util.equal\",function(a,b){var q=f(this.attr(a)||\"\"),e=f(b).match(u);if(e){k.stop();var l=e[3]||\"\",r=q.match(n),s=d[e[1] ];if(r&&r==l)return{from:parseFloat(q),to:s(parseFloat(q),+e[2]),f:z(r)};q=this.asPX(a);return{from:q,to:s(q,this.asPX(a,e[2]+l)),f:w}}})(-10)});C.plugin(function(a,v,y,M,A){var w=y.prototype,z=a.is;w.rect=function(a,d,k,p,b,q){var e;null==q&&(q=b);z(a,\"object\")&&\"[object Object]\"==\n",
        "a?e=a:null!=a&&(e={x:a,y:d,width:k,height:p},null!=b&&(e.rx=b,e.ry=q));return this.el(\"rect\",e)};w.circle=function(a,d,k){var p;z(a,\"object\")&&\"[object Object]\"==a?p=a:null!=a&&(p={cx:a,cy:d,r:k});return this.el(\"circle\",p)};var d=function(){function a(){this.parentNode.removeChild(this)}return function(d,k){var p=M.doc.createElement(\"img\"),b=M.doc.body;p.style.cssText=\"position:absolute;left:-9999em;top:-9999em\";p.onload=function(){k.call(p);p.onload=p.onerror=null;b.removeChild(p)};p.onerror=a;\n",
        "b.appendChild(p);p.src=d}}();w.image=function(f,n,k,p,b){var q=this.el(\"image\");if(z(f,\"object\")&&\"src\"in f)q.attr(f);else if(null!=f){var e={\"xlink:href\":f,preserveAspectRatio:\"none\"};null!=n&&null!=k&&(e.x=n,e.y=k);null!=p&&null!=b?(e.width=p,e.height=b):d(f,function(){a._.$(q.node,{width:this.offsetWidth,height:this.offsetHeight})});a._.$(q.node,e)}return q};w.ellipse=function(a,d,k,p){var b;z(a,\"object\")&&\"[object Object]\"==a?b=a:null!=a&&(b={cx:a,cy:d,rx:k,ry:p});return this.el(\"ellipse\",b)};\n",
        "w.path=function(a){var d;z(a,\"object\")&&!z(a,\"array\")?d=a:a&&(d={d:a});return this.el(\"path\",d)};w.group=w.g=function(a){var d=this.el(\"g\");1==arguments.length&&a&&!a.type?d.attr(a):arguments.length&&d.add(Array.prototype.slice.call(arguments,0));return d};w.svg=function(a,d,k,p,b,q,e,l){var r={};z(a,\"object\")&&null==d?r=a:(null!=a&&(r.x=a),null!=d&&(r.y=d),null!=k&&(r.width=k),null!=p&&(r.height=p),null!=b&&null!=q&&null!=e&&null!=l&&(r.viewBox=[b,q,e,l]));return this.el(\"svg\",r)};w.mask=function(a){var d=\n",
        "this.el(\"mask\");1==arguments.length&&a&&!a.type?d.attr(a):arguments.length&&d.add(Array.prototype.slice.call(arguments,0));return d};w.ptrn=function(a,d,k,p,b,q,e,l){if(z(a,\"object\"))var r=a;else arguments.length?(r={},null!=a&&(r.x=a),null!=d&&(r.y=d),null!=k&&(r.width=k),null!=p&&(r.height=p),null!=b&&null!=q&&null!=e&&null!=l&&(r.viewBox=[b,q,e,l])):r={patternUnits:\"userSpaceOnUse\"};return this.el(\"pattern\",r)};w.use=function(a){return null!=a?(make(\"use\",this.node),a instanceof v&&(a.attr(\"id\")||\n",
        "a.attr({id:ID()}),a=a.attr(\"id\")),this.el(\"use\",{\"xlink:href\":a})):v.prototype.use.call(this)};w.text=function(a,d,k){var p={};z(a,\"object\")?p=a:null!=a&&(p={x:a,y:d,text:k||\"\"});return this.el(\"text\",p)};w.line=function(a,d,k,p){var b={};z(a,\"object\")?b=a:null!=a&&(b={x1:a,x2:k,y1:d,y2:p});return this.el(\"line\",b)};w.polyline=function(a){1<arguments.length&&(a=Array.prototype.slice.call(arguments,0));var d={};z(a,\"object\")&&!z(a,\"array\")?d=a:null!=a&&(d={points:a});return this.el(\"polyline\",d)};\n",
        "w.polygon=function(a){1<arguments.length&&(a=Array.prototype.slice.call(arguments,0));var d={};z(a,\"object\")&&!z(a,\"array\")?d=a:null!=a&&(d={points:a});return this.el(\"polygon\",d)};(function(){function d(){return this.selectAll(\"stop\")}function n(b,d){var f=e(\"stop\"),k={offset:+d+\"%\"};b=a.color(b);k[\"stop-color\"]=b.hex;1>b.opacity&&(k[\"stop-opacity\"]=b.opacity);e(f,k);this.node.appendChild(f);return this}function u(){if(\"linearGradient\"==this.type){var b=e(this.node,\"x1\")||0,d=e(this.node,\"x2\")||\n",
        "1,f=e(this.node,\"y1\")||0,k=e(this.node,\"y2\")||0;return a._.box(b,f,math.abs(d-b),math.abs(k-f))}b=this.node.r||0;return a._.box((this.node.cx||0.5)-b,(this.node.cy||0.5)-b,2*b,2*b)}function p(a,d){function f(a,b){for(var d=(b-u)/(a-w),e=w;e<a;e++)h[e].offset=+(+u+d*(e-w)).toFixed(2);w=a;u=b}var n=k(\"snap.util.grad.parse\",null,d).firstDefined(),p;if(!n)return null;n.params.unshift(a);p=\"l\"==n.type.toLowerCase()?b.apply(0,n.params):q.apply(0,n.params);n.type!=n.type.toLowerCase()&&e(p.node,{gradientUnits:\"userSpaceOnUse\"});\n",
        "var h=n.stops,n=h.length,u=0,w=0;n--;for(var v=0;v<n;v++)\"offset\"in h[v]&&f(v,h[v].offset);h[n].offset=h[n].offset||100;f(n,h[n].offset);for(v=0;v<=n;v++){var y=h[v];p.addStop(y.color,y.offset)}return p}function b(b,k,p,q,w){b=a._.make(\"linearGradient\",b);b.stops=d;b.addStop=n;b.getBBox=u;null!=k&&e(b.node,{x1:k,y1:p,x2:q,y2:w});return b}function q(b,k,p,q,w,h){b=a._.make(\"radialGradient\",b);b.stops=d;b.addStop=n;b.getBBox=u;null!=k&&e(b.node,{cx:k,cy:p,r:q});null!=w&&null!=h&&e(b.node,{fx:w,fy:h});\n",
        "return b}var e=a._.$;w.gradient=function(a){return p(this.defs,a)};w.gradientLinear=function(a,d,e,f){return b(this.defs,a,d,e,f)};w.gradientRadial=function(a,b,d,e,f){return q(this.defs,a,b,d,e,f)};w.toString=function(){var b=this.node.ownerDocument,d=b.createDocumentFragment(),b=b.createElement(\"div\"),e=this.node.cloneNode(!0);d.appendChild(b);b.appendChild(e);a._.$(e,{xmlns:\"http://www.w3.org/2000/svg\"});b=b.innerHTML;d.removeChild(d.firstChild);return b};w.clear=function(){for(var a=this.node.firstChild,\n",
        "b;a;)b=a.nextSibling,\"defs\"!=a.tagName?a.parentNode.removeChild(a):w.clear.call({node:a}),a=b}})()});C.plugin(function(a,k,y,M){function A(a){var b=A.ps=A.ps||{};b[a]?b[a].sleep=100:b[a]={sleep:100};setTimeout(function(){for(var d in b)b[L](d)&&d!=a&&(b[d].sleep--,!b[d].sleep&&delete b[d])});return b[a]}function w(a,b,d,e){null==a&&(a=b=d=e=0);null==b&&(b=a.y,d=a.width,e=a.height,a=a.x);return{x:a,y:b,width:d,w:d,height:e,h:e,x2:a+d,y2:b+e,cx:a+d/2,cy:b+e/2,r1:F.min(d,e)/2,r2:F.max(d,e)/2,r0:F.sqrt(d*\n",
        "d+e*e)/2,path:s(a,b,d,e),vb:[a,b,d,e].join(\" \")}}function z(){return this.join(\",\").replace(N,\"$1\")}function d(a){a=C(a);a.toString=z;return a}function f(a,b,d,h,f,k,l,n,p){if(null==p)return e(a,b,d,h,f,k,l,n);if(0>p||e(a,b,d,h,f,k,l,n)<p)p=void 0;else{var q=0.5,O=1-q,s;for(s=e(a,b,d,h,f,k,l,n,O);0.01<Z(s-p);)q/=2,O+=(s<p?1:-1)*q,s=e(a,b,d,h,f,k,l,n,O);p=O}return u(a,b,d,h,f,k,l,n,p)}function n(b,d){function e(a){return+(+a).toFixed(3)}return a._.cacher(function(a,h,l){a instanceof k&&(a=a.attr(\"d\"));\n",
        "a=I(a);for(var n,p,D,q,O=\"\",s={},c=0,t=0,r=a.length;t<r;t++){D=a[t];if(\"M\"==D[0])n=+D[1],p=+D[2];else{q=f(n,p,D[1],D[2],D[3],D[4],D[5],D[6]);if(c+q>h){if(d&&!s.start){n=f(n,p,D[1],D[2],D[3],D[4],D[5],D[6],h-c);O+=[\"C\"+e(n.start.x),e(n.start.y),e(n.m.x),e(n.m.y),e(n.x),e(n.y)];if(l)return O;s.start=O;O=[\"M\"+e(n.x),e(n.y)+\"C\"+e(n.n.x),e(n.n.y),e(n.end.x),e(n.end.y),e(D[5]),e(D[6])].join();c+=q;n=+D[5];p=+D[6];continue}if(!b&&!d)return n=f(n,p,D[1],D[2],D[3],D[4],D[5],D[6],h-c)}c+=q;n=+D[5];p=+D[6]}O+=\n",
        "D.shift()+D}s.end=O;return n=b?c:d?s:u(n,p,D[0],D[1],D[2],D[3],D[4],D[5],1)},null,a._.clone)}function u(a,b,d,e,h,f,k,l,n){var p=1-n,q=ma(p,3),s=ma(p,2),c=n*n,t=c*n,r=q*a+3*s*n*d+3*p*n*n*h+t*k,q=q*b+3*s*n*e+3*p*n*n*f+t*l,s=a+2*n*(d-a)+c*(h-2*d+a),t=b+2*n*(e-b)+c*(f-2*e+b),x=d+2*n*(h-d)+c*(k-2*h+d),c=e+2*n*(f-e)+c*(l-2*f+e);a=p*a+n*d;b=p*b+n*e;h=p*h+n*k;f=p*f+n*l;l=90-180*F.atan2(s-x,t-c)/S;return{x:r,y:q,m:{x:s,y:t},n:{x:x,y:c},start:{x:a,y:b},end:{x:h,y:f},alpha:l}}function p(b,d,e,h,f,n,k,l){a.is(b,\n",
        "\"array\")||(b=[b,d,e,h,f,n,k,l]);b=U.apply(null,b);return w(b.min.x,b.min.y,b.max.x-b.min.x,b.max.y-b.min.y)}function b(a,b,d){return b>=a.x&&b<=a.x+a.width&&d>=a.y&&d<=a.y+a.height}function q(a,d){a=w(a);d=w(d);return b(d,a.x,a.y)||b(d,a.x2,a.y)||b(d,a.x,a.y2)||b(d,a.x2,a.y2)||b(a,d.x,d.y)||b(a,d.x2,d.y)||b(a,d.x,d.y2)||b(a,d.x2,d.y2)||(a.x<d.x2&&a.x>d.x||d.x<a.x2&&d.x>a.x)&&(a.y<d.y2&&a.y>d.y||d.y<a.y2&&d.y>a.y)}function e(a,b,d,e,h,f,n,k,l){null==l&&(l=1);l=(1<l?1:0>l?0:l)/2;for(var p=[-0.1252,\n",
        "0.1252,-0.3678,0.3678,-0.5873,0.5873,-0.7699,0.7699,-0.9041,0.9041,-0.9816,0.9816],q=[0.2491,0.2491,0.2335,0.2335,0.2032,0.2032,0.1601,0.1601,0.1069,0.1069,0.0472,0.0472],s=0,c=0;12>c;c++)var t=l*p[c]+l,r=t*(t*(-3*a+9*d-9*h+3*n)+6*a-12*d+6*h)-3*a+3*d,t=t*(t*(-3*b+9*e-9*f+3*k)+6*b-12*e+6*f)-3*b+3*e,s=s+q[c]*F.sqrt(r*r+t*t);return l*s}function l(a,b,d){a=I(a);b=I(b);for(var h,f,l,n,k,s,r,O,x,c,t=d?0:[],w=0,v=a.length;w<v;w++)if(x=a[w],\"M\"==x[0])h=k=x[1],f=s=x[2];else{\"C\"==x[0]?(x=[h,f].concat(x.slice(1)),\n",
        "h=x[6],f=x[7]):(x=[h,f,h,f,k,s,k,s],h=k,f=s);for(var G=0,y=b.length;G<y;G++)if(c=b[G],\"M\"==c[0])l=r=c[1],n=O=c[2];else{\"C\"==c[0]?(c=[l,n].concat(c.slice(1)),l=c[6],n=c[7]):(c=[l,n,l,n,r,O,r,O],l=r,n=O);var z;var K=x,B=c;z=d;var H=p(K),J=p(B);if(q(H,J)){for(var H=e.apply(0,K),J=e.apply(0,B),H=~~(H/8),J=~~(J/8),U=[],A=[],F={},M=z?0:[],P=0;P<H+1;P++){var C=u.apply(0,K.concat(P/H));U.push({x:C.x,y:C.y,t:P/H})}for(P=0;P<J+1;P++)C=u.apply(0,B.concat(P/J)),A.push({x:C.x,y:C.y,t:P/J});for(P=0;P<H;P++)for(K=\n",
        "0;K<J;K++){var Q=U[P],L=U[P+1],B=A[K],C=A[K+1],N=0.001>Z(L.x-Q.x)?\"y\":\"x\",S=0.001>Z(C.x-B.x)?\"y\":\"x\",R;R=Q.x;var Y=Q.y,V=L.x,ea=L.y,fa=B.x,ga=B.y,ha=C.x,ia=C.y;if(W(R,V)<X(fa,ha)||X(R,V)>W(fa,ha)||W(Y,ea)<X(ga,ia)||X(Y,ea)>W(ga,ia))R=void 0;else{var $=(R*ea-Y*V)*(fa-ha)-(R-V)*(fa*ia-ga*ha),aa=(R*ea-Y*V)*(ga-ia)-(Y-ea)*(fa*ia-ga*ha),ja=(R-V)*(ga-ia)-(Y-ea)*(fa-ha);if(ja){var $=$/ja,aa=aa/ja,ja=+$.toFixed(2),ba=+aa.toFixed(2);R=ja<+X(R,V).toFixed(2)||ja>+W(R,V).toFixed(2)||ja<+X(fa,ha).toFixed(2)||\n",
        "ja>+W(fa,ha).toFixed(2)||ba<+X(Y,ea).toFixed(2)||ba>+W(Y,ea).toFixed(2)||ba<+X(ga,ia).toFixed(2)||ba>+W(ga,ia).toFixed(2)?void 0:{x:$,y:aa}}else R=void 0}R&&F[R.x.toFixed(4)]!=R.y.toFixed(4)&&(F[R.x.toFixed(4)]=R.y.toFixed(4),Q=Q.t+Z((R[N]-Q[N])/(L[N]-Q[N]))*(L.t-Q.t),B=B.t+Z((R[S]-B[S])/(C[S]-B[S]))*(C.t-B.t),0<=Q&&1>=Q&&0<=B&&1>=B&&(z?M++:M.push({x:R.x,y:R.y,t1:Q,t2:B})))}z=M}else z=z?0:[];if(d)t+=z;else{H=0;for(J=z.length;H<J;H++)z[H].segment1=w,z[H].segment2=G,z[H].bez1=x,z[H].bez2=c;t=t.concat(z)}}}return t}\n",
        "function r(a){var b=A(a);if(b.bbox)return C(b.bbox);if(!a)return w();a=I(a);for(var d=0,e=0,h=[],f=[],l,n=0,k=a.length;n<k;n++)l=a[n],\"M\"==l[0]?(d=l[1],e=l[2],h.push(d),f.push(e)):(d=U(d,e,l[1],l[2],l[3],l[4],l[5],l[6]),h=h.concat(d.min.x,d.max.x),f=f.concat(d.min.y,d.max.y),d=l[5],e=l[6]);a=X.apply(0,h);l=X.apply(0,f);h=W.apply(0,h);f=W.apply(0,f);f=w(a,l,h-a,f-l);b.bbox=C(f);return f}function s(a,b,d,e,h){if(h)return[[\"M\",+a+ +h,b],[\"l\",d-2*h,0],[\"a\",h,h,0,0,1,h,h],[\"l\",0,e-2*h],[\"a\",h,h,0,0,1,\n",
        "-h,h],[\"l\",2*h-d,0],[\"a\",h,h,0,0,1,-h,-h],[\"l\",0,2*h-e],[\"a\",h,h,0,0,1,h,-h],[\"z\"] ];a=[[\"M\",a,b],[\"l\",d,0],[\"l\",0,e],[\"l\",-d,0],[\"z\"] ];a.toString=z;return a}function x(a,b,d,e,h){null==h&&null==e&&(e=d);a=+a;b=+b;d=+d;e=+e;if(null!=h){var f=Math.PI/180,l=a+d*Math.cos(-e*f);a+=d*Math.cos(-h*f);var n=b+d*Math.sin(-e*f);b+=d*Math.sin(-h*f);d=[[\"M\",l,n],[\"A\",d,d,0,+(180<h-e),0,a,b] ]}else d=[[\"M\",a,b],[\"m\",0,-e],[\"a\",d,e,0,1,1,0,2*e],[\"a\",d,e,0,1,1,0,-2*e],[\"z\"] ];d.toString=z;return d}function G(b){var e=\n",
        "A(b);if(e.abs)return d(e.abs);Q(b,\"array\")&&Q(b&&b[0],\"array\")||(b=a.parsePathString(b));if(!b||!b.length)return[[\"M\",0,0] ];var h=[],f=0,l=0,n=0,k=0,p=0;\"M\"==b[0][0]&&(f=+b[0][1],l=+b[0][2],n=f,k=l,p++,h[0]=[\"M\",f,l]);for(var q=3==b.length&&\"M\"==b[0][0]&&\"R\"==b[1][0].toUpperCase()&&\"Z\"==b[2][0].toUpperCase(),s,r,w=p,c=b.length;w<c;w++){h.push(s=[]);r=b[w];p=r[0];if(p!=p.toUpperCase())switch(s[0]=p.toUpperCase(),s[0]){case \"A\":s[1]=r[1];s[2]=r[2];s[3]=r[3];s[4]=r[4];s[5]=r[5];s[6]=+r[6]+f;s[7]=+r[7]+\n",
        "l;break;case \"V\":s[1]=+r[1]+l;break;case \"H\":s[1]=+r[1]+f;break;case \"R\":for(var t=[f,l].concat(r.slice(1)),u=2,v=t.length;u<v;u++)t[u]=+t[u]+f,t[++u]=+t[u]+l;h.pop();h=h.concat(P(t,q));break;case \"O\":h.pop();t=x(f,l,r[1],r[2]);t.push(t[0]);h=h.concat(t);break;case \"U\":h.pop();h=h.concat(x(f,l,r[1],r[2],r[3]));s=[\"U\"].concat(h[h.length-1].slice(-2));break;case \"M\":n=+r[1]+f,k=+r[2]+l;default:for(u=1,v=r.length;u<v;u++)s[u]=+r[u]+(u%2?f:l)}else if(\"R\"==p)t=[f,l].concat(r.slice(1)),h.pop(),h=h.concat(P(t,\n",
        "q)),s=[\"R\"].concat(r.slice(-2));else if(\"O\"==p)h.pop(),t=x(f,l,r[1],r[2]),t.push(t[0]),h=h.concat(t);else if(\"U\"==p)h.pop(),h=h.concat(x(f,l,r[1],r[2],r[3])),s=[\"U\"].concat(h[h.length-1].slice(-2));else for(t=0,u=r.length;t<u;t++)s[t]=r[t];p=p.toUpperCase();if(\"O\"!=p)switch(s[0]){case \"Z\":f=+n;l=+k;break;case \"H\":f=s[1];break;case \"V\":l=s[1];break;case \"M\":n=s[s.length-2],k=s[s.length-1];default:f=s[s.length-2],l=s[s.length-1]}}h.toString=z;e.abs=d(h);return h}function h(a,b,d,e){return[a,b,d,e,d,\n",
        "e]}function J(a,b,d,e,h,f){var l=1/3,n=2/3;return[l*a+n*d,l*b+n*e,l*h+n*d,l*f+n*e,h,f]}function K(b,d,e,h,f,l,n,k,p,s){var r=120*S/180,q=S/180*(+f||0),c=[],t,x=a._.cacher(function(a,b,c){var d=a*F.cos(c)-b*F.sin(c);a=a*F.sin(c)+b*F.cos(c);return{x:d,y:a}});if(s)v=s[0],t=s[1],l=s[2],u=s[3];else{t=x(b,d,-q);b=t.x;d=t.y;t=x(k,p,-q);k=t.x;p=t.y;F.cos(S/180*f);F.sin(S/180*f);t=(b-k)/2;v=(d-p)/2;u=t*t/(e*e)+v*v/(h*h);1<u&&(u=F.sqrt(u),e*=u,h*=u);var u=e*e,w=h*h,u=(l==n?-1:1)*F.sqrt(Z((u*w-u*v*v-w*t*t)/\n",
        "(u*v*v+w*t*t)));l=u*e*v/h+(b+k)/2;var u=u*-h*t/e+(d+p)/2,v=F.asin(((d-u)/h).toFixed(9));t=F.asin(((p-u)/h).toFixed(9));v=b<l?S-v:v;t=k<l?S-t:t;0>v&&(v=2*S+v);0>t&&(t=2*S+t);n&&v>t&&(v-=2*S);!n&&t>v&&(t-=2*S)}if(Z(t-v)>r){var c=t,w=k,G=p;t=v+r*(n&&t>v?1:-1);k=l+e*F.cos(t);p=u+h*F.sin(t);c=K(k,p,e,h,f,0,n,w,G,[t,c,l,u])}l=t-v;f=F.cos(v);r=F.sin(v);n=F.cos(t);t=F.sin(t);l=F.tan(l/4);e=4/3*e*l;l*=4/3*h;h=[b,d];b=[b+e*r,d-l*f];d=[k+e*t,p-l*n];k=[k,p];b[0]=2*h[0]-b[0];b[1]=2*h[1]-b[1];if(s)return[b,d,k].concat(c);\n",
        "c=[b,d,k].concat(c).join().split(\",\");s=[];k=0;for(p=c.length;k<p;k++)s[k]=k%2?x(c[k-1],c[k],q).y:x(c[k],c[k+1],q).x;return s}function U(a,b,d,e,h,f,l,k){for(var n=[],p=[[],[] ],s,r,c,t,q=0;2>q;++q)0==q?(r=6*a-12*d+6*h,s=-3*a+9*d-9*h+3*l,c=3*d-3*a):(r=6*b-12*e+6*f,s=-3*b+9*e-9*f+3*k,c=3*e-3*b),1E-12>Z(s)?1E-12>Z(r)||(s=-c/r,0<s&&1>s&&n.push(s)):(t=r*r-4*c*s,c=F.sqrt(t),0>t||(t=(-r+c)/(2*s),0<t&&1>t&&n.push(t),s=(-r-c)/(2*s),0<s&&1>s&&n.push(s)));for(r=q=n.length;q--;)s=n[q],c=1-s,p[0][q]=c*c*c*a+3*\n",
        "c*c*s*d+3*c*s*s*h+s*s*s*l,p[1][q]=c*c*c*b+3*c*c*s*e+3*c*s*s*f+s*s*s*k;p[0][r]=a;p[1][r]=b;p[0][r+1]=l;p[1][r+1]=k;p[0].length=p[1].length=r+2;return{min:{x:X.apply(0,p[0]),y:X.apply(0,p[1])},max:{x:W.apply(0,p[0]),y:W.apply(0,p[1])}}}function I(a,b){var e=!b&&A(a);if(!b&&e.curve)return d(e.curve);var f=G(a),l=b&&G(b),n={x:0,y:0,bx:0,by:0,X:0,Y:0,qx:null,qy:null},k={x:0,y:0,bx:0,by:0,X:0,Y:0,qx:null,qy:null},p=function(a,b,c){if(!a)return[\"C\",b.x,b.y,b.x,b.y,b.x,b.y];a[0]in{T:1,Q:1}||(b.qx=b.qy=null);\n",
        "switch(a[0]){case \"M\":b.X=a[1];b.Y=a[2];break;case \"A\":a=[\"C\"].concat(K.apply(0,[b.x,b.y].concat(a.slice(1))));break;case \"S\":\"C\"==c||\"S\"==c?(c=2*b.x-b.bx,b=2*b.y-b.by):(c=b.x,b=b.y);a=[\"C\",c,b].concat(a.slice(1));break;case \"T\":\"Q\"==c||\"T\"==c?(b.qx=2*b.x-b.qx,b.qy=2*b.y-b.qy):(b.qx=b.x,b.qy=b.y);a=[\"C\"].concat(J(b.x,b.y,b.qx,b.qy,a[1],a[2]));break;case \"Q\":b.qx=a[1];b.qy=a[2];a=[\"C\"].concat(J(b.x,b.y,a[1],a[2],a[3],a[4]));break;case \"L\":a=[\"C\"].concat(h(b.x,b.y,a[1],a[2]));break;case \"H\":a=[\"C\"].concat(h(b.x,\n",
        "b.y,a[1],b.y));break;case \"V\":a=[\"C\"].concat(h(b.x,b.y,b.x,a[1]));break;case \"Z\":a=[\"C\"].concat(h(b.x,b.y,b.X,b.Y))}return a},s=function(a,b){if(7<a[b].length){a[b].shift();for(var c=a[b];c.length;)q[b]=\"A\",l&&(u[b]=\"A\"),a.splice(b++,0,[\"C\"].concat(c.splice(0,6)));a.splice(b,1);v=W(f.length,l&&l.length||0)}},r=function(a,b,c,d,e){a&&b&&\"M\"==a[e][0]&&\"M\"!=b[e][0]&&(b.splice(e,0,[\"M\",d.x,d.y]),c.bx=0,c.by=0,c.x=a[e][1],c.y=a[e][2],v=W(f.length,l&&l.length||0))},q=[],u=[],c=\"\",t=\"\",x=0,v=W(f.length,\n",
        "l&&l.length||0);for(;x<v;x++){f[x]&&(c=f[x][0]);\"C\"!=c&&(q[x]=c,x&&(t=q[x-1]));f[x]=p(f[x],n,t);\"A\"!=q[x]&&\"C\"==c&&(q[x]=\"C\");s(f,x);l&&(l[x]&&(c=l[x][0]),\"C\"!=c&&(u[x]=c,x&&(t=u[x-1])),l[x]=p(l[x],k,t),\"A\"!=u[x]&&\"C\"==c&&(u[x]=\"C\"),s(l,x));r(f,l,n,k,x);r(l,f,k,n,x);var w=f[x],z=l&&l[x],y=w.length,U=l&&z.length;n.x=w[y-2];n.y=w[y-1];n.bx=$(w[y-4])||n.x;n.by=$(w[y-3])||n.y;k.bx=l&&($(z[U-4])||k.x);k.by=l&&($(z[U-3])||k.y);k.x=l&&z[U-2];k.y=l&&z[U-1]}l||(e.curve=d(f));return l?[f,l]:f}function P(a,\n",
        "b){for(var d=[],e=0,h=a.length;h-2*!b>e;e+=2){var f=[{x:+a[e-2],y:+a[e-1]},{x:+a[e],y:+a[e+1]},{x:+a[e+2],y:+a[e+3]},{x:+a[e+4],y:+a[e+5]}];b?e?h-4==e?f[3]={x:+a[0],y:+a[1]}:h-2==e&&(f[2]={x:+a[0],y:+a[1]},f[3]={x:+a[2],y:+a[3]}):f[0]={x:+a[h-2],y:+a[h-1]}:h-4==e?f[3]=f[2]:e||(f[0]={x:+a[e],y:+a[e+1]});d.push([\"C\",(-f[0].x+6*f[1].x+f[2].x)/6,(-f[0].y+6*f[1].y+f[2].y)/6,(f[1].x+6*f[2].x-f[3].x)/6,(f[1].y+6*f[2].y-f[3].y)/6,f[2].x,f[2].y])}return d}y=k.prototype;var Q=a.is,C=a._.clone,L=\"hasOwnProperty\",\n",
        "N=/,?([a-z]),?/gi,$=parseFloat,F=Math,S=F.PI,X=F.min,W=F.max,ma=F.pow,Z=F.abs;M=n(1);var na=n(),ba=n(0,1),V=a._unit2px;a.path=A;a.path.getTotalLength=M;a.path.getPointAtLength=na;a.path.getSubpath=function(a,b,d){if(1E-6>this.getTotalLength(a)-d)return ba(a,b).end;a=ba(a,d,1);return b?ba(a,b).end:a};y.getTotalLength=function(){if(this.node.getTotalLength)return this.node.getTotalLength()};y.getPointAtLength=function(a){return na(this.attr(\"d\"),a)};y.getSubpath=function(b,d){return a.path.getSubpath(this.attr(\"d\"),\n",
        "b,d)};a._.box=w;a.path.findDotsAtSegment=u;a.path.bezierBBox=p;a.path.isPointInsideBBox=b;a.path.isBBoxIntersect=q;a.path.intersection=function(a,b){return l(a,b)};a.path.intersectionNumber=function(a,b){return l(a,b,1)};a.path.isPointInside=function(a,d,e){var h=r(a);return b(h,d,e)&&1==l(a,[[\"M\",d,e],[\"H\",h.x2+10] ],1)%2};a.path.getBBox=r;a.path.get={path:function(a){return a.attr(\"path\")},circle:function(a){a=V(a);return x(a.cx,a.cy,a.r)},ellipse:function(a){a=V(a);return x(a.cx||0,a.cy||0,a.rx,\n",
        "a.ry)},rect:function(a){a=V(a);return s(a.x||0,a.y||0,a.width,a.height,a.rx,a.ry)},image:function(a){a=V(a);return s(a.x||0,a.y||0,a.width,a.height)},line:function(a){return\"M\"+[a.attr(\"x1\")||0,a.attr(\"y1\")||0,a.attr(\"x2\"),a.attr(\"y2\")]},polyline:function(a){return\"M\"+a.attr(\"points\")},polygon:function(a){return\"M\"+a.attr(\"points\")+\"z\"},deflt:function(a){a=a.node.getBBox();return s(a.x,a.y,a.width,a.height)}};a.path.toRelative=function(b){var e=A(b),h=String.prototype.toLowerCase;if(e.rel)return d(e.rel);\n",
        "a.is(b,\"array\")&&a.is(b&&b[0],\"array\")||(b=a.parsePathString(b));var f=[],l=0,n=0,k=0,p=0,s=0;\"M\"==b[0][0]&&(l=b[0][1],n=b[0][2],k=l,p=n,s++,f.push([\"M\",l,n]));for(var r=b.length;s<r;s++){var q=f[s]=[],x=b[s];if(x[0]!=h.call(x[0]))switch(q[0]=h.call(x[0]),q[0]){case \"a\":q[1]=x[1];q[2]=x[2];q[3]=x[3];q[4]=x[4];q[5]=x[5];q[6]=+(x[6]-l).toFixed(3);q[7]=+(x[7]-n).toFixed(3);break;case \"v\":q[1]=+(x[1]-n).toFixed(3);break;case \"m\":k=x[1],p=x[2];default:for(var c=1,t=x.length;c<t;c++)q[c]=+(x[c]-(c%2?l:\n",
        "n)).toFixed(3)}else for(f[s]=[],\"m\"==x[0]&&(k=x[1]+l,p=x[2]+n),q=0,c=x.length;q<c;q++)f[s][q]=x[q];x=f[s].length;switch(f[s][0]){case \"z\":l=k;n=p;break;case \"h\":l+=+f[s][x-1];break;case \"v\":n+=+f[s][x-1];break;default:l+=+f[s][x-2],n+=+f[s][x-1]}}f.toString=z;e.rel=d(f);return f};a.path.toAbsolute=G;a.path.toCubic=I;a.path.map=function(a,b){if(!b)return a;var d,e,h,f,l,n,k;a=I(a);h=0;for(l=a.length;h<l;h++)for(k=a[h],f=1,n=k.length;f<n;f+=2)d=b.x(k[f],k[f+1]),e=b.y(k[f],k[f+1]),k[f]=d,k[f+1]=e;return a};\n",
        "a.path.toString=z;a.path.clone=d});C.plugin(function(a,v,y,C){var A=Math.max,w=Math.min,z=function(a){this.items=[];this.bindings={};this.length=0;this.type=\"set\";if(a)for(var f=0,n=a.length;f<n;f++)a[f]&&(this[this.items.length]=this.items[this.items.length]=a[f],this.length++)};v=z.prototype;v.push=function(){for(var a,f,n=0,k=arguments.length;n<k;n++)if(a=arguments[n])f=this.items.length,this[f]=this.items[f]=a,this.length++;return this};v.pop=function(){this.length&&delete this[this.length--];\n",
        "return this.items.pop()};v.forEach=function(a,f){for(var n=0,k=this.items.length;n<k&&!1!==a.call(f,this.items[n],n);n++);return this};v.animate=function(d,f,n,u){\"function\"!=typeof n||n.length||(u=n,n=L.linear);d instanceof a._.Animation&&(u=d.callback,n=d.easing,f=n.dur,d=d.attr);var p=arguments;if(a.is(d,\"array\")&&a.is(p[p.length-1],\"array\"))var b=!0;var q,e=function(){q?this.b=q:q=this.b},l=0,r=u&&function(){l++==this.length&&u.call(this)};return this.forEach(function(a,l){k.once(\"snap.animcreated.\"+\n",
        "a.id,e);b?p[l]&&a.animate.apply(a,p[l]):a.animate(d,f,n,r)})};v.remove=function(){for(;this.length;)this.pop().remove();return this};v.bind=function(a,f,k){var u={};if(\"function\"==typeof f)this.bindings[a]=f;else{var p=k||a;this.bindings[a]=function(a){u[p]=a;f.attr(u)}}return this};v.attr=function(a){var f={},k;for(k in a)if(this.bindings[k])this.bindings[k](a[k]);else f[k]=a[k];a=0;for(k=this.items.length;a<k;a++)this.items[a].attr(f);return this};v.clear=function(){for(;this.length;)this.pop()};\n",
        "v.splice=function(a,f,k){a=0>a?A(this.length+a,0):a;f=A(0,w(this.length-a,f));var u=[],p=[],b=[],q;for(q=2;q<arguments.length;q++)b.push(arguments[q]);for(q=0;q<f;q++)p.push(this[a+q]);for(;q<this.length-a;q++)u.push(this[a+q]);var e=b.length;for(q=0;q<e+u.length;q++)this.items[a+q]=this[a+q]=q<e?b[q]:u[q-e];for(q=this.items.length=this.length-=f-e;this[q];)delete this[q++];return new z(p)};v.exclude=function(a){for(var f=0,k=this.length;f<k;f++)if(this[f]==a)return this.splice(f,1),!0;return!1};\n",
        "v.insertAfter=function(a){for(var f=this.items.length;f--;)this.items[f].insertAfter(a);return this};v.getBBox=function(){for(var a=[],f=[],k=[],u=[],p=this.items.length;p--;)if(!this.items[p].removed){var b=this.items[p].getBBox();a.push(b.x);f.push(b.y);k.push(b.x+b.width);u.push(b.y+b.height)}a=w.apply(0,a);f=w.apply(0,f);k=A.apply(0,k);u=A.apply(0,u);return{x:a,y:f,x2:k,y2:u,width:k-a,height:u-f,cx:a+(k-a)/2,cy:f+(u-f)/2}};v.clone=function(a){a=new z;for(var f=0,k=this.items.length;f<k;f++)a.push(this.items[f].clone());\n",
        "return a};v.toString=function(){return\"Snap\\u2018s set\"};v.type=\"set\";a.set=function(){var a=new z;arguments.length&&a.push.apply(a,Array.prototype.slice.call(arguments,0));return a}});C.plugin(function(a,v,y,C){function A(a){var b=a[0];switch(b.toLowerCase()){case \"t\":return[b,0,0];case \"m\":return[b,1,0,0,1,0,0];case \"r\":return 4==a.length?[b,0,a[2],a[3] ]:[b,0];case \"s\":return 5==a.length?[b,1,1,a[3],a[4] ]:3==a.length?[b,1,1]:[b,1]}}function w(b,d,f){d=q(d).replace(/\\.{3}|\\u2026/g,b);b=a.parseTransformString(b)||\n",
        "[];d=a.parseTransformString(d)||[];for(var k=Math.max(b.length,d.length),p=[],v=[],h=0,w,z,y,I;h<k;h++){y=b[h]||A(d[h]);I=d[h]||A(y);if(y[0]!=I[0]||\"r\"==y[0].toLowerCase()&&(y[2]!=I[2]||y[3]!=I[3])||\"s\"==y[0].toLowerCase()&&(y[3]!=I[3]||y[4]!=I[4])){b=a._.transform2matrix(b,f());d=a._.transform2matrix(d,f());p=[[\"m\",b.a,b.b,b.c,b.d,b.e,b.f] ];v=[[\"m\",d.a,d.b,d.c,d.d,d.e,d.f] ];break}p[h]=[];v[h]=[];w=0;for(z=Math.max(y.length,I.length);w<z;w++)w in y&&(p[h][w]=y[w]),w in I&&(v[h][w]=I[w])}return{from:u(p),\n",
        "to:u(v),f:n(p)}}function z(a){return a}function d(a){return function(b){return+b.toFixed(3)+a}}function f(b){return a.rgb(b[0],b[1],b[2])}function n(a){var b=0,d,f,k,n,h,p,q=[];d=0;for(f=a.length;d<f;d++){h=\"[\";p=['\"'+a[d][0]+'\"'];k=1;for(n=a[d].length;k<n;k++)p[k]=\"val[\"+b++ +\"]\";h+=p+\"]\";q[d]=h}return Function(\"val\",\"return Snap.path.toString.call([\"+q+\"])\")}function u(a){for(var b=[],d=0,f=a.length;d<f;d++)for(var k=1,n=a[d].length;k<n;k++)b.push(a[d][k]);return b}var p={},b=/[a-z]+$/i,q=String;\n",
        "p.stroke=p.fill=\"colour\";v.prototype.equal=function(a,b){return k(\"snap.util.equal\",this,a,b).firstDefined()};k.on(\"snap.util.equal\",function(e,k){var r,s;r=q(this.attr(e)||\"\");var x=this;if(r==+r&&k==+k)return{from:+r,to:+k,f:z};if(\"colour\"==p[e])return r=a.color(r),s=a.color(k),{from:[r.r,r.g,r.b,r.opacity],to:[s.r,s.g,s.b,s.opacity],f:f};if(\"transform\"==e||\"gradientTransform\"==e||\"patternTransform\"==e)return k instanceof a.Matrix&&(k=k.toTransformString()),a._.rgTransform.test(k)||(k=a._.svgTransform2string(k)),\n",
        "w(r,k,function(){return x.getBBox(1)});if(\"d\"==e||\"path\"==e)return r=a.path.toCubic(r,k),{from:u(r[0]),to:u(r[1]),f:n(r[0])};if(\"points\"==e)return r=q(r).split(a._.separator),s=q(k).split(a._.separator),{from:r,to:s,f:function(a){return a}};aUnit=r.match(b);s=q(k).match(b);return aUnit&&aUnit==s?{from:parseFloat(r),to:parseFloat(k),f:d(aUnit)}:{from:this.asPX(e),to:this.asPX(e,k),f:z}})});C.plugin(function(a,v,y,C){var A=v.prototype,w=\"createTouch\"in C.doc;v=\"click dblclick mousedown mousemove mouseout mouseover mouseup touchstart touchmove touchend touchcancel\".split(\" \");\n",
        "var z={mousedown:\"touchstart\",mousemove:\"touchmove\",mouseup:\"touchend\"},d=function(a,b){var d=\"y\"==a?\"scrollTop\":\"scrollLeft\",e=b&&b.node?b.node.ownerDocument:C.doc;return e[d in e.documentElement?\"documentElement\":\"body\"][d]},f=function(){this.returnValue=!1},n=function(){return this.originalEvent.preventDefault()},u=function(){this.cancelBubble=!0},p=function(){return this.originalEvent.stopPropagation()},b=function(){if(C.doc.addEventListener)return function(a,b,e,f){var k=w&&z[b]?z[b]:b,l=function(k){var l=\n",
        "d(\"y\",f),q=d(\"x\",f);if(w&&z.hasOwnProperty(b))for(var r=0,u=k.targetTouches&&k.targetTouches.length;r<u;r++)if(k.targetTouches[r].target==a||a.contains(k.targetTouches[r].target)){u=k;k=k.targetTouches[r];k.originalEvent=u;k.preventDefault=n;k.stopPropagation=p;break}return e.call(f,k,k.clientX+q,k.clientY+l)};b!==k&&a.addEventListener(b,l,!1);a.addEventListener(k,l,!1);return function(){b!==k&&a.removeEventListener(b,l,!1);a.removeEventListener(k,l,!1);return!0}};if(C.doc.attachEvent)return function(a,\n",
        "b,e,h){var k=function(a){a=a||h.node.ownerDocument.window.event;var b=d(\"y\",h),k=d(\"x\",h),k=a.clientX+k,b=a.clientY+b;a.preventDefault=a.preventDefault||f;a.stopPropagation=a.stopPropagation||u;return e.call(h,a,k,b)};a.attachEvent(\"on\"+b,k);return function(){a.detachEvent(\"on\"+b,k);return!0}}}(),q=[],e=function(a){for(var b=a.clientX,e=a.clientY,f=d(\"y\"),l=d(\"x\"),n,p=q.length;p--;){n=q[p];if(w)for(var r=a.touches&&a.touches.length,u;r--;){if(u=a.touches[r],u.identifier==n.el._drag.id||n.el.node.contains(u.target)){b=\n",
        "u.clientX;e=u.clientY;(a.originalEvent?a.originalEvent:a).preventDefault();break}}else a.preventDefault();b+=l;e+=f;k(\"snap.drag.move.\"+n.el.id,n.move_scope||n.el,b-n.el._drag.x,e-n.el._drag.y,b,e,a)}},l=function(b){a.unmousemove(e).unmouseup(l);for(var d=q.length,f;d--;)f=q[d],f.el._drag={},k(\"snap.drag.end.\"+f.el.id,f.end_scope||f.start_scope||f.move_scope||f.el,b);q=[]};for(y=v.length;y--;)(function(d){a[d]=A[d]=function(e,f){a.is(e,\"function\")&&(this.events=this.events||[],this.events.push({name:d,\n",
        "f:e,unbind:b(this.node||document,d,e,f||this)}));return this};a[\"un\"+d]=A[\"un\"+d]=function(a){for(var b=this.events||[],e=b.length;e--;)if(b[e].name==d&&(b[e].f==a||!a)){b[e].unbind();b.splice(e,1);!b.length&&delete this.events;break}return this}})(v[y]);A.hover=function(a,b,d,e){return this.mouseover(a,d).mouseout(b,e||d)};A.unhover=function(a,b){return this.unmouseover(a).unmouseout(b)};var r=[];A.drag=function(b,d,f,h,n,p){function u(r,v,w){(r.originalEvent||r).preventDefault();this._drag.x=v;\n",
        "this._drag.y=w;this._drag.id=r.identifier;!q.length&&a.mousemove(e).mouseup(l);q.push({el:this,move_scope:h,start_scope:n,end_scope:p});d&&k.on(\"snap.drag.start.\"+this.id,d);b&&k.on(\"snap.drag.move.\"+this.id,b);f&&k.on(\"snap.drag.end.\"+this.id,f);k(\"snap.drag.start.\"+this.id,n||h||this,v,w,r)}if(!arguments.length){var v;return this.drag(function(a,b){this.attr({transform:v+(v?\"T\":\"t\")+[a,b]})},function(){v=this.transform().local})}this._drag={};r.push({el:this,start:u});this.mousedown(u);return this};\n",
        "A.undrag=function(){for(var b=r.length;b--;)r[b].el==this&&(this.unmousedown(r[b].start),r.splice(b,1),k.unbind(\"snap.drag.*.\"+this.id));!r.length&&a.unmousemove(e).unmouseup(l);return this}});C.plugin(function(a,v,y,C){y=y.prototype;var A=/^\\s*url\\((.+)\\)/,w=String,z=a._.$;a.filter={};y.filter=function(d){var f=this;\"svg\"!=f.type&&(f=f.paper);d=a.parse(w(d));var k=a._.id(),u=z(\"filter\");z(u,{id:k,filterUnits:\"userSpaceOnUse\"});u.appendChild(d.node);f.defs.appendChild(u);return new v(u)};k.on(\"snap.util.getattr.filter\",\n",
        "function(){k.stop();var d=z(this.node,\"filter\");if(d)return(d=w(d).match(A))&&a.select(d[1])});k.on(\"snap.util.attr.filter\",function(d){if(d instanceof v&&\"filter\"==d.type){k.stop();var f=d.node.id;f||(z(d.node,{id:d.id}),f=d.id);z(this.node,{filter:a.url(f)})}d&&\"none\"!=d||(k.stop(),this.node.removeAttribute(\"filter\"))});a.filter.blur=function(d,f){null==d&&(d=2);return a.format('<feGaussianBlur stdDeviation=\"{def}\"/>',{def:null==f?d:[d,f]})};a.filter.blur.toString=function(){return this()};a.filter.shadow=\n",
        "function(d,f,k,u,p){\"string\"==typeof k&&(p=u=k,k=4);\"string\"!=typeof u&&(p=u,u=\"#000\");null==k&&(k=4);null==p&&(p=1);null==d&&(d=0,f=2);null==f&&(f=d);u=a.color(u||\"#000\");return a.format('<feGaussianBlur in=\"SourceAlpha\" stdDeviation=\"{blur}\"/><feOffset dx=\"{dx}\" dy=\"{dy}\" result=\"offsetblur\"/><feFlood flood-color=\"{color}\"/><feComposite in2=\"offsetblur\" operator=\"in\"/><feComponentTransfer><feFuncA type=\"linear\" slope=\"{opacity}\"/></feComponentTransfer><feMerge><feMergeNode/><feMergeNode in=\"SourceGraphic\"/></feMerge>',\n",
        "{color:u,dx:d,dy:f,blur:k,opacity:p})};a.filter.shadow.toString=function(){return this()};a.filter.grayscale=function(d){null==d&&(d=1);return a.format('<feColorMatrix type=\"matrix\" values=\"{a} {b} {c} 0 0 {d} {e} {f} 0 0 {g} {b} {h} 0 0 0 0 0 1 0\"/>',{a:0.2126+0.7874*(1-d),b:0.7152-0.7152*(1-d),c:0.0722-0.0722*(1-d),d:0.2126-0.2126*(1-d),e:0.7152+0.2848*(1-d),f:0.0722-0.0722*(1-d),g:0.2126-0.2126*(1-d),h:0.0722+0.9278*(1-d)})};a.filter.grayscale.toString=function(){return this()};a.filter.sepia=\n",
        "function(d){null==d&&(d=1);return a.format('<feColorMatrix type=\"matrix\" values=\"{a} {b} {c} 0 0 {d} {e} {f} 0 0 {g} {h} {i} 0 0 0 0 0 1 0\"/>',{a:0.393+0.607*(1-d),b:0.769-0.769*(1-d),c:0.189-0.189*(1-d),d:0.349-0.349*(1-d),e:0.686+0.314*(1-d),f:0.168-0.168*(1-d),g:0.272-0.272*(1-d),h:0.534-0.534*(1-d),i:0.131+0.869*(1-d)})};a.filter.sepia.toString=function(){return this()};a.filter.saturate=function(d){null==d&&(d=1);return a.format('<feColorMatrix type=\"saturate\" values=\"{amount}\"/>',{amount:1-\n",
        "d})};a.filter.saturate.toString=function(){return this()};a.filter.hueRotate=function(d){return a.format('<feColorMatrix type=\"hueRotate\" values=\"{angle}\"/>',{angle:d||0})};a.filter.hueRotate.toString=function(){return this()};a.filter.invert=function(d){null==d&&(d=1);return a.format('<feComponentTransfer><feFuncR type=\"table\" tableValues=\"{amount} {amount2}\"/><feFuncG type=\"table\" tableValues=\"{amount} {amount2}\"/><feFuncB type=\"table\" tableValues=\"{amount} {amount2}\"/></feComponentTransfer>',{amount:d,\n",
        "amount2:1-d})};a.filter.invert.toString=function(){return this()};a.filter.brightness=function(d){null==d&&(d=1);return a.format('<feComponentTransfer><feFuncR type=\"linear\" slope=\"{amount}\"/><feFuncG type=\"linear\" slope=\"{amount}\"/><feFuncB type=\"linear\" slope=\"{amount}\"/></feComponentTransfer>',{amount:d})};a.filter.brightness.toString=function(){return this()};a.filter.contrast=function(d){null==d&&(d=1);return a.format('<feComponentTransfer><feFuncR type=\"linear\" slope=\"{amount}\" intercept=\"{amount2}\"/><feFuncG type=\"linear\" slope=\"{amount}\" intercept=\"{amount2}\"/><feFuncB type=\"linear\" slope=\"{amount}\" intercept=\"{amount2}\"/></feComponentTransfer>',\n",
        "{amount:d,amount2:0.5-d/2})};a.filter.contrast.toString=function(){return this()}});return C});\n",
        "\n",
        "]]> </script>\n",
        "<script> <![CDATA[\n",
        "\n",
        "(function (glob, factory) {\n",
        "    // AMD support\n",
        "    if (typeof define === \"function\" && define.amd) {\n",
        "        // Define as an anonymous module\n",
        "        define(\"Gadfly\", [\"Snap.svg\"], function (Snap) {\n",
        "            return factory(Snap);\n",
        "        });\n",
        "    } else {\n",
        "        // Browser globals (glob is window)\n",
        "        // Snap adds itself to window\n",
        "        glob.Gadfly = factory(glob.Snap);\n",
        "    }\n",
        "}(this, function (Snap) {\n",
        "\n",
        "var Gadfly = {};\n",
        "\n",
        "// Get an x/y coordinate value in pixels\n",
        "var xPX = function(fig, x) {\n",
        "    var client_box = fig.node.getBoundingClientRect();\n",
        "    return x * fig.node.viewBox.baseVal.width / client_box.width;\n",
        "};\n",
        "\n",
        "var yPX = function(fig, y) {\n",
        "    var client_box = fig.node.getBoundingClientRect();\n",
        "    return y * fig.node.viewBox.baseVal.height / client_box.height;\n",
        "};\n",
        "\n",
        "\n",
        "Snap.plugin(function (Snap, Element, Paper, global) {\n",
        "    // Traverse upwards from a snap element to find and return the first\n",
        "    // note with the \"plotroot\" class.\n",
        "    Element.prototype.plotroot = function () {\n",
        "        var element = this;\n",
        "        while (!element.hasClass(\"plotroot\") && element.parent() != null) {\n",
        "            element = element.parent();\n",
        "        }\n",
        "        return element;\n",
        "    };\n",
        "\n",
        "    Element.prototype.svgroot = function () {\n",
        "        var element = this;\n",
        "        while (element.node.nodeName != \"svg\" && element.parent() != null) {\n",
        "            element = element.parent();\n",
        "        }\n",
        "        return element;\n",
        "    };\n",
        "\n",
        "    Element.prototype.plotbounds = function () {\n",
        "        var root = this.plotroot()\n",
        "        var bbox = root.select(\".guide.background\").node.getBBox();\n",
        "        return {\n",
        "            x0: bbox.x,\n",
        "            x1: bbox.x + bbox.width,\n",
        "            y0: bbox.y,\n",
        "            y1: bbox.y + bbox.height\n",
        "        };\n",
        "    };\n",
        "\n",
        "    Element.prototype.plotcenter = function () {\n",
        "        var root = this.plotroot()\n",
        "        var bbox = root.select(\".guide.background\").node.getBBox();\n",
        "        return {\n",
        "            x: bbox.x + bbox.width / 2,\n",
        "            y: bbox.y + bbox.height / 2\n",
        "        };\n",
        "    };\n",
        "\n",
        "    // Emulate IE style mouseenter/mouseleave events, since Microsoft always\n",
        "    // does everything right.\n",
        "    // See: http://www.dynamic-tools.net/toolbox/isMouseLeaveOrEnter/\n",
        "    var events = [\"mouseenter\", \"mouseleave\"];\n",
        "\n",
        "    for (i in events) {\n",
        "        (function (event_name) {\n",
        "            var event_name = events[i];\n",
        "            Element.prototype[event_name] = function (fn, scope) {\n",
        "                if (Snap.is(fn, \"function\")) {\n",
        "                    var fn2 = function (event) {\n",
        "                        if (event.type != \"mouseover\" && event.type != \"mouseout\") {\n",
        "                            return;\n",
        "                        }\n",
        "\n",
        "                        var reltg = event.relatedTarget ? event.relatedTarget :\n",
        "                            event.type == \"mouseout\" ? event.toElement : event.fromElement;\n",
        "                        while (reltg && reltg != this.node) reltg = reltg.parentNode;\n",
        "\n",
        "                        if (reltg != this.node) {\n",
        "                            return fn.apply(this, event);\n",
        "                        }\n",
        "                    };\n",
        "\n",
        "                    if (event_name == \"mouseenter\") {\n",
        "                        this.mouseover(fn2, scope);\n",
        "                    } else {\n",
        "                        this.mouseout(fn2, scope);\n",
        "                    }\n",
        "                }\n",
        "                return this;\n",
        "            };\n",
        "        })(events[i]);\n",
        "    }\n",
        "\n",
        "\n",
        "    Element.prototype.mousewheel = function (fn, scope) {\n",
        "        if (Snap.is(fn, \"function\")) {\n",
        "            var el = this;\n",
        "            var fn2 = function (event) {\n",
        "                fn.apply(el, [event]);\n",
        "            };\n",
        "        }\n",
        "\n",
        "        this.node.addEventListener(\n",
        "            /Firefox/i.test(navigator.userAgent) ? \"DOMMouseScroll\" : \"mousewheel\",\n",
        "            fn2);\n",
        "\n",
        "        return this;\n",
        "    };\n",
        "\n",
        "\n",
        "    // Snap's attr function can be too slow for things like panning/zooming.\n",
        "    // This is a function to directly update element attributes without going\n",
        "    // through eve.\n",
        "    Element.prototype.attribute = function(key, val) {\n",
        "        if (val === undefined) {\n",
        "            return this.node.getAttribute(key, val);\n",
        "        } else {\n",
        "            return this.node.setAttribute(key, val);\n",
        "        }\n",
        "    };\n",
        "});\n",
        "\n",
        "\n",
        "// When the plot is moused over, emphasize the grid lines.\n",
        "Gadfly.plot_mouseover = function(event) {\n",
        "    var root = this.plotroot();\n",
        "    init_pan_zoom(root);\n",
        "\n",
        "    var xgridlines = root.select(\".xgridlines\"),\n",
        "        ygridlines = root.select(\".ygridlines\");\n",
        "\n",
        "    xgridlines.data(\"unfocused_strokedash\",\n",
        "                    xgridlines.attr(\"stroke-dasharray\").replace(/px/g, \"mm\"))\n",
        "    ygridlines.data(\"unfocused_strokedash\",\n",
        "                    ygridlines.attr(\"stroke-dasharray\").replace(/px/g, \"mm\"))\n",
        "\n",
        "    // emphasize grid lines\n",
        "    var destcolor = root.data(\"focused_xgrid_color\");\n",
        "    xgridlines.attr(\"stroke-dasharray\", \"none\")\n",
        "              .selectAll(\"path\")\n",
        "              .animate({stroke: destcolor}, 250);\n",
        "\n",
        "    destcolor = root.data(\"focused_ygrid_color\");\n",
        "    ygridlines.attr(\"stroke-dasharray\", \"none\")\n",
        "              .selectAll(\"path\")\n",
        "              .animate({stroke: destcolor}, 250);\n",
        "\n",
        "    // reveal zoom slider\n",
        "    root.select(\".zoomslider\")\n",
        "        .animate({opacity: 1.0}, 250);\n",
        "};\n",
        "\n",
        "\n",
        "// Unemphasize grid lines on mouse out.\n",
        "Gadfly.plot_mouseout = function(event) {\n",
        "    var root = this.plotroot();\n",
        "    var xgridlines = root.select(\".xgridlines\"),\n",
        "        ygridlines = root.select(\".ygridlines\");\n",
        "\n",
        "    var destcolor = root.data(\"unfocused_xgrid_color\");\n",
        "\n",
        "    xgridlines.attr(\"stroke-dasharray\", xgridlines.data(\"unfocused_strokedash\"))\n",
        "              .selectAll(\"path\")\n",
        "              .animate({stroke: destcolor}, 250);\n",
        "\n",
        "    destcolor = root.data(\"unfocused_ygrid_color\");\n",
        "    ygridlines.attr(\"stroke-dasharray\", ygridlines.data(\"unfocused_strokedash\"))\n",
        "              .selectAll(\"path\")\n",
        "              .animate({stroke: destcolor}, 250);\n",
        "\n",
        "    // hide zoom slider\n",
        "    root.select(\".zoomslider\")\n",
        "        .animate({opacity: 0.0}, 250);\n",
        "};\n",
        "\n",
        "\n",
        "var set_geometry_transform = function(root, tx, ty, scale) {\n",
        "    var xscalable = root.hasClass(\"xscalable\"),\n",
        "        yscalable = root.hasClass(\"yscalable\");\n",
        "\n",
        "    var old_scale = root.data(\"scale\");\n",
        "\n",
        "    var xscale = xscalable ? scale : 1.0,\n",
        "        yscale = yscalable ? scale : 1.0;\n",
        "\n",
        "    tx = xscalable ? tx : 0.0;\n",
        "    ty = yscalable ? ty : 0.0;\n",
        "\n",
        "    var t = new Snap.Matrix().translate(tx, ty).scale(xscale, yscale);\n",
        "\n",
        "    root.selectAll(\".geometry, image\")\n",
        "        .forEach(function (element, i) {\n",
        "            element.transform(t);\n",
        "        });\n",
        "\n",
        "    bounds = root.plotbounds();\n",
        "\n",
        "    if (yscalable) {\n",
        "        var xfixed_t = new Snap.Matrix().translate(0, ty).scale(1.0, yscale);\n",
        "        root.selectAll(\".xfixed\")\n",
        "            .forEach(function (element, i) {\n",
        "                element.transform(xfixed_t);\n",
        "            });\n",
        "\n",
        "        root.select(\".ylabels\")\n",
        "            .transform(xfixed_t)\n",
        "            .selectAll(\"text\")\n",
        "            .forEach(function (element, i) {\n",
        "                if (element.attribute(\"gadfly:inscale\") == \"true\") {\n",
        "                    var cx = element.asPX(\"x\"),\n",
        "                        cy = element.asPX(\"y\");\n",
        "                    var st = element.data(\"static_transform\");\n",
        "                    unscale_t = new Snap.Matrix();\n",
        "                    unscale_t.scale(1, 1/scale, cx, cy).add(st);\n",
        "                    element.transform(unscale_t);\n",
        "\n",
        "                    var y = cy * scale + ty;\n",
        "                    element.attr(\"visibility\",\n",
        "                        bounds.y0 <= y && y <= bounds.y1 ? \"visible\" : \"hidden\");\n",
        "                }\n",
        "            });\n",
        "    }\n",
        "\n",
        "    if (xscalable) {\n",
        "        var yfixed_t = new Snap.Matrix().translate(tx, 0).scale(xscale, 1.0);\n",
        "        var xtrans = new Snap.Matrix().translate(tx, 0);\n",
        "        root.selectAll(\".yfixed\")\n",
        "            .forEach(function (element, i) {\n",
        "                element.transform(yfixed_t);\n",
        "            });\n",
        "\n",
        "        root.select(\".xlabels\")\n",
        "            .transform(yfixed_t)\n",
        "            .selectAll(\"text\")\n",
        "            .forEach(function (element, i) {\n",
        "                if (element.attribute(\"gadfly:inscale\") == \"true\") {\n",
        "                    var cx = element.asPX(\"x\"),\n",
        "                        cy = element.asPX(\"y\");\n",
        "                    var st = element.data(\"static_transform\");\n",
        "                    unscale_t = new Snap.Matrix();\n",
        "                    unscale_t.scale(1/scale, 1, cx, cy).add(st);\n",
        "\n",
        "                    element.transform(unscale_t);\n",
        "\n",
        "                    var x = cx * scale + tx;\n",
        "                    element.attr(\"visibility\",\n",
        "                        bounds.x0 <= x && x <= bounds.x1 ? \"visible\" : \"hidden\");\n",
        "                    }\n",
        "            });\n",
        "    }\n",
        "\n",
        "    // we must unscale anything that is scale invariance: widths, raiduses, etc.\n",
        "    var size_attribs = [\"font-size\"];\n",
        "    var unscaled_selection = \".geometry, .geometry *\";\n",
        "    if (xscalable) {\n",
        "        size_attribs.push(\"rx\");\n",
        "        unscaled_selection += \", .xgridlines\";\n",
        "    }\n",
        "    if (yscalable) {\n",
        "        size_attribs.push(\"ry\");\n",
        "        unscaled_selection += \", .ygridlines\";\n",
        "    }\n",
        "\n",
        "    root.selectAll(unscaled_selection)\n",
        "        .forEach(function (element, i) {\n",
        "            // circle need special help\n",
        "            if (element.node.nodeName == \"circle\") {\n",
        "                var cx = element.attribute(\"cx\"),\n",
        "                    cy = element.attribute(\"cy\");\n",
        "                unscale_t = new Snap.Matrix().scale(1/xscale, 1/yscale,\n",
        "                                                        cx, cy);\n",
        "                element.transform(unscale_t);\n",
        "                return;\n",
        "            }\n",
        "\n",
        "            for (i in size_attribs) {\n",
        "                var key = size_attribs[i];\n",
        "                var val = parseFloat(element.attribute(key));\n",
        "                if (val !== undefined && val != 0 && !isNaN(val)) {\n",
        "                    element.attribute(key, val * old_scale / scale);\n",
        "                }\n",
        "            }\n",
        "        });\n",
        "};\n",
        "\n",
        "\n",
        "// Find the most appropriate tick scale and update label visibility.\n",
        "var update_tickscale = function(root, scale, axis) {\n",
        "    if (!root.hasClass(axis + \"scalable\")) return;\n",
        "\n",
        "    var tickscales = root.data(axis + \"tickscales\");\n",
        "    var best_tickscale = 1.0;\n",
        "    var best_tickscale_dist = Infinity;\n",
        "    for (tickscale in tickscales) {\n",
        "        var dist = Math.abs(Math.log(tickscale) - Math.log(scale));\n",
        "        if (dist < best_tickscale_dist) {\n",
        "            best_tickscale_dist = dist;\n",
        "            best_tickscale = tickscale;\n",
        "        }\n",
        "    }\n",
        "\n",
        "    if (best_tickscale != root.data(axis + \"tickscale\")) {\n",
        "        root.data(axis + \"tickscale\", best_tickscale);\n",
        "        var mark_inscale_gridlines = function (element, i) {\n",
        "            var inscale = element.attr(\"gadfly:scale\") == best_tickscale;\n",
        "            element.attribute(\"gadfly:inscale\", inscale);\n",
        "            element.attr(\"visibility\", inscale ? \"visible\" : \"hidden\");\n",
        "        };\n",
        "\n",
        "        var mark_inscale_labels = function (element, i) {\n",
        "            var inscale = element.attr(\"gadfly:scale\") == best_tickscale;\n",
        "            element.attribute(\"gadfly:inscale\", inscale);\n",
        "            element.attr(\"visibility\", inscale ? \"visible\" : \"hidden\");\n",
        "        };\n",
        "\n",
        "        root.select(\".\" + axis + \"gridlines\").selectAll(\"path\").forEach(mark_inscale_gridlines);\n",
        "        root.select(\".\" + axis + \"labels\").selectAll(\"text\").forEach(mark_inscale_labels);\n",
        "    }\n",
        "};\n",
        "\n",
        "\n",
        "var set_plot_pan_zoom = function(root, tx, ty, scale) {\n",
        "    var old_scale = root.data(\"scale\");\n",
        "    var bounds = root.plotbounds();\n",
        "\n",
        "    var width = bounds.x1 - bounds.x0,\n",
        "        height = bounds.y1 - bounds.y0;\n",
        "\n",
        "    // compute the viewport derived from tx, ty, and scale\n",
        "    var x_min = -width * scale - (scale * width - width),\n",
        "        x_max = width * scale,\n",
        "        y_min = -height * scale - (scale * height - height),\n",
        "        y_max = height * scale;\n",
        "\n",
        "    var x0 = bounds.x0 - scale * bounds.x0,\n",
        "        y0 = bounds.y0 - scale * bounds.y0;\n",
        "\n",
        "    var tx = Math.max(Math.min(tx - x0, x_max), x_min),\n",
        "        ty = Math.max(Math.min(ty - y0, y_max), y_min);\n",
        "\n",
        "    tx += x0;\n",
        "    ty += y0;\n",
        "\n",
        "    // when the scale change, we may need to alter which set of\n",
        "    // ticks is being displayed\n",
        "    if (scale != old_scale) {\n",
        "        update_tickscale(root, scale, \"x\");\n",
        "        update_tickscale(root, scale, \"y\");\n",
        "    }\n",
        "\n",
        "    set_geometry_transform(root, tx, ty, scale);\n",
        "\n",
        "    root.data(\"scale\", scale);\n",
        "    root.data(\"tx\", tx);\n",
        "    root.data(\"ty\", ty);\n",
        "};\n",
        "\n",
        "\n",
        "var scale_centered_translation = function(root, scale) {\n",
        "    var bounds = root.plotbounds();\n",
        "\n",
        "    var width = bounds.x1 - bounds.x0,\n",
        "        height = bounds.y1 - bounds.y0;\n",
        "\n",
        "    var tx0 = root.data(\"tx\"),\n",
        "        ty0 = root.data(\"ty\");\n",
        "\n",
        "    var scale0 = root.data(\"scale\");\n",
        "\n",
        "    // how off from center the current view is\n",
        "    var xoff = tx0 - (bounds.x0 * (1 - scale0) + (width * (1 - scale0)) / 2),\n",
        "        yoff = ty0 - (bounds.y0 * (1 - scale0) + (height * (1 - scale0)) / 2);\n",
        "\n",
        "    // rescale offsets\n",
        "    xoff = xoff * scale / scale0;\n",
        "    yoff = yoff * scale / scale0;\n",
        "\n",
        "    // adjust for the panel position being scaled\n",
        "    var x_edge_adjust = bounds.x0 * (1 - scale),\n",
        "        y_edge_adjust = bounds.y0 * (1 - scale);\n",
        "\n",
        "    return {\n",
        "        x: xoff + x_edge_adjust + (width - width * scale) / 2,\n",
        "        y: yoff + y_edge_adjust + (height - height * scale) / 2\n",
        "    };\n",
        "};\n",
        "\n",
        "\n",
        "// Initialize data for panning zooming if it isn't already.\n",
        "var init_pan_zoom = function(root) {\n",
        "    if (root.data(\"zoompan-ready\")) {\n",
        "        return;\n",
        "    }\n",
        "\n",
        "    // The non-scaling-stroke trick. Rather than try to correct for the\n",
        "    // stroke-width when zooming, we force it to a fixed value.\n",
        "    var px_per_mm = root.node.getCTM().a;\n",
        "\n",
        "    // Drag events report deltas in pixels, which we'd like to convert to\n",
        "    // millimeters.\n",
        "    root.data(\"px_per_mm\", px_per_mm);\n",
        "\n",
        "    root.selectAll(\"path\")\n",
        "        .forEach(function (element, i) {\n",
        "        sw = element.asPX(\"stroke-width\") * px_per_mm;\n",
        "        if (sw > 0) {\n",
        "            element.attribute(\"stroke-width\", sw);\n",
        "            element.attribute(\"vector-effect\", \"non-scaling-stroke\");\n",
        "        }\n",
        "    });\n",
        "\n",
        "    // Store ticks labels original tranformation\n",
        "    root.selectAll(\".xlabels > text, .ylabels > text\")\n",
        "        .forEach(function (element, i) {\n",
        "            var lm = element.transform().localMatrix;\n",
        "            element.data(\"static_transform\",\n",
        "                new Snap.Matrix(lm.a, lm.b, lm.c, lm.d, lm.e, lm.f));\n",
        "        });\n",
        "\n",
        "    if (root.data(\"tx\") === undefined) root.data(\"tx\", 0);\n",
        "    if (root.data(\"ty\") === undefined) root.data(\"ty\", 0);\n",
        "    if (root.data(\"scale\") === undefined) root.data(\"scale\", 1.0);\n",
        "    if (root.data(\"xtickscales\") === undefined) {\n",
        "\n",
        "        // index all the tick scales that are listed\n",
        "        var xtickscales = {};\n",
        "        var ytickscales = {};\n",
        "        var add_x_tick_scales = function (element, i) {\n",
        "            xtickscales[element.attribute(\"gadfly:scale\")] = true;\n",
        "        };\n",
        "        var add_y_tick_scales = function (element, i) {\n",
        "            ytickscales[element.attribute(\"gadfly:scale\")] = true;\n",
        "        };\n",
        "\n",
        "        root.select(\".xgridlines\").selectAll(\"path\").forEach(add_x_tick_scales);\n",
        "        root.select(\".ygridlines\").selectAll(\"path\").forEach(add_y_tick_scales);\n",
        "        root.select(\".xlabels\").selectAll(\"text\").forEach(add_x_tick_scales);\n",
        "        root.select(\".ylabels\").selectAll(\"text\").forEach(add_y_tick_scales);\n",
        "\n",
        "        root.data(\"xtickscales\", xtickscales);\n",
        "        root.data(\"ytickscales\", ytickscales);\n",
        "        root.data(\"xtickscale\", 1.0);\n",
        "    }\n",
        "\n",
        "    var min_scale = 1.0, max_scale = 1.0;\n",
        "    for (scale in xtickscales) {\n",
        "        min_scale = Math.min(min_scale, scale);\n",
        "        max_scale = Math.max(max_scale, scale);\n",
        "    }\n",
        "    for (scale in ytickscales) {\n",
        "        min_scale = Math.min(min_scale, scale);\n",
        "        max_scale = Math.max(max_scale, scale);\n",
        "    }\n",
        "    root.data(\"min_scale\", min_scale);\n",
        "    root.data(\"max_scale\", max_scale);\n",
        "\n",
        "    // store the original positions of labels\n",
        "    root.select(\".xlabels\")\n",
        "        .selectAll(\"text\")\n",
        "        .forEach(function (element, i) {\n",
        "            element.data(\"x\", element.asPX(\"x\"));\n",
        "        });\n",
        "\n",
        "    root.select(\".ylabels\")\n",
        "        .selectAll(\"text\")\n",
        "        .forEach(function (element, i) {\n",
        "            element.data(\"y\", element.asPX(\"y\"));\n",
        "        });\n",
        "\n",
        "    // mark grid lines and ticks as in or out of scale.\n",
        "    var mark_inscale = function (element, i) {\n",
        "        element.attribute(\"gadfly:inscale\", element.attribute(\"gadfly:scale\") == 1.0);\n",
        "    };\n",
        "\n",
        "    root.select(\".xgridlines\").selectAll(\"path\").forEach(mark_inscale);\n",
        "    root.select(\".ygridlines\").selectAll(\"path\").forEach(mark_inscale);\n",
        "    root.select(\".xlabels\").selectAll(\"text\").forEach(mark_inscale);\n",
        "    root.select(\".ylabels\").selectAll(\"text\").forEach(mark_inscale);\n",
        "\n",
        "    // figure out the upper ond lower bounds on panning using the maximum\n",
        "    // and minum grid lines\n",
        "    var bounds = root.plotbounds();\n",
        "    var pan_bounds = {\n",
        "        x0: 0.0,\n",
        "        y0: 0.0,\n",
        "        x1: 0.0,\n",
        "        y1: 0.0\n",
        "    };\n",
        "\n",
        "    root.select(\".xgridlines\")\n",
        "        .selectAll(\"path\")\n",
        "        .forEach(function (element, i) {\n",
        "            if (element.attribute(\"gadfly:inscale\") == \"true\") {\n",
        "                var bbox = element.node.getBBox();\n",
        "                if (bounds.x1 - bbox.x < pan_bounds.x0) {\n",
        "                    pan_bounds.x0 = bounds.x1 - bbox.x;\n",
        "                }\n",
        "                if (bounds.x0 - bbox.x > pan_bounds.x1) {\n",
        "                    pan_bounds.x1 = bounds.x0 - bbox.x;\n",
        "                }\n",
        "            }\n",
        "        });\n",
        "\n",
        "    root.select(\".ygridlines\")\n",
        "        .selectAll(\"path\")\n",
        "        .forEach(function (element, i) {\n",
        "            if (element.attribute(\"gadfly:inscale\") == \"true\") {\n",
        "                var bbox = element.node.getBBox();\n",
        "                if (bounds.y1 - bbox.y < pan_bounds.y0) {\n",
        "                    pan_bounds.y0 = bounds.y1 - bbox.y;\n",
        "                }\n",
        "                if (bounds.y0 - bbox.y > pan_bounds.y1) {\n",
        "                    pan_bounds.y1 = bounds.y0 - bbox.y;\n",
        "                }\n",
        "            }\n",
        "        });\n",
        "\n",
        "    // nudge these values a little\n",
        "    pan_bounds.x0 -= 5;\n",
        "    pan_bounds.x1 += 5;\n",
        "    pan_bounds.y0 -= 5;\n",
        "    pan_bounds.y1 += 5;\n",
        "    root.data(\"pan_bounds\", pan_bounds);\n",
        "\n",
        "    // Set all grid lines at scale 1.0 to visible. Out of bounds lines\n",
        "    // will be clipped.\n",
        "    root.select(\".xgridlines\")\n",
        "        .selectAll(\"path\")\n",
        "        .forEach(function (element, i) {\n",
        "            if (element.attribute(\"gadfly:inscale\") == \"true\") {\n",
        "                element.attr(\"visibility\", \"visible\");\n",
        "            }\n",
        "        });\n",
        "\n",
        "    root.select(\".ygridlines\")\n",
        "        .selectAll(\"path\")\n",
        "        .forEach(function (element, i) {\n",
        "            if (element.attribute(\"gadfly:inscale\") == \"true\") {\n",
        "                element.attr(\"visibility\", \"visible\");\n",
        "            }\n",
        "        });\n",
        "\n",
        "    root.data(\"zoompan-ready\", true)\n",
        "};\n",
        "\n",
        "\n",
        "// Panning\n",
        "Gadfly.guide_background_drag_onmove = function(dx, dy, x, y, event) {\n",
        "    var root = this.plotroot();\n",
        "    var px_per_mm = root.data(\"px_per_mm\");\n",
        "    dx /= px_per_mm;\n",
        "    dy /= px_per_mm;\n",
        "\n",
        "    var tx0 = root.data(\"tx\"),\n",
        "        ty0 = root.data(\"ty\");\n",
        "\n",
        "    var dx0 = root.data(\"dx\"),\n",
        "        dy0 = root.data(\"dy\");\n",
        "\n",
        "    root.data(\"dx\", dx);\n",
        "    root.data(\"dy\", dy);\n",
        "\n",
        "    dx = dx - dx0;\n",
        "    dy = dy - dy0;\n",
        "\n",
        "    var tx = tx0 + dx,\n",
        "        ty = ty0 + dy;\n",
        "\n",
        "    set_plot_pan_zoom(root, tx, ty, root.data(\"scale\"));\n",
        "};\n",
        "\n",
        "\n",
        "Gadfly.guide_background_drag_onstart = function(x, y, event) {\n",
        "    var root = this.plotroot();\n",
        "    root.data(\"dx\", 0);\n",
        "    root.data(\"dy\", 0);\n",
        "    init_pan_zoom(root);\n",
        "};\n",
        "\n",
        "\n",
        "Gadfly.guide_background_drag_onend = function(event) {\n",
        "    var root = this.plotroot();\n",
        "};\n",
        "\n",
        "\n",
        "Gadfly.guide_background_scroll = function(event) {\n",
        "    if (event.shiftKey) {\n",
        "        var root = this.plotroot();\n",
        "        init_pan_zoom(root);\n",
        "        var new_scale = root.data(\"scale\") * Math.pow(2, 0.002 * event.wheelDelta);\n",
        "        new_scale = Math.max(\n",
        "            root.data(\"min_scale\"),\n",
        "            Math.min(root.data(\"max_scale\"), new_scale))\n",
        "        update_plot_scale(root, new_scale);\n",
        "        event.stopPropagation();\n",
        "    }\n",
        "};\n",
        "\n",
        "\n",
        "Gadfly.zoomslider_button_mouseover = function(event) {\n",
        "    this.select(\".button_logo\")\n",
        "         .animate({fill: this.data(\"mouseover_color\")}, 100);\n",
        "};\n",
        "\n",
        "\n",
        "Gadfly.zoomslider_button_mouseout = function(event) {\n",
        "     this.select(\".button_logo\")\n",
        "         .animate({fill: this.data(\"mouseout_color\")}, 100);\n",
        "};\n",
        "\n",
        "\n",
        "Gadfly.zoomslider_zoomout_click = function(event) {\n",
        "    var root = this.plotroot();\n",
        "    init_pan_zoom(root);\n",
        "    var min_scale = root.data(\"min_scale\"),\n",
        "        scale = root.data(\"scale\");\n",
        "    Snap.animate(\n",
        "        scale,\n",
        "        Math.max(min_scale, scale / 1.5),\n",
        "        function (new_scale) {\n",
        "            update_plot_scale(root, new_scale);\n",
        "        },\n",
        "        200);\n",
        "};\n",
        "\n",
        "\n",
        "Gadfly.zoomslider_zoomin_click = function(event) {\n",
        "    var root = this.plotroot();\n",
        "    init_pan_zoom(root);\n",
        "    var max_scale = root.data(\"max_scale\"),\n",
        "        scale = root.data(\"scale\");\n",
        "\n",
        "    Snap.animate(\n",
        "        scale,\n",
        "        Math.min(max_scale, scale * 1.5),\n",
        "        function (new_scale) {\n",
        "            update_plot_scale(root, new_scale);\n",
        "        },\n",
        "        200);\n",
        "};\n",
        "\n",
        "\n",
        "Gadfly.zoomslider_track_click = function(event) {\n",
        "    // TODO\n",
        "};\n",
        "\n",
        "\n",
        "Gadfly.zoomslider_thumb_mousedown = function(event) {\n",
        "    this.animate({fill: this.data(\"mouseover_color\")}, 100);\n",
        "};\n",
        "\n",
        "\n",
        "Gadfly.zoomslider_thumb_mouseup = function(event) {\n",
        "    this.animate({fill: this.data(\"mouseout_color\")}, 100);\n",
        "};\n",
        "\n",
        "\n",
        "// compute the position in [0, 1] of the zoom slider thumb from the current scale\n",
        "var slider_position_from_scale = function(scale, min_scale, max_scale) {\n",
        "    if (scale >= 1.0) {\n",
        "        return 0.5 + 0.5 * (Math.log(scale) / Math.log(max_scale));\n",
        "    }\n",
        "    else {\n",
        "        return 0.5 * (Math.log(scale) - Math.log(min_scale)) / (0 - Math.log(min_scale));\n",
        "    }\n",
        "}\n",
        "\n",
        "\n",
        "var update_plot_scale = function(root, new_scale) {\n",
        "    var trans = scale_centered_translation(root, new_scale);\n",
        "    set_plot_pan_zoom(root, trans.x, trans.y, new_scale);\n",
        "\n",
        "    root.selectAll(\".zoomslider_thumb\")\n",
        "        .forEach(function (element, i) {\n",
        "            var min_pos = element.data(\"min_pos\"),\n",
        "                max_pos = element.data(\"max_pos\"),\n",
        "                min_scale = root.data(\"min_scale\"),\n",
        "                max_scale = root.data(\"max_scale\");\n",
        "            var xmid = (min_pos + max_pos) / 2;\n",
        "            var xpos = slider_position_from_scale(new_scale, min_scale, max_scale);\n",
        "            element.transform(new Snap.Matrix().translate(\n",
        "                Math.max(min_pos, Math.min(\n",
        "                         max_pos, min_pos + (max_pos - min_pos) * xpos)) - xmid, 0));\n",
        "    });\n",
        "};\n",
        "\n",
        "\n",
        "Gadfly.zoomslider_thumb_dragmove = function(dx, dy, x, y) {\n",
        "    var root = this.plotroot();\n",
        "    var min_pos = this.data(\"min_pos\"),\n",
        "        max_pos = this.data(\"max_pos\"),\n",
        "        min_scale = root.data(\"min_scale\"),\n",
        "        max_scale = root.data(\"max_scale\"),\n",
        "        old_scale = root.data(\"old_scale\");\n",
        "\n",
        "    var px_per_mm = root.data(\"px_per_mm\");\n",
        "    dx /= px_per_mm;\n",
        "    dy /= px_per_mm;\n",
        "\n",
        "    var xmid = (min_pos + max_pos) / 2;\n",
        "    var xpos = slider_position_from_scale(old_scale, min_scale, max_scale) +\n",
        "                   dx / (max_pos - min_pos);\n",
        "\n",
        "    // compute the new scale\n",
        "    var new_scale;\n",
        "    if (xpos >= 0.5) {\n",
        "        new_scale = Math.exp(2.0 * (xpos - 0.5) * Math.log(max_scale));\n",
        "    }\n",
        "    else {\n",
        "        new_scale = Math.exp(2.0 * xpos * (0 - Math.log(min_scale)) +\n",
        "                        Math.log(min_scale));\n",
        "    }\n",
        "    new_scale = Math.min(max_scale, Math.max(min_scale, new_scale));\n",
        "\n",
        "    update_plot_scale(root, new_scale);\n",
        "};\n",
        "\n",
        "\n",
        "Gadfly.zoomslider_thumb_dragstart = function(event) {\n",
        "    var root = this.plotroot();\n",
        "    init_pan_zoom(root);\n",
        "\n",
        "    // keep track of what the scale was when we started dragging\n",
        "    root.data(\"old_scale\", root.data(\"scale\"));\n",
        "};\n",
        "\n",
        "\n",
        "Gadfly.zoomslider_thumb_dragend = function(event) {\n",
        "};\n",
        "\n",
        "\n",
        "var toggle_color_class = function(root, color_class, ison) {\n",
        "    var guides = root.selectAll(\".guide.\" + color_class + \",.guide .\" + color_class);\n",
        "    var geoms = root.selectAll(\".geometry.\" + color_class + \",.geometry .\" + color_class);\n",
        "    if (ison) {\n",
        "        guides.animate({opacity: 0.5}, 250);\n",
        "        geoms.animate({opacity: 0.0}, 250);\n",
        "    } else {\n",
        "        guides.animate({opacity: 1.0}, 250);\n",
        "        geoms.animate({opacity: 1.0}, 250);\n",
        "    }\n",
        "};\n",
        "\n",
        "\n",
        "Gadfly.colorkey_swatch_click = function(event) {\n",
        "    var root = this.plotroot();\n",
        "    var color_class = this.data(\"color_class\");\n",
        "\n",
        "    if (event.shiftKey) {\n",
        "        root.selectAll(\".colorkey text\")\n",
        "            .forEach(function (element) {\n",
        "                var other_color_class = element.data(\"color_class\");\n",
        "                if (other_color_class != color_class) {\n",
        "                    toggle_color_class(root, other_color_class,\n",
        "                                       element.attr(\"opacity\") == 1.0);\n",
        "                }\n",
        "            });\n",
        "    } else {\n",
        "        toggle_color_class(root, color_class, this.attr(\"opacity\") == 1.0);\n",
        "    }\n",
        "};\n",
        "\n",
        "\n",
        "return Gadfly;\n",
        "\n",
        "}));\n",
        "\n",
        "\n",
        "//@ sourceURL=gadfly.js\n",
        "\n",
        "(function (glob, factory) {\n",
        "    // AMD support\n",
        "      if (typeof require === \"function\" && typeof define === \"function\" && define.amd) {\n",
        "        require([\"Snap.svg\", \"Gadfly\"], function (Snap, Gadfly) {\n",
        "            factory(Snap, Gadfly);\n",
        "        });\n",
        "      } else {\n",
        "          factory(glob.Snap, glob.Gadfly);\n",
        "      }\n",
        "})(window, function (Snap, Gadfly) {\n",
        "    var fig = Snap(\"#fig-b1a361c730ca4a10b3dd360c8e2004b1\");\n",
        "fig.select(\"#fig-b1a361c730ca4a10b3dd360c8e2004b1-element-4\")\n",
        "   .drag(function() {}, function() {}, function() {});\n",
        "fig.select(\"#fig-b1a361c730ca4a10b3dd360c8e2004b1-element-6\")\n",
        "   .data(\"color_class\", \"color_train_error\")\n",
        ".click(Gadfly.colorkey_swatch_click)\n",
        ";\n",
        "fig.select(\"#fig-b1a361c730ca4a10b3dd360c8e2004b1-element-7\")\n",
        "   .data(\"color_class\", \"color_prec_at_k\")\n",
        ".click(Gadfly.colorkey_swatch_click)\n",
        ";\n",
        "fig.select(\"#fig-b1a361c730ca4a10b3dd360c8e2004b1-element-9\")\n",
        "   .data(\"color_class\", \"color_train_error\")\n",
        ".click(Gadfly.colorkey_swatch_click)\n",
        ";\n",
        "fig.select(\"#fig-b1a361c730ca4a10b3dd360c8e2004b1-element-10\")\n",
        "   .data(\"color_class\", \"color_prec_at_k\")\n",
        ".click(Gadfly.colorkey_swatch_click)\n",
        ";\n",
        "fig.select(\"#fig-b1a361c730ca4a10b3dd360c8e2004b1-element-15\")\n",
        "   .mouseenter(Gadfly.plot_mouseover)\n",
        ".mouseleave(Gadfly.plot_mouseout)\n",
        ".mousewheel(Gadfly.guide_background_scroll)\n",
        ".drag(Gadfly.guide_background_drag_onmove,\n",
        "      Gadfly.guide_background_drag_onstart,\n",
        "      Gadfly.guide_background_drag_onend)\n",
        ";\n",
        "fig.select(\"#fig-b1a361c730ca4a10b3dd360c8e2004b1-element-19\")\n",
        "   .plotroot().data(\"unfocused_ygrid_color\", \"#D0D0E0\")\n",
        ";\n",
        "fig.select(\"#fig-b1a361c730ca4a10b3dd360c8e2004b1-element-19\")\n",
        "   .plotroot().data(\"focused_ygrid_color\", \"#A0A0A0\")\n",
        ";\n",
        "fig.select(\"#fig-b1a361c730ca4a10b3dd360c8e2004b1-element-125\")\n",
        "   .plotroot().data(\"unfocused_xgrid_color\", \"#D0D0E0\")\n",
        ";\n",
        "fig.select(\"#fig-b1a361c730ca4a10b3dd360c8e2004b1-element-125\")\n",
        "   .plotroot().data(\"focused_xgrid_color\", \"#A0A0A0\")\n",
        ";\n",
        "fig.select(\"#fig-b1a361c730ca4a10b3dd360c8e2004b1-element-303\")\n",
        "   .data(\"mouseover_color\", \"#cd5c5c\")\n",
        ";\n",
        "fig.select(\"#fig-b1a361c730ca4a10b3dd360c8e2004b1-element-303\")\n",
        "   .data(\"mouseout_color\", \"#6a6a6a\")\n",
        ";\n",
        "fig.select(\"#fig-b1a361c730ca4a10b3dd360c8e2004b1-element-303\")\n",
        "   .click(Gadfly.zoomslider_zoomin_click)\n",
        ".mouseenter(Gadfly.zoomslider_button_mouseover)\n",
        ".mouseleave(Gadfly.zoomslider_button_mouseout)\n",
        ";\n",
        "fig.select(\"#fig-b1a361c730ca4a10b3dd360c8e2004b1-element-307\")\n",
        "   .data(\"max_pos\", 104.01)\n",
        ";\n",
        "fig.select(\"#fig-b1a361c730ca4a10b3dd360c8e2004b1-element-307\")\n",
        "   .data(\"min_pos\", 87.01)\n",
        ";\n",
        "fig.select(\"#fig-b1a361c730ca4a10b3dd360c8e2004b1-element-307\")\n",
        "   .click(Gadfly.zoomslider_track_click);\n",
        "fig.select(\"#fig-b1a361c730ca4a10b3dd360c8e2004b1-element-309\")\n",
        "   .data(\"max_pos\", 104.01)\n",
        ";\n",
        "fig.select(\"#fig-b1a361c730ca4a10b3dd360c8e2004b1-element-309\")\n",
        "   .data(\"min_pos\", 87.01)\n",
        ";\n",
        "fig.select(\"#fig-b1a361c730ca4a10b3dd360c8e2004b1-element-309\")\n",
        "   .data(\"mouseover_color\", \"#cd5c5c\")\n",
        ";\n",
        "fig.select(\"#fig-b1a361c730ca4a10b3dd360c8e2004b1-element-309\")\n",
        "   .data(\"mouseout_color\", \"#6a6a6a\")\n",
        ";\n",
        "fig.select(\"#fig-b1a361c730ca4a10b3dd360c8e2004b1-element-309\")\n",
        "   .drag(Gadfly.zoomslider_thumb_dragmove,\n",
        "     Gadfly.zoomslider_thumb_dragstart,\n",
        "     Gadfly.zoomslider_thumb_dragend)\n",
        ".mousedown(Gadfly.zoomslider_thumb_mousedown)\n",
        ".mouseup(Gadfly.zoomslider_thumb_mouseup)\n",
        ";\n",
        "fig.select(\"#fig-b1a361c730ca4a10b3dd360c8e2004b1-element-311\")\n",
        "   .data(\"mouseover_color\", \"#cd5c5c\")\n",
        ";\n",
        "fig.select(\"#fig-b1a361c730ca4a10b3dd360c8e2004b1-element-311\")\n",
        "   .data(\"mouseout_color\", \"#6a6a6a\")\n",
        ";\n",
        "fig.select(\"#fig-b1a361c730ca4a10b3dd360c8e2004b1-element-311\")\n",
        "   .click(Gadfly.zoomslider_zoomout_click)\n",
        ".mouseenter(Gadfly.zoomslider_button_mouseover)\n",
        ".mouseleave(Gadfly.zoomslider_button_mouseout)\n",
        ";\n",
        "    });\n",
        "]]> </script>\n",
        "</svg>\n"
       ],
       "metadata": {},
       "output_type": "pyout",
       "png": "[encoded data removed]",
       "prompt_number": 12,
       "svg": [
        "<?xml version=\"1.0\" encoding=\"UTF-8\"?>\n",
        "<svg xmlns=\"http://www.w3.org/2000/svg\"\n",
        "     xmlns:xlink=\"http://www.w3.org/1999/xlink\"\n",
        "     xmlns:gadfly=\"http://www.gadflyjl.org/ns\"\n",
        "     version=\"1.2\"\n",
        "     width=\"141.42mm\" height=\"100mm\" viewBox=\"0 0 141.42 100\"\n",
        "     stroke=\"none\"\n",
        "     fill=\"#000000\"\n",
        "     stroke-width=\"0.3\"\n",
        "     font-size=\"3.88\"\n",
        ">\n",
        "<g class=\"plotroot xscalable yscalable\" id=\"fig-701b4c9b077b4709af2e0dc635f5f6f5-element-1\">\n",
        "  <g font-size=\"3.88\" font-family=\"'PT Sans','Helvetica Neue','Helvetica',sans-serif\" fill=\"#564A55\" stroke=\"none\" id=\"fig-701b4c9b077b4709af2e0dc635f5f6f5-element-2\">\n",
        "    <text x=\"69.32\" y=\"92\" text-anchor=\"middle\">reg_param</text>\n",
        "  </g>\n",
        "  <g class=\"guide xlabels\" font-size=\"2.82\" font-family=\"'PT Sans Caption','Helvetica Neue','Helvetica',sans-serif\" fill=\"#6C606B\" id=\"fig-701b4c9b077b4709af2e0dc635f5f6f5-element-3\">\n",
        "    <text x=\"20.63\" y=\"86.39\" text-anchor=\"middle\">10<tspan style=\"dominant-baseline:inherit\" dy=\"-0.6em\" font-size=\"83.333333%\">0</tspan></text>\n",
        "    <text x=\"53.09\" y=\"86.39\" text-anchor=\"middle\">10<tspan style=\"dominant-baseline:inherit\" dy=\"-0.6em\" font-size=\"83.333333%\">1</tspan></text>\n",
        "    <text x=\"85.55\" y=\"86.39\" text-anchor=\"middle\">10<tspan style=\"dominant-baseline:inherit\" dy=\"-0.6em\" font-size=\"83.333333%\">2</tspan></text>\n",
        "    <text x=\"118.01\" y=\"86.39\" text-anchor=\"middle\">10<tspan style=\"dominant-baseline:inherit\" dy=\"-0.6em\" font-size=\"83.333333%\">3</tspan></text>\n",
        "  </g>\n",
        "  <g class=\"guide colorkey\" id=\"fig-701b4c9b077b4709af2e0dc635f5f6f5-element-4\">\n",
        "    <g fill=\"#4C404B\" font-size=\"2.82\" font-family=\"'PT Sans','Helvetica Neue','Helvetica',sans-serif\" id=\"fig-701b4c9b077b4709af2e0dc635f5f6f5-element-5\">\n",
        "      <text x=\"123.83\" y=\"43.19\" dy=\"0.35em\" id=\"fig-701b4c9b077b4709af2e0dc635f5f6f5-element-6\" class=\"color_train_error\">train_error</text>\n",
        "      <text x=\"123.83\" y=\"46.82\" dy=\"0.35em\" id=\"fig-701b4c9b077b4709af2e0dc635f5f6f5-element-7\" class=\"color_prec_at_k\">prec_at_k</text>\n",
        "    </g>\n",
        "    <g stroke=\"none\" id=\"fig-701b4c9b077b4709af2e0dc635f5f6f5-element-8\">\n",
        "      <rect x=\"121.01\" y=\"42.28\" width=\"1.81\" height=\"1.81\" id=\"fig-701b4c9b077b4709af2e0dc635f5f6f5-element-9\" class=\"color_train_error\" fill=\"#00BFFF\"/>\n",
        "      <rect x=\"121.01\" y=\"45.91\" width=\"1.81\" height=\"1.81\" id=\"fig-701b4c9b077b4709af2e0dc635f5f6f5-element-10\" class=\"color_prec_at_k\" fill=\"#D4CA3A\"/>\n",
        "    </g>\n",
        "    <g fill=\"#362A35\" font-size=\"3.88\" font-family=\"'PT Sans','Helvetica Neue','Helvetica',sans-serif\" stroke=\"none\" id=\"fig-701b4c9b077b4709af2e0dc635f5f6f5-element-11\">\n",
        "      <text x=\"121.01\" y=\"39.37\" id=\"fig-701b4c9b077b4709af2e0dc635f5f6f5-element-12\">variable</text>\n",
        "    </g>\n",
        "  </g>\n",
        "  <g font-size=\"3.88\" font-family=\"'PT Sans','Helvetica Neue','Helvetica',sans-serif\" fill=\"#564A55\" stroke=\"none\" id=\"fig-701b4c9b077b4709af2e0dc635f5f6f5-element-13\">\n",
        "    <text x=\"8.81\" y=\"41.19\" text-anchor=\"middle\" dy=\"0.35em\" transform=\"rotate(-90, 8.81, 43.19)\" id=\"fig-701b4c9b077b4709af2e0dc635f5f6f5-element-14\">value</text>\n",
        "  </g>\n",
        "  <g clip-path=\"url(#fig-701b4c9b077b4709af2e0dc635f5f6f5-element-16)\" id=\"fig-701b4c9b077b4709af2e0dc635f5f6f5-element-15\">\n",
        "    <g pointer-events=\"visible\" opacity=\"1\" fill=\"none\" stroke=\"none\" class=\"guide background\" id=\"fig-701b4c9b077b4709af2e0dc635f5f6f5-element-17\">\n",
        "      <rect x=\"18.63\" y=\"5\" width=\"101.38\" height=\"76.38\" id=\"fig-701b4c9b077b4709af2e0dc635f5f6f5-element-18\"/>\n",
        "    </g>\n",
        "    <g class=\"guide ygridlines xfixed\" stroke-dasharray=\"0.5,0.5\" stroke-width=\"0.2\" stroke=\"#D0D0E0\" id=\"fig-701b4c9b077b4709af2e0dc635f5f6f5-element-19\">\n",
        "      <path fill=\"none\" d=\"M18.63,79.38 L 120.01 79.38\" id=\"fig-701b4c9b077b4709af2e0dc635f5f6f5-element-20\"/>\n",
        "      <path fill=\"none\" d=\"M18.63,43.19 L 120.01 43.19\" id=\"fig-701b4c9b077b4709af2e0dc635f5f6f5-element-21\"/>\n",
        "      <path fill=\"none\" d=\"M18.63,7 L 120.01 7\" id=\"fig-701b4c9b077b4709af2e0dc635f5f6f5-element-22\"/>\n",
        "    </g>\n",
        "    <g class=\"guide xgridlines yfixed\" stroke-dasharray=\"0.5,0.5\" stroke-width=\"0.2\" stroke=\"#D0D0E0\" id=\"fig-701b4c9b077b4709af2e0dc635f5f6f5-element-23\">\n",
        "      <path fill=\"none\" d=\"M20.63,5 L 20.63 81.38\" id=\"fig-701b4c9b077b4709af2e0dc635f5f6f5-element-24\"/>\n",
        "      <path fill=\"none\" d=\"M53.09,5 L 53.09 81.38\" id=\"fig-701b4c9b077b4709af2e0dc635f5f6f5-element-25\"/>\n",
        "      <path fill=\"none\" d=\"M85.55,5 L 85.55 81.38\" id=\"fig-701b4c9b077b4709af2e0dc635f5f6f5-element-26\"/>\n",
        "      <path fill=\"none\" d=\"M118.01,5 L 118.01 81.38\" id=\"fig-701b4c9b077b4709af2e0dc635f5f6f5-element-27\"/>\n",
        "    </g>\n",
        "    <g class=\"plotpanel\" id=\"fig-701b4c9b077b4709af2e0dc635f5f6f5-element-28\">\n",
        "      <g class=\"geometry\" id=\"fig-701b4c9b077b4709af2e0dc635f5f6f5-element-29\">\n",
        "        <g stroke-width=\"0.3\" id=\"fig-701b4c9b077b4709af2e0dc635f5f6f5-element-30\">\n",
        "          <circle cx=\"118.01\" cy=\"7\" r=\"0.9\" id=\"fig-701b4c9b077b4709af2e0dc635f5f6f5-element-31\" stroke=\"#FFFFFF\" class=\"color_train_error\" fill=\"#00BFFF\"/>\n",
        "          <circle cx=\"107.19\" cy=\"7\" r=\"0.9\" id=\"fig-701b4c9b077b4709af2e0dc635f5f6f5-element-32\" stroke=\"#FFFFFF\" class=\"color_train_error\" fill=\"#00BFFF\"/>\n",
        "          <circle cx=\"96.37\" cy=\"7.49\" r=\"0.9\" id=\"fig-701b4c9b077b4709af2e0dc635f5f6f5-element-33\" stroke=\"#FFFFFF\" class=\"color_train_error\" fill=\"#00BFFF\"/>\n",
        "          <circle cx=\"85.55\" cy=\"23.17\" r=\"0.9\" id=\"fig-701b4c9b077b4709af2e0dc635f5f6f5-element-34\" stroke=\"#FFFFFF\" class=\"color_train_error\" fill=\"#00BFFF\"/>\n",
        "          <circle cx=\"74.73\" cy=\"79.32\" r=\"0.9\" id=\"fig-701b4c9b077b4709af2e0dc635f5f6f5-element-35\" stroke=\"#FFFFFF\" class=\"color_train_error\" fill=\"#00BFFF\"/>\n",
        "          <circle cx=\"63.91\" cy=\"79.36\" r=\"0.9\" id=\"fig-701b4c9b077b4709af2e0dc635f5f6f5-element-36\" stroke=\"#FFFFFF\" class=\"color_train_error\" fill=\"#00BFFF\"/>\n",
        "          <circle cx=\"53.09\" cy=\"79.37\" r=\"0.9\" id=\"fig-701b4c9b077b4709af2e0dc635f5f6f5-element-37\" stroke=\"#FFFFFF\" class=\"color_train_error\" fill=\"#00BFFF\"/>\n",
        "          <circle cx=\"42.27\" cy=\"79.37\" r=\"0.9\" id=\"fig-701b4c9b077b4709af2e0dc635f5f6f5-element-38\" stroke=\"#FFFFFF\" class=\"color_train_error\" fill=\"#00BFFF\"/>\n",
        "          <circle cx=\"31.45\" cy=\"79.37\" r=\"0.9\" id=\"fig-701b4c9b077b4709af2e0dc635f5f6f5-element-39\" stroke=\"#FFFFFF\" class=\"color_train_error\" fill=\"#00BFFF\"/>\n",
        "          <circle cx=\"20.63\" cy=\"79.37\" r=\"0.9\" id=\"fig-701b4c9b077b4709af2e0dc635f5f6f5-element-40\" stroke=\"#FFFFFF\" class=\"color_train_error\" fill=\"#00BFFF\"/>\n",
        "          <circle cx=\"118.01\" cy=\"20.75\" r=\"0.9\" id=\"fig-701b4c9b077b4709af2e0dc635f5f6f5-element-41\" stroke=\"#FFFFFF\" class=\"color_prec_at_k\" fill=\"#D4CA3A\"/>\n",
        "          <circle cx=\"107.19\" cy=\"21.48\" r=\"0.9\" id=\"fig-701b4c9b077b4709af2e0dc635f5f6f5-element-42\" stroke=\"#FFFFFF\" class=\"color_prec_at_k\" fill=\"#D4CA3A\"/>\n",
        "          <circle cx=\"96.37\" cy=\"23.29\" r=\"0.9\" id=\"fig-701b4c9b077b4709af2e0dc635f5f6f5-element-43\" stroke=\"#FFFFFF\" class=\"color_prec_at_k\" fill=\"#D4CA3A\"/>\n",
        "          <circle cx=\"85.55\" cy=\"26.9\" r=\"0.9\" id=\"fig-701b4c9b077b4709af2e0dc635f5f6f5-element-44\" stroke=\"#FFFFFF\" class=\"color_prec_at_k\" fill=\"#D4CA3A\"/>\n",
        "          <circle cx=\"74.73\" cy=\"29.44\" r=\"0.9\" id=\"fig-701b4c9b077b4709af2e0dc635f5f6f5-element-45\" stroke=\"#FFFFFF\" class=\"color_prec_at_k\" fill=\"#D4CA3A\"/>\n",
        "          <circle cx=\"63.91\" cy=\"31.97\" r=\"0.9\" id=\"fig-701b4c9b077b4709af2e0dc635f5f6f5-element-46\" stroke=\"#FFFFFF\" class=\"color_prec_at_k\" fill=\"#D4CA3A\"/>\n",
        "          <circle cx=\"53.09\" cy=\"34.14\" r=\"0.9\" id=\"fig-701b4c9b077b4709af2e0dc635f5f6f5-element-47\" stroke=\"#FFFFFF\" class=\"color_prec_at_k\" fill=\"#D4CA3A\"/>\n",
        "          <circle cx=\"42.27\" cy=\"31.61\" r=\"0.9\" id=\"fig-701b4c9b077b4709af2e0dc635f5f6f5-element-48\" stroke=\"#FFFFFF\" class=\"color_prec_at_k\" fill=\"#D4CA3A\"/>\n",
        "          <circle cx=\"31.45\" cy=\"32.33\" r=\"0.9\" id=\"fig-701b4c9b077b4709af2e0dc635f5f6f5-element-49\" stroke=\"#FFFFFF\" class=\"color_prec_at_k\" fill=\"#D4CA3A\"/>\n",
        "          <circle cx=\"20.63\" cy=\"35.59\" r=\"0.9\" id=\"fig-701b4c9b077b4709af2e0dc635f5f6f5-element-50\" stroke=\"#FFFFFF\" class=\"color_prec_at_k\" fill=\"#D4CA3A\"/>\n",
        "        </g>\n",
        "      </g>\n",
        "    </g>\n",
        "  </g>\n",
        "  <g class=\"guide ylabels\" font-size=\"2.82\" font-family=\"'PT Sans Caption','Helvetica Neue','Helvetica',sans-serif\" fill=\"#6C606B\" id=\"fig-701b4c9b077b4709af2e0dc635f5f6f5-element-51\">\n",
        "    <text x=\"17.63\" y=\"79.38\" text-anchor=\"end\" dy=\"0.35em\" id=\"fig-701b4c9b077b4709af2e0dc635f5f6f5-element-52\">0.0</text>\n",
        "    <text x=\"17.63\" y=\"43.19\" text-anchor=\"end\" dy=\"0.35em\" id=\"fig-701b4c9b077b4709af2e0dc635f5f6f5-element-53\">0.5</text>\n",
        "    <text x=\"17.63\" y=\"7\" text-anchor=\"end\" dy=\"0.35em\" id=\"fig-701b4c9b077b4709af2e0dc635f5f6f5-element-54\">1.0</text>\n",
        "  </g>\n",
        "</g>\n",
        "<defs>\n",
        "<clipPath id=\"fig-701b4c9b077b4709af2e0dc635f5f6f5-element-16\">\n",
        "  <path d=\"M18.63,5 L 120.01 5 120.01 81.38 18.63 81.38\" />\n",
        "</clipPath\n",
        "></defs>\n",
        "</svg>\n"
       ],
       "text": [
        "Plot(...)"
       ]
      }
     ],
     "prompt_number": 12
    }
   ],
   "metadata": {}
  }
 ]
}